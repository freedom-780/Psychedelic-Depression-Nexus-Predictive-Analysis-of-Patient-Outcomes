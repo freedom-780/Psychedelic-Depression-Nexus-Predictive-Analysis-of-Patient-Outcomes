{
  "cells": [
    {
      "cell_type": "markdown",
      "metadata": {
        "id": "view-in-github",
        "colab_type": "text"
      },
      "source": [
        "<a href=\"https://colab.research.google.com/github/freedom-780/Psychedelic-mushrooms/blob/main/Psychedelic_mushrooms(2).ipynb\" target=\"_parent\"><img src=\"https://colab.research.google.com/assets/colab-badge.svg\" alt=\"Open In Colab\"/></a>"
      ]
    },
    {
      "cell_type": "code",
      "execution_count": null,
      "metadata": {
        "id": "xwWkYUBhhN4k",
        "outputId": "7881d929-2be5-4627-eaff-81d71e625e3b"
      },
      "outputs": [
        {
          "name": "stderr",
          "output_type": "stream",
          "text": [
            "Intel(R) Extension for Scikit-learn* enabled (https://github.com/intel/scikit-learn-intelex)\n"
          ]
        }
      ],
      "source": [
        "from sklearnex import patch_sklearn\n",
        "patch_sklearn()\n",
        "\n",
        "import pandas as pd \n",
        "pd.options.display.float_format = '{:,.3f}'.format\n",
        "\n",
        "import xgboost as xgb \n",
        "\n",
        "from sklearn.model_selection import train_test_split\n",
        "from sklearn.preprocessing import StandardScaler\n",
        "from sklearn.decomposition import PCA\n",
        "from sklearn.linear_model import LogisticRegression\n",
        "from sklearn.pipeline import make_pipeline\n",
        "from sklearn.model_selection import cross_val_score\n",
        "from sklearn.utils import resample\n",
        "from sklearn.svm import SVC, LinearSVC\n",
        "from sklearn.model_selection import learning_curve\n",
        "from sklearn.model_selection import GridSearchCV\n",
        "from sklearn.model_selection import RandomizedSearchCV\n",
        "from sklearn.neighbors import KNeighborsClassifier\n",
        "\n",
        "\n",
        "from sklearn.metrics import recall_score,accuracy_score, f1_score, precision_score\n",
        "from sklearn.metrics import matthews_corrcoef\n",
        "from sklearn.metrics import confusion_matrix, make_scorer\n",
        "\n",
        "from sklearn.ensemble import VotingClassifier\n",
        "from sklearn.ensemble import RandomForestClassifier\n",
        "\n",
        "from scipy.stats import loguniform, randint\n",
        "\n",
        "\n",
        "\n",
        "import numpy as np\n",
        "import seaborn as sns \n",
        "import matplotlib.pyplot as plt\n",
        "from matplotlib.colors import ListedColormap\n",
        "%matplotlib inline\n"
      ]
    },
    {
      "cell_type": "markdown",
      "metadata": {
        "id": "MG5X-sqRyaBn"
      },
      "source": [
        "#Ingest"
      ]
    },
    {
      "cell_type": "code",
      "execution_count": null,
      "metadata": {
        "id": "Db5S3QIXhw0c"
      },
      "outputs": [],
      "source": [
        "#Import data from github\n",
        "data = \"https://raw.githubusercontent.com/freedom-780/Psychedelic-mushrooms/main/AHRI_DATASET_PM_MANUSCRIPT_DATA.csv\"\n",
        "p_mush_df = pd.read_csv(data)"
      ]
    },
    {
      "cell_type": "code",
      "execution_count": null,
      "metadata": {
        "colab": {
          "base_uri": "https://localhost:8080/"
        },
        "id": "hY7ceeQ_FgP0",
        "outputId": "fed487c2-921b-4cb3-d252-b235ea78100e"
      },
      "outputs": [
        {
          "data": {
            "text/plain": [
              "(7139, 57)"
            ]
          },
          "execution_count": 3,
          "metadata": {},
          "output_type": "execute_result"
        }
      ],
      "source": [
        "p_mush_df.shape"
      ]
    },
    {
      "cell_type": "code",
      "execution_count": null,
      "metadata": {
        "id": "Gk_KPp2p0PQF"
      },
      "outputs": [],
      "source": [
        "# copy dataframe for analysis to preserve original dataframe\n",
        "df = p_mush_df.copy()"
      ]
    },
    {
      "cell_type": "code",
      "execution_count": null,
      "metadata": {
        "colab": {
          "base_uri": "https://localhost:8080/"
        },
        "id": "M97YwSE00wjL",
        "outputId": "27bc9fa9-6ce2-4b86-80d0-1d96705f65d8"
      },
      "outputs": [
        {
          "data": {
            "text/plain": [
              "7139"
            ]
          },
          "execution_count": 5,
          "metadata": {},
          "output_type": "execute_result"
        }
      ],
      "source": [
        "# see if caseID column is unique for every row\n",
        "df['CASEID_7139'].value_counts().sum()\n"
      ]
    },
    {
      "cell_type": "code",
      "execution_count": null,
      "metadata": {
        "id": "Y2ReA3I0FC5a"
      },
      "outputs": [],
      "source": [
        "# Set index to case ID since every caseID is Unique\n",
        "df.set_index('CASEID_7139', inplace=True)"
      ]
    },
    {
      "cell_type": "markdown",
      "metadata": {
        "id": "UVmHM1JgyhnA"
      },
      "source": [
        "#Exploratory Data Analysis"
      ]
    },
    {
      "cell_type": "code",
      "execution_count": null,
      "metadata": {
        "colab": {
          "base_uri": "https://localhost:8080/"
        },
        "id": "ACO0E6mymEVH",
        "outputId": "d2e3912b-9470-4d89-d0f4-cc8fc8a19a66"
      },
      "outputs": [
        {
          "data": {
            "text/plain": [
              "Index(['COHORTS', 'PYS_USE_VENN', 'PSY_USE_YN', 'PM_USE_YN', 'PM_USE_ONLY_YN',\n",
              "       'PM_VS_PSY_YN', 'SEX', 'AGE', 'ETHNICITY', 'HLS_YN', 'REGION', 'ED',\n",
              "       'EMPL', 'INCOME', 'BMI', 'C_TOTAL', 'C_DP', 'C_ANX', 'C_PN', 'C_ALL',\n",
              "       'C_MI', 'C_INSOM', 'C_HYP', 'C_DH', 'C_SA', 'C_GERD', 'C_CS', 'C_LIP',\n",
              "       'CCI_SCORE', 'GAD7_SCORE', 'PHQ9_SCORE', 'GAD7_GE10', 'PHQ9_GE10',\n",
              "       'PCS12', 'MCS12', 'VR6D', 'RU_PCP_YN', 'RU_SPECIAL_YN', 'RU_OTPCP_YN',\n",
              "       'RU_UCC_YN', 'RU_OUTPT_YN', 'RU_ER_YN', 'RU_HSP_YN',\n",
              "       'PSY1_POSITIVE_USE', 'PSY2_GEN_HEALTH', 'PSY2_DIAG_CONDITION',\n",
              "       'PSY2_UNDIAG_CONCERN', 'PSY2_NO_KNOWLEDGE', 'PM1_GEN_HEALTH',\n",
              "       'PM1_DIAG_CONDITION', 'PM1_UNDIAG_CONCERN', 'PM2_FREQ_COVID',\n",
              "       'PM3_FREQ_POLITICS', 'PM4_CARE', 'INSURANCE', 'DATA_WEIGHT'],\n",
              "      dtype='object')"
            ]
          },
          "execution_count": 7,
          "metadata": {},
          "output_type": "execute_result"
        }
      ],
      "source": [
        "df.columns"
      ]
    },
    {
      "cell_type": "code",
      "execution_count": null,
      "metadata": {
        "colab": {
          "base_uri": "https://localhost:8080/",
          "height": 1000
        },
        "id": "BHs5duPtKPYY",
        "outputId": "0d803d89-9b37-4e45-f958-85df6a105971"
      },
      "outputs": [
        {
          "data": {
            "text/html": [
              "<div>\n",
              "<style scoped>\n",
              "    .dataframe tbody tr th:only-of-type {\n",
              "        vertical-align: middle;\n",
              "    }\n",
              "\n",
              "    .dataframe tbody tr th {\n",
              "        vertical-align: top;\n",
              "    }\n",
              "\n",
              "    .dataframe thead th {\n",
              "        text-align: right;\n",
              "    }\n",
              "</style>\n",
              "<table border=\"1\" class=\"dataframe\">\n",
              "  <thead>\n",
              "    <tr style=\"text-align: right;\">\n",
              "      <th>CASEID_7139</th>\n",
              "      <th>1</th>\n",
              "      <th>2</th>\n",
              "      <th>3</th>\n",
              "      <th>4</th>\n",
              "      <th>5</th>\n",
              "    </tr>\n",
              "  </thead>\n",
              "  <tbody>\n",
              "    <tr>\n",
              "      <th>COHORTS</th>\n",
              "      <td>1.000</td>\n",
              "      <td>1.000</td>\n",
              "      <td>1.000</td>\n",
              "      <td>1.000</td>\n",
              "      <td>1.000</td>\n",
              "    </tr>\n",
              "    <tr>\n",
              "      <th>PYS_USE_VENN</th>\n",
              "      <td>1.000</td>\n",
              "      <td>1.000</td>\n",
              "      <td>1.000</td>\n",
              "      <td>1.000</td>\n",
              "      <td>1.000</td>\n",
              "    </tr>\n",
              "    <tr>\n",
              "      <th>PSY_USE_YN</th>\n",
              "      <td>1.000</td>\n",
              "      <td>1.000</td>\n",
              "      <td>1.000</td>\n",
              "      <td>1.000</td>\n",
              "      <td>1.000</td>\n",
              "    </tr>\n",
              "    <tr>\n",
              "      <th>PM_USE_YN</th>\n",
              "      <td>1.000</td>\n",
              "      <td>1.000</td>\n",
              "      <td>1.000</td>\n",
              "      <td>1.000</td>\n",
              "      <td>1.000</td>\n",
              "    </tr>\n",
              "    <tr>\n",
              "      <th>PM_USE_ONLY_YN</th>\n",
              "      <td>1.000</td>\n",
              "      <td>1.000</td>\n",
              "      <td>1.000</td>\n",
              "      <td>1.000</td>\n",
              "      <td>1.000</td>\n",
              "    </tr>\n",
              "    <tr>\n",
              "      <th>PM_VS_PSY_YN</th>\n",
              "      <td>2.000</td>\n",
              "      <td>2.000</td>\n",
              "      <td>2.000</td>\n",
              "      <td>2.000</td>\n",
              "      <td>2.000</td>\n",
              "    </tr>\n",
              "    <tr>\n",
              "      <th>SEX</th>\n",
              "      <td>0.000</td>\n",
              "      <td>0.000</td>\n",
              "      <td>0.000</td>\n",
              "      <td>0.000</td>\n",
              "      <td>0.000</td>\n",
              "    </tr>\n",
              "    <tr>\n",
              "      <th>AGE</th>\n",
              "      <td>19.000</td>\n",
              "      <td>21.000</td>\n",
              "      <td>22.000</td>\n",
              "      <td>22.000</td>\n",
              "      <td>23.000</td>\n",
              "    </tr>\n",
              "    <tr>\n",
              "      <th>ETHNICITY</th>\n",
              "      <td>3.000</td>\n",
              "      <td>2.000</td>\n",
              "      <td>2.000</td>\n",
              "      <td>2.000</td>\n",
              "      <td>2.000</td>\n",
              "    </tr>\n",
              "    <tr>\n",
              "      <th>HLS_YN</th>\n",
              "      <td>1.000</td>\n",
              "      <td>0.000</td>\n",
              "      <td>0.000</td>\n",
              "      <td>0.000</td>\n",
              "      <td>0.000</td>\n",
              "    </tr>\n",
              "    <tr>\n",
              "      <th>REGION</th>\n",
              "      <td>4.000</td>\n",
              "      <td>2.000</td>\n",
              "      <td>4.000</td>\n",
              "      <td>3.000</td>\n",
              "      <td>2.000</td>\n",
              "    </tr>\n",
              "    <tr>\n",
              "      <th>ED</th>\n",
              "      <td>0.000</td>\n",
              "      <td>1.000</td>\n",
              "      <td>0.000</td>\n",
              "      <td>1.000</td>\n",
              "      <td>0.000</td>\n",
              "    </tr>\n",
              "    <tr>\n",
              "      <th>EMPL</th>\n",
              "      <td>0.000</td>\n",
              "      <td>0.000</td>\n",
              "      <td>0.000</td>\n",
              "      <td>0.000</td>\n",
              "      <td>1.000</td>\n",
              "    </tr>\n",
              "    <tr>\n",
              "      <th>INCOME</th>\n",
              "      <td>65,847.000</td>\n",
              "      <td>30,585.000</td>\n",
              "      <td>49,259.000</td>\n",
              "      <td>54,135.000</td>\n",
              "      <td>49,425.000</td>\n",
              "    </tr>\n",
              "    <tr>\n",
              "      <th>BMI</th>\n",
              "      <td>27.410</td>\n",
              "      <td>29.260</td>\n",
              "      <td>20.600</td>\n",
              "      <td>18.560</td>\n",
              "      <td>36.800</td>\n",
              "    </tr>\n",
              "    <tr>\n",
              "      <th>C_TOTAL</th>\n",
              "      <td>3.000</td>\n",
              "      <td>0.000</td>\n",
              "      <td>9.000</td>\n",
              "      <td>2.000</td>\n",
              "      <td>4.000</td>\n",
              "    </tr>\n",
              "    <tr>\n",
              "      <th>C_DP</th>\n",
              "      <td>0.000</td>\n",
              "      <td>0.000</td>\n",
              "      <td>1.000</td>\n",
              "      <td>1.000</td>\n",
              "      <td>1.000</td>\n",
              "    </tr>\n",
              "    <tr>\n",
              "      <th>C_ANX</th>\n",
              "      <td>1.000</td>\n",
              "      <td>0.000</td>\n",
              "      <td>1.000</td>\n",
              "      <td>1.000</td>\n",
              "      <td>1.000</td>\n",
              "    </tr>\n",
              "    <tr>\n",
              "      <th>C_PN</th>\n",
              "      <td>0.000</td>\n",
              "      <td>0.000</td>\n",
              "      <td>1.000</td>\n",
              "      <td>0.000</td>\n",
              "      <td>0.000</td>\n",
              "    </tr>\n",
              "    <tr>\n",
              "      <th>C_ALL</th>\n",
              "      <td>0.000</td>\n",
              "      <td>0.000</td>\n",
              "      <td>1.000</td>\n",
              "      <td>0.000</td>\n",
              "      <td>1.000</td>\n",
              "    </tr>\n",
              "    <tr>\n",
              "      <th>C_MI</th>\n",
              "      <td>1.000</td>\n",
              "      <td>0.000</td>\n",
              "      <td>0.000</td>\n",
              "      <td>0.000</td>\n",
              "      <td>1.000</td>\n",
              "    </tr>\n",
              "    <tr>\n",
              "      <th>C_INSOM</th>\n",
              "      <td>0.000</td>\n",
              "      <td>0.000</td>\n",
              "      <td>0.000</td>\n",
              "      <td>0.000</td>\n",
              "      <td>0.000</td>\n",
              "    </tr>\n",
              "    <tr>\n",
              "      <th>C_HYP</th>\n",
              "      <td>0.000</td>\n",
              "      <td>0.000</td>\n",
              "      <td>0.000</td>\n",
              "      <td>0.000</td>\n",
              "      <td>0.000</td>\n",
              "    </tr>\n",
              "    <tr>\n",
              "      <th>C_DH</th>\n",
              "      <td>0.000</td>\n",
              "      <td>0.000</td>\n",
              "      <td>0.000</td>\n",
              "      <td>0.000</td>\n",
              "      <td>0.000</td>\n",
              "    </tr>\n",
              "    <tr>\n",
              "      <th>C_SA</th>\n",
              "      <td>0.000</td>\n",
              "      <td>0.000</td>\n",
              "      <td>0.000</td>\n",
              "      <td>0.000</td>\n",
              "      <td>0.000</td>\n",
              "    </tr>\n",
              "    <tr>\n",
              "      <th>C_GERD</th>\n",
              "      <td>0.000</td>\n",
              "      <td>0.000</td>\n",
              "      <td>1.000</td>\n",
              "      <td>0.000</td>\n",
              "      <td>0.000</td>\n",
              "    </tr>\n",
              "    <tr>\n",
              "      <th>C_CS</th>\n",
              "      <td>0.000</td>\n",
              "      <td>0.000</td>\n",
              "      <td>0.000</td>\n",
              "      <td>0.000</td>\n",
              "      <td>0.000</td>\n",
              "    </tr>\n",
              "    <tr>\n",
              "      <th>C_LIP</th>\n",
              "      <td>0.000</td>\n",
              "      <td>0.000</td>\n",
              "      <td>0.000</td>\n",
              "      <td>0.000</td>\n",
              "      <td>0.000</td>\n",
              "    </tr>\n",
              "    <tr>\n",
              "      <th>CCI_SCORE</th>\n",
              "      <td>0.000</td>\n",
              "      <td>0.000</td>\n",
              "      <td>0.000</td>\n",
              "      <td>0.000</td>\n",
              "      <td>0.000</td>\n",
              "    </tr>\n",
              "    <tr>\n",
              "      <th>GAD7_SCORE</th>\n",
              "      <td>3.000</td>\n",
              "      <td>0.000</td>\n",
              "      <td>21.000</td>\n",
              "      <td>5.000</td>\n",
              "      <td>13.000</td>\n",
              "    </tr>\n",
              "    <tr>\n",
              "      <th>PHQ9_SCORE</th>\n",
              "      <td>8.000</td>\n",
              "      <td>0.000</td>\n",
              "      <td>17.000</td>\n",
              "      <td>15.000</td>\n",
              "      <td>15.000</td>\n",
              "    </tr>\n",
              "    <tr>\n",
              "      <th>GAD7_GE10</th>\n",
              "      <td>0.000</td>\n",
              "      <td>0.000</td>\n",
              "      <td>1.000</td>\n",
              "      <td>0.000</td>\n",
              "      <td>1.000</td>\n",
              "    </tr>\n",
              "    <tr>\n",
              "      <th>PHQ9_GE10</th>\n",
              "      <td>0.000</td>\n",
              "      <td>0.000</td>\n",
              "      <td>1.000</td>\n",
              "      <td>1.000</td>\n",
              "      <td>1.000</td>\n",
              "    </tr>\n",
              "    <tr>\n",
              "      <th>PCS12</th>\n",
              "      <td>48.990</td>\n",
              "      <td>54.210</td>\n",
              "      <td>33.830</td>\n",
              "      <td>61.630</td>\n",
              "      <td>38.540</td>\n",
              "    </tr>\n",
              "    <tr>\n",
              "      <th>MCS12</th>\n",
              "      <td>37.900</td>\n",
              "      <td>57.930</td>\n",
              "      <td>25.910</td>\n",
              "      <td>25.130</td>\n",
              "      <td>45.530</td>\n",
              "    </tr>\n",
              "    <tr>\n",
              "      <th>VR6D</th>\n",
              "      <td>0.670</td>\n",
              "      <td>0.860</td>\n",
              "      <td>0.470</td>\n",
              "      <td>0.670</td>\n",
              "      <td>0.640</td>\n",
              "    </tr>\n",
              "    <tr>\n",
              "      <th>RU_PCP_YN</th>\n",
              "      <td>0.000</td>\n",
              "      <td>0.000</td>\n",
              "      <td>0.000</td>\n",
              "      <td>1.000</td>\n",
              "      <td>0.000</td>\n",
              "    </tr>\n",
              "    <tr>\n",
              "      <th>RU_SPECIAL_YN</th>\n",
              "      <td>0.000</td>\n",
              "      <td>1.000</td>\n",
              "      <td>0.000</td>\n",
              "      <td>0.000</td>\n",
              "      <td>0.000</td>\n",
              "    </tr>\n",
              "    <tr>\n",
              "      <th>RU_OTPCP_YN</th>\n",
              "      <td>0.000</td>\n",
              "      <td>0.000</td>\n",
              "      <td>0.000</td>\n",
              "      <td>0.000</td>\n",
              "      <td>1.000</td>\n",
              "    </tr>\n",
              "    <tr>\n",
              "      <th>RU_UCC_YN</th>\n",
              "      <td>0.000</td>\n",
              "      <td>0.000</td>\n",
              "      <td>1.000</td>\n",
              "      <td>0.000</td>\n",
              "      <td>0.000</td>\n",
              "    </tr>\n",
              "    <tr>\n",
              "      <th>RU_OUTPT_YN</th>\n",
              "      <td>0.000</td>\n",
              "      <td>0.000</td>\n",
              "      <td>0.000</td>\n",
              "      <td>0.000</td>\n",
              "      <td>0.000</td>\n",
              "    </tr>\n",
              "    <tr>\n",
              "      <th>RU_ER_YN</th>\n",
              "      <td>0.000</td>\n",
              "      <td>1.000</td>\n",
              "      <td>1.000</td>\n",
              "      <td>0.000</td>\n",
              "      <td>1.000</td>\n",
              "    </tr>\n",
              "    <tr>\n",
              "      <th>RU_HSP_YN</th>\n",
              "      <td>0.000</td>\n",
              "      <td>0.000</td>\n",
              "      <td>0.000</td>\n",
              "      <td>0.000</td>\n",
              "      <td>0.000</td>\n",
              "    </tr>\n",
              "    <tr>\n",
              "      <th>PSY1_POSITIVE_USE</th>\n",
              "      <td>3.000</td>\n",
              "      <td>1.000</td>\n",
              "      <td>3.000</td>\n",
              "      <td>2.000</td>\n",
              "      <td>2.000</td>\n",
              "    </tr>\n",
              "    <tr>\n",
              "      <th>PSY2_GEN_HEALTH</th>\n",
              "      <td>1.000</td>\n",
              "      <td>0.000</td>\n",
              "      <td>1.000</td>\n",
              "      <td>1.000</td>\n",
              "      <td>1.000</td>\n",
              "    </tr>\n",
              "    <tr>\n",
              "      <th>PSY2_DIAG_CONDITION</th>\n",
              "      <td>0.000</td>\n",
              "      <td>0.000</td>\n",
              "      <td>1.000</td>\n",
              "      <td>1.000</td>\n",
              "      <td>1.000</td>\n",
              "    </tr>\n",
              "    <tr>\n",
              "      <th>PSY2_UNDIAG_CONCERN</th>\n",
              "      <td>0.000</td>\n",
              "      <td>1.000</td>\n",
              "      <td>1.000</td>\n",
              "      <td>0.000</td>\n",
              "      <td>1.000</td>\n",
              "    </tr>\n",
              "    <tr>\n",
              "      <th>PSY2_NO_KNOWLEDGE</th>\n",
              "      <td>0.000</td>\n",
              "      <td>0.000</td>\n",
              "      <td>0.000</td>\n",
              "      <td>0.000</td>\n",
              "      <td>0.000</td>\n",
              "    </tr>\n",
              "    <tr>\n",
              "      <th>PM1_GEN_HEALTH</th>\n",
              "      <td>1.000</td>\n",
              "      <td>1.000</td>\n",
              "      <td>0.000</td>\n",
              "      <td>1.000</td>\n",
              "      <td>1.000</td>\n",
              "    </tr>\n",
              "    <tr>\n",
              "      <th>PM1_DIAG_CONDITION</th>\n",
              "      <td>0.000</td>\n",
              "      <td>0.000</td>\n",
              "      <td>0.000</td>\n",
              "      <td>0.000</td>\n",
              "      <td>0.000</td>\n",
              "    </tr>\n",
              "    <tr>\n",
              "      <th>PM1_UNDIAG_CONCERN</th>\n",
              "      <td>0.000</td>\n",
              "      <td>0.000</td>\n",
              "      <td>0.000</td>\n",
              "      <td>0.000</td>\n",
              "      <td>0.000</td>\n",
              "    </tr>\n",
              "    <tr>\n",
              "      <th>PM2_FREQ_COVID</th>\n",
              "      <td>2.000</td>\n",
              "      <td>3.000</td>\n",
              "      <td>3.000</td>\n",
              "      <td>3.000</td>\n",
              "      <td>3.000</td>\n",
              "    </tr>\n",
              "    <tr>\n",
              "      <th>PM3_FREQ_POLITICS</th>\n",
              "      <td>3.000</td>\n",
              "      <td>3.000</td>\n",
              "      <td>4.000</td>\n",
              "      <td>3.000</td>\n",
              "      <td>3.000</td>\n",
              "    </tr>\n",
              "    <tr>\n",
              "      <th>PM4_CARE</th>\n",
              "      <td>0.000</td>\n",
              "      <td>0.000</td>\n",
              "      <td>0.000</td>\n",
              "      <td>0.000</td>\n",
              "      <td>0.000</td>\n",
              "    </tr>\n",
              "    <tr>\n",
              "      <th>INSURANCE</th>\n",
              "      <td>0.000</td>\n",
              "      <td>1.000</td>\n",
              "      <td>0.000</td>\n",
              "      <td>1.000</td>\n",
              "      <td>1.000</td>\n",
              "    </tr>\n",
              "    <tr>\n",
              "      <th>DATA_WEIGHT</th>\n",
              "      <td>57,772.540</td>\n",
              "      <td>25,738.420</td>\n",
              "      <td>42,172.560</td>\n",
              "      <td>28,356.810</td>\n",
              "      <td>25,738.420</td>\n",
              "    </tr>\n",
              "  </tbody>\n",
              "</table>\n",
              "</div>"
            ],
            "text/plain": [
              "CASEID_7139                  1          2          3          4          5\n",
              "COHORTS                  1.000      1.000      1.000      1.000      1.000\n",
              "PYS_USE_VENN             1.000      1.000      1.000      1.000      1.000\n",
              "PSY_USE_YN               1.000      1.000      1.000      1.000      1.000\n",
              "PM_USE_YN                1.000      1.000      1.000      1.000      1.000\n",
              "PM_USE_ONLY_YN           1.000      1.000      1.000      1.000      1.000\n",
              "PM_VS_PSY_YN             2.000      2.000      2.000      2.000      2.000\n",
              "SEX                      0.000      0.000      0.000      0.000      0.000\n",
              "AGE                     19.000     21.000     22.000     22.000     23.000\n",
              "ETHNICITY                3.000      2.000      2.000      2.000      2.000\n",
              "HLS_YN                   1.000      0.000      0.000      0.000      0.000\n",
              "REGION                   4.000      2.000      4.000      3.000      2.000\n",
              "ED                       0.000      1.000      0.000      1.000      0.000\n",
              "EMPL                     0.000      0.000      0.000      0.000      1.000\n",
              "INCOME              65,847.000 30,585.000 49,259.000 54,135.000 49,425.000\n",
              "BMI                     27.410     29.260     20.600     18.560     36.800\n",
              "C_TOTAL                  3.000      0.000      9.000      2.000      4.000\n",
              "C_DP                     0.000      0.000      1.000      1.000      1.000\n",
              "C_ANX                    1.000      0.000      1.000      1.000      1.000\n",
              "C_PN                     0.000      0.000      1.000      0.000      0.000\n",
              "C_ALL                    0.000      0.000      1.000      0.000      1.000\n",
              "C_MI                     1.000      0.000      0.000      0.000      1.000\n",
              "C_INSOM                  0.000      0.000      0.000      0.000      0.000\n",
              "C_HYP                    0.000      0.000      0.000      0.000      0.000\n",
              "C_DH                     0.000      0.000      0.000      0.000      0.000\n",
              "C_SA                     0.000      0.000      0.000      0.000      0.000\n",
              "C_GERD                   0.000      0.000      1.000      0.000      0.000\n",
              "C_CS                     0.000      0.000      0.000      0.000      0.000\n",
              "C_LIP                    0.000      0.000      0.000      0.000      0.000\n",
              "CCI_SCORE                0.000      0.000      0.000      0.000      0.000\n",
              "GAD7_SCORE               3.000      0.000     21.000      5.000     13.000\n",
              "PHQ9_SCORE               8.000      0.000     17.000     15.000     15.000\n",
              "GAD7_GE10                0.000      0.000      1.000      0.000      1.000\n",
              "PHQ9_GE10                0.000      0.000      1.000      1.000      1.000\n",
              "PCS12                   48.990     54.210     33.830     61.630     38.540\n",
              "MCS12                   37.900     57.930     25.910     25.130     45.530\n",
              "VR6D                     0.670      0.860      0.470      0.670      0.640\n",
              "RU_PCP_YN                0.000      0.000      0.000      1.000      0.000\n",
              "RU_SPECIAL_YN            0.000      1.000      0.000      0.000      0.000\n",
              "RU_OTPCP_YN              0.000      0.000      0.000      0.000      1.000\n",
              "RU_UCC_YN                0.000      0.000      1.000      0.000      0.000\n",
              "RU_OUTPT_YN              0.000      0.000      0.000      0.000      0.000\n",
              "RU_ER_YN                 0.000      1.000      1.000      0.000      1.000\n",
              "RU_HSP_YN                0.000      0.000      0.000      0.000      0.000\n",
              "PSY1_POSITIVE_USE        3.000      1.000      3.000      2.000      2.000\n",
              "PSY2_GEN_HEALTH          1.000      0.000      1.000      1.000      1.000\n",
              "PSY2_DIAG_CONDITION      0.000      0.000      1.000      1.000      1.000\n",
              "PSY2_UNDIAG_CONCERN      0.000      1.000      1.000      0.000      1.000\n",
              "PSY2_NO_KNOWLEDGE        0.000      0.000      0.000      0.000      0.000\n",
              "PM1_GEN_HEALTH           1.000      1.000      0.000      1.000      1.000\n",
              "PM1_DIAG_CONDITION       0.000      0.000      0.000      0.000      0.000\n",
              "PM1_UNDIAG_CONCERN       0.000      0.000      0.000      0.000      0.000\n",
              "PM2_FREQ_COVID           2.000      3.000      3.000      3.000      3.000\n",
              "PM3_FREQ_POLITICS        3.000      3.000      4.000      3.000      3.000\n",
              "PM4_CARE                 0.000      0.000      0.000      0.000      0.000\n",
              "INSURANCE                0.000      1.000      0.000      1.000      1.000\n",
              "DATA_WEIGHT         57,772.540 25,738.420 42,172.560 28,356.810 25,738.420"
            ]
          },
          "execution_count": 8,
          "metadata": {},
          "output_type": "execute_result"
        }
      ],
      "source": [
        "df.head().T"
      ]
    },
    {
      "cell_type": "code",
      "execution_count": null,
      "metadata": {
        "id": "opysbYeTeIu4"
      },
      "outputs": [],
      "source": []
    },
    {
      "cell_type": "markdown",
      "metadata": {
        "id": "efppA1-911zw"
      },
      "source": [
        "This dataset has 57, looks like there are floating point numbers where there does not need to be. Some of the columns were dropped below since they were corolated with some other features.\n"
      ]
    },
    {
      "cell_type": "code",
      "execution_count": null,
      "metadata": {
        "id": "8nAUHPBp5DLW"
      },
      "outputs": [],
      "source": [
        "df.drop(['C_TOTAL','COHORTS','PYS_USE_VENN', 'PM_USE_YN', 'PM_USE_ONLY_YN', 'PM_VS_PSY_YN', 'DATA_WEIGHT','PM1_GEN_HEALTH','PM1_DIAG_CONDITION', \\\n",
        "     'PM1_DIAG_CONDITION', 'PM1_UNDIAG_CONCERN','PM2_FREQ_COVID','PM3_FREQ_POLITICS','PM4_CARE', 'HLS_YN', 'GAD7_SCORE', \\\n",
        "       'GAD7_GE10','PHQ9_GE10','PCS12','MCS12','VR6D'], axis=1, inplace=True)"
      ]
    },
    {
      "cell_type": "code",
      "execution_count": null,
      "metadata": {
        "colab": {
          "base_uri": "https://localhost:8080/",
          "height": 331
        },
        "id": "RAq92htpiDfm",
        "outputId": "d7c76513-6de3-4b6f-c654-0f1f4a52fb86"
      },
      "outputs": [
        {
          "data": {
            "text/html": [
              "<div>\n",
              "<style scoped>\n",
              "    .dataframe tbody tr th:only-of-type {\n",
              "        vertical-align: middle;\n",
              "    }\n",
              "\n",
              "    .dataframe tbody tr th {\n",
              "        vertical-align: top;\n",
              "    }\n",
              "\n",
              "    .dataframe thead th {\n",
              "        text-align: right;\n",
              "    }\n",
              "</style>\n",
              "<table border=\"1\" class=\"dataframe\">\n",
              "  <thead>\n",
              "    <tr style=\"text-align: right;\">\n",
              "      <th></th>\n",
              "      <th>PSY_USE_YN</th>\n",
              "      <th>SEX</th>\n",
              "      <th>AGE</th>\n",
              "      <th>ETHNICITY</th>\n",
              "      <th>REGION</th>\n",
              "      <th>ED</th>\n",
              "      <th>EMPL</th>\n",
              "      <th>INCOME</th>\n",
              "      <th>BMI</th>\n",
              "      <th>C_DP</th>\n",
              "      <th>...</th>\n",
              "      <th>RU_UCC_YN</th>\n",
              "      <th>RU_OUTPT_YN</th>\n",
              "      <th>RU_ER_YN</th>\n",
              "      <th>RU_HSP_YN</th>\n",
              "      <th>PSY1_POSITIVE_USE</th>\n",
              "      <th>PSY2_GEN_HEALTH</th>\n",
              "      <th>PSY2_DIAG_CONDITION</th>\n",
              "      <th>PSY2_UNDIAG_CONCERN</th>\n",
              "      <th>PSY2_NO_KNOWLEDGE</th>\n",
              "      <th>INSURANCE</th>\n",
              "    </tr>\n",
              "    <tr>\n",
              "      <th>CASEID_7139</th>\n",
              "      <th></th>\n",
              "      <th></th>\n",
              "      <th></th>\n",
              "      <th></th>\n",
              "      <th></th>\n",
              "      <th></th>\n",
              "      <th></th>\n",
              "      <th></th>\n",
              "      <th></th>\n",
              "      <th></th>\n",
              "      <th></th>\n",
              "      <th></th>\n",
              "      <th></th>\n",
              "      <th></th>\n",
              "      <th></th>\n",
              "      <th></th>\n",
              "      <th></th>\n",
              "      <th></th>\n",
              "      <th></th>\n",
              "      <th></th>\n",
              "      <th></th>\n",
              "    </tr>\n",
              "  </thead>\n",
              "  <tbody>\n",
              "    <tr>\n",
              "      <th>3250</th>\n",
              "      <td>0.000</td>\n",
              "      <td>0</td>\n",
              "      <td>67.000</td>\n",
              "      <td>2.000</td>\n",
              "      <td>4.000</td>\n",
              "      <td>0.000</td>\n",
              "      <td>0.000</td>\n",
              "      <td>73400</td>\n",
              "      <td>31.240</td>\n",
              "      <td>0.000</td>\n",
              "      <td>...</td>\n",
              "      <td>0</td>\n",
              "      <td>0</td>\n",
              "      <td>0</td>\n",
              "      <td>0</td>\n",
              "      <td>3</td>\n",
              "      <td>0</td>\n",
              "      <td>0</td>\n",
              "      <td>0</td>\n",
              "      <td>1</td>\n",
              "      <td>1</td>\n",
              "    </tr>\n",
              "    <tr>\n",
              "      <th>4955</th>\n",
              "      <td>0.000</td>\n",
              "      <td>1</td>\n",
              "      <td>39.000</td>\n",
              "      <td>2.000</td>\n",
              "      <td>3.000</td>\n",
              "      <td>1.000</td>\n",
              "      <td>1.000</td>\n",
              "      <td>84338</td>\n",
              "      <td>24.210</td>\n",
              "      <td>0.000</td>\n",
              "      <td>...</td>\n",
              "      <td>0</td>\n",
              "      <td>0</td>\n",
              "      <td>0</td>\n",
              "      <td>0</td>\n",
              "      <td>4</td>\n",
              "      <td>0</td>\n",
              "      <td>0</td>\n",
              "      <td>0</td>\n",
              "      <td>1</td>\n",
              "      <td>1</td>\n",
              "    </tr>\n",
              "    <tr>\n",
              "      <th>3349</th>\n",
              "      <td>0.000</td>\n",
              "      <td>0</td>\n",
              "      <td>69.000</td>\n",
              "      <td>2.000</td>\n",
              "      <td>4.000</td>\n",
              "      <td>1.000</td>\n",
              "      <td>0.000</td>\n",
              "      <td>103505</td>\n",
              "      <td>24.180</td>\n",
              "      <td>1.000</td>\n",
              "      <td>...</td>\n",
              "      <td>0</td>\n",
              "      <td>0</td>\n",
              "      <td>0</td>\n",
              "      <td>0</td>\n",
              "      <td>5</td>\n",
              "      <td>0</td>\n",
              "      <td>0</td>\n",
              "      <td>0</td>\n",
              "      <td>1</td>\n",
              "      <td>1</td>\n",
              "    </tr>\n",
              "    <tr>\n",
              "      <th>910</th>\n",
              "      <td>0.000</td>\n",
              "      <td>0</td>\n",
              "      <td>31.000</td>\n",
              "      <td>2.000</td>\n",
              "      <td>3.000</td>\n",
              "      <td>1.000</td>\n",
              "      <td>0.000</td>\n",
              "      <td>61236</td>\n",
              "      <td>23.490</td>\n",
              "      <td>1.000</td>\n",
              "      <td>...</td>\n",
              "      <td>0</td>\n",
              "      <td>0</td>\n",
              "      <td>0</td>\n",
              "      <td>0</td>\n",
              "      <td>1</td>\n",
              "      <td>1</td>\n",
              "      <td>1</td>\n",
              "      <td>1</td>\n",
              "      <td>0</td>\n",
              "      <td>0</td>\n",
              "    </tr>\n",
              "    <tr>\n",
              "      <th>1043</th>\n",
              "      <td>0.000</td>\n",
              "      <td>0</td>\n",
              "      <td>33.000</td>\n",
              "      <td>2.000</td>\n",
              "      <td>1.000</td>\n",
              "      <td>1.000</td>\n",
              "      <td>0.000</td>\n",
              "      <td>45779</td>\n",
              "      <td>32.160</td>\n",
              "      <td>1.000</td>\n",
              "      <td>...</td>\n",
              "      <td>0</td>\n",
              "      <td>0</td>\n",
              "      <td>1</td>\n",
              "      <td>1</td>\n",
              "      <td>3</td>\n",
              "      <td>0</td>\n",
              "      <td>0</td>\n",
              "      <td>0</td>\n",
              "      <td>1</td>\n",
              "      <td>1</td>\n",
              "    </tr>\n",
              "  </tbody>\n",
              "</table>\n",
              "<p>5 rows × 36 columns</p>\n",
              "</div>"
            ],
            "text/plain": [
              "             PSY_USE_YN  SEX    AGE  ETHNICITY  REGION    ED  EMPL  INCOME  \\\n",
              "CASEID_7139                                                                  \n",
              "3250              0.000    0 67.000      2.000   4.000 0.000 0.000   73400   \n",
              "4955              0.000    1 39.000      2.000   3.000 1.000 1.000   84338   \n",
              "3349              0.000    0 69.000      2.000   4.000 1.000 0.000  103505   \n",
              "910               0.000    0 31.000      2.000   3.000 1.000 0.000   61236   \n",
              "1043              0.000    0 33.000      2.000   1.000 1.000 0.000   45779   \n",
              "\n",
              "               BMI  C_DP  ...  RU_UCC_YN  RU_OUTPT_YN  RU_ER_YN  RU_HSP_YN  \\\n",
              "CASEID_7139               ...                                                \n",
              "3250        31.240 0.000  ...          0            0         0          0   \n",
              "4955        24.210 0.000  ...          0            0         0          0   \n",
              "3349        24.180 1.000  ...          0            0         0          0   \n",
              "910         23.490 1.000  ...          0            0         0          0   \n",
              "1043        32.160 1.000  ...          0            0         1          1   \n",
              "\n",
              "             PSY1_POSITIVE_USE  PSY2_GEN_HEALTH  PSY2_DIAG_CONDITION  \\\n",
              "CASEID_7139                                                            \n",
              "3250                         3                0                    0   \n",
              "4955                         4                0                    0   \n",
              "3349                         5                0                    0   \n",
              "910                          1                1                    1   \n",
              "1043                         3                0                    0   \n",
              "\n",
              "             PSY2_UNDIAG_CONCERN  PSY2_NO_KNOWLEDGE  INSURANCE  \n",
              "CASEID_7139                                                     \n",
              "3250                           0                  1          1  \n",
              "4955                           0                  1          1  \n",
              "3349                           0                  1          1  \n",
              "910                            1                  0          0  \n",
              "1043                           0                  1          1  \n",
              "\n",
              "[5 rows x 36 columns]"
            ]
          },
          "execution_count": 10,
          "metadata": {},
          "output_type": "execute_result"
        }
      ],
      "source": [
        "df.sample(5)"
      ]
    },
    {
      "cell_type": "markdown",
      "metadata": {
        "id": "831nrarK4c9g"
      },
      "source": [
        "some of these columns have -99 representing other values some need to remap these"
      ]
    },
    {
      "cell_type": "code",
      "execution_count": null,
      "metadata": {
        "colab": {
          "base_uri": "https://localhost:8080/",
          "height": 1000
        },
        "id": "MemlRHZs4xK3",
        "outputId": "f45252f1-a988-46c1-85b2-a335624d9ec6"
      },
      "outputs": [
        {
          "data": {
            "text/html": [
              "<div>\n",
              "<style scoped>\n",
              "    .dataframe tbody tr th:only-of-type {\n",
              "        vertical-align: middle;\n",
              "    }\n",
              "\n",
              "    .dataframe tbody tr th {\n",
              "        vertical-align: top;\n",
              "    }\n",
              "\n",
              "    .dataframe thead th {\n",
              "        text-align: right;\n",
              "    }\n",
              "</style>\n",
              "<table border=\"1\" class=\"dataframe\">\n",
              "  <thead>\n",
              "    <tr style=\"text-align: right;\">\n",
              "      <th>CASEID_7139</th>\n",
              "      <th>1</th>\n",
              "      <th>2</th>\n",
              "      <th>3</th>\n",
              "      <th>4</th>\n",
              "      <th>5</th>\n",
              "    </tr>\n",
              "  </thead>\n",
              "  <tbody>\n",
              "    <tr>\n",
              "      <th>PSY_USE_YN</th>\n",
              "      <td>1.000</td>\n",
              "      <td>1.000</td>\n",
              "      <td>1.000</td>\n",
              "      <td>1.000</td>\n",
              "      <td>1.000</td>\n",
              "    </tr>\n",
              "    <tr>\n",
              "      <th>SEX</th>\n",
              "      <td>0.000</td>\n",
              "      <td>0.000</td>\n",
              "      <td>0.000</td>\n",
              "      <td>0.000</td>\n",
              "      <td>0.000</td>\n",
              "    </tr>\n",
              "    <tr>\n",
              "      <th>AGE</th>\n",
              "      <td>19.000</td>\n",
              "      <td>21.000</td>\n",
              "      <td>22.000</td>\n",
              "      <td>22.000</td>\n",
              "      <td>23.000</td>\n",
              "    </tr>\n",
              "    <tr>\n",
              "      <th>ETHNICITY</th>\n",
              "      <td>3.000</td>\n",
              "      <td>2.000</td>\n",
              "      <td>2.000</td>\n",
              "      <td>2.000</td>\n",
              "      <td>2.000</td>\n",
              "    </tr>\n",
              "    <tr>\n",
              "      <th>REGION</th>\n",
              "      <td>4.000</td>\n",
              "      <td>2.000</td>\n",
              "      <td>4.000</td>\n",
              "      <td>3.000</td>\n",
              "      <td>2.000</td>\n",
              "    </tr>\n",
              "    <tr>\n",
              "      <th>ED</th>\n",
              "      <td>0.000</td>\n",
              "      <td>1.000</td>\n",
              "      <td>0.000</td>\n",
              "      <td>1.000</td>\n",
              "      <td>0.000</td>\n",
              "    </tr>\n",
              "    <tr>\n",
              "      <th>EMPL</th>\n",
              "      <td>0.000</td>\n",
              "      <td>0.000</td>\n",
              "      <td>0.000</td>\n",
              "      <td>0.000</td>\n",
              "      <td>1.000</td>\n",
              "    </tr>\n",
              "    <tr>\n",
              "      <th>INCOME</th>\n",
              "      <td>65,847.000</td>\n",
              "      <td>30,585.000</td>\n",
              "      <td>49,259.000</td>\n",
              "      <td>54,135.000</td>\n",
              "      <td>49,425.000</td>\n",
              "    </tr>\n",
              "    <tr>\n",
              "      <th>BMI</th>\n",
              "      <td>27.410</td>\n",
              "      <td>29.260</td>\n",
              "      <td>20.600</td>\n",
              "      <td>18.560</td>\n",
              "      <td>36.800</td>\n",
              "    </tr>\n",
              "    <tr>\n",
              "      <th>C_DP</th>\n",
              "      <td>0.000</td>\n",
              "      <td>0.000</td>\n",
              "      <td>1.000</td>\n",
              "      <td>1.000</td>\n",
              "      <td>1.000</td>\n",
              "    </tr>\n",
              "    <tr>\n",
              "      <th>C_ANX</th>\n",
              "      <td>1.000</td>\n",
              "      <td>0.000</td>\n",
              "      <td>1.000</td>\n",
              "      <td>1.000</td>\n",
              "      <td>1.000</td>\n",
              "    </tr>\n",
              "    <tr>\n",
              "      <th>C_PN</th>\n",
              "      <td>0.000</td>\n",
              "      <td>0.000</td>\n",
              "      <td>1.000</td>\n",
              "      <td>0.000</td>\n",
              "      <td>0.000</td>\n",
              "    </tr>\n",
              "    <tr>\n",
              "      <th>C_ALL</th>\n",
              "      <td>0.000</td>\n",
              "      <td>0.000</td>\n",
              "      <td>1.000</td>\n",
              "      <td>0.000</td>\n",
              "      <td>1.000</td>\n",
              "    </tr>\n",
              "    <tr>\n",
              "      <th>C_MI</th>\n",
              "      <td>1.000</td>\n",
              "      <td>0.000</td>\n",
              "      <td>0.000</td>\n",
              "      <td>0.000</td>\n",
              "      <td>1.000</td>\n",
              "    </tr>\n",
              "    <tr>\n",
              "      <th>C_INSOM</th>\n",
              "      <td>0.000</td>\n",
              "      <td>0.000</td>\n",
              "      <td>0.000</td>\n",
              "      <td>0.000</td>\n",
              "      <td>0.000</td>\n",
              "    </tr>\n",
              "    <tr>\n",
              "      <th>C_HYP</th>\n",
              "      <td>0.000</td>\n",
              "      <td>0.000</td>\n",
              "      <td>0.000</td>\n",
              "      <td>0.000</td>\n",
              "      <td>0.000</td>\n",
              "    </tr>\n",
              "    <tr>\n",
              "      <th>C_DH</th>\n",
              "      <td>0.000</td>\n",
              "      <td>0.000</td>\n",
              "      <td>0.000</td>\n",
              "      <td>0.000</td>\n",
              "      <td>0.000</td>\n",
              "    </tr>\n",
              "    <tr>\n",
              "      <th>C_SA</th>\n",
              "      <td>0.000</td>\n",
              "      <td>0.000</td>\n",
              "      <td>0.000</td>\n",
              "      <td>0.000</td>\n",
              "      <td>0.000</td>\n",
              "    </tr>\n",
              "    <tr>\n",
              "      <th>C_GERD</th>\n",
              "      <td>0.000</td>\n",
              "      <td>0.000</td>\n",
              "      <td>1.000</td>\n",
              "      <td>0.000</td>\n",
              "      <td>0.000</td>\n",
              "    </tr>\n",
              "    <tr>\n",
              "      <th>C_CS</th>\n",
              "      <td>0.000</td>\n",
              "      <td>0.000</td>\n",
              "      <td>0.000</td>\n",
              "      <td>0.000</td>\n",
              "      <td>0.000</td>\n",
              "    </tr>\n",
              "    <tr>\n",
              "      <th>C_LIP</th>\n",
              "      <td>0.000</td>\n",
              "      <td>0.000</td>\n",
              "      <td>0.000</td>\n",
              "      <td>0.000</td>\n",
              "      <td>0.000</td>\n",
              "    </tr>\n",
              "    <tr>\n",
              "      <th>CCI_SCORE</th>\n",
              "      <td>0.000</td>\n",
              "      <td>0.000</td>\n",
              "      <td>0.000</td>\n",
              "      <td>0.000</td>\n",
              "      <td>0.000</td>\n",
              "    </tr>\n",
              "    <tr>\n",
              "      <th>PHQ9_SCORE</th>\n",
              "      <td>8.000</td>\n",
              "      <td>0.000</td>\n",
              "      <td>17.000</td>\n",
              "      <td>15.000</td>\n",
              "      <td>15.000</td>\n",
              "    </tr>\n",
              "    <tr>\n",
              "      <th>RU_PCP_YN</th>\n",
              "      <td>0.000</td>\n",
              "      <td>0.000</td>\n",
              "      <td>0.000</td>\n",
              "      <td>1.000</td>\n",
              "      <td>0.000</td>\n",
              "    </tr>\n",
              "    <tr>\n",
              "      <th>RU_SPECIAL_YN</th>\n",
              "      <td>0.000</td>\n",
              "      <td>1.000</td>\n",
              "      <td>0.000</td>\n",
              "      <td>0.000</td>\n",
              "      <td>0.000</td>\n",
              "    </tr>\n",
              "    <tr>\n",
              "      <th>RU_OTPCP_YN</th>\n",
              "      <td>0.000</td>\n",
              "      <td>0.000</td>\n",
              "      <td>0.000</td>\n",
              "      <td>0.000</td>\n",
              "      <td>1.000</td>\n",
              "    </tr>\n",
              "    <tr>\n",
              "      <th>RU_UCC_YN</th>\n",
              "      <td>0.000</td>\n",
              "      <td>0.000</td>\n",
              "      <td>1.000</td>\n",
              "      <td>0.000</td>\n",
              "      <td>0.000</td>\n",
              "    </tr>\n",
              "    <tr>\n",
              "      <th>RU_OUTPT_YN</th>\n",
              "      <td>0.000</td>\n",
              "      <td>0.000</td>\n",
              "      <td>0.000</td>\n",
              "      <td>0.000</td>\n",
              "      <td>0.000</td>\n",
              "    </tr>\n",
              "    <tr>\n",
              "      <th>RU_ER_YN</th>\n",
              "      <td>0.000</td>\n",
              "      <td>1.000</td>\n",
              "      <td>1.000</td>\n",
              "      <td>0.000</td>\n",
              "      <td>1.000</td>\n",
              "    </tr>\n",
              "    <tr>\n",
              "      <th>RU_HSP_YN</th>\n",
              "      <td>0.000</td>\n",
              "      <td>0.000</td>\n",
              "      <td>0.000</td>\n",
              "      <td>0.000</td>\n",
              "      <td>0.000</td>\n",
              "    </tr>\n",
              "    <tr>\n",
              "      <th>PSY1_POSITIVE_USE</th>\n",
              "      <td>3.000</td>\n",
              "      <td>1.000</td>\n",
              "      <td>3.000</td>\n",
              "      <td>2.000</td>\n",
              "      <td>2.000</td>\n",
              "    </tr>\n",
              "    <tr>\n",
              "      <th>PSY2_GEN_HEALTH</th>\n",
              "      <td>1.000</td>\n",
              "      <td>0.000</td>\n",
              "      <td>1.000</td>\n",
              "      <td>1.000</td>\n",
              "      <td>1.000</td>\n",
              "    </tr>\n",
              "    <tr>\n",
              "      <th>PSY2_DIAG_CONDITION</th>\n",
              "      <td>0.000</td>\n",
              "      <td>0.000</td>\n",
              "      <td>1.000</td>\n",
              "      <td>1.000</td>\n",
              "      <td>1.000</td>\n",
              "    </tr>\n",
              "    <tr>\n",
              "      <th>PSY2_UNDIAG_CONCERN</th>\n",
              "      <td>0.000</td>\n",
              "      <td>1.000</td>\n",
              "      <td>1.000</td>\n",
              "      <td>0.000</td>\n",
              "      <td>1.000</td>\n",
              "    </tr>\n",
              "    <tr>\n",
              "      <th>PSY2_NO_KNOWLEDGE</th>\n",
              "      <td>0.000</td>\n",
              "      <td>0.000</td>\n",
              "      <td>0.000</td>\n",
              "      <td>0.000</td>\n",
              "      <td>0.000</td>\n",
              "    </tr>\n",
              "    <tr>\n",
              "      <th>INSURANCE</th>\n",
              "      <td>0.000</td>\n",
              "      <td>1.000</td>\n",
              "      <td>0.000</td>\n",
              "      <td>1.000</td>\n",
              "      <td>1.000</td>\n",
              "    </tr>\n",
              "  </tbody>\n",
              "</table>\n",
              "</div>"
            ],
            "text/plain": [
              "CASEID_7139                  1          2          3          4          5\n",
              "PSY_USE_YN               1.000      1.000      1.000      1.000      1.000\n",
              "SEX                      0.000      0.000      0.000      0.000      0.000\n",
              "AGE                     19.000     21.000     22.000     22.000     23.000\n",
              "ETHNICITY                3.000      2.000      2.000      2.000      2.000\n",
              "REGION                   4.000      2.000      4.000      3.000      2.000\n",
              "ED                       0.000      1.000      0.000      1.000      0.000\n",
              "EMPL                     0.000      0.000      0.000      0.000      1.000\n",
              "INCOME              65,847.000 30,585.000 49,259.000 54,135.000 49,425.000\n",
              "BMI                     27.410     29.260     20.600     18.560     36.800\n",
              "C_DP                     0.000      0.000      1.000      1.000      1.000\n",
              "C_ANX                    1.000      0.000      1.000      1.000      1.000\n",
              "C_PN                     0.000      0.000      1.000      0.000      0.000\n",
              "C_ALL                    0.000      0.000      1.000      0.000      1.000\n",
              "C_MI                     1.000      0.000      0.000      0.000      1.000\n",
              "C_INSOM                  0.000      0.000      0.000      0.000      0.000\n",
              "C_HYP                    0.000      0.000      0.000      0.000      0.000\n",
              "C_DH                     0.000      0.000      0.000      0.000      0.000\n",
              "C_SA                     0.000      0.000      0.000      0.000      0.000\n",
              "C_GERD                   0.000      0.000      1.000      0.000      0.000\n",
              "C_CS                     0.000      0.000      0.000      0.000      0.000\n",
              "C_LIP                    0.000      0.000      0.000      0.000      0.000\n",
              "CCI_SCORE                0.000      0.000      0.000      0.000      0.000\n",
              "PHQ9_SCORE               8.000      0.000     17.000     15.000     15.000\n",
              "RU_PCP_YN                0.000      0.000      0.000      1.000      0.000\n",
              "RU_SPECIAL_YN            0.000      1.000      0.000      0.000      0.000\n",
              "RU_OTPCP_YN              0.000      0.000      0.000      0.000      1.000\n",
              "RU_UCC_YN                0.000      0.000      1.000      0.000      0.000\n",
              "RU_OUTPT_YN              0.000      0.000      0.000      0.000      0.000\n",
              "RU_ER_YN                 0.000      1.000      1.000      0.000      1.000\n",
              "RU_HSP_YN                0.000      0.000      0.000      0.000      0.000\n",
              "PSY1_POSITIVE_USE        3.000      1.000      3.000      2.000      2.000\n",
              "PSY2_GEN_HEALTH          1.000      0.000      1.000      1.000      1.000\n",
              "PSY2_DIAG_CONDITION      0.000      0.000      1.000      1.000      1.000\n",
              "PSY2_UNDIAG_CONCERN      0.000      1.000      1.000      0.000      1.000\n",
              "PSY2_NO_KNOWLEDGE        0.000      0.000      0.000      0.000      0.000\n",
              "INSURANCE                0.000      1.000      0.000      1.000      1.000"
            ]
          },
          "execution_count": 11,
          "metadata": {},
          "output_type": "execute_result"
        }
      ],
      "source": [
        "df.head().T"
      ]
    },
    {
      "cell_type": "code",
      "execution_count": null,
      "metadata": {
        "colab": {
          "base_uri": "https://localhost:8080/"
        },
        "id": "jKhD6nW_iMjw",
        "outputId": "82a35c72-9c57-4d52-a3de-03fe9bc4b329"
      },
      "outputs": [
        {
          "name": "stdout",
          "output_type": "stream",
          "text": [
            "<class 'pandas.core.frame.DataFrame'>\n",
            "Int64Index: 7139 entries, 1 to 7139\n",
            "Data columns (total 36 columns):\n",
            " #   Column               Non-Null Count  Dtype  \n",
            "---  ------               --------------  -----  \n",
            " 0   PSY_USE_YN           7139 non-null   float64\n",
            " 1   SEX                  7139 non-null   int64  \n",
            " 2   AGE                  7139 non-null   float64\n",
            " 3   ETHNICITY            7139 non-null   float64\n",
            " 4   REGION               7139 non-null   float64\n",
            " 5   ED                   7139 non-null   float64\n",
            " 6   EMPL                 7139 non-null   float64\n",
            " 7   INCOME               7139 non-null   int64  \n",
            " 8   BMI                  7139 non-null   float64\n",
            " 9   C_DP                 7139 non-null   float64\n",
            " 10  C_ANX                7139 non-null   float64\n",
            " 11  C_PN                 7139 non-null   float64\n",
            " 12  C_ALL                7139 non-null   float64\n",
            " 13  C_MI                 7139 non-null   float64\n",
            " 14  C_INSOM              7139 non-null   float64\n",
            " 15  C_HYP                7139 non-null   float64\n",
            " 16  C_DH                 7139 non-null   float64\n",
            " 17  C_SA                 7139 non-null   float64\n",
            " 18  C_GERD               7139 non-null   float64\n",
            " 19  C_CS                 7139 non-null   float64\n",
            " 20  C_LIP                7139 non-null   float64\n",
            " 21  CCI_SCORE            7139 non-null   float64\n",
            " 22  PHQ9_SCORE           7139 non-null   float64\n",
            " 23  RU_PCP_YN            7139 non-null   int64  \n",
            " 24  RU_SPECIAL_YN        7139 non-null   int64  \n",
            " 25  RU_OTPCP_YN          7139 non-null   int64  \n",
            " 26  RU_UCC_YN            7139 non-null   int64  \n",
            " 27  RU_OUTPT_YN          7139 non-null   int64  \n",
            " 28  RU_ER_YN             7139 non-null   int64  \n",
            " 29  RU_HSP_YN            7139 non-null   int64  \n",
            " 30  PSY1_POSITIVE_USE    7139 non-null   int64  \n",
            " 31  PSY2_GEN_HEALTH      7139 non-null   int64  \n",
            " 32  PSY2_DIAG_CONDITION  7139 non-null   int64  \n",
            " 33  PSY2_UNDIAG_CONCERN  7139 non-null   int64  \n",
            " 34  PSY2_NO_KNOWLEDGE    7139 non-null   int64  \n",
            " 35  INSURANCE            7139 non-null   int64  \n",
            "dtypes: float64(21), int64(15)\n",
            "memory usage: 2.0 MB\n"
          ]
        }
      ],
      "source": [
        "df.info()"
      ]
    },
    {
      "cell_type": "markdown",
      "metadata": {
        "id": "DqORVIT68LaI"
      },
      "source": [
        "there are a few columns that have the wrong **data type** such as **PSY_USE_YN** that should be integers not floats"
      ]
    },
    {
      "cell_type": "code",
      "execution_count": null,
      "metadata": {
        "id": "sBiZ0r4aoj6g"
      },
      "outputs": [],
      "source": [
        "# make a dataframe of columns to convert to int64\n",
        "convert_cols = {\n",
        "                'PSY_USE_YN':'int64',\n",
        "                'SEX':'int64',\n",
        "                'ETHNICITY':'int64',\n",
        "                'REGION':'int64',\n",
        "                'ED':'int64',\n",
        "                'EMPL':'int64'\n",
        "                              \n",
        "               }"
      ]
    },
    {
      "cell_type": "code",
      "execution_count": null,
      "metadata": {
        "id": "nDd76HN8oj6g"
      },
      "outputs": [],
      "source": [
        "df = df.astype(convert_cols)"
      ]
    },
    {
      "cell_type": "code",
      "execution_count": null,
      "metadata": {
        "colab": {
          "base_uri": "https://localhost:8080/"
        },
        "id": "INgO4mECoj6g",
        "outputId": "5a620577-d875-4f5e-d012-dbb158251ec7"
      },
      "outputs": [
        {
          "name": "stdout",
          "output_type": "stream",
          "text": [
            "<class 'pandas.core.frame.DataFrame'>\n",
            "Int64Index: 7139 entries, 1 to 7139\n",
            "Data columns (total 36 columns):\n",
            " #   Column               Non-Null Count  Dtype  \n",
            "---  ------               --------------  -----  \n",
            " 0   PSY_USE_YN           7139 non-null   int64  \n",
            " 1   SEX                  7139 non-null   int64  \n",
            " 2   AGE                  7139 non-null   float64\n",
            " 3   ETHNICITY            7139 non-null   int64  \n",
            " 4   REGION               7139 non-null   int64  \n",
            " 5   ED                   7139 non-null   int64  \n",
            " 6   EMPL                 7139 non-null   int64  \n",
            " 7   INCOME               7139 non-null   int64  \n",
            " 8   BMI                  7139 non-null   float64\n",
            " 9   C_DP                 7139 non-null   float64\n",
            " 10  C_ANX                7139 non-null   float64\n",
            " 11  C_PN                 7139 non-null   float64\n",
            " 12  C_ALL                7139 non-null   float64\n",
            " 13  C_MI                 7139 non-null   float64\n",
            " 14  C_INSOM              7139 non-null   float64\n",
            " 15  C_HYP                7139 non-null   float64\n",
            " 16  C_DH                 7139 non-null   float64\n",
            " 17  C_SA                 7139 non-null   float64\n",
            " 18  C_GERD               7139 non-null   float64\n",
            " 19  C_CS                 7139 non-null   float64\n",
            " 20  C_LIP                7139 non-null   float64\n",
            " 21  CCI_SCORE            7139 non-null   float64\n",
            " 22  PHQ9_SCORE           7139 non-null   float64\n",
            " 23  RU_PCP_YN            7139 non-null   int64  \n",
            " 24  RU_SPECIAL_YN        7139 non-null   int64  \n",
            " 25  RU_OTPCP_YN          7139 non-null   int64  \n",
            " 26  RU_UCC_YN            7139 non-null   int64  \n",
            " 27  RU_OUTPT_YN          7139 non-null   int64  \n",
            " 28  RU_ER_YN             7139 non-null   int64  \n",
            " 29  RU_HSP_YN            7139 non-null   int64  \n",
            " 30  PSY1_POSITIVE_USE    7139 non-null   int64  \n",
            " 31  PSY2_GEN_HEALTH      7139 non-null   int64  \n",
            " 32  PSY2_DIAG_CONDITION  7139 non-null   int64  \n",
            " 33  PSY2_UNDIAG_CONCERN  7139 non-null   int64  \n",
            " 34  PSY2_NO_KNOWLEDGE    7139 non-null   int64  \n",
            " 35  INSURANCE            7139 non-null   int64  \n",
            "dtypes: float64(16), int64(20)\n",
            "memory usage: 2.0 MB\n"
          ]
        }
      ],
      "source": [
        "df.info()"
      ]
    },
    {
      "cell_type": "markdown",
      "metadata": {
        "id": "VJ9HeQpYoj6h"
      },
      "source": [
        "looks like the columns are the correct data types now "
      ]
    },
    {
      "cell_type": "code",
      "execution_count": null,
      "metadata": {
        "colab": {
          "base_uri": "https://localhost:8080/",
          "height": 550
        },
        "id": "L_n4Lx_roj6h",
        "outputId": "b99ba6c1-dbf1-473c-e880-21b7c46946bb"
      },
      "outputs": [
        {
          "data": {
            "image/png": "[encoded data removed]",
            "text/plain": [
              "<Figure size 540x540 with 12 Axes>"
            ]
          },
          "metadata": {
            "needs_background": "light"
          },
          "output_type": "display_data"
        }
      ],
      "source": [
        "sns.pairplot(df[['PHQ9_SCORE', 'BMI', 'INCOME']]);"
      ]
    },
    {
      "cell_type": "markdown",
      "metadata": {
        "id": "8TA1uPPKoj6i"
      },
      "source": [
        "looks like PHQ9_SCORE(Depression Score) and GAD7_Score(Anxiety) and positively correlated, would be better for the model if one of these were dropped, the interest for this analysis is in the PHQ9 score, which is more of a sevre indicator"
      ]
    },
    {
      "cell_type": "markdown",
      "metadata": {
        "id": "mAK1_WLn5G9t"
      },
      "source": [
        "The dataset seems to be unbalanced with more 0 than 1s if we were going to classify psychedelics use. Even though predicting psychedelic use based on the other features, a more interesting question is predicting the depression score based on the other features. This way you can have some idea of their beanift"
      ]
    },
    {
      "cell_type": "markdown",
      "metadata": {
        "id": "ERZe0D4ooj6l"
      },
      "source": [
        "Would like to use **PM_USE_ONLY_YN** or **PSY_USE_YN** the **PSY_USE_YN**(which is psychedelics used as a 1 or 0 otherwise) yet different psychedelics have different effects on mind based on research, but it's a good start for a simplified model"
      ]
    },
    {
      "cell_type": "code",
      "execution_count": null,
      "metadata": {
        "colab": {
          "base_uri": "https://localhost:8080/",
          "height": 1000
        },
        "id": "0uBdhOea5k3p",
        "outputId": "bf4b93be-d808-4dd4-c3c9-d75dd381b307"
      },
      "outputs": [
        {
          "data": {
            "text/html": [
              "<div>\n",
              "<style scoped>\n",
              "    .dataframe tbody tr th:only-of-type {\n",
              "        vertical-align: middle;\n",
              "    }\n",
              "\n",
              "    .dataframe tbody tr th {\n",
              "        vertical-align: top;\n",
              "    }\n",
              "\n",
              "    .dataframe thead th {\n",
              "        text-align: right;\n",
              "    }\n",
              "</style>\n",
              "<table border=\"1\" class=\"dataframe\">\n",
              "  <thead>\n",
              "    <tr style=\"text-align: right;\">\n",
              "      <th></th>\n",
              "      <th>count</th>\n",
              "      <th>mean</th>\n",
              "      <th>std</th>\n",
              "      <th>min</th>\n",
              "      <th>25%</th>\n",
              "      <th>50%</th>\n",
              "      <th>75%</th>\n",
              "      <th>max</th>\n",
              "    </tr>\n",
              "  </thead>\n",
              "  <tbody>\n",
              "    <tr>\n",
              "      <th>PSY_USE_YN</th>\n",
              "      <td>7,139.000</td>\n",
              "      <td>0.074</td>\n",
              "      <td>0.261</td>\n",
              "      <td>0.000</td>\n",
              "      <td>0.000</td>\n",
              "      <td>0.000</td>\n",
              "      <td>0.000</td>\n",
              "      <td>1.000</td>\n",
              "    </tr>\n",
              "    <tr>\n",
              "      <th>SEX</th>\n",
              "      <td>7,139.000</td>\n",
              "      <td>0.455</td>\n",
              "      <td>0.498</td>\n",
              "      <td>0.000</td>\n",
              "      <td>0.000</td>\n",
              "      <td>0.000</td>\n",
              "      <td>1.000</td>\n",
              "      <td>1.000</td>\n",
              "    </tr>\n",
              "    <tr>\n",
              "      <th>AGE</th>\n",
              "      <td>7,139.000</td>\n",
              "      <td>46.147</td>\n",
              "      <td>16.648</td>\n",
              "      <td>18.000</td>\n",
              "      <td>33.000</td>\n",
              "      <td>43.000</td>\n",
              "      <td>60.000</td>\n",
              "      <td>95.000</td>\n",
              "    </tr>\n",
              "    <tr>\n",
              "      <th>ETHNICITY</th>\n",
              "      <td>7,139.000</td>\n",
              "      <td>1.952</td>\n",
              "      <td>0.506</td>\n",
              "      <td>1.000</td>\n",
              "      <td>2.000</td>\n",
              "      <td>2.000</td>\n",
              "      <td>2.000</td>\n",
              "      <td>3.000</td>\n",
              "    </tr>\n",
              "    <tr>\n",
              "      <th>REGION</th>\n",
              "      <td>7,139.000</td>\n",
              "      <td>2.632</td>\n",
              "      <td>0.998</td>\n",
              "      <td>1.000</td>\n",
              "      <td>2.000</td>\n",
              "      <td>3.000</td>\n",
              "      <td>3.000</td>\n",
              "      <td>4.000</td>\n",
              "    </tr>\n",
              "    <tr>\n",
              "      <th>ED</th>\n",
              "      <td>7,139.000</td>\n",
              "      <td>0.726</td>\n",
              "      <td>0.446</td>\n",
              "      <td>0.000</td>\n",
              "      <td>0.000</td>\n",
              "      <td>1.000</td>\n",
              "      <td>1.000</td>\n",
              "      <td>1.000</td>\n",
              "    </tr>\n",
              "    <tr>\n",
              "      <th>EMPL</th>\n",
              "      <td>7,139.000</td>\n",
              "      <td>0.305</td>\n",
              "      <td>0.460</td>\n",
              "      <td>0.000</td>\n",
              "      <td>0.000</td>\n",
              "      <td>0.000</td>\n",
              "      <td>1.000</td>\n",
              "      <td>1.000</td>\n",
              "    </tr>\n",
              "    <tr>\n",
              "      <th>INCOME</th>\n",
              "      <td>7,139.000</td>\n",
              "      <td>64,563.706</td>\n",
              "      <td>26,258.629</td>\n",
              "      <td>9,076.000</td>\n",
              "      <td>46,322.500</td>\n",
              "      <td>58,129.000</td>\n",
              "      <td>77,263.000</td>\n",
              "      <td>237,841.000</td>\n",
              "    </tr>\n",
              "    <tr>\n",
              "      <th>BMI</th>\n",
              "      <td>7,139.000</td>\n",
              "      <td>28.025</td>\n",
              "      <td>7.255</td>\n",
              "      <td>11.160</td>\n",
              "      <td>23.050</td>\n",
              "      <td>26.580</td>\n",
              "      <td>31.415</td>\n",
              "      <td>73.120</td>\n",
              "    </tr>\n",
              "    <tr>\n",
              "      <th>C_DP</th>\n",
              "      <td>7,139.000</td>\n",
              "      <td>0.311</td>\n",
              "      <td>0.463</td>\n",
              "      <td>0.000</td>\n",
              "      <td>0.000</td>\n",
              "      <td>0.000</td>\n",
              "      <td>1.000</td>\n",
              "      <td>1.000</td>\n",
              "    </tr>\n",
              "    <tr>\n",
              "      <th>C_ANX</th>\n",
              "      <td>7,139.000</td>\n",
              "      <td>0.355</td>\n",
              "      <td>0.479</td>\n",
              "      <td>0.000</td>\n",
              "      <td>0.000</td>\n",
              "      <td>0.000</td>\n",
              "      <td>1.000</td>\n",
              "      <td>1.000</td>\n",
              "    </tr>\n",
              "    <tr>\n",
              "      <th>C_PN</th>\n",
              "      <td>7,139.000</td>\n",
              "      <td>0.446</td>\n",
              "      <td>0.497</td>\n",
              "      <td>0.000</td>\n",
              "      <td>0.000</td>\n",
              "      <td>0.000</td>\n",
              "      <td>1.000</td>\n",
              "      <td>1.000</td>\n",
              "    </tr>\n",
              "    <tr>\n",
              "      <th>C_ALL</th>\n",
              "      <td>7,139.000</td>\n",
              "      <td>0.293</td>\n",
              "      <td>0.455</td>\n",
              "      <td>0.000</td>\n",
              "      <td>0.000</td>\n",
              "      <td>0.000</td>\n",
              "      <td>1.000</td>\n",
              "      <td>1.000</td>\n",
              "    </tr>\n",
              "    <tr>\n",
              "      <th>C_MI</th>\n",
              "      <td>7,139.000</td>\n",
              "      <td>0.196</td>\n",
              "      <td>0.397</td>\n",
              "      <td>0.000</td>\n",
              "      <td>0.000</td>\n",
              "      <td>0.000</td>\n",
              "      <td>0.000</td>\n",
              "      <td>1.000</td>\n",
              "    </tr>\n",
              "    <tr>\n",
              "      <th>C_INSOM</th>\n",
              "      <td>7,139.000</td>\n",
              "      <td>0.214</td>\n",
              "      <td>0.410</td>\n",
              "      <td>0.000</td>\n",
              "      <td>0.000</td>\n",
              "      <td>0.000</td>\n",
              "      <td>0.000</td>\n",
              "      <td>1.000</td>\n",
              "    </tr>\n",
              "    <tr>\n",
              "      <th>C_HYP</th>\n",
              "      <td>7,139.000</td>\n",
              "      <td>0.223</td>\n",
              "      <td>0.416</td>\n",
              "      <td>0.000</td>\n",
              "      <td>0.000</td>\n",
              "      <td>0.000</td>\n",
              "      <td>0.000</td>\n",
              "      <td>1.000</td>\n",
              "    </tr>\n",
              "    <tr>\n",
              "      <th>C_DH</th>\n",
              "      <td>7,139.000</td>\n",
              "      <td>0.144</td>\n",
              "      <td>0.351</td>\n",
              "      <td>0.000</td>\n",
              "      <td>0.000</td>\n",
              "      <td>0.000</td>\n",
              "      <td>0.000</td>\n",
              "      <td>1.000</td>\n",
              "    </tr>\n",
              "    <tr>\n",
              "      <th>C_SA</th>\n",
              "      <td>7,139.000</td>\n",
              "      <td>0.081</td>\n",
              "      <td>0.272</td>\n",
              "      <td>0.000</td>\n",
              "      <td>0.000</td>\n",
              "      <td>0.000</td>\n",
              "      <td>0.000</td>\n",
              "      <td>1.000</td>\n",
              "    </tr>\n",
              "    <tr>\n",
              "      <th>C_GERD</th>\n",
              "      <td>7,139.000</td>\n",
              "      <td>0.133</td>\n",
              "      <td>0.340</td>\n",
              "      <td>0.000</td>\n",
              "      <td>0.000</td>\n",
              "      <td>0.000</td>\n",
              "      <td>0.000</td>\n",
              "      <td>1.000</td>\n",
              "    </tr>\n",
              "    <tr>\n",
              "      <th>C_CS</th>\n",
              "      <td>7,139.000</td>\n",
              "      <td>0.137</td>\n",
              "      <td>0.344</td>\n",
              "      <td>0.000</td>\n",
              "      <td>0.000</td>\n",
              "      <td>0.000</td>\n",
              "      <td>0.000</td>\n",
              "      <td>1.000</td>\n",
              "    </tr>\n",
              "    <tr>\n",
              "      <th>C_LIP</th>\n",
              "      <td>7,139.000</td>\n",
              "      <td>0.141</td>\n",
              "      <td>0.348</td>\n",
              "      <td>0.000</td>\n",
              "      <td>0.000</td>\n",
              "      <td>0.000</td>\n",
              "      <td>0.000</td>\n",
              "      <td>1.000</td>\n",
              "    </tr>\n",
              "    <tr>\n",
              "      <th>CCI_SCORE</th>\n",
              "      <td>7,139.000</td>\n",
              "      <td>0.463</td>\n",
              "      <td>1.003</td>\n",
              "      <td>0.000</td>\n",
              "      <td>0.000</td>\n",
              "      <td>0.000</td>\n",
              "      <td>0.000</td>\n",
              "      <td>9.000</td>\n",
              "    </tr>\n",
              "    <tr>\n",
              "      <th>PHQ9_SCORE</th>\n",
              "      <td>7,139.000</td>\n",
              "      <td>7.330</td>\n",
              "      <td>6.994</td>\n",
              "      <td>0.000</td>\n",
              "      <td>1.000</td>\n",
              "      <td>5.000</td>\n",
              "      <td>12.000</td>\n",
              "      <td>27.000</td>\n",
              "    </tr>\n",
              "    <tr>\n",
              "      <th>RU_PCP_YN</th>\n",
              "      <td>7,139.000</td>\n",
              "      <td>0.524</td>\n",
              "      <td>0.499</td>\n",
              "      <td>0.000</td>\n",
              "      <td>0.000</td>\n",
              "      <td>1.000</td>\n",
              "      <td>1.000</td>\n",
              "      <td>1.000</td>\n",
              "    </tr>\n",
              "    <tr>\n",
              "      <th>RU_SPECIAL_YN</th>\n",
              "      <td>7,139.000</td>\n",
              "      <td>0.283</td>\n",
              "      <td>0.450</td>\n",
              "      <td>0.000</td>\n",
              "      <td>0.000</td>\n",
              "      <td>0.000</td>\n",
              "      <td>1.000</td>\n",
              "      <td>1.000</td>\n",
              "    </tr>\n",
              "    <tr>\n",
              "      <th>RU_OTPCP_YN</th>\n",
              "      <td>7,139.000</td>\n",
              "      <td>0.209</td>\n",
              "      <td>0.407</td>\n",
              "      <td>0.000</td>\n",
              "      <td>0.000</td>\n",
              "      <td>0.000</td>\n",
              "      <td>0.000</td>\n",
              "      <td>1.000</td>\n",
              "    </tr>\n",
              "    <tr>\n",
              "      <th>RU_UCC_YN</th>\n",
              "      <td>7,139.000</td>\n",
              "      <td>0.118</td>\n",
              "      <td>0.322</td>\n",
              "      <td>0.000</td>\n",
              "      <td>0.000</td>\n",
              "      <td>0.000</td>\n",
              "      <td>0.000</td>\n",
              "      <td>1.000</td>\n",
              "    </tr>\n",
              "    <tr>\n",
              "      <th>RU_OUTPT_YN</th>\n",
              "      <td>7,139.000</td>\n",
              "      <td>0.086</td>\n",
              "      <td>0.281</td>\n",
              "      <td>0.000</td>\n",
              "      <td>0.000</td>\n",
              "      <td>0.000</td>\n",
              "      <td>0.000</td>\n",
              "      <td>1.000</td>\n",
              "    </tr>\n",
              "    <tr>\n",
              "      <th>RU_ER_YN</th>\n",
              "      <td>7,139.000</td>\n",
              "      <td>0.113</td>\n",
              "      <td>0.316</td>\n",
              "      <td>0.000</td>\n",
              "      <td>0.000</td>\n",
              "      <td>0.000</td>\n",
              "      <td>0.000</td>\n",
              "      <td>1.000</td>\n",
              "    </tr>\n",
              "    <tr>\n",
              "      <th>RU_HSP_YN</th>\n",
              "      <td>7,139.000</td>\n",
              "      <td>0.048</td>\n",
              "      <td>0.214</td>\n",
              "      <td>0.000</td>\n",
              "      <td>0.000</td>\n",
              "      <td>0.000</td>\n",
              "      <td>0.000</td>\n",
              "      <td>1.000</td>\n",
              "    </tr>\n",
              "    <tr>\n",
              "      <th>PSY1_POSITIVE_USE</th>\n",
              "      <td>7,139.000</td>\n",
              "      <td>3.433</td>\n",
              "      <td>1.253</td>\n",
              "      <td>1.000</td>\n",
              "      <td>3.000</td>\n",
              "      <td>3.000</td>\n",
              "      <td>5.000</td>\n",
              "      <td>5.000</td>\n",
              "    </tr>\n",
              "    <tr>\n",
              "      <th>PSY2_GEN_HEALTH</th>\n",
              "      <td>7,139.000</td>\n",
              "      <td>0.194</td>\n",
              "      <td>0.396</td>\n",
              "      <td>0.000</td>\n",
              "      <td>0.000</td>\n",
              "      <td>0.000</td>\n",
              "      <td>0.000</td>\n",
              "      <td>1.000</td>\n",
              "    </tr>\n",
              "    <tr>\n",
              "      <th>PSY2_DIAG_CONDITION</th>\n",
              "      <td>7,139.000</td>\n",
              "      <td>0.190</td>\n",
              "      <td>0.393</td>\n",
              "      <td>0.000</td>\n",
              "      <td>0.000</td>\n",
              "      <td>0.000</td>\n",
              "      <td>0.000</td>\n",
              "      <td>1.000</td>\n",
              "    </tr>\n",
              "    <tr>\n",
              "      <th>PSY2_UNDIAG_CONCERN</th>\n",
              "      <td>7,139.000</td>\n",
              "      <td>0.098</td>\n",
              "      <td>0.298</td>\n",
              "      <td>0.000</td>\n",
              "      <td>0.000</td>\n",
              "      <td>0.000</td>\n",
              "      <td>0.000</td>\n",
              "      <td>1.000</td>\n",
              "    </tr>\n",
              "    <tr>\n",
              "      <th>PSY2_NO_KNOWLEDGE</th>\n",
              "      <td>7,139.000</td>\n",
              "      <td>0.653</td>\n",
              "      <td>0.476</td>\n",
              "      <td>0.000</td>\n",
              "      <td>0.000</td>\n",
              "      <td>1.000</td>\n",
              "      <td>1.000</td>\n",
              "      <td>1.000</td>\n",
              "    </tr>\n",
              "    <tr>\n",
              "      <th>INSURANCE</th>\n",
              "      <td>7,139.000</td>\n",
              "      <td>0.847</td>\n",
              "      <td>0.360</td>\n",
              "      <td>0.000</td>\n",
              "      <td>1.000</td>\n",
              "      <td>1.000</td>\n",
              "      <td>1.000</td>\n",
              "      <td>1.000</td>\n",
              "    </tr>\n",
              "  </tbody>\n",
              "</table>\n",
              "</div>"
            ],
            "text/plain": [
              "                        count       mean        std       min        25%  \\\n",
              "PSY_USE_YN          7,139.000      0.074      0.261     0.000      0.000   \n",
              "SEX                 7,139.000      0.455      0.498     0.000      0.000   \n",
              "AGE                 7,139.000     46.147     16.648    18.000     33.000   \n",
              "ETHNICITY           7,139.000      1.952      0.506     1.000      2.000   \n",
              "REGION              7,139.000      2.632      0.998     1.000      2.000   \n",
              "ED                  7,139.000      0.726      0.446     0.000      0.000   \n",
              "EMPL                7,139.000      0.305      0.460     0.000      0.000   \n",
              "INCOME              7,139.000 64,563.706 26,258.629 9,076.000 46,322.500   \n",
              "BMI                 7,139.000     28.025      7.255    11.160     23.050   \n",
              "C_DP                7,139.000      0.311      0.463     0.000      0.000   \n",
              "C_ANX               7,139.000      0.355      0.479     0.000      0.000   \n",
              "C_PN                7,139.000      0.446      0.497     0.000      0.000   \n",
              "C_ALL               7,139.000      0.293      0.455     0.000      0.000   \n",
              "C_MI                7,139.000      0.196      0.397     0.000      0.000   \n",
              "C_INSOM             7,139.000      0.214      0.410     0.000      0.000   \n",
              "C_HYP               7,139.000      0.223      0.416     0.000      0.000   \n",
              "C_DH                7,139.000      0.144      0.351     0.000      0.000   \n",
              "C_SA                7,139.000      0.081      0.272     0.000      0.000   \n",
              "C_GERD              7,139.000      0.133      0.340     0.000      0.000   \n",
              "C_CS                7,139.000      0.137      0.344     0.000      0.000   \n",
              "C_LIP               7,139.000      0.141      0.348     0.000      0.000   \n",
              "CCI_SCORE           7,139.000      0.463      1.003     0.000      0.000   \n",
              "PHQ9_SCORE          7,139.000      7.330      6.994     0.000      1.000   \n",
              "RU_PCP_YN           7,139.000      0.524      0.499     0.000      0.000   \n",
              "RU_SPECIAL_YN       7,139.000      0.283      0.450     0.000      0.000   \n",
              "RU_OTPCP_YN         7,139.000      0.209      0.407     0.000      0.000   \n",
              "RU_UCC_YN           7,139.000      0.118      0.322     0.000      0.000   \n",
              "RU_OUTPT_YN         7,139.000      0.086      0.281     0.000      0.000   \n",
              "RU_ER_YN            7,139.000      0.113      0.316     0.000      0.000   \n",
              "RU_HSP_YN           7,139.000      0.048      0.214     0.000      0.000   \n",
              "PSY1_POSITIVE_USE   7,139.000      3.433      1.253     1.000      3.000   \n",
              "PSY2_GEN_HEALTH     7,139.000      0.194      0.396     0.000      0.000   \n",
              "PSY2_DIAG_CONDITION 7,139.000      0.190      0.393     0.000      0.000   \n",
              "PSY2_UNDIAG_CONCERN 7,139.000      0.098      0.298     0.000      0.000   \n",
              "PSY2_NO_KNOWLEDGE   7,139.000      0.653      0.476     0.000      0.000   \n",
              "INSURANCE           7,139.000      0.847      0.360     0.000      1.000   \n",
              "\n",
              "                           50%        75%         max  \n",
              "PSY_USE_YN               0.000      0.000       1.000  \n",
              "SEX                      0.000      1.000       1.000  \n",
              "AGE                     43.000     60.000      95.000  \n",
              "ETHNICITY                2.000      2.000       3.000  \n",
              "REGION                   3.000      3.000       4.000  \n",
              "ED                       1.000      1.000       1.000  \n",
              "EMPL                     0.000      1.000       1.000  \n",
              "INCOME              58,129.000 77,263.000 237,841.000  \n",
              "BMI                     26.580     31.415      73.120  \n",
              "C_DP                     0.000      1.000       1.000  \n",
              "C_ANX                    0.000      1.000       1.000  \n",
              "C_PN                     0.000      1.000       1.000  \n",
              "C_ALL                    0.000      1.000       1.000  \n",
              "C_MI                     0.000      0.000       1.000  \n",
              "C_INSOM                  0.000      0.000       1.000  \n",
              "C_HYP                    0.000      0.000       1.000  \n",
              "C_DH                     0.000      0.000       1.000  \n",
              "C_SA                     0.000      0.000       1.000  \n",
              "C_GERD                   0.000      0.000       1.000  \n",
              "C_CS                     0.000      0.000       1.000  \n",
              "C_LIP                    0.000      0.000       1.000  \n",
              "CCI_SCORE                0.000      0.000       9.000  \n",
              "PHQ9_SCORE               5.000     12.000      27.000  \n",
              "RU_PCP_YN                1.000      1.000       1.000  \n",
              "RU_SPECIAL_YN            0.000      1.000       1.000  \n",
              "RU_OTPCP_YN              0.000      0.000       1.000  \n",
              "RU_UCC_YN                0.000      0.000       1.000  \n",
              "RU_OUTPT_YN              0.000      0.000       1.000  \n",
              "RU_ER_YN                 0.000      0.000       1.000  \n",
              "RU_HSP_YN                0.000      0.000       1.000  \n",
              "PSY1_POSITIVE_USE        3.000      5.000       5.000  \n",
              "PSY2_GEN_HEALTH          0.000      0.000       1.000  \n",
              "PSY2_DIAG_CONDITION      0.000      0.000       1.000  \n",
              "PSY2_UNDIAG_CONCERN      0.000      0.000       1.000  \n",
              "PSY2_NO_KNOWLEDGE        1.000      1.000       1.000  \n",
              "INSURANCE                1.000      1.000       1.000  "
            ]
          },
          "execution_count": 17,
          "metadata": {},
          "output_type": "execute_result"
        }
      ],
      "source": [
        "df.describe().T"
      ]
    },
    {
      "cell_type": "code",
      "execution_count": null,
      "metadata": {
        "colab": {
          "base_uri": "https://localhost:8080/"
        },
        "id": "DTqfWjm1i7CN",
        "outputId": "525dc7e4-9823-4a05-f06a-55ce7f6a1092"
      },
      "outputs": [
        {
          "name": "stdout",
          "output_type": "stream",
          "text": [
            "Shape data: (7139, 36)\n",
            "Number of mission values in data: 0\n",
            "Number of duplicate values in data: 2\n"
          ]
        }
      ],
      "source": [
        "\n",
        "print(f\"Shape data: {df.shape}\")\n",
        "print(f\"Number of mission values in data: \\\n",
        "{df.isnull().sum().sum()}\")\n",
        "print(f\"Number of duplicate values in data: \\\n",
        "{df.duplicated().sum()}\")"
      ]
    },
    {
      "cell_type": "code",
      "execution_count": null,
      "metadata": {
        "colab": {
          "base_uri": "https://localhost:8080/",
          "height": 237
        },
        "id": "Cisp1TLEGRAB",
        "outputId": "7672457e-f1b8-4d18-f4cf-18f38c49b9f1"
      },
      "outputs": [
        {
          "data": {
            "text/html": [
              "<div>\n",
              "<style scoped>\n",
              "    .dataframe tbody tr th:only-of-type {\n",
              "        vertical-align: middle;\n",
              "    }\n",
              "\n",
              "    .dataframe tbody tr th {\n",
              "        vertical-align: top;\n",
              "    }\n",
              "\n",
              "    .dataframe thead th {\n",
              "        text-align: right;\n",
              "    }\n",
              "</style>\n",
              "<table border=\"1\" class=\"dataframe\">\n",
              "  <thead>\n",
              "    <tr style=\"text-align: right;\">\n",
              "      <th></th>\n",
              "      <th>PSY_USE_YN</th>\n",
              "      <th>SEX</th>\n",
              "      <th>AGE</th>\n",
              "      <th>ETHNICITY</th>\n",
              "      <th>REGION</th>\n",
              "      <th>ED</th>\n",
              "      <th>EMPL</th>\n",
              "      <th>INCOME</th>\n",
              "      <th>BMI</th>\n",
              "      <th>C_DP</th>\n",
              "      <th>...</th>\n",
              "      <th>RU_UCC_YN</th>\n",
              "      <th>RU_OUTPT_YN</th>\n",
              "      <th>RU_ER_YN</th>\n",
              "      <th>RU_HSP_YN</th>\n",
              "      <th>PSY1_POSITIVE_USE</th>\n",
              "      <th>PSY2_GEN_HEALTH</th>\n",
              "      <th>PSY2_DIAG_CONDITION</th>\n",
              "      <th>PSY2_UNDIAG_CONCERN</th>\n",
              "      <th>PSY2_NO_KNOWLEDGE</th>\n",
              "      <th>INSURANCE</th>\n",
              "    </tr>\n",
              "    <tr>\n",
              "      <th>CASEID_7139</th>\n",
              "      <th></th>\n",
              "      <th></th>\n",
              "      <th></th>\n",
              "      <th></th>\n",
              "      <th></th>\n",
              "      <th></th>\n",
              "      <th></th>\n",
              "      <th></th>\n",
              "      <th></th>\n",
              "      <th></th>\n",
              "      <th></th>\n",
              "      <th></th>\n",
              "      <th></th>\n",
              "      <th></th>\n",
              "      <th></th>\n",
              "      <th></th>\n",
              "      <th></th>\n",
              "      <th></th>\n",
              "      <th></th>\n",
              "      <th></th>\n",
              "      <th></th>\n",
              "    </tr>\n",
              "  </thead>\n",
              "  <tbody>\n",
              "    <tr>\n",
              "      <th>533</th>\n",
              "      <td>0</td>\n",
              "      <td>0</td>\n",
              "      <td>25.000</td>\n",
              "      <td>2</td>\n",
              "      <td>4</td>\n",
              "      <td>0</td>\n",
              "      <td>0</td>\n",
              "      <td>93374</td>\n",
              "      <td>27.460</td>\n",
              "      <td>0.000</td>\n",
              "      <td>...</td>\n",
              "      <td>0</td>\n",
              "      <td>0</td>\n",
              "      <td>0</td>\n",
              "      <td>0</td>\n",
              "      <td>3</td>\n",
              "      <td>0</td>\n",
              "      <td>0</td>\n",
              "      <td>0</td>\n",
              "      <td>1</td>\n",
              "      <td>1</td>\n",
              "    </tr>\n",
              "    <tr>\n",
              "      <th>5236</th>\n",
              "      <td>0</td>\n",
              "      <td>1</td>\n",
              "      <td>41.000</td>\n",
              "      <td>2</td>\n",
              "      <td>3</td>\n",
              "      <td>1</td>\n",
              "      <td>1</td>\n",
              "      <td>76014</td>\n",
              "      <td>20.870</td>\n",
              "      <td>0.000</td>\n",
              "      <td>...</td>\n",
              "      <td>0</td>\n",
              "      <td>0</td>\n",
              "      <td>0</td>\n",
              "      <td>0</td>\n",
              "      <td>3</td>\n",
              "      <td>0</td>\n",
              "      <td>0</td>\n",
              "      <td>0</td>\n",
              "      <td>1</td>\n",
              "      <td>0</td>\n",
              "    </tr>\n",
              "  </tbody>\n",
              "</table>\n",
              "<p>2 rows × 36 columns</p>\n",
              "</div>"
            ],
            "text/plain": [
              "             PSY_USE_YN  SEX    AGE  ETHNICITY  REGION  ED  EMPL  INCOME  \\\n",
              "CASEID_7139                                                                \n",
              "533                   0    0 25.000          2       4   0     0   93374   \n",
              "5236                  0    1 41.000          2       3   1     1   76014   \n",
              "\n",
              "               BMI  C_DP  ...  RU_UCC_YN  RU_OUTPT_YN  RU_ER_YN  RU_HSP_YN  \\\n",
              "CASEID_7139               ...                                                \n",
              "533         27.460 0.000  ...          0            0         0          0   \n",
              "5236        20.870 0.000  ...          0            0         0          0   \n",
              "\n",
              "             PSY1_POSITIVE_USE  PSY2_GEN_HEALTH  PSY2_DIAG_CONDITION  \\\n",
              "CASEID_7139                                                            \n",
              "533                          3                0                    0   \n",
              "5236                         3                0                    0   \n",
              "\n",
              "             PSY2_UNDIAG_CONCERN  PSY2_NO_KNOWLEDGE  INSURANCE  \n",
              "CASEID_7139                                                     \n",
              "533                            0                  1          1  \n",
              "5236                           0                  1          0  \n",
              "\n",
              "[2 rows x 36 columns]"
            ]
          },
          "execution_count": 19,
          "metadata": {},
          "output_type": "execute_result"
        }
      ],
      "source": [
        "df[df.duplicated()]"
      ]
    },
    {
      "cell_type": "code",
      "execution_count": null,
      "metadata": {
        "colab": {
          "base_uri": "https://localhost:8080/"
        },
        "id": "yzcjtsP55-o4",
        "outputId": "28dfdbdd-9c6f-4e98-9084-8fd3c350bc4e"
      },
      "outputs": [
        {
          "data": {
            "text/plain": [
              "PSY_USE_YN                2\n",
              "SEX                       2\n",
              "AGE                      76\n",
              "ETHNICITY                 3\n",
              "REGION                    4\n",
              "ED                        2\n",
              "EMPL                      2\n",
              "INCOME                 4890\n",
              "BMI                    1551\n",
              "C_DP                      2\n",
              "C_ANX                     2\n",
              "C_PN                      2\n",
              "C_ALL                     2\n",
              "C_MI                      2\n",
              "C_INSOM                   2\n",
              "C_HYP                     2\n",
              "C_DH                      2\n",
              "C_SA                      2\n",
              "C_GERD                    2\n",
              "C_CS                      2\n",
              "C_LIP                     2\n",
              "CCI_SCORE                10\n",
              "PHQ9_SCORE               28\n",
              "RU_PCP_YN                 2\n",
              "RU_SPECIAL_YN             2\n",
              "RU_OTPCP_YN               2\n",
              "RU_UCC_YN                 2\n",
              "RU_OUTPT_YN               2\n",
              "RU_ER_YN                  2\n",
              "RU_HSP_YN                 2\n",
              "PSY1_POSITIVE_USE         5\n",
              "PSY2_GEN_HEALTH           2\n",
              "PSY2_DIAG_CONDITION       2\n",
              "PSY2_UNDIAG_CONCERN       2\n",
              "PSY2_NO_KNOWLEDGE         2\n",
              "INSURANCE                 2\n",
              "dtype: int64"
            ]
          },
          "execution_count": 20,
          "metadata": {},
          "output_type": "execute_result"
        }
      ],
      "source": [
        "df.nunique()"
      ]
    },
    {
      "cell_type": "code",
      "execution_count": null,
      "metadata": {
        "id": "jGofla5Aoj6m"
      },
      "outputs": [],
      "source": []
    },
    {
      "cell_type": "code",
      "execution_count": null,
      "metadata": {
        "colab": {
          "base_uri": "https://localhost:8080/",
          "height": 645
        },
        "id": "OKqcq64w5_ZW",
        "outputId": "2e08e45d-c823-4b07-af7a-b57e906b5bff"
      },
      "outputs": [
        {
          "data": {
            "text/plain": [
              "<Figure size 1080x1080 with 0 Axes>"
            ]
          },
          "metadata": {},
          "output_type": "display_data"
        },
        {
          "data": {
            "image/png": "[encoded data removed]",
            "text/plain": [
              "<Figure size 1080x1080 with 36 Axes>"
            ]
          },
          "metadata": {},
          "output_type": "display_data"
        }
      ],
      "source": [
        "sns.set(rc = {'figure.figsize':(15,15)})\n",
        "plt.tight_layout()\n",
        "df.hist();"
      ]
    },
    {
      "cell_type": "markdown",
      "metadata": {
        "id": "deRNKgnH6WV4"
      },
      "source": [
        "Most of the data seems to be shewed with left tails, may need to do transformations on the data such as standardization "
      ]
    },
    {
      "cell_type": "code",
      "execution_count": null,
      "metadata": {
        "colab": {
          "base_uri": "https://localhost:8080/",
          "height": 518
        },
        "id": "1nVyjgiX6Uxt",
        "outputId": "6bbf1311-b423-45a5-aa95-8a37a774e3c9"
      },
      "outputs": [
        {
          "data": {
            "image/png": "[encoded data removed]",
            "text/plain": [
              "<Figure size 720x576 with 1 Axes>"
            ]
          },
          "metadata": {},
          "output_type": "display_data"
        }
      ],
      "source": [
        "sns.set(rc = {'figure.figsize':(10,8)})\n",
        "sns.boxplot(y ='PHQ9_SCORE',data=df)\n",
        "plt.ylim(0, 50)\n",
        "plt.tight_layout()"
      ]
    },
    {
      "cell_type": "markdown",
      "metadata": {
        "id": "51ebULwp6-7B"
      },
      "source": [
        "seems there are no outliers for the dependent vaiable"
      ]
    },
    {
      "cell_type": "code",
      "execution_count": null,
      "metadata": {
        "colab": {
          "base_uri": "https://localhost:8080/"
        },
        "id": "2q3Ep_S78vgC",
        "outputId": "03ad9c23-34f5-44e1-b456-3c6747c8e07e"
      },
      "outputs": [
        {
          "data": {
            "text/plain": [
              "count   7,139.000\n",
              "mean        7.330\n",
              "std         6.994\n",
              "min         0.000\n",
              "25%         1.000\n",
              "50%         5.000\n",
              "75%        12.000\n",
              "max        27.000\n",
              "Name: PHQ9_SCORE, dtype: float64"
            ]
          },
          "execution_count": 23,
          "metadata": {},
          "output_type": "execute_result"
        }
      ],
      "source": [
        "df['PHQ9_SCORE'].describe()"
      ]
    },
    {
      "cell_type": "markdown",
      "metadata": {
        "id": "zKvPwM2Foj6p"
      },
      "source": [
        "**PHQ9_SCORE** has a range of 0-27, and several increasing depression categories and needs to be remapped "
      ]
    },
    {
      "cell_type": "code",
      "execution_count": null,
      "metadata": {
        "id": "0zsKYbjSoj6p"
      },
      "outputs": [],
      "source": [
        "# define function to use with apply and lambda to remap PHQ9_SCORE column\n",
        "\n",
        "def PHQ9_remap_1(x):\n",
        "    if (x >= 0) & (x <= 4):\n",
        "        x = 1\n",
        "    elif (x >= 5) & (x <= 9):\n",
        "        x = 2\n",
        "    elif (x >= 10) & (x <= 14):\n",
        "        x = 3\n",
        "    elif (x >= 15) & (x <= 19):\n",
        "        x = 4 \n",
        "    else:\n",
        "        x = 5\n",
        "\n",
        "    return x \n",
        "\n",
        "    \n",
        "    \n",
        "\n"
      ]
    },
    {
      "cell_type": "code",
      "execution_count": null,
      "metadata": {
        "id": "hiPP9id8oj6p"
      },
      "outputs": [],
      "source": [
        "df['PHQ9_SCORE'] = df.apply(lambda x: PHQ9_remap_1(x['PHQ9_SCORE']), axis=1)"
      ]
    },
    {
      "cell_type": "code",
      "execution_count": null,
      "metadata": {
        "colab": {
          "base_uri": "https://localhost:8080/"
        },
        "id": "p1RHUnQsoj6p",
        "outputId": "02007f95-b3ef-406a-eab3-4ae71c9a61f1"
      },
      "outputs": [
        {
          "data": {
            "text/plain": [
              "CASEID_7139\n",
              "1       2\n",
              "2       1\n",
              "3       4\n",
              "4       4\n",
              "5       4\n",
              "       ..\n",
              "7135    3\n",
              "7136    1\n",
              "7137    1\n",
              "7138    1\n",
              "7139    1\n",
              "Name: PHQ9_SCORE, Length: 7139, dtype: int64"
            ]
          },
          "execution_count": 26,
          "metadata": {},
          "output_type": "execute_result"
        }
      ],
      "source": [
        "df['PHQ9_SCORE']"
      ]
    },
    {
      "cell_type": "code",
      "execution_count": null,
      "metadata": {
        "colab": {
          "base_uri": "https://localhost:8080/"
        },
        "id": "t6ZVVl7GJo7R",
        "outputId": "07d46cf6-196e-411c-931f-e90dab1f71bb"
      },
      "outputs": [
        {
          "data": {
            "text/plain": [
              "1    3286\n",
              "2    1490\n",
              "3    1097\n",
              "4     774\n",
              "5     492\n",
              "Name: PHQ9_SCORE, dtype: int64"
            ]
          },
          "execution_count": 27,
          "metadata": {},
          "output_type": "execute_result"
        }
      ],
      "source": [
        "df['PHQ9_SCORE'].value_counts()"
      ]
    },
    {
      "cell_type": "markdown",
      "metadata": {
        "id": "vWOKp_HPg-oN"
      },
      "source": [
        "We can see that the PHQ9 score is unbalanced, but thinking about this from a health prespective, those that are > category 1(minimal depression) don't need any type of help or action, so we will remap this into 0 needing no action and 1 needing action."
      ]
    },
    {
      "cell_type": "code",
      "execution_count": null,
      "metadata": {
        "id": "F173ILz5lPMx"
      },
      "outputs": [],
      "source": [
        "def PHQ9_remap_2 (x):\n",
        "  if x == 1:\n",
        "    x = 0\n",
        "  else: \n",
        "    x = 1\n",
        "  return x "
      ]
    },
    {
      "cell_type": "code",
      "execution_count": null,
      "metadata": {
        "id": "cdiEptljlqwq"
      },
      "outputs": [],
      "source": [
        "df['PHQ9_SCORE'] = df.apply(lambda x: PHQ9_remap_2(x['PHQ9_SCORE']), axis=1)"
      ]
    },
    {
      "cell_type": "code",
      "execution_count": null,
      "metadata": {
        "colab": {
          "base_uri": "https://localhost:8080/"
        },
        "id": "Uqy1M06-H1dF",
        "outputId": "523e04c2-ccac-4c77-a686-8705401072f7"
      },
      "outputs": [
        {
          "name": "stdout",
          "output_type": "stream",
          "text": [
            "<class 'pandas.core.frame.DataFrame'>\n",
            "Int64Index: 7139 entries, 1 to 7139\n",
            "Data columns (total 36 columns):\n",
            " #   Column               Non-Null Count  Dtype  \n",
            "---  ------               --------------  -----  \n",
            " 0   PSY_USE_YN           7139 non-null   int64  \n",
            " 1   SEX                  7139 non-null   int64  \n",
            " 2   AGE                  7139 non-null   float64\n",
            " 3   ETHNICITY            7139 non-null   int64  \n",
            " 4   REGION               7139 non-null   int64  \n",
            " 5   ED                   7139 non-null   int64  \n",
            " 6   EMPL                 7139 non-null   int64  \n",
            " 7   INCOME               7139 non-null   int64  \n",
            " 8   BMI                  7139 non-null   float64\n",
            " 9   C_DP                 7139 non-null   float64\n",
            " 10  C_ANX                7139 non-null   float64\n",
            " 11  C_PN                 7139 non-null   float64\n",
            " 12  C_ALL                7139 non-null   float64\n",
            " 13  C_MI                 7139 non-null   float64\n",
            " 14  C_INSOM              7139 non-null   float64\n",
            " 15  C_HYP                7139 non-null   float64\n",
            " 16  C_DH                 7139 non-null   float64\n",
            " 17  C_SA                 7139 non-null   float64\n",
            " 18  C_GERD               7139 non-null   float64\n",
            " 19  C_CS                 7139 non-null   float64\n",
            " 20  C_LIP                7139 non-null   float64\n",
            " 21  CCI_SCORE            7139 non-null   float64\n",
            " 22  PHQ9_SCORE           7139 non-null   int64  \n",
            " 23  RU_PCP_YN            7139 non-null   int64  \n",
            " 24  RU_SPECIAL_YN        7139 non-null   int64  \n",
            " 25  RU_OTPCP_YN          7139 non-null   int64  \n",
            " 26  RU_UCC_YN            7139 non-null   int64  \n",
            " 27  RU_OUTPT_YN          7139 non-null   int64  \n",
            " 28  RU_ER_YN             7139 non-null   int64  \n",
            " 29  RU_HSP_YN            7139 non-null   int64  \n",
            " 30  PSY1_POSITIVE_USE    7139 non-null   int64  \n",
            " 31  PSY2_GEN_HEALTH      7139 non-null   int64  \n",
            " 32  PSY2_DIAG_CONDITION  7139 non-null   int64  \n",
            " 33  PSY2_UNDIAG_CONCERN  7139 non-null   int64  \n",
            " 34  PSY2_NO_KNOWLEDGE    7139 non-null   int64  \n",
            " 35  INSURANCE            7139 non-null   int64  \n",
            "dtypes: float64(15), int64(21)\n",
            "memory usage: 2.3 MB\n"
          ]
        }
      ],
      "source": [
        "df.info()"
      ]
    },
    {
      "cell_type": "code",
      "execution_count": null,
      "metadata": {
        "colab": {
          "base_uri": "https://localhost:8080/"
        },
        "id": "vNLTQx_EmIYg",
        "outputId": "08790b7a-d5f4-4392-a516-e5d85fb6d1c3"
      },
      "outputs": [
        {
          "data": {
            "text/plain": [
              "CASEID_7139\n",
              "5911    0\n",
              "2209    0\n",
              "6424    0\n",
              "2926    0\n",
              "6815    1\n",
              "1736    1\n",
              "2957    1\n",
              "2373    0\n",
              "3430    0\n",
              "5237    1\n",
              "Name: PHQ9_SCORE, dtype: int64"
            ]
          },
          "execution_count": 31,
          "metadata": {},
          "output_type": "execute_result"
        }
      ],
      "source": [
        "df['PHQ9_SCORE'].sample(10)"
      ]
    },
    {
      "cell_type": "code",
      "execution_count": null,
      "metadata": {
        "colab": {
          "base_uri": "https://localhost:8080/"
        },
        "id": "zYM8pSJqyPzr",
        "outputId": "93fa6133-2996-4e6e-bba5-0fc70dadbbd9"
      },
      "outputs": [
        {
          "data": {
            "text/plain": [
              "1    3853\n",
              "0    3286\n",
              "Name: PHQ9_SCORE, dtype: int64"
            ]
          },
          "execution_count": 32,
          "metadata": {},
          "output_type": "execute_result"
        }
      ],
      "source": [
        "df['PHQ9_SCORE'].value_counts()"
      ]
    },
    {
      "cell_type": "code",
      "execution_count": null,
      "metadata": {
        "colab": {
          "base_uri": "https://localhost:8080/"
        },
        "id": "69KC4mvyydNe",
        "outputId": "16dd8dfe-8a33-49cc-c37e-1cbde2a396a4"
      },
      "outputs": [
        {
          "data": {
            "text/plain": [
              "0    6613\n",
              "1     526\n",
              "Name: PSY_USE_YN, dtype: int64"
            ]
          },
          "execution_count": 33,
          "metadata": {},
          "output_type": "execute_result"
        }
      ],
      "source": [
        "df['PSY_USE_YN'].value_counts()"
      ]
    },
    {
      "cell_type": "markdown",
      "metadata": {
        "id": "ab4-0LHNy2Sm"
      },
      "source": [
        "looks like the 'PSY_USE_YN' column is unbalanced "
      ]
    },
    {
      "cell_type": "markdown",
      "metadata": {
        "id": "95G5_kY1g-ju"
      },
      "source": []
    },
    {
      "cell_type": "code",
      "execution_count": null,
      "metadata": {
        "colab": {
          "base_uri": "https://localhost:8080/",
          "height": 331
        },
        "id": "-TLp8_Bmoj6q",
        "outputId": "59a0daa3-9ce8-4bd6-e383-b3e3b6e2eba8"
      },
      "outputs": [
        {
          "data": {
            "text/html": [
              "<div>\n",
              "<style scoped>\n",
              "    .dataframe tbody tr th:only-of-type {\n",
              "        vertical-align: middle;\n",
              "    }\n",
              "\n",
              "    .dataframe tbody tr th {\n",
              "        vertical-align: top;\n",
              "    }\n",
              "\n",
              "    .dataframe thead th {\n",
              "        text-align: right;\n",
              "    }\n",
              "</style>\n",
              "<table border=\"1\" class=\"dataframe\">\n",
              "  <thead>\n",
              "    <tr style=\"text-align: right;\">\n",
              "      <th></th>\n",
              "      <th>PSY_USE_YN</th>\n",
              "      <th>SEX</th>\n",
              "      <th>AGE</th>\n",
              "      <th>ETHNICITY</th>\n",
              "      <th>REGION</th>\n",
              "      <th>ED</th>\n",
              "      <th>EMPL</th>\n",
              "      <th>INCOME</th>\n",
              "      <th>BMI</th>\n",
              "      <th>C_DP</th>\n",
              "      <th>...</th>\n",
              "      <th>RU_UCC_YN</th>\n",
              "      <th>RU_OUTPT_YN</th>\n",
              "      <th>RU_ER_YN</th>\n",
              "      <th>RU_HSP_YN</th>\n",
              "      <th>PSY1_POSITIVE_USE</th>\n",
              "      <th>PSY2_GEN_HEALTH</th>\n",
              "      <th>PSY2_DIAG_CONDITION</th>\n",
              "      <th>PSY2_UNDIAG_CONCERN</th>\n",
              "      <th>PSY2_NO_KNOWLEDGE</th>\n",
              "      <th>INSURANCE</th>\n",
              "    </tr>\n",
              "    <tr>\n",
              "      <th>CASEID_7139</th>\n",
              "      <th></th>\n",
              "      <th></th>\n",
              "      <th></th>\n",
              "      <th></th>\n",
              "      <th></th>\n",
              "      <th></th>\n",
              "      <th></th>\n",
              "      <th></th>\n",
              "      <th></th>\n",
              "      <th></th>\n",
              "      <th></th>\n",
              "      <th></th>\n",
              "      <th></th>\n",
              "      <th></th>\n",
              "      <th></th>\n",
              "      <th></th>\n",
              "      <th></th>\n",
              "      <th></th>\n",
              "      <th></th>\n",
              "      <th></th>\n",
              "      <th></th>\n",
              "    </tr>\n",
              "  </thead>\n",
              "  <tbody>\n",
              "    <tr>\n",
              "      <th>1</th>\n",
              "      <td>1</td>\n",
              "      <td>0</td>\n",
              "      <td>19.000</td>\n",
              "      <td>3</td>\n",
              "      <td>4</td>\n",
              "      <td>0</td>\n",
              "      <td>0</td>\n",
              "      <td>65847</td>\n",
              "      <td>27.410</td>\n",
              "      <td>0.000</td>\n",
              "      <td>...</td>\n",
              "      <td>0</td>\n",
              "      <td>0</td>\n",
              "      <td>0</td>\n",
              "      <td>0</td>\n",
              "      <td>3</td>\n",
              "      <td>1</td>\n",
              "      <td>0</td>\n",
              "      <td>0</td>\n",
              "      <td>0</td>\n",
              "      <td>0</td>\n",
              "    </tr>\n",
              "    <tr>\n",
              "      <th>2</th>\n",
              "      <td>1</td>\n",
              "      <td>0</td>\n",
              "      <td>21.000</td>\n",
              "      <td>2</td>\n",
              "      <td>2</td>\n",
              "      <td>1</td>\n",
              "      <td>0</td>\n",
              "      <td>30585</td>\n",
              "      <td>29.260</td>\n",
              "      <td>0.000</td>\n",
              "      <td>...</td>\n",
              "      <td>0</td>\n",
              "      <td>0</td>\n",
              "      <td>1</td>\n",
              "      <td>0</td>\n",
              "      <td>1</td>\n",
              "      <td>0</td>\n",
              "      <td>0</td>\n",
              "      <td>1</td>\n",
              "      <td>0</td>\n",
              "      <td>1</td>\n",
              "    </tr>\n",
              "    <tr>\n",
              "      <th>3</th>\n",
              "      <td>1</td>\n",
              "      <td>0</td>\n",
              "      <td>22.000</td>\n",
              "      <td>2</td>\n",
              "      <td>4</td>\n",
              "      <td>0</td>\n",
              "      <td>0</td>\n",
              "      <td>49259</td>\n",
              "      <td>20.600</td>\n",
              "      <td>1.000</td>\n",
              "      <td>...</td>\n",
              "      <td>1</td>\n",
              "      <td>0</td>\n",
              "      <td>1</td>\n",
              "      <td>0</td>\n",
              "      <td>3</td>\n",
              "      <td>1</td>\n",
              "      <td>1</td>\n",
              "      <td>1</td>\n",
              "      <td>0</td>\n",
              "      <td>0</td>\n",
              "    </tr>\n",
              "    <tr>\n",
              "      <th>4</th>\n",
              "      <td>1</td>\n",
              "      <td>0</td>\n",
              "      <td>22.000</td>\n",
              "      <td>2</td>\n",
              "      <td>3</td>\n",
              "      <td>1</td>\n",
              "      <td>0</td>\n",
              "      <td>54135</td>\n",
              "      <td>18.560</td>\n",
              "      <td>1.000</td>\n",
              "      <td>...</td>\n",
              "      <td>0</td>\n",
              "      <td>0</td>\n",
              "      <td>0</td>\n",
              "      <td>0</td>\n",
              "      <td>2</td>\n",
              "      <td>1</td>\n",
              "      <td>1</td>\n",
              "      <td>0</td>\n",
              "      <td>0</td>\n",
              "      <td>1</td>\n",
              "    </tr>\n",
              "    <tr>\n",
              "      <th>5</th>\n",
              "      <td>1</td>\n",
              "      <td>0</td>\n",
              "      <td>23.000</td>\n",
              "      <td>2</td>\n",
              "      <td>2</td>\n",
              "      <td>0</td>\n",
              "      <td>1</td>\n",
              "      <td>49425</td>\n",
              "      <td>36.800</td>\n",
              "      <td>1.000</td>\n",
              "      <td>...</td>\n",
              "      <td>0</td>\n",
              "      <td>0</td>\n",
              "      <td>1</td>\n",
              "      <td>0</td>\n",
              "      <td>2</td>\n",
              "      <td>1</td>\n",
              "      <td>1</td>\n",
              "      <td>1</td>\n",
              "      <td>0</td>\n",
              "      <td>1</td>\n",
              "    </tr>\n",
              "  </tbody>\n",
              "</table>\n",
              "<p>5 rows × 36 columns</p>\n",
              "</div>"
            ],
            "text/plain": [
              "             PSY_USE_YN  SEX    AGE  ETHNICITY  REGION  ED  EMPL  INCOME  \\\n",
              "CASEID_7139                                                                \n",
              "1                     1    0 19.000          3       4   0     0   65847   \n",
              "2                     1    0 21.000          2       2   1     0   30585   \n",
              "3                     1    0 22.000          2       4   0     0   49259   \n",
              "4                     1    0 22.000          2       3   1     0   54135   \n",
              "5                     1    0 23.000          2       2   0     1   49425   \n",
              "\n",
              "               BMI  C_DP  ...  RU_UCC_YN  RU_OUTPT_YN  RU_ER_YN  RU_HSP_YN  \\\n",
              "CASEID_7139               ...                                                \n",
              "1           27.410 0.000  ...          0            0         0          0   \n",
              "2           29.260 0.000  ...          0            0         1          0   \n",
              "3           20.600 1.000  ...          1            0         1          0   \n",
              "4           18.560 1.000  ...          0            0         0          0   \n",
              "5           36.800 1.000  ...          0            0         1          0   \n",
              "\n",
              "             PSY1_POSITIVE_USE  PSY2_GEN_HEALTH  PSY2_DIAG_CONDITION  \\\n",
              "CASEID_7139                                                            \n",
              "1                            3                1                    0   \n",
              "2                            1                0                    0   \n",
              "3                            3                1                    1   \n",
              "4                            2                1                    1   \n",
              "5                            2                1                    1   \n",
              "\n",
              "             PSY2_UNDIAG_CONCERN  PSY2_NO_KNOWLEDGE  INSURANCE  \n",
              "CASEID_7139                                                     \n",
              "1                              0                  0          0  \n",
              "2                              1                  0          1  \n",
              "3                              1                  0          0  \n",
              "4                              0                  0          1  \n",
              "5                              1                  0          1  \n",
              "\n",
              "[5 rows x 36 columns]"
            ]
          },
          "execution_count": 34,
          "metadata": {},
          "output_type": "execute_result"
        }
      ],
      "source": [
        "df.head()"
      ]
    },
    {
      "cell_type": "markdown",
      "metadata": {
        "id": "bB2xI3eboj6q"
      },
      "source": [
        "the dataframe is properly cleaned and encoded now, now we need to split the data into train/test sets and scale the continous data features"
      ]
    },
    {
      "cell_type": "code",
      "execution_count": null,
      "metadata": {
        "id": "dUVR5-Nloj6q"
      },
      "outputs": [],
      "source": [
        "df_clean = df "
      ]
    },
    {
      "cell_type": "code",
      "execution_count": null,
      "metadata": {
        "colab": {
          "base_uri": "https://localhost:8080/",
          "height": 331
        },
        "id": "Yxn5388Uoj6q",
        "outputId": "5c71a40a-6fa2-4850-f5a1-2641bc9631d5"
      },
      "outputs": [
        {
          "data": {
            "text/html": [
              "<div>\n",
              "<style scoped>\n",
              "    .dataframe tbody tr th:only-of-type {\n",
              "        vertical-align: middle;\n",
              "    }\n",
              "\n",
              "    .dataframe tbody tr th {\n",
              "        vertical-align: top;\n",
              "    }\n",
              "\n",
              "    .dataframe thead th {\n",
              "        text-align: right;\n",
              "    }\n",
              "</style>\n",
              "<table border=\"1\" class=\"dataframe\">\n",
              "  <thead>\n",
              "    <tr style=\"text-align: right;\">\n",
              "      <th></th>\n",
              "      <th>PSY_USE_YN</th>\n",
              "      <th>SEX</th>\n",
              "      <th>AGE</th>\n",
              "      <th>ETHNICITY</th>\n",
              "      <th>REGION</th>\n",
              "      <th>ED</th>\n",
              "      <th>EMPL</th>\n",
              "      <th>INCOME</th>\n",
              "      <th>BMI</th>\n",
              "      <th>C_DP</th>\n",
              "      <th>...</th>\n",
              "      <th>RU_UCC_YN</th>\n",
              "      <th>RU_OUTPT_YN</th>\n",
              "      <th>RU_ER_YN</th>\n",
              "      <th>RU_HSP_YN</th>\n",
              "      <th>PSY1_POSITIVE_USE</th>\n",
              "      <th>PSY2_GEN_HEALTH</th>\n",
              "      <th>PSY2_DIAG_CONDITION</th>\n",
              "      <th>PSY2_UNDIAG_CONCERN</th>\n",
              "      <th>PSY2_NO_KNOWLEDGE</th>\n",
              "      <th>INSURANCE</th>\n",
              "    </tr>\n",
              "    <tr>\n",
              "      <th>CASEID_7139</th>\n",
              "      <th></th>\n",
              "      <th></th>\n",
              "      <th></th>\n",
              "      <th></th>\n",
              "      <th></th>\n",
              "      <th></th>\n",
              "      <th></th>\n",
              "      <th></th>\n",
              "      <th></th>\n",
              "      <th></th>\n",
              "      <th></th>\n",
              "      <th></th>\n",
              "      <th></th>\n",
              "      <th></th>\n",
              "      <th></th>\n",
              "      <th></th>\n",
              "      <th></th>\n",
              "      <th></th>\n",
              "      <th></th>\n",
              "      <th></th>\n",
              "      <th></th>\n",
              "    </tr>\n",
              "  </thead>\n",
              "  <tbody>\n",
              "    <tr>\n",
              "      <th>1865</th>\n",
              "      <td>0</td>\n",
              "      <td>0</td>\n",
              "      <td>44.000</td>\n",
              "      <td>2</td>\n",
              "      <td>2</td>\n",
              "      <td>1</td>\n",
              "      <td>0</td>\n",
              "      <td>36791</td>\n",
              "      <td>25.820</td>\n",
              "      <td>1.000</td>\n",
              "      <td>...</td>\n",
              "      <td>0</td>\n",
              "      <td>0</td>\n",
              "      <td>0</td>\n",
              "      <td>0</td>\n",
              "      <td>3</td>\n",
              "      <td>0</td>\n",
              "      <td>0</td>\n",
              "      <td>0</td>\n",
              "      <td>1</td>\n",
              "      <td>0</td>\n",
              "    </tr>\n",
              "    <tr>\n",
              "      <th>5542</th>\n",
              "      <td>0</td>\n",
              "      <td>1</td>\n",
              "      <td>48.000</td>\n",
              "      <td>1</td>\n",
              "      <td>2</td>\n",
              "      <td>0</td>\n",
              "      <td>0</td>\n",
              "      <td>62815</td>\n",
              "      <td>32.890</td>\n",
              "      <td>1.000</td>\n",
              "      <td>...</td>\n",
              "      <td>0</td>\n",
              "      <td>0</td>\n",
              "      <td>0</td>\n",
              "      <td>0</td>\n",
              "      <td>3</td>\n",
              "      <td>0</td>\n",
              "      <td>0</td>\n",
              "      <td>0</td>\n",
              "      <td>1</td>\n",
              "      <td>1</td>\n",
              "    </tr>\n",
              "    <tr>\n",
              "      <th>5059</th>\n",
              "      <td>0</td>\n",
              "      <td>1</td>\n",
              "      <td>40.000</td>\n",
              "      <td>2</td>\n",
              "      <td>1</td>\n",
              "      <td>1</td>\n",
              "      <td>0</td>\n",
              "      <td>103792</td>\n",
              "      <td>22.960</td>\n",
              "      <td>0.000</td>\n",
              "      <td>...</td>\n",
              "      <td>0</td>\n",
              "      <td>0</td>\n",
              "      <td>0</td>\n",
              "      <td>0</td>\n",
              "      <td>3</td>\n",
              "      <td>0</td>\n",
              "      <td>0</td>\n",
              "      <td>0</td>\n",
              "      <td>1</td>\n",
              "      <td>1</td>\n",
              "    </tr>\n",
              "    <tr>\n",
              "      <th>6861</th>\n",
              "      <td>1</td>\n",
              "      <td>0</td>\n",
              "      <td>56.000</td>\n",
              "      <td>3</td>\n",
              "      <td>2</td>\n",
              "      <td>1</td>\n",
              "      <td>0</td>\n",
              "      <td>26958</td>\n",
              "      <td>26.360</td>\n",
              "      <td>1.000</td>\n",
              "      <td>...</td>\n",
              "      <td>0</td>\n",
              "      <td>0</td>\n",
              "      <td>0</td>\n",
              "      <td>0</td>\n",
              "      <td>2</td>\n",
              "      <td>1</td>\n",
              "      <td>0</td>\n",
              "      <td>0</td>\n",
              "      <td>0</td>\n",
              "      <td>1</td>\n",
              "    </tr>\n",
              "    <tr>\n",
              "      <th>2716</th>\n",
              "      <td>0</td>\n",
              "      <td>0</td>\n",
              "      <td>59.000</td>\n",
              "      <td>2</td>\n",
              "      <td>2</td>\n",
              "      <td>1</td>\n",
              "      <td>1</td>\n",
              "      <td>56750</td>\n",
              "      <td>29.550</td>\n",
              "      <td>1.000</td>\n",
              "      <td>...</td>\n",
              "      <td>0</td>\n",
              "      <td>0</td>\n",
              "      <td>0</td>\n",
              "      <td>0</td>\n",
              "      <td>4</td>\n",
              "      <td>0</td>\n",
              "      <td>0</td>\n",
              "      <td>0</td>\n",
              "      <td>1</td>\n",
              "      <td>0</td>\n",
              "    </tr>\n",
              "  </tbody>\n",
              "</table>\n",
              "<p>5 rows × 36 columns</p>\n",
              "</div>"
            ],
            "text/plain": [
              "             PSY_USE_YN  SEX    AGE  ETHNICITY  REGION  ED  EMPL  INCOME  \\\n",
              "CASEID_7139                                                                \n",
              "1865                  0    0 44.000          2       2   1     0   36791   \n",
              "5542                  0    1 48.000          1       2   0     0   62815   \n",
              "5059                  0    1 40.000          2       1   1     0  103792   \n",
              "6861                  1    0 56.000          3       2   1     0   26958   \n",
              "2716                  0    0 59.000          2       2   1     1   56750   \n",
              "\n",
              "               BMI  C_DP  ...  RU_UCC_YN  RU_OUTPT_YN  RU_ER_YN  RU_HSP_YN  \\\n",
              "CASEID_7139               ...                                                \n",
              "1865        25.820 1.000  ...          0            0         0          0   \n",
              "5542        32.890 1.000  ...          0            0         0          0   \n",
              "5059        22.960 0.000  ...          0            0         0          0   \n",
              "6861        26.360 1.000  ...          0            0         0          0   \n",
              "2716        29.550 1.000  ...          0            0         0          0   \n",
              "\n",
              "             PSY1_POSITIVE_USE  PSY2_GEN_HEALTH  PSY2_DIAG_CONDITION  \\\n",
              "CASEID_7139                                                            \n",
              "1865                         3                0                    0   \n",
              "5542                         3                0                    0   \n",
              "5059                         3                0                    0   \n",
              "6861                         2                1                    0   \n",
              "2716                         4                0                    0   \n",
              "\n",
              "             PSY2_UNDIAG_CONCERN  PSY2_NO_KNOWLEDGE  INSURANCE  \n",
              "CASEID_7139                                                     \n",
              "1865                           0                  1          0  \n",
              "5542                           0                  1          1  \n",
              "5059                           0                  1          1  \n",
              "6861                           0                  0          1  \n",
              "2716                           0                  1          0  \n",
              "\n",
              "[5 rows x 36 columns]"
            ]
          },
          "execution_count": 36,
          "metadata": {},
          "output_type": "execute_result"
        }
      ],
      "source": [
        "df_clean.sample(5)"
      ]
    },
    {
      "cell_type": "code",
      "execution_count": null,
      "metadata": {
        "colab": {
          "base_uri": "https://localhost:8080/",
          "height": 588
        },
        "id": "3ooH3uZ6Irzm",
        "outputId": "fee46deb-3813-4b68-9540-eaf7f6bb4b2b"
      },
      "outputs": [
        {
          "data": {
            "text/plain": [
              "<AxesSubplot:>"
            ]
          },
          "execution_count": 37,
          "metadata": {},
          "output_type": "execute_result"
        },
        {
          "data": {
            "image/png": "[encoded data removed]",
            "text/plain": [
              "<Figure size 720x576 with 2 Axes>"
            ]
          },
          "metadata": {},
          "output_type": "display_data"
        }
      ],
      "source": [
        "sns.heatmap(df_clean.corr(), square= True,linewidths=.2)"
      ]
    },
    {
      "cell_type": "markdown",
      "metadata": {
        "id": "40zlrvKNUfoK"
      },
      "source": [
        "#Modeling"
      ]
    },
    {
      "cell_type": "markdown",
      "metadata": {
        "id": "Lxf0yC4D0W1G"
      },
      "source": [
        "### Split data "
      ]
    },
    {
      "cell_type": "code",
      "execution_count": null,
      "metadata": {
        "id": "3faZMZlgoj6r"
      },
      "outputs": [],
      "source": [
        "X, y = df_clean.loc[:, 'PSY_USE_YN': 'INSURANCE'].drop('PHQ9_SCORE', axis=1).values, df_clean.loc[:, 'PHQ9_SCORE'].values"
      ]
    },
    {
      "cell_type": "code",
      "execution_count": null,
      "metadata": {
        "id": "bjlIVpHOoj6r"
      },
      "outputs": [],
      "source": [
        "X_train, X_test, y_train, y_test = train_test_split(X, y,test_size =0.3, random_state = 0, \\\n",
        "                                                   stratify = y)"
      ]
    },
    {
      "cell_type": "markdown",
      "metadata": {
        "id": "bg8yd5NX0esY"
      },
      "source": [
        "### Linear SVC Model"
      ]
    },
    {
      "cell_type": "code",
      "execution_count": null,
      "metadata": {
        "id": "HqoxjL7MijdY"
      },
      "outputs": [],
      "source": [
        "# make pipeline\n",
        "pipe_lr = make_pipeline(StandardScaler(), \n",
        "                        LinearSVC(max_iter = 5000,random_state =1))"
      ]
    },
    {
      "cell_type": "code",
      "execution_count": null,
      "metadata": {
        "colab": {
          "base_uri": "https://localhost:8080/"
        },
        "id": "asEvoMPUjq4n",
        "outputId": "c02b80ab-951b-4f4d-b887-3e40ef40818d"
      },
      "outputs": [
        {
          "name": "stdout",
          "output_type": "stream",
          "text": [
            "Test recall: 0.7491349480968859\n",
            "MCC: 0.5183856381491374\n"
          ]
        }
      ],
      "source": [
        "pipe_lr.fit(X_train, y_train)\n",
        "y_pred = pipe_lr.predict(X_test)\n",
        "test_recall = recall_score(y_test, y_pred)\n",
        "mcc_lr = matthews_corrcoef(y_test, y_pred)\n",
        "print(f'Test recall: {test_recall}')\n",
        "print(f'MCC: {mcc_lr}')"
      ]
    },
    {
      "cell_type": "code",
      "execution_count": null,
      "metadata": {
        "colab": {
          "base_uri": "https://localhost:8080/"
        },
        "id": "287CmsNvJfVC",
        "outputId": "20b8a755-f33c-4549-9494-8bff006ef4b8"
      },
      "outputs": [
        {
          "name": "stdout",
          "output_type": "stream",
          "text": [
            "[[760 226]\n",
            " [290 866]]\n"
          ]
        }
      ],
      "source": [
        "from sklearn.metrics import confusion_matrix\n",
        "confmat = confusion_matrix(y_test, y_pred)\n",
        "print(confmat)"
      ]
    },
    {
      "cell_type": "code",
      "execution_count": null,
      "metadata": {
        "colab": {
          "base_uri": "https://localhost:8080/",
          "height": 220
        },
        "id": "KjpU1lgtJqCf",
        "outputId": "8b7c0be2-fa8a-44f5-c7e7-452f36ac95e7"
      },
      "outputs": [
        {
          "data": {
            "text/plain": [
              "Text(0, 0.5, 'True label')"
            ]
          },
          "execution_count": 43,
          "metadata": {},
          "output_type": "execute_result"
        },
        {
          "data": {
            "image/png": "[encoded data removed]",
            "text/plain": [
              "<Figure size 180x180 with 1 Axes>"
            ]
          },
          "metadata": {},
          "output_type": "display_data"
        }
      ],
      "source": [
        "fig, ax = plt.subplots(figsize=(2.5, 2.5))\n",
        "ax.matshow(confmat, cmap=plt.cm.Blues, alpha=0.2)\n",
        "for i in range(confmat.shape[0]):\n",
        "  for j in range(confmat.shape[1]):\n",
        "    ax.text(x=j, y=i, s=confmat[i, j],va='center', ha='center')\n",
        "ax.xaxis.set_ticks_position('bottom')\n",
        "plt.xlabel('Predicted label')\n",
        "plt.ylabel('True label')\n"
      ]
    },
    {
      "cell_type": "markdown",
      "metadata": {
        "id": "F5CYE_6-U5uj"
      },
      "source": [
        " tune models, try Xboost, once you find the best model, use emsemble methods, create slide deck, then report"
      ]
    },
    {
      "cell_type": "markdown",
      "metadata": {
        "id": "Ad_jxPbf0oV6"
      },
      "source": [
        "### SVC Kernel Model"
      ]
    },
    {
      "cell_type": "code",
      "execution_count": null,
      "metadata": {
        "id": "eu5CAQ0V2xB8"
      },
      "outputs": [],
      "source": [
        "pipe_svc = make_pipeline(StandardScaler(), SVC(max_iter = -1, random_state=0))"
      ]
    },
    {
      "cell_type": "markdown",
      "metadata": {
        "id": "Gkna6X6kEXE6"
      },
      "source": [
        "For this problem we care more about recall as a performance, which minimises false negatives as oposed to precision which minimised false positives and MCC"
      ]
    },
    {
      "cell_type": "code",
      "execution_count": null,
      "metadata": {
        "colab": {
          "base_uri": "https://localhost:8080/"
        },
        "id": "LAWD05oH33aD",
        "outputId": "bff02bee-52dd-4344-fa8b-81ddf910401f"
      },
      "outputs": [
        {
          "name": "stdout",
          "output_type": "stream",
          "text": [
            "Test recall: 0.7707612456747405\n",
            "MCC: 0.5157035181660333\n"
          ]
        }
      ],
      "source": [
        "pipe_svc.fit(X_train, y_train)\n",
        "y_pred = pipe_svc.predict(X_test)\n",
        "test_recall = recall_score(y_test, y_pred)\n",
        "mcc_lr = matthews_corrcoef(y_test, y_pred)\n",
        "\n",
        "\n",
        "print(f'Test recall: {test_recall}')\n",
        "print(f'MCC: {mcc_lr}')"
      ]
    },
    {
      "cell_type": "code",
      "execution_count": null,
      "metadata": {
        "colab": {
          "base_uri": "https://localhost:8080/"
        },
        "id": "q-XTR7L5L6wC",
        "outputId": "0b5b9bd0-ac0e-453a-8395-70d25846c7e2"
      },
      "outputs": [
        {
          "name": "stdout",
          "output_type": "stream",
          "text": [
            "[[735 251]\n",
            " [265 891]]\n"
          ]
        }
      ],
      "source": [
        "confmat = confusion_matrix(y_test, y_pred)\n",
        "print(confmat)"
      ]
    },
    {
      "cell_type": "code",
      "execution_count": null,
      "metadata": {
        "colab": {
          "base_uri": "https://localhost:8080/",
          "height": 220
        },
        "id": "tV7jWeKmLbqi",
        "outputId": "073786ef-218e-47bc-8313-ab7974c98a4d"
      },
      "outputs": [
        {
          "data": {
            "text/plain": [
              "Text(0, 0.5, 'True label')"
            ]
          },
          "execution_count": 47,
          "metadata": {},
          "output_type": "execute_result"
        },
        {
          "data": {
            "image/png": "[encoded data removed]",
            "text/plain": [
              "<Figure size 180x180 with 1 Axes>"
            ]
          },
          "metadata": {},
          "output_type": "display_data"
        }
      ],
      "source": [
        "fig, ax = plt.subplots(figsize=(2.5, 2.5))\n",
        "ax.matshow(confmat, cmap=plt.cm.Blues, alpha=0.2)\n",
        "for i in range(confmat.shape[0]):\n",
        "  for j in range(confmat.shape[1]):\n",
        "    ax.text(x=j, y=i, s=confmat[i, j],va='center', ha='center')\n",
        "ax.xaxis.set_ticks_position('bottom')\n",
        "plt.xlabel('Predicted label')\n",
        "plt.ylabel('True label')"
      ]
    },
    {
      "cell_type": "markdown",
      "metadata": {
        "id": "ML-m6o5qOUaa"
      },
      "source": [
        "### Tune Models via RandomizedSearch"
      ]
    },
    {
      "cell_type": "code",
      "execution_count": null,
      "metadata": {
        "id": "7MnDFXekgKO7"
      },
      "outputs": [],
      "source": [
        "pipe_svc = make_pipeline(StandardScaler(), SVC(cache_size= 1000, random_state=0, max_iter= -1))"
      ]
    },
    {
      "cell_type": "code",
      "execution_count": null,
      "metadata": {
        "colab": {
          "base_uri": "https://localhost:8080/"
        },
        "id": "AfMGckolOFel",
        "outputId": "ffe6ecc1-59ca-40cd-a950-2ca5ca8f748f"
      },
      "outputs": [
        {
          "data": {
            "text/plain": [
              "{'memory': None,\n",
              " 'steps': [('standardscaler', StandardScaler()),\n",
              "  ('svc', SVC(cache_size=1000, random_state=0))],\n",
              " 'verbose': False,\n",
              " 'standardscaler': StandardScaler(),\n",
              " 'svc': SVC(cache_size=1000, random_state=0),\n",
              " 'standardscaler__copy': True,\n",
              " 'standardscaler__with_mean': True,\n",
              " 'standardscaler__with_std': True,\n",
              " 'svc__C': 1.0,\n",
              " 'svc__break_ties': False,\n",
              " 'svc__cache_size': 1000,\n",
              " 'svc__class_weight': None,\n",
              " 'svc__coef0': 0.0,\n",
              " 'svc__decision_function_shape': 'ovr',\n",
              " 'svc__degree': 3,\n",
              " 'svc__gamma': 'scale',\n",
              " 'svc__kernel': 'rbf',\n",
              " 'svc__max_iter': -1,\n",
              " 'svc__probability': False,\n",
              " 'svc__random_state': 0,\n",
              " 'svc__shrinking': True,\n",
              " 'svc__tol': 0.001,\n",
              " 'svc__verbose': False}"
            ]
          },
          "execution_count": 49,
          "metadata": {},
          "output_type": "execute_result"
        }
      ],
      "source": [
        "pipe_svc.get_params()"
      ]
    },
    {
      "cell_type": "code",
      "execution_count": null,
      "metadata": {
        "id": "5NQm8mmHf2Gy"
      },
      "outputs": [],
      "source": [
        "#scoring = {'Recall': 'recall', \"MCC\": make_scorer(matthews_corrcoef)}"
      ]
    },
    {
      "cell_type": "code",
      "execution_count": null,
      "metadata": {
        "colab": {
          "base_uri": "https://localhost:8080/",
          "height": 381
        },
        "id": "RFGZq_spVdhq",
        "outputId": "20fc29d3-e0a2-4e9d-9142-d3c0bc16b358"
      },
      "outputs": [
        {
          "name": "stdout",
          "output_type": "stream",
          "text": [
            "0.47336392815536926\n",
            "{'svc__C': 17.26472164275692, 'svc__kernel': 'linear'}\n"
          ]
        }
      ],
      "source": [
        "param_range = loguniform(0.0001, 1000.0)\n",
        "\n",
        "param_grid = [{'svc__C': param_range,\n",
        "               'svc__kernel': ['linear']\n",
        "               },\n",
        "              {'svc__C': param_range,\n",
        "               'svc__kernel': ['rbf'],\n",
        "                'svc__gamma': param_range\n",
        "               }]\n",
        "             \n",
        "\n",
        "rs = RandomizedSearchCV(estimator=pipe_svc,\n",
        "                   param_distributions=param_grid,\n",
        "                   scoring=make_scorer(matthews_corrcoef),\n",
        "                   cv=10,\n",
        "                   refit=True,\n",
        "                   n_jobs=-1,\n",
        "                   n_iter=20,\n",
        "                   random_state=1)\n",
        "\n",
        "rs = rs.fit(X_train, y_train)\n",
        "\n",
        "print(rs.best_score_)\n",
        "print(rs.best_params_)\n"
      ]
    },
    {
      "cell_type": "code",
      "execution_count": null,
      "metadata": {
        "id": "3_-zkKS9Kto8"
      },
      "outputs": [],
      "source": [
        "pipe_knn = make_pipeline(StandardScaler(),KNeighborsClassifier())"
      ]
    },
    {
      "cell_type": "code",
      "execution_count": null,
      "metadata": {
        "colab": {
          "base_uri": "https://localhost:8080/"
        },
        "id": "sq7MgCiYLfah",
        "outputId": "33c80ed4-a162-4c9b-e7ac-47b44cba062f"
      },
      "outputs": [
        {
          "name": "stdout",
          "output_type": "stream",
          "text": [
            "Test recall: 0.6695501730103807\n",
            "MCC: 0.4285042082721166\n"
          ]
        }
      ],
      "source": [
        "pipe_knn.fit(X_train, y_train)\n",
        "y_pred = pipe_knn.predict(X_test)\n",
        "test_recall = recall_score(y_test, y_pred)\n",
        "mcc_lr = matthews_corrcoef(y_test, y_pred)\n",
        "print(f'Test recall: {test_recall}')\n",
        "print(f'MCC: {mcc_lr}')"
      ]
    },
    {
      "cell_type": "code",
      "execution_count": null,
      "metadata": {
        "colab": {
          "base_uri": "https://localhost:8080/"
        },
        "id": "0NB5frh75L9c",
        "outputId": "96329ab1-d0b9-4ccd-cf73-81566692f5aa"
      },
      "outputs": [
        {
          "name": "stdout",
          "output_type": "stream",
          "text": [
            "[[749 237]\n",
            " [382 774]]\n"
          ]
        }
      ],
      "source": [
        "confmat = confusion_matrix(y_test, y_pred)\n",
        "print(confmat)"
      ]
    },
    {
      "cell_type": "code",
      "execution_count": null,
      "metadata": {
        "id": "u64hS5vZTIzY",
        "outputId": "e7f32c50-70ca-4e74-af04-76420977ad12"
      },
      "outputs": [
        {
          "data": {
            "text/plain": [
              "{'memory': None,\n",
              " 'steps': [('standardscaler', StandardScaler()),\n",
              "  ('kneighborsclassifier', KNeighborsClassifier())],\n",
              " 'verbose': False,\n",
              " 'standardscaler': StandardScaler(),\n",
              " 'kneighborsclassifier': KNeighborsClassifier(),\n",
              " 'standardscaler__copy': True,\n",
              " 'standardscaler__with_mean': True,\n",
              " 'standardscaler__with_std': True,\n",
              " 'kneighborsclassifier__algorithm': 'auto',\n",
              " 'kneighborsclassifier__leaf_size': 30,\n",
              " 'kneighborsclassifier__metric': 'minkowski',\n",
              " 'kneighborsclassifier__metric_params': None,\n",
              " 'kneighborsclassifier__n_jobs': None,\n",
              " 'kneighborsclassifier__n_neighbors': 5,\n",
              " 'kneighborsclassifier__p': 2,\n",
              " 'kneighborsclassifier__weights': 'uniform'}"
            ]
          },
          "execution_count": 57,
          "metadata": {},
          "output_type": "execute_result"
        }
      ],
      "source": [
        "pipe_knn.get_params()"
      ]
    },
    {
      "cell_type": "code",
      "execution_count": null,
      "metadata": {
        "id": "DHXRceKOTIzZ",
        "outputId": "de66079c-2286-4c51-9c1f-e59b9884b245"
      },
      "outputs": [
        {
          "name": "stdout",
          "output_type": "stream",
          "text": [
            "0.45361622284533826\n",
            "{'kneighborsclassifier__p': 2, 'kneighborsclassifier__n_neighbors': 33}\n"
          ]
        }
      ],
      "source": [
        "param_range = list(range(1,50))\n",
        "\n",
        "param_grid = {'kneighborsclassifier__n_neighbors': param_range,\n",
        "               'kneighborsclassifier__p': [1,2]\n",
        "               }\n",
        "             \n",
        "\n",
        "kn = RandomizedSearchCV(estimator=pipe_knn,\n",
        "                   param_distributions=param_grid,\n",
        "                   scoring=make_scorer(matthews_corrcoef),\n",
        "                   cv=10,\n",
        "                   refit=True,\n",
        "                   n_jobs=-1,\n",
        "                   n_iter=20,\n",
        "                   random_state=1)\n",
        "\n",
        "kn = kn.fit(X_train, y_train)\n",
        "\n",
        "print(kn.best_score_)\n",
        "print(kn.best_params_)"
      ]
    },
    {
      "cell_type": "markdown",
      "metadata": {
        "id": "E_ARMuIM1V-g"
      },
      "source": [
        "### Ensomble Methods"
      ]
    },
    {
      "cell_type": "markdown",
      "metadata": {
        "id": "2ESFq7psvGHd"
      },
      "source": [
        "#### Random Forest"
      ]
    },
    {
      "cell_type": "code",
      "execution_count": null,
      "metadata": {
        "colab": {
          "base_uri": "https://localhost:8080/"
        },
        "id": "1FIpB2APvM2X",
        "outputId": "63d1e743-64ae-4b80-b9d9-b66ac7c00605"
      },
      "outputs": [
        {
          "name": "stdout",
          "output_type": "stream",
          "text": [
            "Test recall: 0.6695501730103807\n",
            "MCC: 0.4285042082721166\n"
          ]
        }
      ],
      "source": [
        "pipe_rf = make_pipeline(StandardScaler(), RandomForestClassifier(random_state=0, n_jobs=-1))\n",
        "\n",
        "pipe_rf.fit(X_train, y_train)\n",
        "y_pred = pipe_knn.predict(X_test)\n",
        "test_recall_rf = recall_score(y_test, y_pred)\n",
        "mcc_rf = matthews_corrcoef(y_test, y_pred)\n",
        "print(f'Test recall: {test_recall_rf}')\n",
        "print(f'MCC: {mcc_rf}')\n",
        "\n"
      ]
    },
    {
      "cell_type": "code",
      "execution_count": null,
      "metadata": {
        "colab": {
          "base_uri": "https://localhost:8080/"
        },
        "id": "LGR0jDSC5SXb",
        "outputId": "d1b8bbfb-35c3-4850-f6b2-31bc16e9aa9e"
      },
      "outputs": [
        {
          "name": "stdout",
          "output_type": "stream",
          "text": [
            "[[749 237]\n",
            " [382 774]]\n"
          ]
        }
      ],
      "source": [
        "confmat = confusion_matrix(y_test, y_pred)\n",
        "print(confmat)"
      ]
    },
    {
      "cell_type": "markdown",
      "metadata": {
        "id": "AxUG1WFCTIzc"
      },
      "source": [
        "#### Random Forest Tuning "
      ]
    },
    {
      "cell_type": "code",
      "execution_count": null,
      "metadata": {
        "id": "dIesm7aQTIzc",
        "outputId": "b1ac1758-33b3-40d3-c089-a0aed2fc73cc"
      },
      "outputs": [
        {
          "data": {
            "text/plain": [
              "{'memory': None,\n",
              " 'steps': [('standardscaler', StandardScaler()),\n",
              "  ('randomforestclassifier',\n",
              "   RandomForestClassifier(n_jobs=-1, random_state=0))],\n",
              " 'verbose': False,\n",
              " 'standardscaler': StandardScaler(),\n",
              " 'randomforestclassifier': RandomForestClassifier(n_jobs=-1, random_state=0),\n",
              " 'standardscaler__copy': True,\n",
              " 'standardscaler__with_mean': True,\n",
              " 'standardscaler__with_std': True,\n",
              " 'randomforestclassifier__bootstrap': True,\n",
              " 'randomforestclassifier__ccp_alpha': 0.0,\n",
              " 'randomforestclassifier__class_weight': None,\n",
              " 'randomforestclassifier__criterion': 'gini',\n",
              " 'randomforestclassifier__maxBins': 256,\n",
              " 'randomforestclassifier__max_depth': None,\n",
              " 'randomforestclassifier__max_features': 'auto',\n",
              " 'randomforestclassifier__max_leaf_nodes': None,\n",
              " 'randomforestclassifier__max_samples': None,\n",
              " 'randomforestclassifier__minBinSize': 1,\n",
              " 'randomforestclassifier__min_impurity_decrease': 0.0,\n",
              " 'randomforestclassifier__min_samples_leaf': 1,\n",
              " 'randomforestclassifier__min_samples_split': 2,\n",
              " 'randomforestclassifier__min_weight_fraction_leaf': 0.0,\n",
              " 'randomforestclassifier__n_estimators': 100,\n",
              " 'randomforestclassifier__n_jobs': -1,\n",
              " 'randomforestclassifier__oob_score': False,\n",
              " 'randomforestclassifier__random_state': 0,\n",
              " 'randomforestclassifier__verbose': 0,\n",
              " 'randomforestclassifier__warm_start': False}"
            ]
          },
          "execution_count": 70,
          "metadata": {},
          "output_type": "execute_result"
        }
      ],
      "source": [
        "pipe_rf.get_params()"
      ]
    },
    {
      "cell_type": "code",
      "execution_count": null,
      "metadata": {
        "id": "_-w_ITsFTIzd"
      },
      "outputs": [],
      "source": []
    },
    {
      "cell_type": "code",
      "execution_count": null,
      "metadata": {
        "id": "Ec7thiNnTIzd",
        "outputId": "d4e6ec58-8c59-4475-b8be-678ed61bf7cc"
      },
      "outputs": [
        {
          "name": "stderr",
          "output_type": "stream",
          "text": [
            "C:\\Users\\Stephen\\anaconda3\\lib\\site-packages\\sklearn\\model_selection\\_validation.py:372: FitFailedWarning: \n",
            "40 fits failed out of a total of 200.\n",
            "The score on these train-test partitions for these parameters will be set to nan.\n",
            "If these failures are not expected, you can try to debug them by setting error_score='raise'.\n",
            "\n",
            "Below are more details about the failures:\n",
            "--------------------------------------------------------------------------------\n",
            "40 fits failed with the following error:\n",
            "Traceback (most recent call last):\n",
            "  File \"C:\\Users\\Stephen\\anaconda3\\lib\\site-packages\\sklearn\\model_selection\\_validation.py\", line 680, in _fit_and_score\n",
            "    estimator.fit(X_train, y_train, **fit_params)\n",
            "  File \"C:\\Users\\Stephen\\anaconda3\\lib\\site-packages\\sklearn\\pipeline.py\", line 394, in fit\n",
            "    self._final_estimator.fit(Xt, y, **fit_params_last_step)\n",
            "  File \"C:\\Users\\Stephen\\anaconda3\\lib\\site-packages\\daal4py\\sklearn\\ensemble\\_forest.py\", line 672, in fit\n",
            "    return _fit_classifier(self, X, y, sample_weight=sample_weight)\n",
            "  File \"C:\\Users\\Stephen\\anaconda3\\lib\\site-packages\\daal4py\\sklearn\\ensemble\\_forest.py\", line 338, in _fit_classifier\n",
            "    return super(RandomForestClassifier, self).fit(\n",
            "  File \"C:\\Users\\Stephen\\anaconda3\\lib\\site-packages\\sklearn\\ensemble\\_forest.py\", line 450, in fit\n",
            "    trees = Parallel(\n",
            "  File \"C:\\Users\\Stephen\\anaconda3\\lib\\site-packages\\joblib\\parallel.py\", line 1056, in __call__\n",
            "    self.retrieve()\n",
            "  File \"C:\\Users\\Stephen\\anaconda3\\lib\\site-packages\\joblib\\parallel.py\", line 935, in retrieve\n",
            "    self._output.extend(job.get(timeout=self.timeout))\n",
            "  File \"C:\\Users\\Stephen\\anaconda3\\lib\\multiprocessing\\pool.py\", line 771, in get\n",
            "    raise self._value\n",
            "  File \"C:\\Users\\Stephen\\anaconda3\\lib\\multiprocessing\\pool.py\", line 125, in worker\n",
            "    result = (True, func(*args, **kwds))\n",
            "  File \"C:\\Users\\Stephen\\anaconda3\\lib\\site-packages\\joblib\\_parallel_backends.py\", line 595, in __call__\n",
            "    return self.func(*args, **kwargs)\n",
            "  File \"C:\\Users\\Stephen\\anaconda3\\lib\\site-packages\\joblib\\parallel.py\", line 262, in __call__\n",
            "    return [func(*args, **kwargs)\n",
            "  File \"C:\\Users\\Stephen\\anaconda3\\lib\\site-packages\\joblib\\parallel.py\", line 262, in <listcomp>\n",
            "    return [func(*args, **kwargs)\n",
            "  File \"C:\\Users\\Stephen\\anaconda3\\lib\\site-packages\\sklearn\\utils\\fixes.py\", line 216, in __call__\n",
            "    return self.function(*args, **kwargs)\n",
            "  File \"C:\\Users\\Stephen\\anaconda3\\lib\\site-packages\\sklearn\\ensemble\\_forest.py\", line 185, in _parallel_build_trees\n",
            "    tree.fit(X, y, sample_weight=curr_sample_weight, check_input=False)\n",
            "  File \"C:\\Users\\Stephen\\anaconda3\\lib\\site-packages\\sklearn\\tree\\_classes.py\", line 937, in fit\n",
            "    super().fit(\n",
            "  File \"C:\\Users\\Stephen\\anaconda3\\lib\\site-packages\\sklearn\\tree\\_classes.py\", line 352, in fit\n",
            "    criterion = CRITERIA_CLF[self.criterion](\n",
            "KeyError: 'log_loss'\n",
            "\n",
            "  warnings.warn(some_fits_failed_message, FitFailedWarning)\n",
            "C:\\Users\\Stephen\\anaconda3\\lib\\site-packages\\sklearn\\model_selection\\_search.py:969: UserWarning: One or more of the test scores are non-finite: [0.4581521  0.46294016 0.46264543        nan 0.44676978 0.43509113\n",
            "        nan 0.45682021 0.45059341 0.45237805 0.46179858 0.46177882\n",
            " 0.25322236 0.45983757 0.46107804 0.45757318 0.46004344        nan\n",
            " 0.45912051        nan]\n",
            "  warnings.warn(\n"
          ]
        },
        {
          "name": "stdout",
          "output_type": "stream",
          "text": [
            "0.4629401639860776\n",
            "{'randomforestclassifier__n_estimators': 87, 'randomforestclassifier__criterion': 'entropy'}\n"
          ]
        }
      ],
      "source": [
        "param_range = list(range(1,200))\n",
        "\n",
        "param_grid = {'randomforestclassifier__n_estimators': param_range,\n",
        "               'randomforestclassifier__criterion': ['gini', 'entropy', 'log_loss']\n",
        "               }\n",
        "             \n",
        "\n",
        "kn = RandomizedSearchCV(estimator=pipe_rf,\n",
        "                   param_distributions=param_grid,\n",
        "                   scoring=make_scorer(matthews_corrcoef),\n",
        "                   cv=10,\n",
        "                   refit=True,\n",
        "                   n_jobs=-1,\n",
        "                   n_iter=20,\n",
        "                   random_state=1)\n",
        "\n",
        "kn = kn.fit(X_train, y_train)\n",
        "\n",
        "print(kn.best_score_)\n",
        "print(kn.best_params_)"
      ]
    },
    {
      "cell_type": "markdown",
      "metadata": {
        "id": "n83DAIOnTIze"
      },
      "source": [
        "### XBBC classifier "
      ]
    },
    {
      "cell_type": "code",
      "execution_count": null,
      "metadata": {
        "colab": {
          "base_uri": "https://localhost:8080/"
        },
        "id": "AQ-NryCM57ku",
        "outputId": "3d84165c-48c1-469b-ed96-f0892fba8ce6"
      },
      "outputs": [
        {
          "name": "stderr",
          "output_type": "stream",
          "text": [
            "C:\\Users\\Stephen\\anaconda3\\lib\\site-packages\\xgboost\\sklearn.py:1224: UserWarning: The use of label encoder in XGBClassifier is deprecated and will be removed in a future release. To remove this warning, do the following: 1) Pass option use_label_encoder=False when constructing XGBClassifier object; and 2) Encode your labels (y) as integers starting with 0, i.e. 0, 1, 2, ..., [num_class - 1].\n",
            "  warnings.warn(label_encoder_deprecation_msg, UserWarning)\n"
          ]
        },
        {
          "name": "stdout",
          "output_type": "stream",
          "text": [
            "[14:17:36] WARNING: C:\\Windows\\Temp\\abs_557yfx631l\\croots\\recipe\\xgboost-split_1659548953302\\work\\src\\learner.cc:1115: Starting in XGBoost 1.3.0, the default evaluation metric used with the objective 'binary:logistic' was changed from 'error' to 'logloss'. Explicitly set eval_metric if you'd like to restore the old behavior.\n",
            "XGboost train/test recall: 0.7404523544679273/0.7525951557093425\n",
            "XGboost train/test mcc: 0.5279203102904275/0.521877469882412\n"
          ]
        }
      ],
      "source": [
        "model = xgb.XGBClassifier(n_estimators=3000, learning_rate=.001, \n",
        "                          max_depth= 4, random_state=1)\n",
        "\n",
        "gbm = model.fit(X_train, y_train)\n",
        "y_train_pred = gbm.predict(X_train)\n",
        "y_test_pred = gbm.predict(X_test)\n",
        "gbm_train_recall = recall_score(y_train, y_train_pred)\n",
        "gbm_test_recall = recall_score(y_test, y_test_pred)\n",
        "\n",
        "gbm_train_mcc = matthews_corrcoef(y_train, y_train_pred)\n",
        "gbm_test_mcc = matthews_corrcoef(y_test, y_test_pred)\n",
        "\n",
        "\n",
        "print(f'XGboost train/test recall: {gbm_train_recall}/{gbm_test_recall}')\n",
        "print(f'XGboost train/test mcc: {gbm_train_mcc}/{gbm_test_mcc}')"
      ]
    },
    {
      "cell_type": "markdown",
      "metadata": {
        "id": "0KFGrofBTIzf"
      },
      "source": [
        "### Voting Classifer"
      ]
    },
    {
      "cell_type": "code",
      "execution_count": null,
      "metadata": {
        "id": "rO44ZrQyZ0jm",
        "outputId": "cdcfb026-8942-4f62-efff-dc2d291539df"
      },
      "outputs": [
        {
          "name": "stdout",
          "output_type": "stream",
          "text": [
            "Test recall: 0.7240484429065744\n",
            "MCC: 0.5157229609917995\n"
          ]
        }
      ],
      "source": [
        "knn_best = make_pipeline(StandardScaler(), KNeighborsClassifier(n_neighbors= 33, n_jobs=-1))\n",
        "rf_best = make_pipeline(StandardScaler(), RandomForestClassifier(random_state=0, n_jobs=-1, n_estimators = 87, criterion= 'entropy'))\n",
        "svc_best = make_pipeline(StandardScaler(), SVC(C = 17.264,kernel = 'linear',  cache_size= 1000, random_state=0, max_iter= -1 ))\n",
        "\n",
        "\n",
        "#create a dictionary of our models\n",
        "estimators=[('knn', knn_best), ('svc', svc_best), ('rf', rf_best)]\n",
        "\n",
        "#create our voting classifier, inputting our models\n",
        "ensemble = VotingClassifier(estimators, voting='hard')\n",
        "\n",
        "ensemble.fit(X_train, y_train)\n",
        "\n",
        "y_pred = ensemble.predict(X_test)\n",
        "test_recall = recall_score(y_test, y_pred)\n",
        "mcc_lr = matthews_corrcoef(y_test, y_pred)\n",
        "\n",
        "print(f'Test recall: {test_recall}')\n",
        "print(f'MCC: {mcc_lr}')\n",
        "\n"
      ]
    },
    {
      "cell_type": "markdown",
      "metadata": {
        "id": "23HflGvtTIzg"
      },
      "source": [
        "Overall the SVC kernel model has the best performance on the recall(because we want to reduce false negatives) and MCC score \n",
        "\n",
        "Test recall: 0.7707612456747405\n",
        "MCC: 0.5157035181660333\n"
      ]
    }
  ],
  "metadata": {
    "colab": {
      "collapsed_sections": [],
      "machine_shape": "hm",
      "provenance": [],
      "include_colab_link": true
    },
    "gpuClass": "standard",
    "kernelspec": {
      "display_name": "Python 3 (ipykernel)",
      "language": "python",
      "name": "python3"
    },
    "language_info": {
      "codemirror_mode": {
        "name": "ipython",
        "version": 3
      },
      "file_extension": ".py",
      "mimetype": "text/x-python",
      "name": "python",
      "nbconvert_exporter": "python",
      "pygments_lexer": "ipython3",
      "version": "3.9.7"
    }
  },
  "nbformat": 4,
  "nbformat_minor": 0
}