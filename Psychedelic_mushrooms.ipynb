{
  "cells": [
    {
      "cell_type": "markdown",
      "metadata": {
        "id": "view-in-github",
        "colab_type": "text"
      },
      "source": [
        "<a href=\"https://colab.research.google.com/github/freedom-780/Psychedelic-mushrooms/blob/main/Psychedelic_mushrooms.ipynb\" target=\"_parent\"><img src=\"https://colab.research.google.com/assets/colab-badge.svg\" alt=\"Open In Colab\"/></a>"
      ]
    },
    {
      "cell_type": "code",
      "execution_count": 1,
      "metadata": {
        "id": "xwWkYUBhhN4k"
      },
      "outputs": [],
      "source": [
        "import pandas as pd \n",
        "pd.options.display.float_format = '{:,.2f}'.format\n",
        "\n",
        "from sklearn.model_selection import train_test_split\n",
        "from sklearn.preprocessing import StandardScaler\n",
        "from sklearn.decomposition import PCA\n",
        "from sklearn.linear_model import LogisticRegression\n",
        "from sklearn.pipeline import make_pipeline\n",
        "from sklearn.model_selection import cross_val_score\n",
        "from sklearn.utils import resample\n",
        "from sklearn.ensemble import RandomForestClassifier\n",
        "\n",
        "import numpy as np\n",
        "import seaborn as sns \n",
        "import matplotlib.pyplot as plt\n",
        "%matplotlib inline\n"
      ]
    },
    {
      "cell_type": "code",
      "execution_count": 2,
      "metadata": {
        "id": "Db5S3QIXhw0c"
      },
      "outputs": [],
      "source": [
        "#Import data from github\n",
        "data = \"https://raw.githubusercontent.com/freedom-780/Psychedelic-mushrooms/main/AHRI_DATASET_PM_MANUSCRIPT_DATA.csv\"\n",
        "p_mush_df = pd.read_csv(data)"
      ]
    },
    {
      "cell_type": "code",
      "execution_count": 3,
      "metadata": {
        "colab": {
          "base_uri": "https://localhost:8080/"
        },
        "id": "hY7ceeQ_FgP0",
        "outputId": "ffb124e7-3a42-4e06-9c02-cd50b2aaab51"
      },
      "outputs": [
        {
          "output_type": "execute_result",
          "data": {
            "text/plain": [
              "(7139, 57)"
            ]
          },
          "metadata": {},
          "execution_count": 3
        }
      ],
      "source": [
        "p_mush_df.shape"
      ]
    },
    {
      "cell_type": "code",
      "execution_count": 4,
      "metadata": {
        "id": "Gk_KPp2p0PQF"
      },
      "outputs": [],
      "source": [
        "# copy dataframe for analysis to preserve original dataframe\n",
        "df = p_mush_df.copy()"
      ]
    },
    {
      "cell_type": "code",
      "execution_count": 5,
      "metadata": {
        "id": "M97YwSE00wjL"
      },
      "outputs": [],
      "source": [
        "# Set index to case ID since every caseID is Unique\n",
        "df.set_index('CASEID_7139', inplace=True)"
      ]
    },
    {
      "cell_type": "code",
      "execution_count": 6,
      "metadata": {
        "colab": {
          "base_uri": "https://localhost:8080/"
        },
        "id": "ACO0E6mymEVH",
        "outputId": "86981181-c215-4f85-c52c-6b4f89d9223b"
      },
      "outputs": [
        {
          "output_type": "execute_result",
          "data": {
            "text/plain": [
              "Index(['COHORTS', 'PYS_USE_VENN', 'PSY_USE_YN', 'PM_USE_YN', 'PM_USE_ONLY_YN',\n",
              "       'PM_VS_PSY_YN', 'SEX', 'AGE', 'ETHNICITY', 'HLS_YN', 'REGION', 'ED',\n",
              "       'EMPL', 'INCOME', 'BMI', 'C_TOTAL', 'C_DP', 'C_ANX', 'C_PN', 'C_ALL',\n",
              "       'C_MI', 'C_INSOM', 'C_HYP', 'C_DH', 'C_SA', 'C_GERD', 'C_CS', 'C_LIP',\n",
              "       'CCI_SCORE', 'GAD7_SCORE', 'PHQ9_SCORE', 'GAD7_GE10', 'PHQ9_GE10',\n",
              "       'PCS12', 'MCS12', 'VR6D', 'RU_PCP_YN', 'RU_SPECIAL_YN', 'RU_OTPCP_YN',\n",
              "       'RU_UCC_YN', 'RU_OUTPT_YN', 'RU_ER_YN', 'RU_HSP_YN',\n",
              "       'PSY1_POSITIVE_USE', 'PSY2_GEN_HEALTH', 'PSY2_DIAG_CONDITION',\n",
              "       'PSY2_UNDIAG_CONCERN', 'PSY2_NO_KNOWLEDGE', 'PM1_GEN_HEALTH',\n",
              "       'PM1_DIAG_CONDITION', 'PM1_UNDIAG_CONCERN', 'PM2_FREQ_COVID',\n",
              "       'PM3_FREQ_POLITICS', 'PM4_CARE', 'INSURANCE', 'DATA_WEIGHT'],\n",
              "      dtype='object')"
            ]
          },
          "metadata": {},
          "execution_count": 6
        }
      ],
      "source": [
        "df.columns"
      ]
    },
    {
      "cell_type": "code",
      "source": [
        "df.head().T"
      ],
      "metadata": {
        "colab": {
          "base_uri": "https://localhost:8080/",
          "height": 394
        },
        "id": "BHs5duPtKPYY",
        "outputId": "12e4e4eb-cbc8-41d5-f7cc-e24e311a2449"
      },
      "execution_count": 70,
      "outputs": [
        {
          "output_type": "execute_result",
          "data": {
            "text/plain": [
              "CASEID_7139         1         2         3         4         5\n",
              "PSY_USE_YN       1.00      1.00      1.00      1.00      1.00\n",
              "SEX              0.00      0.00      0.00      0.00      0.00\n",
              "AGE             19.00     21.00     22.00     22.00     23.00\n",
              "ETHNICITY        3.00      2.00      2.00      2.00      2.00\n",
              "HLS_YN           1.00      0.00      0.00      0.00      0.00\n",
              "REGION           4.00      2.00      4.00      3.00      2.00\n",
              "ED               0.00      1.00      0.00      1.00      0.00\n",
              "EMPL             0.00      0.00      0.00      0.00      1.00\n",
              "INCOME      65,847.00 30,585.00 49,259.00 54,135.00 49,425.00\n",
              "BMI             27.41     29.26     20.60     18.56     36.80\n",
              "PHQ9_SCORE       1.00      0.00      1.00      1.00      1.00"
            ],
            "text/html": [
              "\n",
              "  <div id=\"df-1699ce6a-9312-487e-b6b1-aedfc06c21da\">\n",
              "    <div class=\"colab-df-container\">\n",
              "      <div>\n",
              "<style scoped>\n",
              "    .dataframe tbody tr th:only-of-type {\n",
              "        vertical-align: middle;\n",
              "    }\n",
              "\n",
              "    .dataframe tbody tr th {\n",
              "        vertical-align: top;\n",
              "    }\n",
              "\n",
              "    .dataframe thead th {\n",
              "        text-align: right;\n",
              "    }\n",
              "</style>\n",
              "<table border=\"1\" class=\"dataframe\">\n",
              "  <thead>\n",
              "    <tr style=\"text-align: right;\">\n",
              "      <th>CASEID_7139</th>\n",
              "      <th>1</th>\n",
              "      <th>2</th>\n",
              "      <th>3</th>\n",
              "      <th>4</th>\n",
              "      <th>5</th>\n",
              "    </tr>\n",
              "  </thead>\n",
              "  <tbody>\n",
              "    <tr>\n",
              "      <th>PSY_USE_YN</th>\n",
              "      <td>1.00</td>\n",
              "      <td>1.00</td>\n",
              "      <td>1.00</td>\n",
              "      <td>1.00</td>\n",
              "      <td>1.00</td>\n",
              "    </tr>\n",
              "    <tr>\n",
              "      <th>SEX</th>\n",
              "      <td>0.00</td>\n",
              "      <td>0.00</td>\n",
              "      <td>0.00</td>\n",
              "      <td>0.00</td>\n",
              "      <td>0.00</td>\n",
              "    </tr>\n",
              "    <tr>\n",
              "      <th>AGE</th>\n",
              "      <td>19.00</td>\n",
              "      <td>21.00</td>\n",
              "      <td>22.00</td>\n",
              "      <td>22.00</td>\n",
              "      <td>23.00</td>\n",
              "    </tr>\n",
              "    <tr>\n",
              "      <th>ETHNICITY</th>\n",
              "      <td>3.00</td>\n",
              "      <td>2.00</td>\n",
              "      <td>2.00</td>\n",
              "      <td>2.00</td>\n",
              "      <td>2.00</td>\n",
              "    </tr>\n",
              "    <tr>\n",
              "      <th>HLS_YN</th>\n",
              "      <td>1.00</td>\n",
              "      <td>0.00</td>\n",
              "      <td>0.00</td>\n",
              "      <td>0.00</td>\n",
              "      <td>0.00</td>\n",
              "    </tr>\n",
              "    <tr>\n",
              "      <th>REGION</th>\n",
              "      <td>4.00</td>\n",
              "      <td>2.00</td>\n",
              "      <td>4.00</td>\n",
              "      <td>3.00</td>\n",
              "      <td>2.00</td>\n",
              "    </tr>\n",
              "    <tr>\n",
              "      <th>ED</th>\n",
              "      <td>0.00</td>\n",
              "      <td>1.00</td>\n",
              "      <td>0.00</td>\n",
              "      <td>1.00</td>\n",
              "      <td>0.00</td>\n",
              "    </tr>\n",
              "    <tr>\n",
              "      <th>EMPL</th>\n",
              "      <td>0.00</td>\n",
              "      <td>0.00</td>\n",
              "      <td>0.00</td>\n",
              "      <td>0.00</td>\n",
              "      <td>1.00</td>\n",
              "    </tr>\n",
              "    <tr>\n",
              "      <th>INCOME</th>\n",
              "      <td>65,847.00</td>\n",
              "      <td>30,585.00</td>\n",
              "      <td>49,259.00</td>\n",
              "      <td>54,135.00</td>\n",
              "      <td>49,425.00</td>\n",
              "    </tr>\n",
              "    <tr>\n",
              "      <th>BMI</th>\n",
              "      <td>27.41</td>\n",
              "      <td>29.26</td>\n",
              "      <td>20.60</td>\n",
              "      <td>18.56</td>\n",
              "      <td>36.80</td>\n",
              "    </tr>\n",
              "    <tr>\n",
              "      <th>PHQ9_SCORE</th>\n",
              "      <td>1.00</td>\n",
              "      <td>0.00</td>\n",
              "      <td>1.00</td>\n",
              "      <td>1.00</td>\n",
              "      <td>1.00</td>\n",
              "    </tr>\n",
              "  </tbody>\n",
              "</table>\n",
              "</div>\n",
              "      <button class=\"colab-df-convert\" onclick=\"convertToInteractive('df-1699ce6a-9312-487e-b6b1-aedfc06c21da')\"\n",
              "              title=\"Convert this dataframe to an interactive table.\"\n",
              "              style=\"display:none;\">\n",
              "        \n",
              "  <svg xmlns=\"http://www.w3.org/2000/svg\" height=\"24px\"viewBox=\"0 0 24 24\"\n",
              "       width=\"24px\">\n",
              "    <path d=\"M0 0h24v24H0V0z\" fill=\"none\"/>\n",
              "    <path d=\"M18.56 5.44l.94 2.06.94-2.06 2.06-.94-2.06-.94-.94-2.06-.94 2.06-2.06.94zm-11 1L8.5 8.5l.94-2.06 2.06-.94-2.06-.94L8.5 2.5l-.94 2.06-2.06.94zm10 10l.94 2.06.94-2.06 2.06-.94-2.06-.94-.94-2.06-.94 2.06-2.06.94z\"/><path d=\"M17.41 7.96l-1.37-1.37c-.4-.4-.92-.59-1.43-.59-.52 0-1.04.2-1.43.59L10.3 9.45l-7.72 7.72c-.78.78-.78 2.05 0 2.83L4 21.41c.39.39.9.59 1.41.59.51 0 1.02-.2 1.41-.59l7.78-7.78 2.81-2.81c.8-.78.8-2.07 0-2.86zM5.41 20L4 18.59l7.72-7.72 1.47 1.35L5.41 20z\"/>\n",
              "  </svg>\n",
              "      </button>\n",
              "      \n",
              "  <style>\n",
              "    .colab-df-container {\n",
              "      display:flex;\n",
              "      flex-wrap:wrap;\n",
              "      gap: 12px;\n",
              "    }\n",
              "\n",
              "    .colab-df-convert {\n",
              "      background-color: #E8F0FE;\n",
              "      border: none;\n",
              "      border-radius: 50%;\n",
              "      cursor: pointer;\n",
              "      display: none;\n",
              "      fill: #1967D2;\n",
              "      height: 32px;\n",
              "      padding: 0 0 0 0;\n",
              "      width: 32px;\n",
              "    }\n",
              "\n",
              "    .colab-df-convert:hover {\n",
              "      background-color: #E2EBFA;\n",
              "      box-shadow: 0px 1px 2px rgba(60, 64, 67, 0.3), 0px 1px 3px 1px rgba(60, 64, 67, 0.15);\n",
              "      fill: #174EA6;\n",
              "    }\n",
              "\n",
              "    [theme=dark] .colab-df-convert {\n",
              "      background-color: #3B4455;\n",
              "      fill: #D2E3FC;\n",
              "    }\n",
              "\n",
              "    [theme=dark] .colab-df-convert:hover {\n",
              "      background-color: #434B5C;\n",
              "      box-shadow: 0px 1px 3px 1px rgba(0, 0, 0, 0.15);\n",
              "      filter: drop-shadow(0px 1px 2px rgba(0, 0, 0, 0.3));\n",
              "      fill: #FFFFFF;\n",
              "    }\n",
              "  </style>\n",
              "\n",
              "      <script>\n",
              "        const buttonEl =\n",
              "          document.querySelector('#df-1699ce6a-9312-487e-b6b1-aedfc06c21da button.colab-df-convert');\n",
              "        buttonEl.style.display =\n",
              "          google.colab.kernel.accessAllowed ? 'block' : 'none';\n",
              "\n",
              "        async function convertToInteractive(key) {\n",
              "          const element = document.querySelector('#df-1699ce6a-9312-487e-b6b1-aedfc06c21da');\n",
              "          const dataTable =\n",
              "            await google.colab.kernel.invokeFunction('convertToInteractive',\n",
              "                                                     [key], {});\n",
              "          if (!dataTable) return;\n",
              "\n",
              "          const docLinkHtml = 'Like what you see? Visit the ' +\n",
              "            '<a target=\"_blank\" href=https://colab.research.google.com/notebooks/data_table.ipynb>data table notebook</a>'\n",
              "            + ' to learn more about interactive tables.';\n",
              "          element.innerHTML = '';\n",
              "          dataTable['output_type'] = 'display_data';\n",
              "          await google.colab.output.renderOutput(dataTable, element);\n",
              "          const docLink = document.createElement('div');\n",
              "          docLink.innerHTML = docLinkHtml;\n",
              "          element.appendChild(docLink);\n",
              "        }\n",
              "      </script>\n",
              "    </div>\n",
              "  </div>\n",
              "  "
            ]
          },
          "metadata": {},
          "execution_count": 70
        }
      ]
    },
    {
      "cell_type": "code",
      "execution_count": 9,
      "metadata": {
        "id": "YN6SP7Xl1f7q"
      },
      "outputs": [],
      "source": [
        "# make a list of columns to keep\n",
        "\n",
        "columns_keep = ['COHORTS', 'PYS_USE_VENN', 'PSY_USE_YN', 'PM_USE_YN', 'PM_USE_ONLY_YN', 'PM_VS_PSY_YN', 'SEX', 'AGE', 'ETHNICITY', 'HLS_YN', 'REGION',  \\\n",
        "                 'ED', 'EMPL', 'INCOME', 'BMI', 'GAD7_SCORE', 'PHQ9_SCORE']"
      ]
    },
    {
      "cell_type": "markdown",
      "metadata": {
        "id": "efppA1-911zw"
      },
      "source": [
        "This dataset has 57 columns initially, most of these were dropped, trying to predict the PHQ9 score(ranges from 0-27) that has different ranges for different severity of depression. Those rows that were dropped have to do with hostipals stays, previous conditions of the patient, etc. while these might be useful to the model, only the qualities of the patient and psychedelics use is of interest, at least initally, but will try different features, after trying out a simple model and testing.\n"
      ]
    },
    {
      "cell_type": "code",
      "execution_count": 10,
      "metadata": {
        "colab": {
          "base_uri": "https://localhost:8080/"
        },
        "id": "8nAUHPBp5DLW",
        "outputId": "cc4b7f64-f5a4-4bf7-947a-94e105926399"
      },
      "outputs": [
        {
          "output_type": "stream",
          "name": "stderr",
          "text": [
            "/usr/local/lib/python3.7/dist-packages/ipykernel_launcher.py:1: FutureWarning: In a future version of pandas all arguments of DataFrame.drop except for the argument 'labels' will be keyword-only\n",
            "  \"\"\"Entry point for launching an IPython kernel.\n"
          ]
        }
      ],
      "source": [
        "df.drop(df.columns.difference(columns_keep), 1, inplace=True)"
      ]
    },
    {
      "cell_type": "code",
      "execution_count": 11,
      "metadata": {
        "colab": {
          "base_uri": "https://localhost:8080/",
          "height": 582
        },
        "id": "RAq92htpiDfm",
        "outputId": "fa68a98e-b265-478c-cf73-a23046611a3f"
      },
      "outputs": [
        {
          "output_type": "execute_result",
          "data": {
            "text/plain": [
              "CASEID_7139         4717      2824      1398      4694      3707\n",
              "COHORTS             0.00      0.00      0.00      0.00      0.00\n",
              "PYS_USE_VENN        0.00      0.00      0.00      0.00      0.00\n",
              "PSY_USE_YN          0.00      0.00      0.00      0.00      0.00\n",
              "PM_USE_YN           0.00      0.00      0.00      0.00      0.00\n",
              "PM_USE_ONLY_YN      0.00      0.00      0.00      0.00      0.00\n",
              "PM_VS_PSY_YN      -99.00    -99.00    -99.00    -99.00    -99.00\n",
              "SEX                 1.00      0.00      0.00      1.00      0.00\n",
              "AGE                36.00     61.00     37.00     35.00     76.00\n",
              "ETHNICITY           2.00      2.00      2.00      2.00      2.00\n",
              "HLS_YN              0.00      0.00      0.00      0.00      0.00\n",
              "REGION              3.00      2.00      3.00      3.00      3.00\n",
              "ED                  1.00      0.00      1.00      1.00      1.00\n",
              "EMPL                0.00      0.00      0.00      1.00      0.00\n",
              "INCOME         40,093.00 62,397.00 66,250.00 70,529.00 60,088.00\n",
              "BMI                30.07     24.03     37.59     27.39     28.69\n",
              "GAD7_SCORE          5.00      2.00     19.00      0.00      6.00\n",
              "PHQ9_SCORE          8.00      7.00     13.00      0.00      7.00"
            ],
            "text/html": [
              "\n",
              "  <div id=\"df-48997b9d-7423-4688-8c39-2a701e551eb3\">\n",
              "    <div class=\"colab-df-container\">\n",
              "      <div>\n",
              "<style scoped>\n",
              "    .dataframe tbody tr th:only-of-type {\n",
              "        vertical-align: middle;\n",
              "    }\n",
              "\n",
              "    .dataframe tbody tr th {\n",
              "        vertical-align: top;\n",
              "    }\n",
              "\n",
              "    .dataframe thead th {\n",
              "        text-align: right;\n",
              "    }\n",
              "</style>\n",
              "<table border=\"1\" class=\"dataframe\">\n",
              "  <thead>\n",
              "    <tr style=\"text-align: right;\">\n",
              "      <th>CASEID_7139</th>\n",
              "      <th>4717</th>\n",
              "      <th>2824</th>\n",
              "      <th>1398</th>\n",
              "      <th>4694</th>\n",
              "      <th>3707</th>\n",
              "    </tr>\n",
              "  </thead>\n",
              "  <tbody>\n",
              "    <tr>\n",
              "      <th>COHORTS</th>\n",
              "      <td>0.00</td>\n",
              "      <td>0.00</td>\n",
              "      <td>0.00</td>\n",
              "      <td>0.00</td>\n",
              "      <td>0.00</td>\n",
              "    </tr>\n",
              "    <tr>\n",
              "      <th>PYS_USE_VENN</th>\n",
              "      <td>0.00</td>\n",
              "      <td>0.00</td>\n",
              "      <td>0.00</td>\n",
              "      <td>0.00</td>\n",
              "      <td>0.00</td>\n",
              "    </tr>\n",
              "    <tr>\n",
              "      <th>PSY_USE_YN</th>\n",
              "      <td>0.00</td>\n",
              "      <td>0.00</td>\n",
              "      <td>0.00</td>\n",
              "      <td>0.00</td>\n",
              "      <td>0.00</td>\n",
              "    </tr>\n",
              "    <tr>\n",
              "      <th>PM_USE_YN</th>\n",
              "      <td>0.00</td>\n",
              "      <td>0.00</td>\n",
              "      <td>0.00</td>\n",
              "      <td>0.00</td>\n",
              "      <td>0.00</td>\n",
              "    </tr>\n",
              "    <tr>\n",
              "      <th>PM_USE_ONLY_YN</th>\n",
              "      <td>0.00</td>\n",
              "      <td>0.00</td>\n",
              "      <td>0.00</td>\n",
              "      <td>0.00</td>\n",
              "      <td>0.00</td>\n",
              "    </tr>\n",
              "    <tr>\n",
              "      <th>PM_VS_PSY_YN</th>\n",
              "      <td>-99.00</td>\n",
              "      <td>-99.00</td>\n",
              "      <td>-99.00</td>\n",
              "      <td>-99.00</td>\n",
              "      <td>-99.00</td>\n",
              "    </tr>\n",
              "    <tr>\n",
              "      <th>SEX</th>\n",
              "      <td>1.00</td>\n",
              "      <td>0.00</td>\n",
              "      <td>0.00</td>\n",
              "      <td>1.00</td>\n",
              "      <td>0.00</td>\n",
              "    </tr>\n",
              "    <tr>\n",
              "      <th>AGE</th>\n",
              "      <td>36.00</td>\n",
              "      <td>61.00</td>\n",
              "      <td>37.00</td>\n",
              "      <td>35.00</td>\n",
              "      <td>76.00</td>\n",
              "    </tr>\n",
              "    <tr>\n",
              "      <th>ETHNICITY</th>\n",
              "      <td>2.00</td>\n",
              "      <td>2.00</td>\n",
              "      <td>2.00</td>\n",
              "      <td>2.00</td>\n",
              "      <td>2.00</td>\n",
              "    </tr>\n",
              "    <tr>\n",
              "      <th>HLS_YN</th>\n",
              "      <td>0.00</td>\n",
              "      <td>0.00</td>\n",
              "      <td>0.00</td>\n",
              "      <td>0.00</td>\n",
              "      <td>0.00</td>\n",
              "    </tr>\n",
              "    <tr>\n",
              "      <th>REGION</th>\n",
              "      <td>3.00</td>\n",
              "      <td>2.00</td>\n",
              "      <td>3.00</td>\n",
              "      <td>3.00</td>\n",
              "      <td>3.00</td>\n",
              "    </tr>\n",
              "    <tr>\n",
              "      <th>ED</th>\n",
              "      <td>1.00</td>\n",
              "      <td>0.00</td>\n",
              "      <td>1.00</td>\n",
              "      <td>1.00</td>\n",
              "      <td>1.00</td>\n",
              "    </tr>\n",
              "    <tr>\n",
              "      <th>EMPL</th>\n",
              "      <td>0.00</td>\n",
              "      <td>0.00</td>\n",
              "      <td>0.00</td>\n",
              "      <td>1.00</td>\n",
              "      <td>0.00</td>\n",
              "    </tr>\n",
              "    <tr>\n",
              "      <th>INCOME</th>\n",
              "      <td>40,093.00</td>\n",
              "      <td>62,397.00</td>\n",
              "      <td>66,250.00</td>\n",
              "      <td>70,529.00</td>\n",
              "      <td>60,088.00</td>\n",
              "    </tr>\n",
              "    <tr>\n",
              "      <th>BMI</th>\n",
              "      <td>30.07</td>\n",
              "      <td>24.03</td>\n",
              "      <td>37.59</td>\n",
              "      <td>27.39</td>\n",
              "      <td>28.69</td>\n",
              "    </tr>\n",
              "    <tr>\n",
              "      <th>GAD7_SCORE</th>\n",
              "      <td>5.00</td>\n",
              "      <td>2.00</td>\n",
              "      <td>19.00</td>\n",
              "      <td>0.00</td>\n",
              "      <td>6.00</td>\n",
              "    </tr>\n",
              "    <tr>\n",
              "      <th>PHQ9_SCORE</th>\n",
              "      <td>8.00</td>\n",
              "      <td>7.00</td>\n",
              "      <td>13.00</td>\n",
              "      <td>0.00</td>\n",
              "      <td>7.00</td>\n",
              "    </tr>\n",
              "  </tbody>\n",
              "</table>\n",
              "</div>\n",
              "      <button class=\"colab-df-convert\" onclick=\"convertToInteractive('df-48997b9d-7423-4688-8c39-2a701e551eb3')\"\n",
              "              title=\"Convert this dataframe to an interactive table.\"\n",
              "              style=\"display:none;\">\n",
              "        \n",
              "  <svg xmlns=\"http://www.w3.org/2000/svg\" height=\"24px\"viewBox=\"0 0 24 24\"\n",
              "       width=\"24px\">\n",
              "    <path d=\"M0 0h24v24H0V0z\" fill=\"none\"/>\n",
              "    <path d=\"M18.56 5.44l.94 2.06.94-2.06 2.06-.94-2.06-.94-.94-2.06-.94 2.06-2.06.94zm-11 1L8.5 8.5l.94-2.06 2.06-.94-2.06-.94L8.5 2.5l-.94 2.06-2.06.94zm10 10l.94 2.06.94-2.06 2.06-.94-2.06-.94-.94-2.06-.94 2.06-2.06.94z\"/><path d=\"M17.41 7.96l-1.37-1.37c-.4-.4-.92-.59-1.43-.59-.52 0-1.04.2-1.43.59L10.3 9.45l-7.72 7.72c-.78.78-.78 2.05 0 2.83L4 21.41c.39.39.9.59 1.41.59.51 0 1.02-.2 1.41-.59l7.78-7.78 2.81-2.81c.8-.78.8-2.07 0-2.86zM5.41 20L4 18.59l7.72-7.72 1.47 1.35L5.41 20z\"/>\n",
              "  </svg>\n",
              "      </button>\n",
              "      \n",
              "  <style>\n",
              "    .colab-df-container {\n",
              "      display:flex;\n",
              "      flex-wrap:wrap;\n",
              "      gap: 12px;\n",
              "    }\n",
              "\n",
              "    .colab-df-convert {\n",
              "      background-color: #E8F0FE;\n",
              "      border: none;\n",
              "      border-radius: 50%;\n",
              "      cursor: pointer;\n",
              "      display: none;\n",
              "      fill: #1967D2;\n",
              "      height: 32px;\n",
              "      padding: 0 0 0 0;\n",
              "      width: 32px;\n",
              "    }\n",
              "\n",
              "    .colab-df-convert:hover {\n",
              "      background-color: #E2EBFA;\n",
              "      box-shadow: 0px 1px 2px rgba(60, 64, 67, 0.3), 0px 1px 3px 1px rgba(60, 64, 67, 0.15);\n",
              "      fill: #174EA6;\n",
              "    }\n",
              "\n",
              "    [theme=dark] .colab-df-convert {\n",
              "      background-color: #3B4455;\n",
              "      fill: #D2E3FC;\n",
              "    }\n",
              "\n",
              "    [theme=dark] .colab-df-convert:hover {\n",
              "      background-color: #434B5C;\n",
              "      box-shadow: 0px 1px 3px 1px rgba(0, 0, 0, 0.15);\n",
              "      filter: drop-shadow(0px 1px 2px rgba(0, 0, 0, 0.3));\n",
              "      fill: #FFFFFF;\n",
              "    }\n",
              "  </style>\n",
              "\n",
              "      <script>\n",
              "        const buttonEl =\n",
              "          document.querySelector('#df-48997b9d-7423-4688-8c39-2a701e551eb3 button.colab-df-convert');\n",
              "        buttonEl.style.display =\n",
              "          google.colab.kernel.accessAllowed ? 'block' : 'none';\n",
              "\n",
              "        async function convertToInteractive(key) {\n",
              "          const element = document.querySelector('#df-48997b9d-7423-4688-8c39-2a701e551eb3');\n",
              "          const dataTable =\n",
              "            await google.colab.kernel.invokeFunction('convertToInteractive',\n",
              "                                                     [key], {});\n",
              "          if (!dataTable) return;\n",
              "\n",
              "          const docLinkHtml = 'Like what you see? Visit the ' +\n",
              "            '<a target=\"_blank\" href=https://colab.research.google.com/notebooks/data_table.ipynb>data table notebook</a>'\n",
              "            + ' to learn more about interactive tables.';\n",
              "          element.innerHTML = '';\n",
              "          dataTable['output_type'] = 'display_data';\n",
              "          await google.colab.output.renderOutput(dataTable, element);\n",
              "          const docLink = document.createElement('div');\n",
              "          docLink.innerHTML = docLinkHtml;\n",
              "          element.appendChild(docLink);\n",
              "        }\n",
              "      </script>\n",
              "    </div>\n",
              "  </div>\n",
              "  "
            ]
          },
          "metadata": {},
          "execution_count": 11
        }
      ],
      "source": [
        "df.sample(5).T"
      ]
    },
    {
      "cell_type": "code",
      "execution_count": 12,
      "metadata": {
        "colab": {
          "base_uri": "https://localhost:8080/",
          "height": 582
        },
        "id": "MemlRHZs4xK3",
        "outputId": "c38c5796-e4ac-4170-bb8b-5693aae7f073"
      },
      "outputs": [
        {
          "output_type": "execute_result",
          "data": {
            "text/plain": [
              "                  count      mean       std      min       25%       50%  \\\n",
              "COHORTS        7,139.00     -5.59     22.88   -99.00      0.00      0.00   \n",
              "PYS_USE_VENN   7,139.00      0.17      0.64     0.00      0.00      0.00   \n",
              "PSY_USE_YN     7,139.00      0.07      0.26     0.00      0.00      0.00   \n",
              "PM_USE_YN      7,139.00      0.04      0.19     0.00      0.00      0.00   \n",
              "PM_USE_ONLY_YN 7,139.00      0.02      0.13     0.00      0.00      0.00   \n",
              "PM_VS_PSY_YN   7,139.00    -91.60     26.25   -99.00    -99.00    -99.00   \n",
              "SEX            7,139.00      0.46      0.50     0.00      0.00      0.00   \n",
              "AGE            7,139.00     46.15     16.65    18.00     33.00     43.00   \n",
              "ETHNICITY      7,139.00      1.95      0.51     1.00      2.00      2.00   \n",
              "HLS_YN         7,139.00      0.08      0.27     0.00      0.00      0.00   \n",
              "REGION         7,139.00      2.63      1.00     1.00      2.00      3.00   \n",
              "ED             7,139.00      0.73      0.45     0.00      0.00      1.00   \n",
              "EMPL           7,139.00      0.30      0.46     0.00      0.00      0.00   \n",
              "INCOME         7,139.00 64,563.71 26,258.63 9,076.00 46,322.50 58,129.00   \n",
              "BMI            7,139.00     28.02      7.25    11.16     23.05     26.58   \n",
              "GAD7_SCORE     7,139.00      6.33      5.89     0.00      1.00      5.00   \n",
              "PHQ9_SCORE     7,139.00      7.33      6.99     0.00      1.00      5.00   \n",
              "\n",
              "                     75%        max  \n",
              "COHORTS             0.00       1.00  \n",
              "PYS_USE_VENN        0.00       3.00  \n",
              "PSY_USE_YN          0.00       1.00  \n",
              "PM_USE_YN           0.00       1.00  \n",
              "PM_USE_ONLY_YN      0.00       1.00  \n",
              "PM_VS_PSY_YN      -99.00       2.00  \n",
              "SEX                 1.00       1.00  \n",
              "AGE                60.00      95.00  \n",
              "ETHNICITY           2.00       3.00  \n",
              "HLS_YN              0.00       1.00  \n",
              "REGION              3.00       4.00  \n",
              "ED                  1.00       1.00  \n",
              "EMPL                1.00       1.00  \n",
              "INCOME         77,263.00 237,841.00  \n",
              "BMI                31.41      73.12  \n",
              "GAD7_SCORE         10.00      21.00  \n",
              "PHQ9_SCORE         12.00      27.00  "
            ],
            "text/html": [
              "\n",
              "  <div id=\"df-11f2a65d-ffae-4123-bada-594ceaa6bec9\">\n",
              "    <div class=\"colab-df-container\">\n",
              "      <div>\n",
              "<style scoped>\n",
              "    .dataframe tbody tr th:only-of-type {\n",
              "        vertical-align: middle;\n",
              "    }\n",
              "\n",
              "    .dataframe tbody tr th {\n",
              "        vertical-align: top;\n",
              "    }\n",
              "\n",
              "    .dataframe thead th {\n",
              "        text-align: right;\n",
              "    }\n",
              "</style>\n",
              "<table border=\"1\" class=\"dataframe\">\n",
              "  <thead>\n",
              "    <tr style=\"text-align: right;\">\n",
              "      <th></th>\n",
              "      <th>count</th>\n",
              "      <th>mean</th>\n",
              "      <th>std</th>\n",
              "      <th>min</th>\n",
              "      <th>25%</th>\n",
              "      <th>50%</th>\n",
              "      <th>75%</th>\n",
              "      <th>max</th>\n",
              "    </tr>\n",
              "  </thead>\n",
              "  <tbody>\n",
              "    <tr>\n",
              "      <th>COHORTS</th>\n",
              "      <td>7,139.00</td>\n",
              "      <td>-5.59</td>\n",
              "      <td>22.88</td>\n",
              "      <td>-99.00</td>\n",
              "      <td>0.00</td>\n",
              "      <td>0.00</td>\n",
              "      <td>0.00</td>\n",
              "      <td>1.00</td>\n",
              "    </tr>\n",
              "    <tr>\n",
              "      <th>PYS_USE_VENN</th>\n",
              "      <td>7,139.00</td>\n",
              "      <td>0.17</td>\n",
              "      <td>0.64</td>\n",
              "      <td>0.00</td>\n",
              "      <td>0.00</td>\n",
              "      <td>0.00</td>\n",
              "      <td>0.00</td>\n",
              "      <td>3.00</td>\n",
              "    </tr>\n",
              "    <tr>\n",
              "      <th>PSY_USE_YN</th>\n",
              "      <td>7,139.00</td>\n",
              "      <td>0.07</td>\n",
              "      <td>0.26</td>\n",
              "      <td>0.00</td>\n",
              "      <td>0.00</td>\n",
              "      <td>0.00</td>\n",
              "      <td>0.00</td>\n",
              "      <td>1.00</td>\n",
              "    </tr>\n",
              "    <tr>\n",
              "      <th>PM_USE_YN</th>\n",
              "      <td>7,139.00</td>\n",
              "      <td>0.04</td>\n",
              "      <td>0.19</td>\n",
              "      <td>0.00</td>\n",
              "      <td>0.00</td>\n",
              "      <td>0.00</td>\n",
              "      <td>0.00</td>\n",
              "      <td>1.00</td>\n",
              "    </tr>\n",
              "    <tr>\n",
              "      <th>PM_USE_ONLY_YN</th>\n",
              "      <td>7,139.00</td>\n",
              "      <td>0.02</td>\n",
              "      <td>0.13</td>\n",
              "      <td>0.00</td>\n",
              "      <td>0.00</td>\n",
              "      <td>0.00</td>\n",
              "      <td>0.00</td>\n",
              "      <td>1.00</td>\n",
              "    </tr>\n",
              "    <tr>\n",
              "      <th>PM_VS_PSY_YN</th>\n",
              "      <td>7,139.00</td>\n",
              "      <td>-91.60</td>\n",
              "      <td>26.25</td>\n",
              "      <td>-99.00</td>\n",
              "      <td>-99.00</td>\n",
              "      <td>-99.00</td>\n",
              "      <td>-99.00</td>\n",
              "      <td>2.00</td>\n",
              "    </tr>\n",
              "    <tr>\n",
              "      <th>SEX</th>\n",
              "      <td>7,139.00</td>\n",
              "      <td>0.46</td>\n",
              "      <td>0.50</td>\n",
              "      <td>0.00</td>\n",
              "      <td>0.00</td>\n",
              "      <td>0.00</td>\n",
              "      <td>1.00</td>\n",
              "      <td>1.00</td>\n",
              "    </tr>\n",
              "    <tr>\n",
              "      <th>AGE</th>\n",
              "      <td>7,139.00</td>\n",
              "      <td>46.15</td>\n",
              "      <td>16.65</td>\n",
              "      <td>18.00</td>\n",
              "      <td>33.00</td>\n",
              "      <td>43.00</td>\n",
              "      <td>60.00</td>\n",
              "      <td>95.00</td>\n",
              "    </tr>\n",
              "    <tr>\n",
              "      <th>ETHNICITY</th>\n",
              "      <td>7,139.00</td>\n",
              "      <td>1.95</td>\n",
              "      <td>0.51</td>\n",
              "      <td>1.00</td>\n",
              "      <td>2.00</td>\n",
              "      <td>2.00</td>\n",
              "      <td>2.00</td>\n",
              "      <td>3.00</td>\n",
              "    </tr>\n",
              "    <tr>\n",
              "      <th>HLS_YN</th>\n",
              "      <td>7,139.00</td>\n",
              "      <td>0.08</td>\n",
              "      <td>0.27</td>\n",
              "      <td>0.00</td>\n",
              "      <td>0.00</td>\n",
              "      <td>0.00</td>\n",
              "      <td>0.00</td>\n",
              "      <td>1.00</td>\n",
              "    </tr>\n",
              "    <tr>\n",
              "      <th>REGION</th>\n",
              "      <td>7,139.00</td>\n",
              "      <td>2.63</td>\n",
              "      <td>1.00</td>\n",
              "      <td>1.00</td>\n",
              "      <td>2.00</td>\n",
              "      <td>3.00</td>\n",
              "      <td>3.00</td>\n",
              "      <td>4.00</td>\n",
              "    </tr>\n",
              "    <tr>\n",
              "      <th>ED</th>\n",
              "      <td>7,139.00</td>\n",
              "      <td>0.73</td>\n",
              "      <td>0.45</td>\n",
              "      <td>0.00</td>\n",
              "      <td>0.00</td>\n",
              "      <td>1.00</td>\n",
              "      <td>1.00</td>\n",
              "      <td>1.00</td>\n",
              "    </tr>\n",
              "    <tr>\n",
              "      <th>EMPL</th>\n",
              "      <td>7,139.00</td>\n",
              "      <td>0.30</td>\n",
              "      <td>0.46</td>\n",
              "      <td>0.00</td>\n",
              "      <td>0.00</td>\n",
              "      <td>0.00</td>\n",
              "      <td>1.00</td>\n",
              "      <td>1.00</td>\n",
              "    </tr>\n",
              "    <tr>\n",
              "      <th>INCOME</th>\n",
              "      <td>7,139.00</td>\n",
              "      <td>64,563.71</td>\n",
              "      <td>26,258.63</td>\n",
              "      <td>9,076.00</td>\n",
              "      <td>46,322.50</td>\n",
              "      <td>58,129.00</td>\n",
              "      <td>77,263.00</td>\n",
              "      <td>237,841.00</td>\n",
              "    </tr>\n",
              "    <tr>\n",
              "      <th>BMI</th>\n",
              "      <td>7,139.00</td>\n",
              "      <td>28.02</td>\n",
              "      <td>7.25</td>\n",
              "      <td>11.16</td>\n",
              "      <td>23.05</td>\n",
              "      <td>26.58</td>\n",
              "      <td>31.41</td>\n",
              "      <td>73.12</td>\n",
              "    </tr>\n",
              "    <tr>\n",
              "      <th>GAD7_SCORE</th>\n",
              "      <td>7,139.00</td>\n",
              "      <td>6.33</td>\n",
              "      <td>5.89</td>\n",
              "      <td>0.00</td>\n",
              "      <td>1.00</td>\n",
              "      <td>5.00</td>\n",
              "      <td>10.00</td>\n",
              "      <td>21.00</td>\n",
              "    </tr>\n",
              "    <tr>\n",
              "      <th>PHQ9_SCORE</th>\n",
              "      <td>7,139.00</td>\n",
              "      <td>7.33</td>\n",
              "      <td>6.99</td>\n",
              "      <td>0.00</td>\n",
              "      <td>1.00</td>\n",
              "      <td>5.00</td>\n",
              "      <td>12.00</td>\n",
              "      <td>27.00</td>\n",
              "    </tr>\n",
              "  </tbody>\n",
              "</table>\n",
              "</div>\n",
              "      <button class=\"colab-df-convert\" onclick=\"convertToInteractive('df-11f2a65d-ffae-4123-bada-594ceaa6bec9')\"\n",
              "              title=\"Convert this dataframe to an interactive table.\"\n",
              "              style=\"display:none;\">\n",
              "        \n",
              "  <svg xmlns=\"http://www.w3.org/2000/svg\" height=\"24px\"viewBox=\"0 0 24 24\"\n",
              "       width=\"24px\">\n",
              "    <path d=\"M0 0h24v24H0V0z\" fill=\"none\"/>\n",
              "    <path d=\"M18.56 5.44l.94 2.06.94-2.06 2.06-.94-2.06-.94-.94-2.06-.94 2.06-2.06.94zm-11 1L8.5 8.5l.94-2.06 2.06-.94-2.06-.94L8.5 2.5l-.94 2.06-2.06.94zm10 10l.94 2.06.94-2.06 2.06-.94-2.06-.94-.94-2.06-.94 2.06-2.06.94z\"/><path d=\"M17.41 7.96l-1.37-1.37c-.4-.4-.92-.59-1.43-.59-.52 0-1.04.2-1.43.59L10.3 9.45l-7.72 7.72c-.78.78-.78 2.05 0 2.83L4 21.41c.39.39.9.59 1.41.59.51 0 1.02-.2 1.41-.59l7.78-7.78 2.81-2.81c.8-.78.8-2.07 0-2.86zM5.41 20L4 18.59l7.72-7.72 1.47 1.35L5.41 20z\"/>\n",
              "  </svg>\n",
              "      </button>\n",
              "      \n",
              "  <style>\n",
              "    .colab-df-container {\n",
              "      display:flex;\n",
              "      flex-wrap:wrap;\n",
              "      gap: 12px;\n",
              "    }\n",
              "\n",
              "    .colab-df-convert {\n",
              "      background-color: #E8F0FE;\n",
              "      border: none;\n",
              "      border-radius: 50%;\n",
              "      cursor: pointer;\n",
              "      display: none;\n",
              "      fill: #1967D2;\n",
              "      height: 32px;\n",
              "      padding: 0 0 0 0;\n",
              "      width: 32px;\n",
              "    }\n",
              "\n",
              "    .colab-df-convert:hover {\n",
              "      background-color: #E2EBFA;\n",
              "      box-shadow: 0px 1px 2px rgba(60, 64, 67, 0.3), 0px 1px 3px 1px rgba(60, 64, 67, 0.15);\n",
              "      fill: #174EA6;\n",
              "    }\n",
              "\n",
              "    [theme=dark] .colab-df-convert {\n",
              "      background-color: #3B4455;\n",
              "      fill: #D2E3FC;\n",
              "    }\n",
              "\n",
              "    [theme=dark] .colab-df-convert:hover {\n",
              "      background-color: #434B5C;\n",
              "      box-shadow: 0px 1px 3px 1px rgba(0, 0, 0, 0.15);\n",
              "      filter: drop-shadow(0px 1px 2px rgba(0, 0, 0, 0.3));\n",
              "      fill: #FFFFFF;\n",
              "    }\n",
              "  </style>\n",
              "\n",
              "      <script>\n",
              "        const buttonEl =\n",
              "          document.querySelector('#df-11f2a65d-ffae-4123-bada-594ceaa6bec9 button.colab-df-convert');\n",
              "        buttonEl.style.display =\n",
              "          google.colab.kernel.accessAllowed ? 'block' : 'none';\n",
              "\n",
              "        async function convertToInteractive(key) {\n",
              "          const element = document.querySelector('#df-11f2a65d-ffae-4123-bada-594ceaa6bec9');\n",
              "          const dataTable =\n",
              "            await google.colab.kernel.invokeFunction('convertToInteractive',\n",
              "                                                     [key], {});\n",
              "          if (!dataTable) return;\n",
              "\n",
              "          const docLinkHtml = 'Like what you see? Visit the ' +\n",
              "            '<a target=\"_blank\" href=https://colab.research.google.com/notebooks/data_table.ipynb>data table notebook</a>'\n",
              "            + ' to learn more about interactive tables.';\n",
              "          element.innerHTML = '';\n",
              "          dataTable['output_type'] = 'display_data';\n",
              "          await google.colab.output.renderOutput(dataTable, element);\n",
              "          const docLink = document.createElement('div');\n",
              "          docLink.innerHTML = docLinkHtml;\n",
              "          element.appendChild(docLink);\n",
              "        }\n",
              "      </script>\n",
              "    </div>\n",
              "  </div>\n",
              "  "
            ]
          },
          "metadata": {},
          "execution_count": 12
        }
      ],
      "source": [
        "df.describe().T"
      ]
    },
    {
      "cell_type": "code",
      "execution_count": 13,
      "metadata": {
        "colab": {
          "base_uri": "https://localhost:8080/"
        },
        "id": "jKhD6nW_iMjw",
        "outputId": "9c90c217-1644-486d-d480-99728a9a6b6d"
      },
      "outputs": [
        {
          "output_type": "stream",
          "name": "stdout",
          "text": [
            "<class 'pandas.core.frame.DataFrame'>\n",
            "Int64Index: 7139 entries, 1 to 7139\n",
            "Data columns (total 17 columns):\n",
            " #   Column          Non-Null Count  Dtype  \n",
            "---  ------          --------------  -----  \n",
            " 0   COHORTS         7139 non-null   float64\n",
            " 1   PYS_USE_VENN    7139 non-null   float64\n",
            " 2   PSY_USE_YN      7139 non-null   float64\n",
            " 3   PM_USE_YN       7139 non-null   float64\n",
            " 4   PM_USE_ONLY_YN  7139 non-null   float64\n",
            " 5   PM_VS_PSY_YN    7139 non-null   float64\n",
            " 6   SEX             7139 non-null   int64  \n",
            " 7   AGE             7139 non-null   float64\n",
            " 8   ETHNICITY       7139 non-null   float64\n",
            " 9   HLS_YN          7139 non-null   float64\n",
            " 10  REGION          7139 non-null   float64\n",
            " 11  ED              7139 non-null   float64\n",
            " 12  EMPL            7139 non-null   float64\n",
            " 13  INCOME          7139 non-null   int64  \n",
            " 14  BMI             7139 non-null   float64\n",
            " 15  GAD7_SCORE      7139 non-null   float64\n",
            " 16  PHQ9_SCORE      7139 non-null   float64\n",
            "dtypes: float64(15), int64(2)\n",
            "memory usage: 1003.9 KB\n"
          ]
        }
      ],
      "source": [
        "df.info()"
      ]
    },
    {
      "cell_type": "markdown",
      "metadata": {
        "id": "DqORVIT68LaI"
      },
      "source": [
        "there are a few columns that have the wrong **data type** such as **PSY_USE_YN** that should be integers not floats"
      ]
    },
    {
      "cell_type": "code",
      "execution_count": 14,
      "metadata": {
        "id": "sBiZ0r4aoj6g"
      },
      "outputs": [],
      "source": [
        "# make a dataframe of columns to convert to int64\n",
        "convert_cols = {'COHORTS':'int64',\n",
        "                'PYS_USE_VENN':'int64',\n",
        "                'PSY_USE_YN':'int64',\n",
        "                'PM_USE_YN':'int64',\n",
        "                'PM_USE_ONLY_YN':'int64',\n",
        "                'PM_VS_PSY_YN':'int64',\n",
        "                'SEX':'int64',\n",
        "                'AGE':'int64',\n",
        "                'ETHNICITY':'int64',\n",
        "                'HLS_YN':'int64',\n",
        "                'REGION':'int64',\n",
        "                'ED':'int64',\n",
        "                'EMPL':'int64'\n",
        "                              \n",
        "               }"
      ]
    },
    {
      "cell_type": "code",
      "execution_count": 15,
      "metadata": {
        "id": "nDd76HN8oj6g"
      },
      "outputs": [],
      "source": [
        "df = df.astype(convert_cols)"
      ]
    },
    {
      "cell_type": "code",
      "execution_count": 16,
      "metadata": {
        "id": "INgO4mECoj6g",
        "outputId": "065bcb67-a4a2-4e70-988e-70f0c9d9ae19",
        "colab": {
          "base_uri": "https://localhost:8080/"
        }
      },
      "outputs": [
        {
          "output_type": "stream",
          "name": "stdout",
          "text": [
            "<class 'pandas.core.frame.DataFrame'>\n",
            "Int64Index: 7139 entries, 1 to 7139\n",
            "Data columns (total 17 columns):\n",
            " #   Column          Non-Null Count  Dtype  \n",
            "---  ------          --------------  -----  \n",
            " 0   COHORTS         7139 non-null   int64  \n",
            " 1   PYS_USE_VENN    7139 non-null   int64  \n",
            " 2   PSY_USE_YN      7139 non-null   int64  \n",
            " 3   PM_USE_YN       7139 non-null   int64  \n",
            " 4   PM_USE_ONLY_YN  7139 non-null   int64  \n",
            " 5   PM_VS_PSY_YN    7139 non-null   int64  \n",
            " 6   SEX             7139 non-null   int64  \n",
            " 7   AGE             7139 non-null   int64  \n",
            " 8   ETHNICITY       7139 non-null   int64  \n",
            " 9   HLS_YN          7139 non-null   int64  \n",
            " 10  REGION          7139 non-null   int64  \n",
            " 11  ED              7139 non-null   int64  \n",
            " 12  EMPL            7139 non-null   int64  \n",
            " 13  INCOME          7139 non-null   int64  \n",
            " 14  BMI             7139 non-null   float64\n",
            " 15  GAD7_SCORE      7139 non-null   float64\n",
            " 16  PHQ9_SCORE      7139 non-null   float64\n",
            "dtypes: float64(3), int64(14)\n",
            "memory usage: 1003.9 KB\n"
          ]
        }
      ],
      "source": [
        "df.info()"
      ]
    },
    {
      "cell_type": "markdown",
      "metadata": {
        "id": "VJ9HeQpYoj6h"
      },
      "source": [
        "looks like the columns are the correct data types now "
      ]
    },
    {
      "cell_type": "code",
      "execution_count": 17,
      "metadata": {
        "id": "L_n4Lx_roj6h",
        "outputId": "3293b0b2-d85d-4320-e3b6-fad92ab1cf89",
        "colab": {
          "base_uri": "https://localhost:8080/",
          "height": 726
        }
      },
      "outputs": [
        {
          "output_type": "display_data",
          "data": {
            "text/plain": [
              "<Figure size 720x720 with 20 Axes>"
            ],
            "image/png": "[encoded data removed]"
          },
          "metadata": {
            "needs_background": "light"
          }
        }
      ],
      "source": [
        "sns.pairplot(df[['GAD7_SCORE','PHQ9_SCORE', 'BMI', 'INCOME']]);"
      ]
    },
    {
      "cell_type": "markdown",
      "metadata": {
        "id": "8TA1uPPKoj6i"
      },
      "source": [
        "looks like PHQ9_SCORE(Depression Score) and GAD7_Score(Anxiety) and positively correlated, would be better for the model if one of these were dropped, the interest for this analysis is in the PHQ9 score, which is more of a sevre indicator"
      ]
    },
    {
      "cell_type": "code",
      "execution_count": 18,
      "metadata": {
        "id": "yG-WyR1_oj6i",
        "outputId": "b92ef7bc-986f-4c25-916a-f5c5cfba6b21",
        "colab": {
          "base_uri": "https://localhost:8080/"
        }
      },
      "outputs": [
        {
          "output_type": "stream",
          "name": "stdout",
          "text": [
            "<class 'pandas.core.frame.DataFrame'>\n",
            "Int64Index: 7139 entries, 1 to 7139\n",
            "Data columns (total 16 columns):\n",
            " #   Column          Non-Null Count  Dtype  \n",
            "---  ------          --------------  -----  \n",
            " 0   COHORTS         7139 non-null   int64  \n",
            " 1   PYS_USE_VENN    7139 non-null   int64  \n",
            " 2   PSY_USE_YN      7139 non-null   int64  \n",
            " 3   PM_USE_YN       7139 non-null   int64  \n",
            " 4   PM_USE_ONLY_YN  7139 non-null   int64  \n",
            " 5   PM_VS_PSY_YN    7139 non-null   int64  \n",
            " 6   SEX             7139 non-null   int64  \n",
            " 7   AGE             7139 non-null   int64  \n",
            " 8   ETHNICITY       7139 non-null   int64  \n",
            " 9   HLS_YN          7139 non-null   int64  \n",
            " 10  REGION          7139 non-null   int64  \n",
            " 11  ED              7139 non-null   int64  \n",
            " 12  EMPL            7139 non-null   int64  \n",
            " 13  INCOME          7139 non-null   int64  \n",
            " 14  BMI             7139 non-null   float64\n",
            " 15  PHQ9_SCORE      7139 non-null   float64\n",
            "dtypes: float64(2), int64(14)\n",
            "memory usage: 1.2 MB\n"
          ]
        }
      ],
      "source": [
        "df = df.drop('GAD7_SCORE', axis = 1)\n",
        "df.info()"
      ]
    },
    {
      "cell_type": "code",
      "execution_count": 19,
      "metadata": {
        "colab": {
          "base_uri": "https://localhost:8080/"
        },
        "id": "fOI52wydz7XH",
        "outputId": "11bcf66c-69b7-431d-a30e-48f3a10eaee9"
      },
      "outputs": [
        {
          "output_type": "execute_result",
          "data": {
            "text/plain": [
              " 0     6613\n",
              "-99     404\n",
              " 1      122\n",
              "Name: COHORTS, dtype: int64"
            ]
          },
          "metadata": {},
          "execution_count": 19
        }
      ],
      "source": [
        "df['COHORTS'].value_counts()"
      ]
    },
    {
      "cell_type": "code",
      "execution_count": 19,
      "metadata": {
        "id": "qcTE8QLUoj6i"
      },
      "outputs": [],
      "source": []
    },
    {
      "cell_type": "code",
      "execution_count": 20,
      "metadata": {
        "colab": {
          "base_uri": "https://localhost:8080/"
        },
        "id": "qMmZZ2EK1A4L",
        "outputId": "6fc89c6a-fb4b-4707-b100-ec38ae406e21"
      },
      "outputs": [
        {
          "output_type": "execute_result",
          "data": {
            "text/plain": [
              "0    7017\n",
              "1     122\n",
              "Name: PM_USE_ONLY_YN, dtype: int64"
            ]
          },
          "metadata": {},
          "execution_count": 20
        }
      ],
      "source": [
        "df['PM_USE_ONLY_YN'].value_counts()"
      ]
    },
    {
      "cell_type": "code",
      "execution_count": 21,
      "metadata": {
        "colab": {
          "base_uri": "https://localhost:8080/"
        },
        "id": "PkEHDq6D1_04",
        "outputId": "36164eab-4016-427d-f7f9-3f9162caf20f"
      },
      "outputs": [
        {
          "output_type": "execute_result",
          "data": {
            "text/plain": [
              "-99    6613\n",
              " 1      270\n",
              " 2      256\n",
              "Name: PM_VS_PSY_YN, dtype: int64"
            ]
          },
          "metadata": {},
          "execution_count": 21
        }
      ],
      "source": [
        "df['PM_VS_PSY_YN'].value_counts()"
      ]
    },
    {
      "cell_type": "code",
      "execution_count": 22,
      "metadata": {
        "colab": {
          "base_uri": "https://localhost:8080/"
        },
        "id": "5bgLgpeL2lsB",
        "outputId": "097697b2-b2f0-404b-aade-e51969c7f2dc"
      },
      "outputs": [
        {
          "output_type": "execute_result",
          "data": {
            "text/plain": [
              "0    6613\n",
              "1     526\n",
              "Name: PSY_USE_YN, dtype: int64"
            ]
          },
          "metadata": {},
          "execution_count": 22
        }
      ],
      "source": [
        "df['PSY_USE_YN'].value_counts()"
      ]
    },
    {
      "cell_type": "code",
      "execution_count": 23,
      "metadata": {
        "id": "ZzIK-NzYoj6k",
        "outputId": "4ac82ce4-aa62-4ea3-8deb-701eb5e3ef82",
        "colab": {
          "base_uri": "https://localhost:8080/"
        }
      },
      "outputs": [
        {
          "output_type": "execute_result",
          "data": {
            "text/plain": [
              "0    6613\n",
              "3     270\n",
              "2     134\n",
              "1     122\n",
              "Name: PYS_USE_VENN, dtype: int64"
            ]
          },
          "metadata": {},
          "execution_count": 23
        }
      ],
      "source": [
        "df['PYS_USE_VENN'].value_counts()"
      ]
    },
    {
      "cell_type": "code",
      "execution_count": 24,
      "metadata": {
        "id": "s6Ru3EXRoj6k",
        "outputId": "696121f4-8aa7-48fd-c109-be73f79a0699",
        "colab": {
          "base_uri": "https://localhost:8080/"
        }
      },
      "outputs": [
        {
          "output_type": "execute_result",
          "data": {
            "text/plain": [
              "0    6883\n",
              "1     256\n",
              "Name: PM_USE_YN, dtype: int64"
            ]
          },
          "metadata": {},
          "execution_count": 24
        }
      ],
      "source": [
        "df['PM_USE_YN'].value_counts()"
      ]
    },
    {
      "cell_type": "code",
      "execution_count": 25,
      "metadata": {
        "id": "Z4k72vqPoj6k",
        "outputId": "9c446a3e-1092-4147-e2ad-f686426d04ed",
        "colab": {
          "base_uri": "https://localhost:8080/"
        }
      },
      "outputs": [
        {
          "output_type": "execute_result",
          "data": {
            "text/plain": [
              "0    7017\n",
              "1     122\n",
              "Name: PM_USE_ONLY_YN, dtype: int64"
            ]
          },
          "metadata": {},
          "execution_count": 25
        }
      ],
      "source": [
        "df['PM_USE_ONLY_YN'].value_counts()"
      ]
    },
    {
      "cell_type": "markdown",
      "metadata": {
        "id": "mAK1_WLn5G9t"
      },
      "source": [
        "The dataset seems to be unbalanced with more 0 than 1s if we were going to classify psychedelics use. Even though predicting psychedelic use based on the other features, a more interesting question is predicting the depression score based on the other features. This way you can have some idea of their beanift"
      ]
    },
    {
      "cell_type": "markdown",
      "metadata": {
        "id": "ERZe0D4ooj6l"
      },
      "source": [
        "Would like to use **PM_USE_ONLY_YN** or **PSY_USE_YN** the **PSY_USE_YN**(which is psychedelics used as a 1 or 0 otherwise) yet different psychedelics have different effects on mind based on research, but it's a good start for a simplified model"
      ]
    },
    {
      "cell_type": "code",
      "execution_count": 26,
      "metadata": {
        "id": "PAosrkXQoj6l"
      },
      "outputs": [],
      "source": [
        "df.drop(['COHORTS',  'PYS_USE_VENN', 'PM_USE_YN',  'PM_USE_ONLY_YN','PM_VS_PSY_YN'], axis=1, \\\n",
        "       inplace=True)"
      ]
    },
    {
      "cell_type": "code",
      "execution_count": 27,
      "metadata": {
        "colab": {
          "base_uri": "https://localhost:8080/",
          "height": 394
        },
        "id": "0uBdhOea5k3p",
        "outputId": "b00119f1-7bb2-42f7-e2da-311767f7cfc9"
      },
      "outputs": [
        {
          "output_type": "execute_result",
          "data": {
            "text/plain": [
              "              count      mean       std      min       25%       50%  \\\n",
              "PSY_USE_YN 7,139.00      0.07      0.26     0.00      0.00      0.00   \n",
              "SEX        7,139.00      0.46      0.50     0.00      0.00      0.00   \n",
              "AGE        7,139.00     46.15     16.65    18.00     33.00     43.00   \n",
              "ETHNICITY  7,139.00      1.95      0.51     1.00      2.00      2.00   \n",
              "HLS_YN     7,139.00      0.08      0.27     0.00      0.00      0.00   \n",
              "REGION     7,139.00      2.63      1.00     1.00      2.00      3.00   \n",
              "ED         7,139.00      0.73      0.45     0.00      0.00      1.00   \n",
              "EMPL       7,139.00      0.30      0.46     0.00      0.00      0.00   \n",
              "INCOME     7,139.00 64,563.71 26,258.63 9,076.00 46,322.50 58,129.00   \n",
              "BMI        7,139.00     28.02      7.25    11.16     23.05     26.58   \n",
              "PHQ9_SCORE 7,139.00      7.33      6.99     0.00      1.00      5.00   \n",
              "\n",
              "                 75%        max  \n",
              "PSY_USE_YN      0.00       1.00  \n",
              "SEX             1.00       1.00  \n",
              "AGE            60.00      95.00  \n",
              "ETHNICITY       2.00       3.00  \n",
              "HLS_YN          0.00       1.00  \n",
              "REGION          3.00       4.00  \n",
              "ED              1.00       1.00  \n",
              "EMPL            1.00       1.00  \n",
              "INCOME     77,263.00 237,841.00  \n",
              "BMI            31.41      73.12  \n",
              "PHQ9_SCORE     12.00      27.00  "
            ],
            "text/html": [
              "\n",
              "  <div id=\"df-cca7c919-44cf-4518-8fc0-7ef5329dcfc4\">\n",
              "    <div class=\"colab-df-container\">\n",
              "      <div>\n",
              "<style scoped>\n",
              "    .dataframe tbody tr th:only-of-type {\n",
              "        vertical-align: middle;\n",
              "    }\n",
              "\n",
              "    .dataframe tbody tr th {\n",
              "        vertical-align: top;\n",
              "    }\n",
              "\n",
              "    .dataframe thead th {\n",
              "        text-align: right;\n",
              "    }\n",
              "</style>\n",
              "<table border=\"1\" class=\"dataframe\">\n",
              "  <thead>\n",
              "    <tr style=\"text-align: right;\">\n",
              "      <th></th>\n",
              "      <th>count</th>\n",
              "      <th>mean</th>\n",
              "      <th>std</th>\n",
              "      <th>min</th>\n",
              "      <th>25%</th>\n",
              "      <th>50%</th>\n",
              "      <th>75%</th>\n",
              "      <th>max</th>\n",
              "    </tr>\n",
              "  </thead>\n",
              "  <tbody>\n",
              "    <tr>\n",
              "      <th>PSY_USE_YN</th>\n",
              "      <td>7,139.00</td>\n",
              "      <td>0.07</td>\n",
              "      <td>0.26</td>\n",
              "      <td>0.00</td>\n",
              "      <td>0.00</td>\n",
              "      <td>0.00</td>\n",
              "      <td>0.00</td>\n",
              "      <td>1.00</td>\n",
              "    </tr>\n",
              "    <tr>\n",
              "      <th>SEX</th>\n",
              "      <td>7,139.00</td>\n",
              "      <td>0.46</td>\n",
              "      <td>0.50</td>\n",
              "      <td>0.00</td>\n",
              "      <td>0.00</td>\n",
              "      <td>0.00</td>\n",
              "      <td>1.00</td>\n",
              "      <td>1.00</td>\n",
              "    </tr>\n",
              "    <tr>\n",
              "      <th>AGE</th>\n",
              "      <td>7,139.00</td>\n",
              "      <td>46.15</td>\n",
              "      <td>16.65</td>\n",
              "      <td>18.00</td>\n",
              "      <td>33.00</td>\n",
              "      <td>43.00</td>\n",
              "      <td>60.00</td>\n",
              "      <td>95.00</td>\n",
              "    </tr>\n",
              "    <tr>\n",
              "      <th>ETHNICITY</th>\n",
              "      <td>7,139.00</td>\n",
              "      <td>1.95</td>\n",
              "      <td>0.51</td>\n",
              "      <td>1.00</td>\n",
              "      <td>2.00</td>\n",
              "      <td>2.00</td>\n",
              "      <td>2.00</td>\n",
              "      <td>3.00</td>\n",
              "    </tr>\n",
              "    <tr>\n",
              "      <th>HLS_YN</th>\n",
              "      <td>7,139.00</td>\n",
              "      <td>0.08</td>\n",
              "      <td>0.27</td>\n",
              "      <td>0.00</td>\n",
              "      <td>0.00</td>\n",
              "      <td>0.00</td>\n",
              "      <td>0.00</td>\n",
              "      <td>1.00</td>\n",
              "    </tr>\n",
              "    <tr>\n",
              "      <th>REGION</th>\n",
              "      <td>7,139.00</td>\n",
              "      <td>2.63</td>\n",
              "      <td>1.00</td>\n",
              "      <td>1.00</td>\n",
              "      <td>2.00</td>\n",
              "      <td>3.00</td>\n",
              "      <td>3.00</td>\n",
              "      <td>4.00</td>\n",
              "    </tr>\n",
              "    <tr>\n",
              "      <th>ED</th>\n",
              "      <td>7,139.00</td>\n",
              "      <td>0.73</td>\n",
              "      <td>0.45</td>\n",
              "      <td>0.00</td>\n",
              "      <td>0.00</td>\n",
              "      <td>1.00</td>\n",
              "      <td>1.00</td>\n",
              "      <td>1.00</td>\n",
              "    </tr>\n",
              "    <tr>\n",
              "      <th>EMPL</th>\n",
              "      <td>7,139.00</td>\n",
              "      <td>0.30</td>\n",
              "      <td>0.46</td>\n",
              "      <td>0.00</td>\n",
              "      <td>0.00</td>\n",
              "      <td>0.00</td>\n",
              "      <td>1.00</td>\n",
              "      <td>1.00</td>\n",
              "    </tr>\n",
              "    <tr>\n",
              "      <th>INCOME</th>\n",
              "      <td>7,139.00</td>\n",
              "      <td>64,563.71</td>\n",
              "      <td>26,258.63</td>\n",
              "      <td>9,076.00</td>\n",
              "      <td>46,322.50</td>\n",
              "      <td>58,129.00</td>\n",
              "      <td>77,263.00</td>\n",
              "      <td>237,841.00</td>\n",
              "    </tr>\n",
              "    <tr>\n",
              "      <th>BMI</th>\n",
              "      <td>7,139.00</td>\n",
              "      <td>28.02</td>\n",
              "      <td>7.25</td>\n",
              "      <td>11.16</td>\n",
              "      <td>23.05</td>\n",
              "      <td>26.58</td>\n",
              "      <td>31.41</td>\n",
              "      <td>73.12</td>\n",
              "    </tr>\n",
              "    <tr>\n",
              "      <th>PHQ9_SCORE</th>\n",
              "      <td>7,139.00</td>\n",
              "      <td>7.33</td>\n",
              "      <td>6.99</td>\n",
              "      <td>0.00</td>\n",
              "      <td>1.00</td>\n",
              "      <td>5.00</td>\n",
              "      <td>12.00</td>\n",
              "      <td>27.00</td>\n",
              "    </tr>\n",
              "  </tbody>\n",
              "</table>\n",
              "</div>\n",
              "      <button class=\"colab-df-convert\" onclick=\"convertToInteractive('df-cca7c919-44cf-4518-8fc0-7ef5329dcfc4')\"\n",
              "              title=\"Convert this dataframe to an interactive table.\"\n",
              "              style=\"display:none;\">\n",
              "        \n",
              "  <svg xmlns=\"http://www.w3.org/2000/svg\" height=\"24px\"viewBox=\"0 0 24 24\"\n",
              "       width=\"24px\">\n",
              "    <path d=\"M0 0h24v24H0V0z\" fill=\"none\"/>\n",
              "    <path d=\"M18.56 5.44l.94 2.06.94-2.06 2.06-.94-2.06-.94-.94-2.06-.94 2.06-2.06.94zm-11 1L8.5 8.5l.94-2.06 2.06-.94-2.06-.94L8.5 2.5l-.94 2.06-2.06.94zm10 10l.94 2.06.94-2.06 2.06-.94-2.06-.94-.94-2.06-.94 2.06-2.06.94z\"/><path d=\"M17.41 7.96l-1.37-1.37c-.4-.4-.92-.59-1.43-.59-.52 0-1.04.2-1.43.59L10.3 9.45l-7.72 7.72c-.78.78-.78 2.05 0 2.83L4 21.41c.39.39.9.59 1.41.59.51 0 1.02-.2 1.41-.59l7.78-7.78 2.81-2.81c.8-.78.8-2.07 0-2.86zM5.41 20L4 18.59l7.72-7.72 1.47 1.35L5.41 20z\"/>\n",
              "  </svg>\n",
              "      </button>\n",
              "      \n",
              "  <style>\n",
              "    .colab-df-container {\n",
              "      display:flex;\n",
              "      flex-wrap:wrap;\n",
              "      gap: 12px;\n",
              "    }\n",
              "\n",
              "    .colab-df-convert {\n",
              "      background-color: #E8F0FE;\n",
              "      border: none;\n",
              "      border-radius: 50%;\n",
              "      cursor: pointer;\n",
              "      display: none;\n",
              "      fill: #1967D2;\n",
              "      height: 32px;\n",
              "      padding: 0 0 0 0;\n",
              "      width: 32px;\n",
              "    }\n",
              "\n",
              "    .colab-df-convert:hover {\n",
              "      background-color: #E2EBFA;\n",
              "      box-shadow: 0px 1px 2px rgba(60, 64, 67, 0.3), 0px 1px 3px 1px rgba(60, 64, 67, 0.15);\n",
              "      fill: #174EA6;\n",
              "    }\n",
              "\n",
              "    [theme=dark] .colab-df-convert {\n",
              "      background-color: #3B4455;\n",
              "      fill: #D2E3FC;\n",
              "    }\n",
              "\n",
              "    [theme=dark] .colab-df-convert:hover {\n",
              "      background-color: #434B5C;\n",
              "      box-shadow: 0px 1px 3px 1px rgba(0, 0, 0, 0.15);\n",
              "      filter: drop-shadow(0px 1px 2px rgba(0, 0, 0, 0.3));\n",
              "      fill: #FFFFFF;\n",
              "    }\n",
              "  </style>\n",
              "\n",
              "      <script>\n",
              "        const buttonEl =\n",
              "          document.querySelector('#df-cca7c919-44cf-4518-8fc0-7ef5329dcfc4 button.colab-df-convert');\n",
              "        buttonEl.style.display =\n",
              "          google.colab.kernel.accessAllowed ? 'block' : 'none';\n",
              "\n",
              "        async function convertToInteractive(key) {\n",
              "          const element = document.querySelector('#df-cca7c919-44cf-4518-8fc0-7ef5329dcfc4');\n",
              "          const dataTable =\n",
              "            await google.colab.kernel.invokeFunction('convertToInteractive',\n",
              "                                                     [key], {});\n",
              "          if (!dataTable) return;\n",
              "\n",
              "          const docLinkHtml = 'Like what you see? Visit the ' +\n",
              "            '<a target=\"_blank\" href=https://colab.research.google.com/notebooks/data_table.ipynb>data table notebook</a>'\n",
              "            + ' to learn more about interactive tables.';\n",
              "          element.innerHTML = '';\n",
              "          dataTable['output_type'] = 'display_data';\n",
              "          await google.colab.output.renderOutput(dataTable, element);\n",
              "          const docLink = document.createElement('div');\n",
              "          docLink.innerHTML = docLinkHtml;\n",
              "          element.appendChild(docLink);\n",
              "        }\n",
              "      </script>\n",
              "    </div>\n",
              "  </div>\n",
              "  "
            ]
          },
          "metadata": {},
          "execution_count": 27
        }
      ],
      "source": [
        "df.describe().T"
      ]
    },
    {
      "cell_type": "code",
      "execution_count": 28,
      "metadata": {
        "colab": {
          "base_uri": "https://localhost:8080/"
        },
        "id": "DTqfWjm1i7CN",
        "outputId": "71981831-11af-4fc5-dd78-d10591c2657d"
      },
      "outputs": [
        {
          "output_type": "stream",
          "name": "stdout",
          "text": [
            "Shape data: (7139, 11)\n",
            "Number of mission values in data: 0\n",
            "Number of duplicate values in data: 3\n"
          ]
        }
      ],
      "source": [
        "\n",
        "print(f\"Shape data: {df.shape}\")\n",
        "print(f\"Number of mission values in data: \\\n",
        "{df.isnull().sum().sum()}\")\n",
        "print(f\"Number of duplicate values in data: \\\n",
        "{df.duplicated().sum()}\")"
      ]
    },
    {
      "cell_type": "code",
      "execution_count": 29,
      "metadata": {
        "colab": {
          "base_uri": "https://localhost:8080/"
        },
        "id": "yzcjtsP55-o4",
        "outputId": "7702dd58-66e6-45b2-e49f-587919dcc39d"
      },
      "outputs": [
        {
          "output_type": "execute_result",
          "data": {
            "text/plain": [
              "PSY_USE_YN       2\n",
              "SEX              2\n",
              "AGE             76\n",
              "ETHNICITY        3\n",
              "HLS_YN           2\n",
              "REGION           4\n",
              "ED               2\n",
              "EMPL             2\n",
              "INCOME        4890\n",
              "BMI           1551\n",
              "PHQ9_SCORE      28\n",
              "dtype: int64"
            ]
          },
          "metadata": {},
          "execution_count": 29
        }
      ],
      "source": [
        "df.nunique()"
      ]
    },
    {
      "cell_type": "code",
      "execution_count": 29,
      "metadata": {
        "id": "jGofla5Aoj6m"
      },
      "outputs": [],
      "source": []
    },
    {
      "cell_type": "code",
      "execution_count": 30,
      "metadata": {
        "colab": {
          "base_uri": "https://localhost:8080/",
          "height": 899
        },
        "id": "OKqcq64w5_ZW",
        "outputId": "5f2c9bae-8123-41d3-d1d2-c33262ad85ed"
      },
      "outputs": [
        {
          "output_type": "display_data",
          "data": {
            "text/plain": [
              "<Figure size 1080x1080 with 0 Axes>"
            ]
          },
          "metadata": {}
        },
        {
          "output_type": "display_data",
          "data": {
            "text/plain": [
              "<Figure size 1080x1080 with 12 Axes>"
            ],
            "image/png": "[encoded data removed]"
          },
          "metadata": {}
        }
      ],
      "source": [
        "sns.set(rc = {'figure.figsize':(15,15)})\n",
        "plt.tight_layout()\n",
        "df.hist();"
      ]
    },
    {
      "cell_type": "markdown",
      "metadata": {
        "id": "deRNKgnH6WV4"
      },
      "source": [
        "Most of the data seems to be shewed with left tails, may need to do transformations on the data such as standardization "
      ]
    },
    {
      "cell_type": "code",
      "execution_count": 31,
      "metadata": {
        "colab": {
          "base_uri": "https://localhost:8080/",
          "height": 581
        },
        "id": "1nVyjgiX6Uxt",
        "outputId": "96ee5862-4435-49f0-bfc6-681f5637027e"
      },
      "outputs": [
        {
          "output_type": "display_data",
          "data": {
            "text/plain": [
              "<Figure size 720x576 with 1 Axes>"
            ],
            "image/png": "[encoded data removed]"
          },
          "metadata": {}
        }
      ],
      "source": [
        "sns.set(rc = {'figure.figsize':(10,8)})\n",
        "sns.boxplot(y ='PHQ9_SCORE',data=df)\n",
        "plt.ylim(0, 50)\n",
        "plt.tight_layout()"
      ]
    },
    {
      "cell_type": "markdown",
      "metadata": {
        "id": "51ebULwp6-7B"
      },
      "source": [
        "seems there are no outliers for the dependent vaiable"
      ]
    },
    {
      "cell_type": "code",
      "execution_count": 32,
      "metadata": {
        "id": "2q3Ep_S78vgC",
        "outputId": "2df479ce-79cf-41e7-8e54-7d12c8c57631",
        "colab": {
          "base_uri": "https://localhost:8080/"
        }
      },
      "outputs": [
        {
          "output_type": "execute_result",
          "data": {
            "text/plain": [
              "count   7,139.00\n",
              "mean        7.33\n",
              "std         6.99\n",
              "min         0.00\n",
              "25%         1.00\n",
              "50%         5.00\n",
              "75%        12.00\n",
              "max        27.00\n",
              "Name: PHQ9_SCORE, dtype: float64"
            ]
          },
          "metadata": {},
          "execution_count": 32
        }
      ],
      "source": [
        "df['PHQ9_SCORE'].describe()"
      ]
    },
    {
      "cell_type": "markdown",
      "metadata": {
        "id": "zKvPwM2Foj6p"
      },
      "source": [
        "**PHQ9_SCORE** has a range of 0-27, and several increasing depression categories and needs to be remapped "
      ]
    },
    {
      "cell_type": "code",
      "execution_count": 33,
      "metadata": {
        "id": "0zsKYbjSoj6p"
      },
      "outputs": [],
      "source": [
        "# define function to use with apply and lambda to remap PHQ9_SCORE column\n",
        "\n",
        "def PHQ9_remap_1(x):\n",
        "    if (x >= 0) & (x <= 4):\n",
        "        x = 1\n",
        "    elif (x >= 5) & (x <= 9):\n",
        "        x = 2\n",
        "    elif (x >= 10) & (x <= 14):\n",
        "        x = 3\n",
        "    elif (x >= 15) & (x <= 19):\n",
        "        x = 4 \n",
        "    else:\n",
        "        x = 5\n",
        "\n",
        "    return x \n",
        "\n",
        "    \n",
        "    \n",
        "\n"
      ]
    },
    {
      "cell_type": "code",
      "execution_count": 34,
      "metadata": {
        "id": "hiPP9id8oj6p"
      },
      "outputs": [],
      "source": [
        "df['PHQ9_SCORE'] = df.apply(lambda x: PHQ9_remap_1(x['PHQ9_SCORE']), axis=1)"
      ]
    },
    {
      "cell_type": "code",
      "execution_count": 35,
      "metadata": {
        "id": "p1RHUnQsoj6p",
        "outputId": "2fe1c781-2c9f-496b-b1b4-afc7e71c9e73",
        "colab": {
          "base_uri": "https://localhost:8080/"
        }
      },
      "outputs": [
        {
          "output_type": "execute_result",
          "data": {
            "text/plain": [
              "CASEID_7139\n",
              "1       2\n",
              "2       1\n",
              "3       4\n",
              "4       4\n",
              "5       4\n",
              "       ..\n",
              "7135    3\n",
              "7136    1\n",
              "7137    1\n",
              "7138    1\n",
              "7139    1\n",
              "Name: PHQ9_SCORE, Length: 7139, dtype: int64"
            ]
          },
          "metadata": {},
          "execution_count": 35
        }
      ],
      "source": [
        "df['PHQ9_SCORE']"
      ]
    },
    {
      "cell_type": "code",
      "source": [
        "df['PHQ9_SCORE'].value_counts()"
      ],
      "metadata": {
        "colab": {
          "base_uri": "https://localhost:8080/"
        },
        "id": "t6ZVVl7GJo7R",
        "outputId": "14c5d9f8-09b3-4bcf-c997-535769b4d641"
      },
      "execution_count": 36,
      "outputs": [
        {
          "output_type": "execute_result",
          "data": {
            "text/plain": [
              "1    3286\n",
              "2    1490\n",
              "3    1097\n",
              "4     774\n",
              "5     492\n",
              "Name: PHQ9_SCORE, dtype: int64"
            ]
          },
          "metadata": {},
          "execution_count": 36
        }
      ]
    },
    {
      "cell_type": "markdown",
      "source": [
        "We can see that the PHQ9 score is unbalanced, but thinking about this from a health prespective, those that are > category 1(minimal depression) don't need any type of help or action, so we will remap this into 0 needing no action and 1 needing action."
      ],
      "metadata": {
        "id": "vWOKp_HPg-oN"
      }
    },
    {
      "cell_type": "code",
      "source": [
        "def PHQ9_remap_2 (x):\n",
        "  if x == 1:\n",
        "    x = 0\n",
        "  else: \n",
        "    x = 1\n",
        "  return x "
      ],
      "metadata": {
        "id": "F173ILz5lPMx"
      },
      "execution_count": 37,
      "outputs": []
    },
    {
      "cell_type": "code",
      "source": [
        "df['PHQ9_SCORE'] = df.apply(lambda x: PHQ9_remap_2(x['PHQ9_SCORE']), axis=1)"
      ],
      "metadata": {
        "id": "cdiEptljlqwq"
      },
      "execution_count": 38,
      "outputs": []
    },
    {
      "cell_type": "code",
      "source": [
        "df['PHQ9_SCORE'].sample(10)"
      ],
      "metadata": {
        "colab": {
          "base_uri": "https://localhost:8080/"
        },
        "id": "vNLTQx_EmIYg",
        "outputId": "d9893cc6-350f-4e77-eb2a-e552a02f5fc7"
      },
      "execution_count": 39,
      "outputs": [
        {
          "output_type": "execute_result",
          "data": {
            "text/plain": [
              "CASEID_7139\n",
              "6744    1\n",
              "5719    0\n",
              "5438    0\n",
              "2818    1\n",
              "2523    1\n",
              "6475    0\n",
              "5150    1\n",
              "6922    1\n",
              "4460    1\n",
              "3296    0\n",
              "Name: PHQ9_SCORE, dtype: int64"
            ]
          },
          "metadata": {},
          "execution_count": 39
        }
      ]
    },
    {
      "cell_type": "code",
      "source": [
        "df['PHQ9_SCORE'].value_counts()"
      ],
      "metadata": {
        "colab": {
          "base_uri": "https://localhost:8080/"
        },
        "id": "zYM8pSJqyPzr",
        "outputId": "e62cf5f5-981e-4b2b-aadb-1defb4ac861b"
      },
      "execution_count": 58,
      "outputs": [
        {
          "output_type": "execute_result",
          "data": {
            "text/plain": [
              "1    3853\n",
              "0    3286\n",
              "Name: PHQ9_SCORE, dtype: int64"
            ]
          },
          "metadata": {},
          "execution_count": 58
        }
      ]
    },
    {
      "cell_type": "code",
      "source": [
        "df['PSY_USE_YN'].value_counts()"
      ],
      "metadata": {
        "colab": {
          "base_uri": "https://localhost:8080/"
        },
        "id": "69KC4mvyydNe",
        "outputId": "a62c8cbd-fe2c-46f1-cf27-8fffe678eee8"
      },
      "execution_count": 59,
      "outputs": [
        {
          "output_type": "execute_result",
          "data": {
            "text/plain": [
              "0    6613\n",
              "1     526\n",
              "Name: PSY_USE_YN, dtype: int64"
            ]
          },
          "metadata": {},
          "execution_count": 59
        }
      ]
    },
    {
      "cell_type": "code",
      "source": [],
      "metadata": {
        "colab": {
          "base_uri": "https://localhost:8080/"
        },
        "id": "5y8XKKO606c-",
        "outputId": "097f77f9-037a-4aea-dcec-81806e262e93"
      },
      "execution_count": 62,
      "outputs": [
        {
          "output_type": "execute_result",
          "data": {
            "text/plain": [
              "0.9263202129149741"
            ]
          },
          "metadata": {},
          "execution_count": 62
        }
      ]
    },
    {
      "cell_type": "markdown",
      "source": [
        "looks like the 'PSY_USE_YN' column is unbalanced "
      ],
      "metadata": {
        "id": "ab4-0LHNy2Sm"
      }
    },
    {
      "cell_type": "code",
      "source": [],
      "metadata": {
        "id": "6TGYHebDytaW"
      },
      "execution_count": null,
      "outputs": []
    },
    {
      "cell_type": "markdown",
      "source": [],
      "metadata": {
        "id": "95G5_kY1g-ju"
      }
    },
    {
      "cell_type": "code",
      "execution_count": 40,
      "metadata": {
        "id": "-TLp8_Bmoj6q",
        "outputId": "3245e752-5e11-40fa-a224-68bcbb7692f3",
        "colab": {
          "base_uri": "https://localhost:8080/",
          "height": 237
        }
      },
      "outputs": [
        {
          "output_type": "execute_result",
          "data": {
            "text/plain": [
              "             PSY_USE_YN  SEX  AGE  ETHNICITY  HLS_YN  REGION  ED  EMPL  \\\n",
              "CASEID_7139                                                              \n",
              "1                     1    0   19          3       1       4   0     0   \n",
              "2                     1    0   21          2       0       2   1     0   \n",
              "3                     1    0   22          2       0       4   0     0   \n",
              "4                     1    0   22          2       0       3   1     0   \n",
              "5                     1    0   23          2       0       2   0     1   \n",
              "\n",
              "             INCOME   BMI  PHQ9_SCORE  \n",
              "CASEID_7139                            \n",
              "1             65847 27.41           1  \n",
              "2             30585 29.26           0  \n",
              "3             49259 20.60           1  \n",
              "4             54135 18.56           1  \n",
              "5             49425 36.80           1  "
            ],
            "text/html": [
              "\n",
              "  <div id=\"df-4f246c2a-67ba-496e-8134-a2106e74be57\">\n",
              "    <div class=\"colab-df-container\">\n",
              "      <div>\n",
              "<style scoped>\n",
              "    .dataframe tbody tr th:only-of-type {\n",
              "        vertical-align: middle;\n",
              "    }\n",
              "\n",
              "    .dataframe tbody tr th {\n",
              "        vertical-align: top;\n",
              "    }\n",
              "\n",
              "    .dataframe thead th {\n",
              "        text-align: right;\n",
              "    }\n",
              "</style>\n",
              "<table border=\"1\" class=\"dataframe\">\n",
              "  <thead>\n",
              "    <tr style=\"text-align: right;\">\n",
              "      <th></th>\n",
              "      <th>PSY_USE_YN</th>\n",
              "      <th>SEX</th>\n",
              "      <th>AGE</th>\n",
              "      <th>ETHNICITY</th>\n",
              "      <th>HLS_YN</th>\n",
              "      <th>REGION</th>\n",
              "      <th>ED</th>\n",
              "      <th>EMPL</th>\n",
              "      <th>INCOME</th>\n",
              "      <th>BMI</th>\n",
              "      <th>PHQ9_SCORE</th>\n",
              "    </tr>\n",
              "    <tr>\n",
              "      <th>CASEID_7139</th>\n",
              "      <th></th>\n",
              "      <th></th>\n",
              "      <th></th>\n",
              "      <th></th>\n",
              "      <th></th>\n",
              "      <th></th>\n",
              "      <th></th>\n",
              "      <th></th>\n",
              "      <th></th>\n",
              "      <th></th>\n",
              "      <th></th>\n",
              "    </tr>\n",
              "  </thead>\n",
              "  <tbody>\n",
              "    <tr>\n",
              "      <th>1</th>\n",
              "      <td>1</td>\n",
              "      <td>0</td>\n",
              "      <td>19</td>\n",
              "      <td>3</td>\n",
              "      <td>1</td>\n",
              "      <td>4</td>\n",
              "      <td>0</td>\n",
              "      <td>0</td>\n",
              "      <td>65847</td>\n",
              "      <td>27.41</td>\n",
              "      <td>1</td>\n",
              "    </tr>\n",
              "    <tr>\n",
              "      <th>2</th>\n",
              "      <td>1</td>\n",
              "      <td>0</td>\n",
              "      <td>21</td>\n",
              "      <td>2</td>\n",
              "      <td>0</td>\n",
              "      <td>2</td>\n",
              "      <td>1</td>\n",
              "      <td>0</td>\n",
              "      <td>30585</td>\n",
              "      <td>29.26</td>\n",
              "      <td>0</td>\n",
              "    </tr>\n",
              "    <tr>\n",
              "      <th>3</th>\n",
              "      <td>1</td>\n",
              "      <td>0</td>\n",
              "      <td>22</td>\n",
              "      <td>2</td>\n",
              "      <td>0</td>\n",
              "      <td>4</td>\n",
              "      <td>0</td>\n",
              "      <td>0</td>\n",
              "      <td>49259</td>\n",
              "      <td>20.60</td>\n",
              "      <td>1</td>\n",
              "    </tr>\n",
              "    <tr>\n",
              "      <th>4</th>\n",
              "      <td>1</td>\n",
              "      <td>0</td>\n",
              "      <td>22</td>\n",
              "      <td>2</td>\n",
              "      <td>0</td>\n",
              "      <td>3</td>\n",
              "      <td>1</td>\n",
              "      <td>0</td>\n",
              "      <td>54135</td>\n",
              "      <td>18.56</td>\n",
              "      <td>1</td>\n",
              "    </tr>\n",
              "    <tr>\n",
              "      <th>5</th>\n",
              "      <td>1</td>\n",
              "      <td>0</td>\n",
              "      <td>23</td>\n",
              "      <td>2</td>\n",
              "      <td>0</td>\n",
              "      <td>2</td>\n",
              "      <td>0</td>\n",
              "      <td>1</td>\n",
              "      <td>49425</td>\n",
              "      <td>36.80</td>\n",
              "      <td>1</td>\n",
              "    </tr>\n",
              "  </tbody>\n",
              "</table>\n",
              "</div>\n",
              "      <button class=\"colab-df-convert\" onclick=\"convertToInteractive('df-4f246c2a-67ba-496e-8134-a2106e74be57')\"\n",
              "              title=\"Convert this dataframe to an interactive table.\"\n",
              "              style=\"display:none;\">\n",
              "        \n",
              "  <svg xmlns=\"http://www.w3.org/2000/svg\" height=\"24px\"viewBox=\"0 0 24 24\"\n",
              "       width=\"24px\">\n",
              "    <path d=\"M0 0h24v24H0V0z\" fill=\"none\"/>\n",
              "    <path d=\"M18.56 5.44l.94 2.06.94-2.06 2.06-.94-2.06-.94-.94-2.06-.94 2.06-2.06.94zm-11 1L8.5 8.5l.94-2.06 2.06-.94-2.06-.94L8.5 2.5l-.94 2.06-2.06.94zm10 10l.94 2.06.94-2.06 2.06-.94-2.06-.94-.94-2.06-.94 2.06-2.06.94z\"/><path d=\"M17.41 7.96l-1.37-1.37c-.4-.4-.92-.59-1.43-.59-.52 0-1.04.2-1.43.59L10.3 9.45l-7.72 7.72c-.78.78-.78 2.05 0 2.83L4 21.41c.39.39.9.59 1.41.59.51 0 1.02-.2 1.41-.59l7.78-7.78 2.81-2.81c.8-.78.8-2.07 0-2.86zM5.41 20L4 18.59l7.72-7.72 1.47 1.35L5.41 20z\"/>\n",
              "  </svg>\n",
              "      </button>\n",
              "      \n",
              "  <style>\n",
              "    .colab-df-container {\n",
              "      display:flex;\n",
              "      flex-wrap:wrap;\n",
              "      gap: 12px;\n",
              "    }\n",
              "\n",
              "    .colab-df-convert {\n",
              "      background-color: #E8F0FE;\n",
              "      border: none;\n",
              "      border-radius: 50%;\n",
              "      cursor: pointer;\n",
              "      display: none;\n",
              "      fill: #1967D2;\n",
              "      height: 32px;\n",
              "      padding: 0 0 0 0;\n",
              "      width: 32px;\n",
              "    }\n",
              "\n",
              "    .colab-df-convert:hover {\n",
              "      background-color: #E2EBFA;\n",
              "      box-shadow: 0px 1px 2px rgba(60, 64, 67, 0.3), 0px 1px 3px 1px rgba(60, 64, 67, 0.15);\n",
              "      fill: #174EA6;\n",
              "    }\n",
              "\n",
              "    [theme=dark] .colab-df-convert {\n",
              "      background-color: #3B4455;\n",
              "      fill: #D2E3FC;\n",
              "    }\n",
              "\n",
              "    [theme=dark] .colab-df-convert:hover {\n",
              "      background-color: #434B5C;\n",
              "      box-shadow: 0px 1px 3px 1px rgba(0, 0, 0, 0.15);\n",
              "      filter: drop-shadow(0px 1px 2px rgba(0, 0, 0, 0.3));\n",
              "      fill: #FFFFFF;\n",
              "    }\n",
              "  </style>\n",
              "\n",
              "      <script>\n",
              "        const buttonEl =\n",
              "          document.querySelector('#df-4f246c2a-67ba-496e-8134-a2106e74be57 button.colab-df-convert');\n",
              "        buttonEl.style.display =\n",
              "          google.colab.kernel.accessAllowed ? 'block' : 'none';\n",
              "\n",
              "        async function convertToInteractive(key) {\n",
              "          const element = document.querySelector('#df-4f246c2a-67ba-496e-8134-a2106e74be57');\n",
              "          const dataTable =\n",
              "            await google.colab.kernel.invokeFunction('convertToInteractive',\n",
              "                                                     [key], {});\n",
              "          if (!dataTable) return;\n",
              "\n",
              "          const docLinkHtml = 'Like what you see? Visit the ' +\n",
              "            '<a target=\"_blank\" href=https://colab.research.google.com/notebooks/data_table.ipynb>data table notebook</a>'\n",
              "            + ' to learn more about interactive tables.';\n",
              "          element.innerHTML = '';\n",
              "          dataTable['output_type'] = 'display_data';\n",
              "          await google.colab.output.renderOutput(dataTable, element);\n",
              "          const docLink = document.createElement('div');\n",
              "          docLink.innerHTML = docLinkHtml;\n",
              "          element.appendChild(docLink);\n",
              "        }\n",
              "      </script>\n",
              "    </div>\n",
              "  </div>\n",
              "  "
            ]
          },
          "metadata": {},
          "execution_count": 40
        }
      ],
      "source": [
        "df.head()"
      ]
    },
    {
      "cell_type": "markdown",
      "metadata": {
        "id": "bB2xI3eboj6q"
      },
      "source": [
        "the dataframe is properly cleaned and encoded now, now we need to split the data into train/test sets and scale the continous data features"
      ]
    },
    {
      "cell_type": "code",
      "execution_count": 41,
      "metadata": {
        "id": "dUVR5-Nloj6q"
      },
      "outputs": [],
      "source": [
        "df_clean = df "
      ]
    },
    {
      "cell_type": "code",
      "execution_count": 42,
      "metadata": {
        "id": "Yxn5388Uoj6q",
        "outputId": "12619e0d-a64f-4a23-fa4b-4058dd4fc456",
        "colab": {
          "base_uri": "https://localhost:8080/",
          "height": 237
        }
      },
      "outputs": [
        {
          "output_type": "execute_result",
          "data": {
            "text/plain": [
              "             PSY_USE_YN  SEX  AGE  ETHNICITY  HLS_YN  REGION  ED  EMPL  \\\n",
              "CASEID_7139                                                              \n",
              "5712                  0    1   52          3       0       1   1     1   \n",
              "4536                  0    1   34          2       0       2   0     0   \n",
              "6911                  1    1   28          2       0       3   0     0   \n",
              "4838                  0    1   37          2       0       4   1     1   \n",
              "4983                  0    1   39          2       0       4   1     1   \n",
              "\n",
              "             INCOME   BMI  PHQ9_SCORE  \n",
              "CASEID_7139                            \n",
              "5712         147109 21.92           1  \n",
              "4536          58903 27.26           1  \n",
              "6911          45057 21.28           1  \n",
              "4838          96355 64.91           0  \n",
              "4983         156856 16.05           1  "
            ],
            "text/html": [
              "\n",
              "  <div id=\"df-88e264e2-f36d-4061-ab22-28e77a2a07ff\">\n",
              "    <div class=\"colab-df-container\">\n",
              "      <div>\n",
              "<style scoped>\n",
              "    .dataframe tbody tr th:only-of-type {\n",
              "        vertical-align: middle;\n",
              "    }\n",
              "\n",
              "    .dataframe tbody tr th {\n",
              "        vertical-align: top;\n",
              "    }\n",
              "\n",
              "    .dataframe thead th {\n",
              "        text-align: right;\n",
              "    }\n",
              "</style>\n",
              "<table border=\"1\" class=\"dataframe\">\n",
              "  <thead>\n",
              "    <tr style=\"text-align: right;\">\n",
              "      <th></th>\n",
              "      <th>PSY_USE_YN</th>\n",
              "      <th>SEX</th>\n",
              "      <th>AGE</th>\n",
              "      <th>ETHNICITY</th>\n",
              "      <th>HLS_YN</th>\n",
              "      <th>REGION</th>\n",
              "      <th>ED</th>\n",
              "      <th>EMPL</th>\n",
              "      <th>INCOME</th>\n",
              "      <th>BMI</th>\n",
              "      <th>PHQ9_SCORE</th>\n",
              "    </tr>\n",
              "    <tr>\n",
              "      <th>CASEID_7139</th>\n",
              "      <th></th>\n",
              "      <th></th>\n",
              "      <th></th>\n",
              "      <th></th>\n",
              "      <th></th>\n",
              "      <th></th>\n",
              "      <th></th>\n",
              "      <th></th>\n",
              "      <th></th>\n",
              "      <th></th>\n",
              "      <th></th>\n",
              "    </tr>\n",
              "  </thead>\n",
              "  <tbody>\n",
              "    <tr>\n",
              "      <th>5712</th>\n",
              "      <td>0</td>\n",
              "      <td>1</td>\n",
              "      <td>52</td>\n",
              "      <td>3</td>\n",
              "      <td>0</td>\n",
              "      <td>1</td>\n",
              "      <td>1</td>\n",
              "      <td>1</td>\n",
              "      <td>147109</td>\n",
              "      <td>21.92</td>\n",
              "      <td>1</td>\n",
              "    </tr>\n",
              "    <tr>\n",
              "      <th>4536</th>\n",
              "      <td>0</td>\n",
              "      <td>1</td>\n",
              "      <td>34</td>\n",
              "      <td>2</td>\n",
              "      <td>0</td>\n",
              "      <td>2</td>\n",
              "      <td>0</td>\n",
              "      <td>0</td>\n",
              "      <td>58903</td>\n",
              "      <td>27.26</td>\n",
              "      <td>1</td>\n",
              "    </tr>\n",
              "    <tr>\n",
              "      <th>6911</th>\n",
              "      <td>1</td>\n",
              "      <td>1</td>\n",
              "      <td>28</td>\n",
              "      <td>2</td>\n",
              "      <td>0</td>\n",
              "      <td>3</td>\n",
              "      <td>0</td>\n",
              "      <td>0</td>\n",
              "      <td>45057</td>\n",
              "      <td>21.28</td>\n",
              "      <td>1</td>\n",
              "    </tr>\n",
              "    <tr>\n",
              "      <th>4838</th>\n",
              "      <td>0</td>\n",
              "      <td>1</td>\n",
              "      <td>37</td>\n",
              "      <td>2</td>\n",
              "      <td>0</td>\n",
              "      <td>4</td>\n",
              "      <td>1</td>\n",
              "      <td>1</td>\n",
              "      <td>96355</td>\n",
              "      <td>64.91</td>\n",
              "      <td>0</td>\n",
              "    </tr>\n",
              "    <tr>\n",
              "      <th>4983</th>\n",
              "      <td>0</td>\n",
              "      <td>1</td>\n",
              "      <td>39</td>\n",
              "      <td>2</td>\n",
              "      <td>0</td>\n",
              "      <td>4</td>\n",
              "      <td>1</td>\n",
              "      <td>1</td>\n",
              "      <td>156856</td>\n",
              "      <td>16.05</td>\n",
              "      <td>1</td>\n",
              "    </tr>\n",
              "  </tbody>\n",
              "</table>\n",
              "</div>\n",
              "      <button class=\"colab-df-convert\" onclick=\"convertToInteractive('df-88e264e2-f36d-4061-ab22-28e77a2a07ff')\"\n",
              "              title=\"Convert this dataframe to an interactive table.\"\n",
              "              style=\"display:none;\">\n",
              "        \n",
              "  <svg xmlns=\"http://www.w3.org/2000/svg\" height=\"24px\"viewBox=\"0 0 24 24\"\n",
              "       width=\"24px\">\n",
              "    <path d=\"M0 0h24v24H0V0z\" fill=\"none\"/>\n",
              "    <path d=\"M18.56 5.44l.94 2.06.94-2.06 2.06-.94-2.06-.94-.94-2.06-.94 2.06-2.06.94zm-11 1L8.5 8.5l.94-2.06 2.06-.94-2.06-.94L8.5 2.5l-.94 2.06-2.06.94zm10 10l.94 2.06.94-2.06 2.06-.94-2.06-.94-.94-2.06-.94 2.06-2.06.94z\"/><path d=\"M17.41 7.96l-1.37-1.37c-.4-.4-.92-.59-1.43-.59-.52 0-1.04.2-1.43.59L10.3 9.45l-7.72 7.72c-.78.78-.78 2.05 0 2.83L4 21.41c.39.39.9.59 1.41.59.51 0 1.02-.2 1.41-.59l7.78-7.78 2.81-2.81c.8-.78.8-2.07 0-2.86zM5.41 20L4 18.59l7.72-7.72 1.47 1.35L5.41 20z\"/>\n",
              "  </svg>\n",
              "      </button>\n",
              "      \n",
              "  <style>\n",
              "    .colab-df-container {\n",
              "      display:flex;\n",
              "      flex-wrap:wrap;\n",
              "      gap: 12px;\n",
              "    }\n",
              "\n",
              "    .colab-df-convert {\n",
              "      background-color: #E8F0FE;\n",
              "      border: none;\n",
              "      border-radius: 50%;\n",
              "      cursor: pointer;\n",
              "      display: none;\n",
              "      fill: #1967D2;\n",
              "      height: 32px;\n",
              "      padding: 0 0 0 0;\n",
              "      width: 32px;\n",
              "    }\n",
              "\n",
              "    .colab-df-convert:hover {\n",
              "      background-color: #E2EBFA;\n",
              "      box-shadow: 0px 1px 2px rgba(60, 64, 67, 0.3), 0px 1px 3px 1px rgba(60, 64, 67, 0.15);\n",
              "      fill: #174EA6;\n",
              "    }\n",
              "\n",
              "    [theme=dark] .colab-df-convert {\n",
              "      background-color: #3B4455;\n",
              "      fill: #D2E3FC;\n",
              "    }\n",
              "\n",
              "    [theme=dark] .colab-df-convert:hover {\n",
              "      background-color: #434B5C;\n",
              "      box-shadow: 0px 1px 3px 1px rgba(0, 0, 0, 0.15);\n",
              "      filter: drop-shadow(0px 1px 2px rgba(0, 0, 0, 0.3));\n",
              "      fill: #FFFFFF;\n",
              "    }\n",
              "  </style>\n",
              "\n",
              "      <script>\n",
              "        const buttonEl =\n",
              "          document.querySelector('#df-88e264e2-f36d-4061-ab22-28e77a2a07ff button.colab-df-convert');\n",
              "        buttonEl.style.display =\n",
              "          google.colab.kernel.accessAllowed ? 'block' : 'none';\n",
              "\n",
              "        async function convertToInteractive(key) {\n",
              "          const element = document.querySelector('#df-88e264e2-f36d-4061-ab22-28e77a2a07ff');\n",
              "          const dataTable =\n",
              "            await google.colab.kernel.invokeFunction('convertToInteractive',\n",
              "                                                     [key], {});\n",
              "          if (!dataTable) return;\n",
              "\n",
              "          const docLinkHtml = 'Like what you see? Visit the ' +\n",
              "            '<a target=\"_blank\" href=https://colab.research.google.com/notebooks/data_table.ipynb>data table notebook</a>'\n",
              "            + ' to learn more about interactive tables.';\n",
              "          element.innerHTML = '';\n",
              "          dataTable['output_type'] = 'display_data';\n",
              "          await google.colab.output.renderOutput(dataTable, element);\n",
              "          const docLink = document.createElement('div');\n",
              "          docLink.innerHTML = docLinkHtml;\n",
              "          element.appendChild(docLink);\n",
              "        }\n",
              "      </script>\n",
              "    </div>\n",
              "  </div>\n",
              "  "
            ]
          },
          "metadata": {},
          "execution_count": 42
        }
      ],
      "source": [
        "df_clean.sample(5)"
      ]
    },
    {
      "cell_type": "code",
      "execution_count": 43,
      "metadata": {
        "id": "3faZMZlgoj6r"
      },
      "outputs": [],
      "source": [
        "X, y = df_clean.loc[:, 'PSY_USE_YN': 'BMI'].values, df_clean.loc[:, 'PHQ9_SCORE'].values"
      ]
    },
    {
      "cell_type": "code",
      "execution_count": 50,
      "metadata": {
        "id": "bjlIVpHOoj6r"
      },
      "outputs": [],
      "source": [
        "X_train, X_test, y_train, y_test = train_test_split(X, y,test_size =0.3, random_state = 0, \\\n",
        "                                                   stratify = y)"
      ]
    },
    {
      "cell_type": "code",
      "source": [
        "pipe_lr = make_pipeline(StandardScaler(), LogisticRegression())"
      ],
      "metadata": {
        "id": "HqoxjL7MijdY"
      },
      "execution_count": 51,
      "outputs": []
    },
    {
      "cell_type": "code",
      "source": [
        "pipe_lr.fit(X_train, y_train)\n",
        "y_pred = pipe_lr.predict(X_test)\n",
        "test_acc = pipe_lr.score(X_test, y_test)\n",
        "print(f'Test accuracy: {test_acc:.3f}')"
      ],
      "metadata": {
        "colab": {
          "base_uri": "https://localhost:8080/"
        },
        "id": "asEvoMPUjq4n",
        "outputId": "4b7a751e-003c-46de-87a1-b59dcea995e8"
      },
      "execution_count": 52,
      "outputs": [
        {
          "output_type": "stream",
          "name": "stdout",
          "text": [
            "Test accuracy: 0.666\n"
          ]
        }
      ]
    },
    {
      "cell_type": "code",
      "source": [
        "scores = cross_val_score(estimator=pipe_lr, X=X_train, y\n",
        "                         =y_train, cv=20, n_jobs=2)\n",
        "\n",
        "print(f'CV accuracy scores: {scores}')"
      ],
      "metadata": {
        "colab": {
          "base_uri": "https://localhost:8080/"
        },
        "id": "x_d-myx2mXJe",
        "outputId": "ae9ca2d5-7552-424c-a9a7-5fb52ff29809"
      },
      "execution_count": 56,
      "outputs": [
        {
          "output_type": "stream",
          "name": "stdout",
          "text": [
            "CV accuracy scores: [0.672      0.62       0.636      0.632      0.696      0.672\n",
            " 0.644      0.604      0.7        0.652      0.7        0.656\n",
            " 0.672      0.648      0.672      0.66       0.604      0.65863454\n",
            " 0.65461847 0.63052209]\n"
          ]
        }
      ]
    },
    {
      "cell_type": "code",
      "source": [
        "pipe_rf = make_pipeline(StandardScaler(), RandomForestClassifier(n_estimators=25, random_state=0))"
      ],
      "metadata": {
        "id": "eu5CAQ0V2xB8"
      },
      "execution_count": 68,
      "outputs": []
    },
    {
      "cell_type": "code",
      "source": [
        "pipe_rf.fit(X_train, y_train)\n",
        "y_pred = pipe_rf.predict(X_test)\n",
        "test_acc = pipe_lr.score(X_test, y_test)\n",
        "print(f'Test accuracy: {test_acc:.3f}')"
      ],
      "metadata": {
        "colab": {
          "base_uri": "https://localhost:8080/"
        },
        "id": "LAWD05oH33aD",
        "outputId": "7e92a140-3d82-4fe9-dcab-16bb44a41f97"
      },
      "execution_count": 69,
      "outputs": [
        {
          "output_type": "stream",
          "name": "stdout",
          "text": [
            "Test accuracy: 0.666\n"
          ]
        }
      ]
    },
    {
      "cell_type": "markdown",
      "source": [],
      "metadata": {
        "id": "N01qBoou3vRy"
      }
    },
    {
      "cell_type": "markdown",
      "source": [
        "This current model has high bias, and we should try including more features in the model "
      ],
      "metadata": {
        "id": "S5raECiGn5R7"
      }
    },
    {
      "cell_type": "code",
      "source": [],
      "metadata": {
        "id": "oNXF8-hamAUM"
      },
      "execution_count": null,
      "outputs": []
    },
    {
      "cell_type": "code",
      "execution_count": null,
      "metadata": {
        "id": "PvhgghqFoj6r"
      },
      "outputs": [],
      "source": []
    }
  ],
  "metadata": {
    "colab": {
      "collapsed_sections": [],
      "provenance": [],
      "include_colab_link": true
    },
    "kernelspec": {
      "display_name": "Python 3 (ipykernel)",
      "language": "python",
      "name": "python3"
    },
    "language_info": {
      "codemirror_mode": {
        "name": "ipython",
        "version": 3
      },
      "file_extension": ".py",
      "mimetype": "text/x-python",
      "name": "python",
      "nbconvert_exporter": "python",
      "pygments_lexer": "ipython3",
      "version": "3.9.7"
    }
  },
  "nbformat": 4,
  "nbformat_minor": 0
}