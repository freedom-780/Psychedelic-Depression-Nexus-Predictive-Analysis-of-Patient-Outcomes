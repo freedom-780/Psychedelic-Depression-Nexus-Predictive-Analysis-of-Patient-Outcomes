{
  "cells": [
    {
      "cell_type": "markdown",
      "metadata": {
        "id": "view-in-github",
        "colab_type": "text"
      },
      "source": [
        "<a href=\"https://colab.research.google.com/github/freedom-780/Psychedelic-mushrooms/blob/main/Psychedelic_mushrooms.ipynb\" target=\"_parent\"><img src=\"https://colab.research.google.com/assets/colab-badge.svg\" alt=\"Open In Colab\"/></a>"
      ]
    },
    {
      "cell_type": "code",
      "execution_count": 52,
      "metadata": {
        "id": "xwWkYUBhhN4k"
      },
      "outputs": [],
      "source": [
        "import pandas as pd \n",
        "pd.options.display.float_format = '{:,.3f}'.format\n",
        "\n",
        "import xgboost as xgb \n",
        "\n",
        "from sklearn.model_selection import train_test_split\n",
        "from sklearn.preprocessing import StandardScaler\n",
        "from sklearn.decomposition import PCA\n",
        "from sklearn.linear_model import LogisticRegression\n",
        "from sklearn.pipeline import make_pipeline\n",
        "from sklearn.model_selection import cross_val_score\n",
        "from sklearn.utils import resample\n",
        "from sklearn.ensemble import RandomForestClassifier\n",
        "from sklearn.svm import SVC, LinearSVC\n",
        "from sklearn.model_selection import learning_curve\n",
        "from sklearn.model_selection import GridSearchCV\n",
        "from sklearn.model_selection import RandomizedSearchCV\n",
        "from sklearn.neighbors import KNeighborsClassifier\n",
        "\n",
        "from sklearn.metrics import recall_score,accuracy_score, f1_score, precision_score\n",
        "from sklearn.metrics import matthews_corrcoef\n",
        "from sklearn.metrics import confusion_matrix, make_scorer\n",
        "\n",
        "from scipy.stats import loguniform\n",
        "\n",
        "\n",
        "import numpy as np\n",
        "import seaborn as sns \n",
        "import matplotlib.pyplot as plt\n",
        "from matplotlib.colors import ListedColormap\n",
        "%matplotlib inline\n"
      ]
    },
    {
      "cell_type": "markdown",
      "metadata": {
        "id": "MG5X-sqRyaBn"
      },
      "source": [
        "#Ingest"
      ]
    },
    {
      "cell_type": "code",
      "execution_count": 2,
      "metadata": {
        "id": "Db5S3QIXhw0c"
      },
      "outputs": [],
      "source": [
        "#Import data from github\n",
        "data = \"https://raw.githubusercontent.com/freedom-780/Psychedelic-mushrooms/main/AHRI_DATASET_PM_MANUSCRIPT_DATA.csv\"\n",
        "p_mush_df = pd.read_csv(data)"
      ]
    },
    {
      "cell_type": "code",
      "execution_count": 3,
      "metadata": {
        "colab": {
          "base_uri": "https://localhost:8080/"
        },
        "id": "hY7ceeQ_FgP0",
        "outputId": "498e4f00-1f77-4539-8022-cf9e2b3c6029"
      },
      "outputs": [
        {
          "output_type": "execute_result",
          "data": {
            "text/plain": [
              "(7139, 57)"
            ]
          },
          "metadata": {},
          "execution_count": 3
        }
      ],
      "source": [
        "p_mush_df.shape"
      ]
    },
    {
      "cell_type": "code",
      "execution_count": 4,
      "metadata": {
        "id": "Gk_KPp2p0PQF"
      },
      "outputs": [],
      "source": [
        "# copy dataframe for analysis to preserve original dataframe\n",
        "df = p_mush_df.copy()"
      ]
    },
    {
      "cell_type": "code",
      "execution_count": 5,
      "metadata": {
        "colab": {
          "base_uri": "https://localhost:8080/"
        },
        "id": "M97YwSE00wjL",
        "outputId": "6d304b76-2c5f-4d50-9e8c-71944bbc1052"
      },
      "outputs": [
        {
          "output_type": "execute_result",
          "data": {
            "text/plain": [
              "7139"
            ]
          },
          "metadata": {},
          "execution_count": 5
        }
      ],
      "source": [
        "# see if caseID column is unique for every row\n",
        "df['CASEID_7139'].value_counts().sum()\n"
      ]
    },
    {
      "cell_type": "code",
      "execution_count": 6,
      "metadata": {
        "id": "Y2ReA3I0FC5a"
      },
      "outputs": [],
      "source": [
        "# Set index to case ID since every caseID is Unique\n",
        "df.set_index('CASEID_7139', inplace=True)"
      ]
    },
    {
      "cell_type": "markdown",
      "metadata": {
        "id": "UVmHM1JgyhnA"
      },
      "source": [
        "#Exploratory Data Analysis"
      ]
    },
    {
      "cell_type": "code",
      "execution_count": 7,
      "metadata": {
        "colab": {
          "base_uri": "https://localhost:8080/"
        },
        "id": "ACO0E6mymEVH",
        "outputId": "eee6ceac-a373-4940-c215-b08c0f7900ec"
      },
      "outputs": [
        {
          "output_type": "execute_result",
          "data": {
            "text/plain": [
              "Index(['COHORTS', 'PYS_USE_VENN', 'PSY_USE_YN', 'PM_USE_YN', 'PM_USE_ONLY_YN',\n",
              "       'PM_VS_PSY_YN', 'SEX', 'AGE', 'ETHNICITY', 'HLS_YN', 'REGION', 'ED',\n",
              "       'EMPL', 'INCOME', 'BMI', 'C_TOTAL', 'C_DP', 'C_ANX', 'C_PN', 'C_ALL',\n",
              "       'C_MI', 'C_INSOM', 'C_HYP', 'C_DH', 'C_SA', 'C_GERD', 'C_CS', 'C_LIP',\n",
              "       'CCI_SCORE', 'GAD7_SCORE', 'PHQ9_SCORE', 'GAD7_GE10', 'PHQ9_GE10',\n",
              "       'PCS12', 'MCS12', 'VR6D', 'RU_PCP_YN', 'RU_SPECIAL_YN', 'RU_OTPCP_YN',\n",
              "       'RU_UCC_YN', 'RU_OUTPT_YN', 'RU_ER_YN', 'RU_HSP_YN',\n",
              "       'PSY1_POSITIVE_USE', 'PSY2_GEN_HEALTH', 'PSY2_DIAG_CONDITION',\n",
              "       'PSY2_UNDIAG_CONCERN', 'PSY2_NO_KNOWLEDGE', 'PM1_GEN_HEALTH',\n",
              "       'PM1_DIAG_CONDITION', 'PM1_UNDIAG_CONCERN', 'PM2_FREQ_COVID',\n",
              "       'PM3_FREQ_POLITICS', 'PM4_CARE', 'INSURANCE', 'DATA_WEIGHT'],\n",
              "      dtype='object')"
            ]
          },
          "metadata": {},
          "execution_count": 7
        }
      ],
      "source": [
        "df.columns"
      ]
    },
    {
      "cell_type": "code",
      "execution_count": 8,
      "metadata": {
        "colab": {
          "base_uri": "https://localhost:8080/",
          "height": 1000
        },
        "id": "BHs5duPtKPYY",
        "outputId": "d9fcb9ca-161b-400d-979e-9e90263ab0da"
      },
      "outputs": [
        {
          "output_type": "execute_result",
          "data": {
            "text/plain": [
              "CASEID_7139                  1          2          3          4          5\n",
              "COHORTS                  1.000      1.000      1.000      1.000      1.000\n",
              "PYS_USE_VENN             1.000      1.000      1.000      1.000      1.000\n",
              "PSY_USE_YN               1.000      1.000      1.000      1.000      1.000\n",
              "PM_USE_YN                1.000      1.000      1.000      1.000      1.000\n",
              "PM_USE_ONLY_YN           1.000      1.000      1.000      1.000      1.000\n",
              "PM_VS_PSY_YN             2.000      2.000      2.000      2.000      2.000\n",
              "SEX                      0.000      0.000      0.000      0.000      0.000\n",
              "AGE                     19.000     21.000     22.000     22.000     23.000\n",
              "ETHNICITY                3.000      2.000      2.000      2.000      2.000\n",
              "HLS_YN                   1.000      0.000      0.000      0.000      0.000\n",
              "REGION                   4.000      2.000      4.000      3.000      2.000\n",
              "ED                       0.000      1.000      0.000      1.000      0.000\n",
              "EMPL                     0.000      0.000      0.000      0.000      1.000\n",
              "INCOME              65,847.000 30,585.000 49,259.000 54,135.000 49,425.000\n",
              "BMI                     27.410     29.260     20.600     18.560     36.800\n",
              "C_TOTAL                  3.000      0.000      9.000      2.000      4.000\n",
              "C_DP                     0.000      0.000      1.000      1.000      1.000\n",
              "C_ANX                    1.000      0.000      1.000      1.000      1.000\n",
              "C_PN                     0.000      0.000      1.000      0.000      0.000\n",
              "C_ALL                    0.000      0.000      1.000      0.000      1.000\n",
              "C_MI                     1.000      0.000      0.000      0.000      1.000\n",
              "C_INSOM                  0.000      0.000      0.000      0.000      0.000\n",
              "C_HYP                    0.000      0.000      0.000      0.000      0.000\n",
              "C_DH                     0.000      0.000      0.000      0.000      0.000\n",
              "C_SA                     0.000      0.000      0.000      0.000      0.000\n",
              "C_GERD                   0.000      0.000      1.000      0.000      0.000\n",
              "C_CS                     0.000      0.000      0.000      0.000      0.000\n",
              "C_LIP                    0.000      0.000      0.000      0.000      0.000\n",
              "CCI_SCORE                0.000      0.000      0.000      0.000      0.000\n",
              "GAD7_SCORE               3.000      0.000     21.000      5.000     13.000\n",
              "PHQ9_SCORE               8.000      0.000     17.000     15.000     15.000\n",
              "GAD7_GE10                0.000      0.000      1.000      0.000      1.000\n",
              "PHQ9_GE10                0.000      0.000      1.000      1.000      1.000\n",
              "PCS12                   48.990     54.210     33.830     61.630     38.540\n",
              "MCS12                   37.900     57.930     25.910     25.130     45.530\n",
              "VR6D                     0.670      0.860      0.470      0.670      0.640\n",
              "RU_PCP_YN                0.000      0.000      0.000      1.000      0.000\n",
              "RU_SPECIAL_YN            0.000      1.000      0.000      0.000      0.000\n",
              "RU_OTPCP_YN              0.000      0.000      0.000      0.000      1.000\n",
              "RU_UCC_YN                0.000      0.000      1.000      0.000      0.000\n",
              "RU_OUTPT_YN              0.000      0.000      0.000      0.000      0.000\n",
              "RU_ER_YN                 0.000      1.000      1.000      0.000      1.000\n",
              "RU_HSP_YN                0.000      0.000      0.000      0.000      0.000\n",
              "PSY1_POSITIVE_USE        3.000      1.000      3.000      2.000      2.000\n",
              "PSY2_GEN_HEALTH          1.000      0.000      1.000      1.000      1.000\n",
              "PSY2_DIAG_CONDITION      0.000      0.000      1.000      1.000      1.000\n",
              "PSY2_UNDIAG_CONCERN      0.000      1.000      1.000      0.000      1.000\n",
              "PSY2_NO_KNOWLEDGE        0.000      0.000      0.000      0.000      0.000\n",
              "PM1_GEN_HEALTH           1.000      1.000      0.000      1.000      1.000\n",
              "PM1_DIAG_CONDITION       0.000      0.000      0.000      0.000      0.000\n",
              "PM1_UNDIAG_CONCERN       0.000      0.000      0.000      0.000      0.000\n",
              "PM2_FREQ_COVID           2.000      3.000      3.000      3.000      3.000\n",
              "PM3_FREQ_POLITICS        3.000      3.000      4.000      3.000      3.000\n",
              "PM4_CARE                 0.000      0.000      0.000      0.000      0.000\n",
              "INSURANCE                0.000      1.000      0.000      1.000      1.000\n",
              "DATA_WEIGHT         57,772.540 25,738.420 42,172.560 28,356.810 25,738.420"
            ],
            "text/html": [
              "\n",
              "  <div id=\"df-6eda207f-ff50-449f-bf3b-c322574a8402\">\n",
              "    <div class=\"colab-df-container\">\n",
              "      <div>\n",
              "<style scoped>\n",
              "    .dataframe tbody tr th:only-of-type {\n",
              "        vertical-align: middle;\n",
              "    }\n",
              "\n",
              "    .dataframe tbody tr th {\n",
              "        vertical-align: top;\n",
              "    }\n",
              "\n",
              "    .dataframe thead th {\n",
              "        text-align: right;\n",
              "    }\n",
              "</style>\n",
              "<table border=\"1\" class=\"dataframe\">\n",
              "  <thead>\n",
              "    <tr style=\"text-align: right;\">\n",
              "      <th>CASEID_7139</th>\n",
              "      <th>1</th>\n",
              "      <th>2</th>\n",
              "      <th>3</th>\n",
              "      <th>4</th>\n",
              "      <th>5</th>\n",
              "    </tr>\n",
              "  </thead>\n",
              "  <tbody>\n",
              "    <tr>\n",
              "      <th>COHORTS</th>\n",
              "      <td>1.000</td>\n",
              "      <td>1.000</td>\n",
              "      <td>1.000</td>\n",
              "      <td>1.000</td>\n",
              "      <td>1.000</td>\n",
              "    </tr>\n",
              "    <tr>\n",
              "      <th>PYS_USE_VENN</th>\n",
              "      <td>1.000</td>\n",
              "      <td>1.000</td>\n",
              "      <td>1.000</td>\n",
              "      <td>1.000</td>\n",
              "      <td>1.000</td>\n",
              "    </tr>\n",
              "    <tr>\n",
              "      <th>PSY_USE_YN</th>\n",
              "      <td>1.000</td>\n",
              "      <td>1.000</td>\n",
              "      <td>1.000</td>\n",
              "      <td>1.000</td>\n",
              "      <td>1.000</td>\n",
              "    </tr>\n",
              "    <tr>\n",
              "      <th>PM_USE_YN</th>\n",
              "      <td>1.000</td>\n",
              "      <td>1.000</td>\n",
              "      <td>1.000</td>\n",
              "      <td>1.000</td>\n",
              "      <td>1.000</td>\n",
              "    </tr>\n",
              "    <tr>\n",
              "      <th>PM_USE_ONLY_YN</th>\n",
              "      <td>1.000</td>\n",
              "      <td>1.000</td>\n",
              "      <td>1.000</td>\n",
              "      <td>1.000</td>\n",
              "      <td>1.000</td>\n",
              "    </tr>\n",
              "    <tr>\n",
              "      <th>PM_VS_PSY_YN</th>\n",
              "      <td>2.000</td>\n",
              "      <td>2.000</td>\n",
              "      <td>2.000</td>\n",
              "      <td>2.000</td>\n",
              "      <td>2.000</td>\n",
              "    </tr>\n",
              "    <tr>\n",
              "      <th>SEX</th>\n",
              "      <td>0.000</td>\n",
              "      <td>0.000</td>\n",
              "      <td>0.000</td>\n",
              "      <td>0.000</td>\n",
              "      <td>0.000</td>\n",
              "    </tr>\n",
              "    <tr>\n",
              "      <th>AGE</th>\n",
              "      <td>19.000</td>\n",
              "      <td>21.000</td>\n",
              "      <td>22.000</td>\n",
              "      <td>22.000</td>\n",
              "      <td>23.000</td>\n",
              "    </tr>\n",
              "    <tr>\n",
              "      <th>ETHNICITY</th>\n",
              "      <td>3.000</td>\n",
              "      <td>2.000</td>\n",
              "      <td>2.000</td>\n",
              "      <td>2.000</td>\n",
              "      <td>2.000</td>\n",
              "    </tr>\n",
              "    <tr>\n",
              "      <th>HLS_YN</th>\n",
              "      <td>1.000</td>\n",
              "      <td>0.000</td>\n",
              "      <td>0.000</td>\n",
              "      <td>0.000</td>\n",
              "      <td>0.000</td>\n",
              "    </tr>\n",
              "    <tr>\n",
              "      <th>REGION</th>\n",
              "      <td>4.000</td>\n",
              "      <td>2.000</td>\n",
              "      <td>4.000</td>\n",
              "      <td>3.000</td>\n",
              "      <td>2.000</td>\n",
              "    </tr>\n",
              "    <tr>\n",
              "      <th>ED</th>\n",
              "      <td>0.000</td>\n",
              "      <td>1.000</td>\n",
              "      <td>0.000</td>\n",
              "      <td>1.000</td>\n",
              "      <td>0.000</td>\n",
              "    </tr>\n",
              "    <tr>\n",
              "      <th>EMPL</th>\n",
              "      <td>0.000</td>\n",
              "      <td>0.000</td>\n",
              "      <td>0.000</td>\n",
              "      <td>0.000</td>\n",
              "      <td>1.000</td>\n",
              "    </tr>\n",
              "    <tr>\n",
              "      <th>INCOME</th>\n",
              "      <td>65,847.000</td>\n",
              "      <td>30,585.000</td>\n",
              "      <td>49,259.000</td>\n",
              "      <td>54,135.000</td>\n",
              "      <td>49,425.000</td>\n",
              "    </tr>\n",
              "    <tr>\n",
              "      <th>BMI</th>\n",
              "      <td>27.410</td>\n",
              "      <td>29.260</td>\n",
              "      <td>20.600</td>\n",
              "      <td>18.560</td>\n",
              "      <td>36.800</td>\n",
              "    </tr>\n",
              "    <tr>\n",
              "      <th>C_TOTAL</th>\n",
              "      <td>3.000</td>\n",
              "      <td>0.000</td>\n",
              "      <td>9.000</td>\n",
              "      <td>2.000</td>\n",
              "      <td>4.000</td>\n",
              "    </tr>\n",
              "    <tr>\n",
              "      <th>C_DP</th>\n",
              "      <td>0.000</td>\n",
              "      <td>0.000</td>\n",
              "      <td>1.000</td>\n",
              "      <td>1.000</td>\n",
              "      <td>1.000</td>\n",
              "    </tr>\n",
              "    <tr>\n",
              "      <th>C_ANX</th>\n",
              "      <td>1.000</td>\n",
              "      <td>0.000</td>\n",
              "      <td>1.000</td>\n",
              "      <td>1.000</td>\n",
              "      <td>1.000</td>\n",
              "    </tr>\n",
              "    <tr>\n",
              "      <th>C_PN</th>\n",
              "      <td>0.000</td>\n",
              "      <td>0.000</td>\n",
              "      <td>1.000</td>\n",
              "      <td>0.000</td>\n",
              "      <td>0.000</td>\n",
              "    </tr>\n",
              "    <tr>\n",
              "      <th>C_ALL</th>\n",
              "      <td>0.000</td>\n",
              "      <td>0.000</td>\n",
              "      <td>1.000</td>\n",
              "      <td>0.000</td>\n",
              "      <td>1.000</td>\n",
              "    </tr>\n",
              "    <tr>\n",
              "      <th>C_MI</th>\n",
              "      <td>1.000</td>\n",
              "      <td>0.000</td>\n",
              "      <td>0.000</td>\n",
              "      <td>0.000</td>\n",
              "      <td>1.000</td>\n",
              "    </tr>\n",
              "    <tr>\n",
              "      <th>C_INSOM</th>\n",
              "      <td>0.000</td>\n",
              "      <td>0.000</td>\n",
              "      <td>0.000</td>\n",
              "      <td>0.000</td>\n",
              "      <td>0.000</td>\n",
              "    </tr>\n",
              "    <tr>\n",
              "      <th>C_HYP</th>\n",
              "      <td>0.000</td>\n",
              "      <td>0.000</td>\n",
              "      <td>0.000</td>\n",
              "      <td>0.000</td>\n",
              "      <td>0.000</td>\n",
              "    </tr>\n",
              "    <tr>\n",
              "      <th>C_DH</th>\n",
              "      <td>0.000</td>\n",
              "      <td>0.000</td>\n",
              "      <td>0.000</td>\n",
              "      <td>0.000</td>\n",
              "      <td>0.000</td>\n",
              "    </tr>\n",
              "    <tr>\n",
              "      <th>C_SA</th>\n",
              "      <td>0.000</td>\n",
              "      <td>0.000</td>\n",
              "      <td>0.000</td>\n",
              "      <td>0.000</td>\n",
              "      <td>0.000</td>\n",
              "    </tr>\n",
              "    <tr>\n",
              "      <th>C_GERD</th>\n",
              "      <td>0.000</td>\n",
              "      <td>0.000</td>\n",
              "      <td>1.000</td>\n",
              "      <td>0.000</td>\n",
              "      <td>0.000</td>\n",
              "    </tr>\n",
              "    <tr>\n",
              "      <th>C_CS</th>\n",
              "      <td>0.000</td>\n",
              "      <td>0.000</td>\n",
              "      <td>0.000</td>\n",
              "      <td>0.000</td>\n",
              "      <td>0.000</td>\n",
              "    </tr>\n",
              "    <tr>\n",
              "      <th>C_LIP</th>\n",
              "      <td>0.000</td>\n",
              "      <td>0.000</td>\n",
              "      <td>0.000</td>\n",
              "      <td>0.000</td>\n",
              "      <td>0.000</td>\n",
              "    </tr>\n",
              "    <tr>\n",
              "      <th>CCI_SCORE</th>\n",
              "      <td>0.000</td>\n",
              "      <td>0.000</td>\n",
              "      <td>0.000</td>\n",
              "      <td>0.000</td>\n",
              "      <td>0.000</td>\n",
              "    </tr>\n",
              "    <tr>\n",
              "      <th>GAD7_SCORE</th>\n",
              "      <td>3.000</td>\n",
              "      <td>0.000</td>\n",
              "      <td>21.000</td>\n",
              "      <td>5.000</td>\n",
              "      <td>13.000</td>\n",
              "    </tr>\n",
              "    <tr>\n",
              "      <th>PHQ9_SCORE</th>\n",
              "      <td>8.000</td>\n",
              "      <td>0.000</td>\n",
              "      <td>17.000</td>\n",
              "      <td>15.000</td>\n",
              "      <td>15.000</td>\n",
              "    </tr>\n",
              "    <tr>\n",
              "      <th>GAD7_GE10</th>\n",
              "      <td>0.000</td>\n",
              "      <td>0.000</td>\n",
              "      <td>1.000</td>\n",
              "      <td>0.000</td>\n",
              "      <td>1.000</td>\n",
              "    </tr>\n",
              "    <tr>\n",
              "      <th>PHQ9_GE10</th>\n",
              "      <td>0.000</td>\n",
              "      <td>0.000</td>\n",
              "      <td>1.000</td>\n",
              "      <td>1.000</td>\n",
              "      <td>1.000</td>\n",
              "    </tr>\n",
              "    <tr>\n",
              "      <th>PCS12</th>\n",
              "      <td>48.990</td>\n",
              "      <td>54.210</td>\n",
              "      <td>33.830</td>\n",
              "      <td>61.630</td>\n",
              "      <td>38.540</td>\n",
              "    </tr>\n",
              "    <tr>\n",
              "      <th>MCS12</th>\n",
              "      <td>37.900</td>\n",
              "      <td>57.930</td>\n",
              "      <td>25.910</td>\n",
              "      <td>25.130</td>\n",
              "      <td>45.530</td>\n",
              "    </tr>\n",
              "    <tr>\n",
              "      <th>VR6D</th>\n",
              "      <td>0.670</td>\n",
              "      <td>0.860</td>\n",
              "      <td>0.470</td>\n",
              "      <td>0.670</td>\n",
              "      <td>0.640</td>\n",
              "    </tr>\n",
              "    <tr>\n",
              "      <th>RU_PCP_YN</th>\n",
              "      <td>0.000</td>\n",
              "      <td>0.000</td>\n",
              "      <td>0.000</td>\n",
              "      <td>1.000</td>\n",
              "      <td>0.000</td>\n",
              "    </tr>\n",
              "    <tr>\n",
              "      <th>RU_SPECIAL_YN</th>\n",
              "      <td>0.000</td>\n",
              "      <td>1.000</td>\n",
              "      <td>0.000</td>\n",
              "      <td>0.000</td>\n",
              "      <td>0.000</td>\n",
              "    </tr>\n",
              "    <tr>\n",
              "      <th>RU_OTPCP_YN</th>\n",
              "      <td>0.000</td>\n",
              "      <td>0.000</td>\n",
              "      <td>0.000</td>\n",
              "      <td>0.000</td>\n",
              "      <td>1.000</td>\n",
              "    </tr>\n",
              "    <tr>\n",
              "      <th>RU_UCC_YN</th>\n",
              "      <td>0.000</td>\n",
              "      <td>0.000</td>\n",
              "      <td>1.000</td>\n",
              "      <td>0.000</td>\n",
              "      <td>0.000</td>\n",
              "    </tr>\n",
              "    <tr>\n",
              "      <th>RU_OUTPT_YN</th>\n",
              "      <td>0.000</td>\n",
              "      <td>0.000</td>\n",
              "      <td>0.000</td>\n",
              "      <td>0.000</td>\n",
              "      <td>0.000</td>\n",
              "    </tr>\n",
              "    <tr>\n",
              "      <th>RU_ER_YN</th>\n",
              "      <td>0.000</td>\n",
              "      <td>1.000</td>\n",
              "      <td>1.000</td>\n",
              "      <td>0.000</td>\n",
              "      <td>1.000</td>\n",
              "    </tr>\n",
              "    <tr>\n",
              "      <th>RU_HSP_YN</th>\n",
              "      <td>0.000</td>\n",
              "      <td>0.000</td>\n",
              "      <td>0.000</td>\n",
              "      <td>0.000</td>\n",
              "      <td>0.000</td>\n",
              "    </tr>\n",
              "    <tr>\n",
              "      <th>PSY1_POSITIVE_USE</th>\n",
              "      <td>3.000</td>\n",
              "      <td>1.000</td>\n",
              "      <td>3.000</td>\n",
              "      <td>2.000</td>\n",
              "      <td>2.000</td>\n",
              "    </tr>\n",
              "    <tr>\n",
              "      <th>PSY2_GEN_HEALTH</th>\n",
              "      <td>1.000</td>\n",
              "      <td>0.000</td>\n",
              "      <td>1.000</td>\n",
              "      <td>1.000</td>\n",
              "      <td>1.000</td>\n",
              "    </tr>\n",
              "    <tr>\n",
              "      <th>PSY2_DIAG_CONDITION</th>\n",
              "      <td>0.000</td>\n",
              "      <td>0.000</td>\n",
              "      <td>1.000</td>\n",
              "      <td>1.000</td>\n",
              "      <td>1.000</td>\n",
              "    </tr>\n",
              "    <tr>\n",
              "      <th>PSY2_UNDIAG_CONCERN</th>\n",
              "      <td>0.000</td>\n",
              "      <td>1.000</td>\n",
              "      <td>1.000</td>\n",
              "      <td>0.000</td>\n",
              "      <td>1.000</td>\n",
              "    </tr>\n",
              "    <tr>\n",
              "      <th>PSY2_NO_KNOWLEDGE</th>\n",
              "      <td>0.000</td>\n",
              "      <td>0.000</td>\n",
              "      <td>0.000</td>\n",
              "      <td>0.000</td>\n",
              "      <td>0.000</td>\n",
              "    </tr>\n",
              "    <tr>\n",
              "      <th>PM1_GEN_HEALTH</th>\n",
              "      <td>1.000</td>\n",
              "      <td>1.000</td>\n",
              "      <td>0.000</td>\n",
              "      <td>1.000</td>\n",
              "      <td>1.000</td>\n",
              "    </tr>\n",
              "    <tr>\n",
              "      <th>PM1_DIAG_CONDITION</th>\n",
              "      <td>0.000</td>\n",
              "      <td>0.000</td>\n",
              "      <td>0.000</td>\n",
              "      <td>0.000</td>\n",
              "      <td>0.000</td>\n",
              "    </tr>\n",
              "    <tr>\n",
              "      <th>PM1_UNDIAG_CONCERN</th>\n",
              "      <td>0.000</td>\n",
              "      <td>0.000</td>\n",
              "      <td>0.000</td>\n",
              "      <td>0.000</td>\n",
              "      <td>0.000</td>\n",
              "    </tr>\n",
              "    <tr>\n",
              "      <th>PM2_FREQ_COVID</th>\n",
              "      <td>2.000</td>\n",
              "      <td>3.000</td>\n",
              "      <td>3.000</td>\n",
              "      <td>3.000</td>\n",
              "      <td>3.000</td>\n",
              "    </tr>\n",
              "    <tr>\n",
              "      <th>PM3_FREQ_POLITICS</th>\n",
              "      <td>3.000</td>\n",
              "      <td>3.000</td>\n",
              "      <td>4.000</td>\n",
              "      <td>3.000</td>\n",
              "      <td>3.000</td>\n",
              "    </tr>\n",
              "    <tr>\n",
              "      <th>PM4_CARE</th>\n",
              "      <td>0.000</td>\n",
              "      <td>0.000</td>\n",
              "      <td>0.000</td>\n",
              "      <td>0.000</td>\n",
              "      <td>0.000</td>\n",
              "    </tr>\n",
              "    <tr>\n",
              "      <th>INSURANCE</th>\n",
              "      <td>0.000</td>\n",
              "      <td>1.000</td>\n",
              "      <td>0.000</td>\n",
              "      <td>1.000</td>\n",
              "      <td>1.000</td>\n",
              "    </tr>\n",
              "    <tr>\n",
              "      <th>DATA_WEIGHT</th>\n",
              "      <td>57,772.540</td>\n",
              "      <td>25,738.420</td>\n",
              "      <td>42,172.560</td>\n",
              "      <td>28,356.810</td>\n",
              "      <td>25,738.420</td>\n",
              "    </tr>\n",
              "  </tbody>\n",
              "</table>\n",
              "</div>\n",
              "      <button class=\"colab-df-convert\" onclick=\"convertToInteractive('df-6eda207f-ff50-449f-bf3b-c322574a8402')\"\n",
              "              title=\"Convert this dataframe to an interactive table.\"\n",
              "              style=\"display:none;\">\n",
              "        \n",
              "  <svg xmlns=\"http://www.w3.org/2000/svg\" height=\"24px\"viewBox=\"0 0 24 24\"\n",
              "       width=\"24px\">\n",
              "    <path d=\"M0 0h24v24H0V0z\" fill=\"none\"/>\n",
              "    <path d=\"M18.56 5.44l.94 2.06.94-2.06 2.06-.94-2.06-.94-.94-2.06-.94 2.06-2.06.94zm-11 1L8.5 8.5l.94-2.06 2.06-.94-2.06-.94L8.5 2.5l-.94 2.06-2.06.94zm10 10l.94 2.06.94-2.06 2.06-.94-2.06-.94-.94-2.06-.94 2.06-2.06.94z\"/><path d=\"M17.41 7.96l-1.37-1.37c-.4-.4-.92-.59-1.43-.59-.52 0-1.04.2-1.43.59L10.3 9.45l-7.72 7.72c-.78.78-.78 2.05 0 2.83L4 21.41c.39.39.9.59 1.41.59.51 0 1.02-.2 1.41-.59l7.78-7.78 2.81-2.81c.8-.78.8-2.07 0-2.86zM5.41 20L4 18.59l7.72-7.72 1.47 1.35L5.41 20z\"/>\n",
              "  </svg>\n",
              "      </button>\n",
              "      \n",
              "  <style>\n",
              "    .colab-df-container {\n",
              "      display:flex;\n",
              "      flex-wrap:wrap;\n",
              "      gap: 12px;\n",
              "    }\n",
              "\n",
              "    .colab-df-convert {\n",
              "      background-color: #E8F0FE;\n",
              "      border: none;\n",
              "      border-radius: 50%;\n",
              "      cursor: pointer;\n",
              "      display: none;\n",
              "      fill: #1967D2;\n",
              "      height: 32px;\n",
              "      padding: 0 0 0 0;\n",
              "      width: 32px;\n",
              "    }\n",
              "\n",
              "    .colab-df-convert:hover {\n",
              "      background-color: #E2EBFA;\n",
              "      box-shadow: 0px 1px 2px rgba(60, 64, 67, 0.3), 0px 1px 3px 1px rgba(60, 64, 67, 0.15);\n",
              "      fill: #174EA6;\n",
              "    }\n",
              "\n",
              "    [theme=dark] .colab-df-convert {\n",
              "      background-color: #3B4455;\n",
              "      fill: #D2E3FC;\n",
              "    }\n",
              "\n",
              "    [theme=dark] .colab-df-convert:hover {\n",
              "      background-color: #434B5C;\n",
              "      box-shadow: 0px 1px 3px 1px rgba(0, 0, 0, 0.15);\n",
              "      filter: drop-shadow(0px 1px 2px rgba(0, 0, 0, 0.3));\n",
              "      fill: #FFFFFF;\n",
              "    }\n",
              "  </style>\n",
              "\n",
              "      <script>\n",
              "        const buttonEl =\n",
              "          document.querySelector('#df-6eda207f-ff50-449f-bf3b-c322574a8402 button.colab-df-convert');\n",
              "        buttonEl.style.display =\n",
              "          google.colab.kernel.accessAllowed ? 'block' : 'none';\n",
              "\n",
              "        async function convertToInteractive(key) {\n",
              "          const element = document.querySelector('#df-6eda207f-ff50-449f-bf3b-c322574a8402');\n",
              "          const dataTable =\n",
              "            await google.colab.kernel.invokeFunction('convertToInteractive',\n",
              "                                                     [key], {});\n",
              "          if (!dataTable) return;\n",
              "\n",
              "          const docLinkHtml = 'Like what you see? Visit the ' +\n",
              "            '<a target=\"_blank\" href=https://colab.research.google.com/notebooks/data_table.ipynb>data table notebook</a>'\n",
              "            + ' to learn more about interactive tables.';\n",
              "          element.innerHTML = '';\n",
              "          dataTable['output_type'] = 'display_data';\n",
              "          await google.colab.output.renderOutput(dataTable, element);\n",
              "          const docLink = document.createElement('div');\n",
              "          docLink.innerHTML = docLinkHtml;\n",
              "          element.appendChild(docLink);\n",
              "        }\n",
              "      </script>\n",
              "    </div>\n",
              "  </div>\n",
              "  "
            ]
          },
          "metadata": {},
          "execution_count": 8
        }
      ],
      "source": [
        "df.head().T"
      ]
    },
    {
      "cell_type": "code",
      "execution_count": 8,
      "metadata": {
        "id": "opysbYeTeIu4"
      },
      "outputs": [],
      "source": []
    },
    {
      "cell_type": "markdown",
      "metadata": {
        "id": "efppA1-911zw"
      },
      "source": [
        "This dataset has 57, looks like there are floating point numbers where there does not need to be. Some of the columns were dropped below since they were corolated with some other features.\n"
      ]
    },
    {
      "cell_type": "code",
      "execution_count": 9,
      "metadata": {
        "id": "8nAUHPBp5DLW"
      },
      "outputs": [],
      "source": [
        "df.drop(['COHORTS','PYS_USE_VENN', 'PM_USE_YN', 'PM_USE_ONLY_YN', 'PM_VS_PSY_YN', 'DATA_WEIGHT','PM1_GEN_HEALTH','PM1_DIAG_CONDITION', \\\n",
        "     'PM1_DIAG_CONDITION', 'PM1_UNDIAG_CONCERN','PM2_FREQ_COVID','PM3_FREQ_POLITICS','PM4_CARE', 'HLS_YN', 'GAD7_SCORE', \\\n",
        "       'GAD7_GE10','PHQ9_GE10','PCS12','MCS12','VR6D'], axis=1, inplace=True)"
      ]
    },
    {
      "cell_type": "code",
      "execution_count": 10,
      "metadata": {
        "colab": {
          "base_uri": "https://localhost:8080/",
          "height": 331
        },
        "id": "RAq92htpiDfm",
        "outputId": "edd60d78-e149-46e4-da22-b09b11d5db6c"
      },
      "outputs": [
        {
          "output_type": "execute_result",
          "data": {
            "text/plain": [
              "             PSY_USE_YN  SEX    AGE  ETHNICITY  REGION    ED  EMPL  INCOME  \\\n",
              "CASEID_7139                                                                  \n",
              "3307              0.000    0 68.000      2.000   3.000 1.000 0.000   64607   \n",
              "2953              0.000    0 63.000      2.000   4.000 1.000 0.000  105849   \n",
              "1005              0.000    0 32.000      2.000   3.000 1.000 0.000   30938   \n",
              "2154              0.000    0 49.000      2.000   1.000 1.000 0.000   64642   \n",
              "6108              0.000    1 63.000      2.000   3.000 0.000 0.000   54469   \n",
              "\n",
              "               BMI  C_TOTAL  ...  RU_UCC_YN  RU_OUTPT_YN  RU_ER_YN  RU_HSP_YN  \\\n",
              "CASEID_7139                  ...                                                \n",
              "3307        47.230    6.000  ...          0            0         0          0   \n",
              "2953        32.280    7.000  ...          0            0         0          0   \n",
              "1005        38.080    4.000  ...          0            0         0          0   \n",
              "2154        36.180    0.000  ...          0            0         0          0   \n",
              "6108        33.470    2.000  ...          0            0         0          0   \n",
              "\n",
              "             PSY1_POSITIVE_USE  PSY2_GEN_HEALTH  PSY2_DIAG_CONDITION  \\\n",
              "CASEID_7139                                                            \n",
              "3307                         5                0                    0   \n",
              "2953                         5                0                    0   \n",
              "1005                         4                0                    0   \n",
              "2154                         3                0                    0   \n",
              "6108                         5                0                    0   \n",
              "\n",
              "             PSY2_UNDIAG_CONCERN  PSY2_NO_KNOWLEDGE  INSURANCE  \n",
              "CASEID_7139                                                     \n",
              "3307                           0                  1          1  \n",
              "2953                           0                  1          1  \n",
              "1005                           0                  1          1  \n",
              "2154                           0                  1          1  \n",
              "6108                           0                  1          0  \n",
              "\n",
              "[5 rows x 37 columns]"
            ],
            "text/html": [
              "\n",
              "  <div id=\"df-ac2b3c54-93c5-47b5-83cd-a832530289f1\">\n",
              "    <div class=\"colab-df-container\">\n",
              "      <div>\n",
              "<style scoped>\n",
              "    .dataframe tbody tr th:only-of-type {\n",
              "        vertical-align: middle;\n",
              "    }\n",
              "\n",
              "    .dataframe tbody tr th {\n",
              "        vertical-align: top;\n",
              "    }\n",
              "\n",
              "    .dataframe thead th {\n",
              "        text-align: right;\n",
              "    }\n",
              "</style>\n",
              "<table border=\"1\" class=\"dataframe\">\n",
              "  <thead>\n",
              "    <tr style=\"text-align: right;\">\n",
              "      <th></th>\n",
              "      <th>PSY_USE_YN</th>\n",
              "      <th>SEX</th>\n",
              "      <th>AGE</th>\n",
              "      <th>ETHNICITY</th>\n",
              "      <th>REGION</th>\n",
              "      <th>ED</th>\n",
              "      <th>EMPL</th>\n",
              "      <th>INCOME</th>\n",
              "      <th>BMI</th>\n",
              "      <th>C_TOTAL</th>\n",
              "      <th>...</th>\n",
              "      <th>RU_UCC_YN</th>\n",
              "      <th>RU_OUTPT_YN</th>\n",
              "      <th>RU_ER_YN</th>\n",
              "      <th>RU_HSP_YN</th>\n",
              "      <th>PSY1_POSITIVE_USE</th>\n",
              "      <th>PSY2_GEN_HEALTH</th>\n",
              "      <th>PSY2_DIAG_CONDITION</th>\n",
              "      <th>PSY2_UNDIAG_CONCERN</th>\n",
              "      <th>PSY2_NO_KNOWLEDGE</th>\n",
              "      <th>INSURANCE</th>\n",
              "    </tr>\n",
              "    <tr>\n",
              "      <th>CASEID_7139</th>\n",
              "      <th></th>\n",
              "      <th></th>\n",
              "      <th></th>\n",
              "      <th></th>\n",
              "      <th></th>\n",
              "      <th></th>\n",
              "      <th></th>\n",
              "      <th></th>\n",
              "      <th></th>\n",
              "      <th></th>\n",
              "      <th></th>\n",
              "      <th></th>\n",
              "      <th></th>\n",
              "      <th></th>\n",
              "      <th></th>\n",
              "      <th></th>\n",
              "      <th></th>\n",
              "      <th></th>\n",
              "      <th></th>\n",
              "      <th></th>\n",
              "      <th></th>\n",
              "    </tr>\n",
              "  </thead>\n",
              "  <tbody>\n",
              "    <tr>\n",
              "      <th>3307</th>\n",
              "      <td>0.000</td>\n",
              "      <td>0</td>\n",
              "      <td>68.000</td>\n",
              "      <td>2.000</td>\n",
              "      <td>3.000</td>\n",
              "      <td>1.000</td>\n",
              "      <td>0.000</td>\n",
              "      <td>64607</td>\n",
              "      <td>47.230</td>\n",
              "      <td>6.000</td>\n",
              "      <td>...</td>\n",
              "      <td>0</td>\n",
              "      <td>0</td>\n",
              "      <td>0</td>\n",
              "      <td>0</td>\n",
              "      <td>5</td>\n",
              "      <td>0</td>\n",
              "      <td>0</td>\n",
              "      <td>0</td>\n",
              "      <td>1</td>\n",
              "      <td>1</td>\n",
              "    </tr>\n",
              "    <tr>\n",
              "      <th>2953</th>\n",
              "      <td>0.000</td>\n",
              "      <td>0</td>\n",
              "      <td>63.000</td>\n",
              "      <td>2.000</td>\n",
              "      <td>4.000</td>\n",
              "      <td>1.000</td>\n",
              "      <td>0.000</td>\n",
              "      <td>105849</td>\n",
              "      <td>32.280</td>\n",
              "      <td>7.000</td>\n",
              "      <td>...</td>\n",
              "      <td>0</td>\n",
              "      <td>0</td>\n",
              "      <td>0</td>\n",
              "      <td>0</td>\n",
              "      <td>5</td>\n",
              "      <td>0</td>\n",
              "      <td>0</td>\n",
              "      <td>0</td>\n",
              "      <td>1</td>\n",
              "      <td>1</td>\n",
              "    </tr>\n",
              "    <tr>\n",
              "      <th>1005</th>\n",
              "      <td>0.000</td>\n",
              "      <td>0</td>\n",
              "      <td>32.000</td>\n",
              "      <td>2.000</td>\n",
              "      <td>3.000</td>\n",
              "      <td>1.000</td>\n",
              "      <td>0.000</td>\n",
              "      <td>30938</td>\n",
              "      <td>38.080</td>\n",
              "      <td>4.000</td>\n",
              "      <td>...</td>\n",
              "      <td>0</td>\n",
              "      <td>0</td>\n",
              "      <td>0</td>\n",
              "      <td>0</td>\n",
              "      <td>4</td>\n",
              "      <td>0</td>\n",
              "      <td>0</td>\n",
              "      <td>0</td>\n",
              "      <td>1</td>\n",
              "      <td>1</td>\n",
              "    </tr>\n",
              "    <tr>\n",
              "      <th>2154</th>\n",
              "      <td>0.000</td>\n",
              "      <td>0</td>\n",
              "      <td>49.000</td>\n",
              "      <td>2.000</td>\n",
              "      <td>1.000</td>\n",
              "      <td>1.000</td>\n",
              "      <td>0.000</td>\n",
              "      <td>64642</td>\n",
              "      <td>36.180</td>\n",
              "      <td>0.000</td>\n",
              "      <td>...</td>\n",
              "      <td>0</td>\n",
              "      <td>0</td>\n",
              "      <td>0</td>\n",
              "      <td>0</td>\n",
              "      <td>3</td>\n",
              "      <td>0</td>\n",
              "      <td>0</td>\n",
              "      <td>0</td>\n",
              "      <td>1</td>\n",
              "      <td>1</td>\n",
              "    </tr>\n",
              "    <tr>\n",
              "      <th>6108</th>\n",
              "      <td>0.000</td>\n",
              "      <td>1</td>\n",
              "      <td>63.000</td>\n",
              "      <td>2.000</td>\n",
              "      <td>3.000</td>\n",
              "      <td>0.000</td>\n",
              "      <td>0.000</td>\n",
              "      <td>54469</td>\n",
              "      <td>33.470</td>\n",
              "      <td>2.000</td>\n",
              "      <td>...</td>\n",
              "      <td>0</td>\n",
              "      <td>0</td>\n",
              "      <td>0</td>\n",
              "      <td>0</td>\n",
              "      <td>5</td>\n",
              "      <td>0</td>\n",
              "      <td>0</td>\n",
              "      <td>0</td>\n",
              "      <td>1</td>\n",
              "      <td>0</td>\n",
              "    </tr>\n",
              "  </tbody>\n",
              "</table>\n",
              "<p>5 rows × 37 columns</p>\n",
              "</div>\n",
              "      <button class=\"colab-df-convert\" onclick=\"convertToInteractive('df-ac2b3c54-93c5-47b5-83cd-a832530289f1')\"\n",
              "              title=\"Convert this dataframe to an interactive table.\"\n",
              "              style=\"display:none;\">\n",
              "        \n",
              "  <svg xmlns=\"http://www.w3.org/2000/svg\" height=\"24px\"viewBox=\"0 0 24 24\"\n",
              "       width=\"24px\">\n",
              "    <path d=\"M0 0h24v24H0V0z\" fill=\"none\"/>\n",
              "    <path d=\"M18.56 5.44l.94 2.06.94-2.06 2.06-.94-2.06-.94-.94-2.06-.94 2.06-2.06.94zm-11 1L8.5 8.5l.94-2.06 2.06-.94-2.06-.94L8.5 2.5l-.94 2.06-2.06.94zm10 10l.94 2.06.94-2.06 2.06-.94-2.06-.94-.94-2.06-.94 2.06-2.06.94z\"/><path d=\"M17.41 7.96l-1.37-1.37c-.4-.4-.92-.59-1.43-.59-.52 0-1.04.2-1.43.59L10.3 9.45l-7.72 7.72c-.78.78-.78 2.05 0 2.83L4 21.41c.39.39.9.59 1.41.59.51 0 1.02-.2 1.41-.59l7.78-7.78 2.81-2.81c.8-.78.8-2.07 0-2.86zM5.41 20L4 18.59l7.72-7.72 1.47 1.35L5.41 20z\"/>\n",
              "  </svg>\n",
              "      </button>\n",
              "      \n",
              "  <style>\n",
              "    .colab-df-container {\n",
              "      display:flex;\n",
              "      flex-wrap:wrap;\n",
              "      gap: 12px;\n",
              "    }\n",
              "\n",
              "    .colab-df-convert {\n",
              "      background-color: #E8F0FE;\n",
              "      border: none;\n",
              "      border-radius: 50%;\n",
              "      cursor: pointer;\n",
              "      display: none;\n",
              "      fill: #1967D2;\n",
              "      height: 32px;\n",
              "      padding: 0 0 0 0;\n",
              "      width: 32px;\n",
              "    }\n",
              "\n",
              "    .colab-df-convert:hover {\n",
              "      background-color: #E2EBFA;\n",
              "      box-shadow: 0px 1px 2px rgba(60, 64, 67, 0.3), 0px 1px 3px 1px rgba(60, 64, 67, 0.15);\n",
              "      fill: #174EA6;\n",
              "    }\n",
              "\n",
              "    [theme=dark] .colab-df-convert {\n",
              "      background-color: #3B4455;\n",
              "      fill: #D2E3FC;\n",
              "    }\n",
              "\n",
              "    [theme=dark] .colab-df-convert:hover {\n",
              "      background-color: #434B5C;\n",
              "      box-shadow: 0px 1px 3px 1px rgba(0, 0, 0, 0.15);\n",
              "      filter: drop-shadow(0px 1px 2px rgba(0, 0, 0, 0.3));\n",
              "      fill: #FFFFFF;\n",
              "    }\n",
              "  </style>\n",
              "\n",
              "      <script>\n",
              "        const buttonEl =\n",
              "          document.querySelector('#df-ac2b3c54-93c5-47b5-83cd-a832530289f1 button.colab-df-convert');\n",
              "        buttonEl.style.display =\n",
              "          google.colab.kernel.accessAllowed ? 'block' : 'none';\n",
              "\n",
              "        async function convertToInteractive(key) {\n",
              "          const element = document.querySelector('#df-ac2b3c54-93c5-47b5-83cd-a832530289f1');\n",
              "          const dataTable =\n",
              "            await google.colab.kernel.invokeFunction('convertToInteractive',\n",
              "                                                     [key], {});\n",
              "          if (!dataTable) return;\n",
              "\n",
              "          const docLinkHtml = 'Like what you see? Visit the ' +\n",
              "            '<a target=\"_blank\" href=https://colab.research.google.com/notebooks/data_table.ipynb>data table notebook</a>'\n",
              "            + ' to learn more about interactive tables.';\n",
              "          element.innerHTML = '';\n",
              "          dataTable['output_type'] = 'display_data';\n",
              "          await google.colab.output.renderOutput(dataTable, element);\n",
              "          const docLink = document.createElement('div');\n",
              "          docLink.innerHTML = docLinkHtml;\n",
              "          element.appendChild(docLink);\n",
              "        }\n",
              "      </script>\n",
              "    </div>\n",
              "  </div>\n",
              "  "
            ]
          },
          "metadata": {},
          "execution_count": 10
        }
      ],
      "source": [
        "df.sample(5)"
      ]
    },
    {
      "cell_type": "markdown",
      "metadata": {
        "id": "831nrarK4c9g"
      },
      "source": [
        "some of these columns have -99 representing other values some need to remap these"
      ]
    },
    {
      "cell_type": "code",
      "execution_count": 11,
      "metadata": {
        "colab": {
          "base_uri": "https://localhost:8080/",
          "height": 1000
        },
        "id": "MemlRHZs4xK3",
        "outputId": "cb9d0a18-d841-4a03-d27f-bf4a650a43ad"
      },
      "outputs": [
        {
          "output_type": "execute_result",
          "data": {
            "text/plain": [
              "CASEID_7139                  1          2          3          4          5\n",
              "PSY_USE_YN               1.000      1.000      1.000      1.000      1.000\n",
              "SEX                      0.000      0.000      0.000      0.000      0.000\n",
              "AGE                     19.000     21.000     22.000     22.000     23.000\n",
              "ETHNICITY                3.000      2.000      2.000      2.000      2.000\n",
              "REGION                   4.000      2.000      4.000      3.000      2.000\n",
              "ED                       0.000      1.000      0.000      1.000      0.000\n",
              "EMPL                     0.000      0.000      0.000      0.000      1.000\n",
              "INCOME              65,847.000 30,585.000 49,259.000 54,135.000 49,425.000\n",
              "BMI                     27.410     29.260     20.600     18.560     36.800\n",
              "C_TOTAL                  3.000      0.000      9.000      2.000      4.000\n",
              "C_DP                     0.000      0.000      1.000      1.000      1.000\n",
              "C_ANX                    1.000      0.000      1.000      1.000      1.000\n",
              "C_PN                     0.000      0.000      1.000      0.000      0.000\n",
              "C_ALL                    0.000      0.000      1.000      0.000      1.000\n",
              "C_MI                     1.000      0.000      0.000      0.000      1.000\n",
              "C_INSOM                  0.000      0.000      0.000      0.000      0.000\n",
              "C_HYP                    0.000      0.000      0.000      0.000      0.000\n",
              "C_DH                     0.000      0.000      0.000      0.000      0.000\n",
              "C_SA                     0.000      0.000      0.000      0.000      0.000\n",
              "C_GERD                   0.000      0.000      1.000      0.000      0.000\n",
              "C_CS                     0.000      0.000      0.000      0.000      0.000\n",
              "C_LIP                    0.000      0.000      0.000      0.000      0.000\n",
              "CCI_SCORE                0.000      0.000      0.000      0.000      0.000\n",
              "PHQ9_SCORE               8.000      0.000     17.000     15.000     15.000\n",
              "RU_PCP_YN                0.000      0.000      0.000      1.000      0.000\n",
              "RU_SPECIAL_YN            0.000      1.000      0.000      0.000      0.000\n",
              "RU_OTPCP_YN              0.000      0.000      0.000      0.000      1.000\n",
              "RU_UCC_YN                0.000      0.000      1.000      0.000      0.000\n",
              "RU_OUTPT_YN              0.000      0.000      0.000      0.000      0.000\n",
              "RU_ER_YN                 0.000      1.000      1.000      0.000      1.000\n",
              "RU_HSP_YN                0.000      0.000      0.000      0.000      0.000\n",
              "PSY1_POSITIVE_USE        3.000      1.000      3.000      2.000      2.000\n",
              "PSY2_GEN_HEALTH          1.000      0.000      1.000      1.000      1.000\n",
              "PSY2_DIAG_CONDITION      0.000      0.000      1.000      1.000      1.000\n",
              "PSY2_UNDIAG_CONCERN      0.000      1.000      1.000      0.000      1.000\n",
              "PSY2_NO_KNOWLEDGE        0.000      0.000      0.000      0.000      0.000\n",
              "INSURANCE                0.000      1.000      0.000      1.000      1.000"
            ],
            "text/html": [
              "\n",
              "  <div id=\"df-a5df677d-fdde-4a52-89f7-3833cf7a1465\">\n",
              "    <div class=\"colab-df-container\">\n",
              "      <div>\n",
              "<style scoped>\n",
              "    .dataframe tbody tr th:only-of-type {\n",
              "        vertical-align: middle;\n",
              "    }\n",
              "\n",
              "    .dataframe tbody tr th {\n",
              "        vertical-align: top;\n",
              "    }\n",
              "\n",
              "    .dataframe thead th {\n",
              "        text-align: right;\n",
              "    }\n",
              "</style>\n",
              "<table border=\"1\" class=\"dataframe\">\n",
              "  <thead>\n",
              "    <tr style=\"text-align: right;\">\n",
              "      <th>CASEID_7139</th>\n",
              "      <th>1</th>\n",
              "      <th>2</th>\n",
              "      <th>3</th>\n",
              "      <th>4</th>\n",
              "      <th>5</th>\n",
              "    </tr>\n",
              "  </thead>\n",
              "  <tbody>\n",
              "    <tr>\n",
              "      <th>PSY_USE_YN</th>\n",
              "      <td>1.000</td>\n",
              "      <td>1.000</td>\n",
              "      <td>1.000</td>\n",
              "      <td>1.000</td>\n",
              "      <td>1.000</td>\n",
              "    </tr>\n",
              "    <tr>\n",
              "      <th>SEX</th>\n",
              "      <td>0.000</td>\n",
              "      <td>0.000</td>\n",
              "      <td>0.000</td>\n",
              "      <td>0.000</td>\n",
              "      <td>0.000</td>\n",
              "    </tr>\n",
              "    <tr>\n",
              "      <th>AGE</th>\n",
              "      <td>19.000</td>\n",
              "      <td>21.000</td>\n",
              "      <td>22.000</td>\n",
              "      <td>22.000</td>\n",
              "      <td>23.000</td>\n",
              "    </tr>\n",
              "    <tr>\n",
              "      <th>ETHNICITY</th>\n",
              "      <td>3.000</td>\n",
              "      <td>2.000</td>\n",
              "      <td>2.000</td>\n",
              "      <td>2.000</td>\n",
              "      <td>2.000</td>\n",
              "    </tr>\n",
              "    <tr>\n",
              "      <th>REGION</th>\n",
              "      <td>4.000</td>\n",
              "      <td>2.000</td>\n",
              "      <td>4.000</td>\n",
              "      <td>3.000</td>\n",
              "      <td>2.000</td>\n",
              "    </tr>\n",
              "    <tr>\n",
              "      <th>ED</th>\n",
              "      <td>0.000</td>\n",
              "      <td>1.000</td>\n",
              "      <td>0.000</td>\n",
              "      <td>1.000</td>\n",
              "      <td>0.000</td>\n",
              "    </tr>\n",
              "    <tr>\n",
              "      <th>EMPL</th>\n",
              "      <td>0.000</td>\n",
              "      <td>0.000</td>\n",
              "      <td>0.000</td>\n",
              "      <td>0.000</td>\n",
              "      <td>1.000</td>\n",
              "    </tr>\n",
              "    <tr>\n",
              "      <th>INCOME</th>\n",
              "      <td>65,847.000</td>\n",
              "      <td>30,585.000</td>\n",
              "      <td>49,259.000</td>\n",
              "      <td>54,135.000</td>\n",
              "      <td>49,425.000</td>\n",
              "    </tr>\n",
              "    <tr>\n",
              "      <th>BMI</th>\n",
              "      <td>27.410</td>\n",
              "      <td>29.260</td>\n",
              "      <td>20.600</td>\n",
              "      <td>18.560</td>\n",
              "      <td>36.800</td>\n",
              "    </tr>\n",
              "    <tr>\n",
              "      <th>C_TOTAL</th>\n",
              "      <td>3.000</td>\n",
              "      <td>0.000</td>\n",
              "      <td>9.000</td>\n",
              "      <td>2.000</td>\n",
              "      <td>4.000</td>\n",
              "    </tr>\n",
              "    <tr>\n",
              "      <th>C_DP</th>\n",
              "      <td>0.000</td>\n",
              "      <td>0.000</td>\n",
              "      <td>1.000</td>\n",
              "      <td>1.000</td>\n",
              "      <td>1.000</td>\n",
              "    </tr>\n",
              "    <tr>\n",
              "      <th>C_ANX</th>\n",
              "      <td>1.000</td>\n",
              "      <td>0.000</td>\n",
              "      <td>1.000</td>\n",
              "      <td>1.000</td>\n",
              "      <td>1.000</td>\n",
              "    </tr>\n",
              "    <tr>\n",
              "      <th>C_PN</th>\n",
              "      <td>0.000</td>\n",
              "      <td>0.000</td>\n",
              "      <td>1.000</td>\n",
              "      <td>0.000</td>\n",
              "      <td>0.000</td>\n",
              "    </tr>\n",
              "    <tr>\n",
              "      <th>C_ALL</th>\n",
              "      <td>0.000</td>\n",
              "      <td>0.000</td>\n",
              "      <td>1.000</td>\n",
              "      <td>0.000</td>\n",
              "      <td>1.000</td>\n",
              "    </tr>\n",
              "    <tr>\n",
              "      <th>C_MI</th>\n",
              "      <td>1.000</td>\n",
              "      <td>0.000</td>\n",
              "      <td>0.000</td>\n",
              "      <td>0.000</td>\n",
              "      <td>1.000</td>\n",
              "    </tr>\n",
              "    <tr>\n",
              "      <th>C_INSOM</th>\n",
              "      <td>0.000</td>\n",
              "      <td>0.000</td>\n",
              "      <td>0.000</td>\n",
              "      <td>0.000</td>\n",
              "      <td>0.000</td>\n",
              "    </tr>\n",
              "    <tr>\n",
              "      <th>C_HYP</th>\n",
              "      <td>0.000</td>\n",
              "      <td>0.000</td>\n",
              "      <td>0.000</td>\n",
              "      <td>0.000</td>\n",
              "      <td>0.000</td>\n",
              "    </tr>\n",
              "    <tr>\n",
              "      <th>C_DH</th>\n",
              "      <td>0.000</td>\n",
              "      <td>0.000</td>\n",
              "      <td>0.000</td>\n",
              "      <td>0.000</td>\n",
              "      <td>0.000</td>\n",
              "    </tr>\n",
              "    <tr>\n",
              "      <th>C_SA</th>\n",
              "      <td>0.000</td>\n",
              "      <td>0.000</td>\n",
              "      <td>0.000</td>\n",
              "      <td>0.000</td>\n",
              "      <td>0.000</td>\n",
              "    </tr>\n",
              "    <tr>\n",
              "      <th>C_GERD</th>\n",
              "      <td>0.000</td>\n",
              "      <td>0.000</td>\n",
              "      <td>1.000</td>\n",
              "      <td>0.000</td>\n",
              "      <td>0.000</td>\n",
              "    </tr>\n",
              "    <tr>\n",
              "      <th>C_CS</th>\n",
              "      <td>0.000</td>\n",
              "      <td>0.000</td>\n",
              "      <td>0.000</td>\n",
              "      <td>0.000</td>\n",
              "      <td>0.000</td>\n",
              "    </tr>\n",
              "    <tr>\n",
              "      <th>C_LIP</th>\n",
              "      <td>0.000</td>\n",
              "      <td>0.000</td>\n",
              "      <td>0.000</td>\n",
              "      <td>0.000</td>\n",
              "      <td>0.000</td>\n",
              "    </tr>\n",
              "    <tr>\n",
              "      <th>CCI_SCORE</th>\n",
              "      <td>0.000</td>\n",
              "      <td>0.000</td>\n",
              "      <td>0.000</td>\n",
              "      <td>0.000</td>\n",
              "      <td>0.000</td>\n",
              "    </tr>\n",
              "    <tr>\n",
              "      <th>PHQ9_SCORE</th>\n",
              "      <td>8.000</td>\n",
              "      <td>0.000</td>\n",
              "      <td>17.000</td>\n",
              "      <td>15.000</td>\n",
              "      <td>15.000</td>\n",
              "    </tr>\n",
              "    <tr>\n",
              "      <th>RU_PCP_YN</th>\n",
              "      <td>0.000</td>\n",
              "      <td>0.000</td>\n",
              "      <td>0.000</td>\n",
              "      <td>1.000</td>\n",
              "      <td>0.000</td>\n",
              "    </tr>\n",
              "    <tr>\n",
              "      <th>RU_SPECIAL_YN</th>\n",
              "      <td>0.000</td>\n",
              "      <td>1.000</td>\n",
              "      <td>0.000</td>\n",
              "      <td>0.000</td>\n",
              "      <td>0.000</td>\n",
              "    </tr>\n",
              "    <tr>\n",
              "      <th>RU_OTPCP_YN</th>\n",
              "      <td>0.000</td>\n",
              "      <td>0.000</td>\n",
              "      <td>0.000</td>\n",
              "      <td>0.000</td>\n",
              "      <td>1.000</td>\n",
              "    </tr>\n",
              "    <tr>\n",
              "      <th>RU_UCC_YN</th>\n",
              "      <td>0.000</td>\n",
              "      <td>0.000</td>\n",
              "      <td>1.000</td>\n",
              "      <td>0.000</td>\n",
              "      <td>0.000</td>\n",
              "    </tr>\n",
              "    <tr>\n",
              "      <th>RU_OUTPT_YN</th>\n",
              "      <td>0.000</td>\n",
              "      <td>0.000</td>\n",
              "      <td>0.000</td>\n",
              "      <td>0.000</td>\n",
              "      <td>0.000</td>\n",
              "    </tr>\n",
              "    <tr>\n",
              "      <th>RU_ER_YN</th>\n",
              "      <td>0.000</td>\n",
              "      <td>1.000</td>\n",
              "      <td>1.000</td>\n",
              "      <td>0.000</td>\n",
              "      <td>1.000</td>\n",
              "    </tr>\n",
              "    <tr>\n",
              "      <th>RU_HSP_YN</th>\n",
              "      <td>0.000</td>\n",
              "      <td>0.000</td>\n",
              "      <td>0.000</td>\n",
              "      <td>0.000</td>\n",
              "      <td>0.000</td>\n",
              "    </tr>\n",
              "    <tr>\n",
              "      <th>PSY1_POSITIVE_USE</th>\n",
              "      <td>3.000</td>\n",
              "      <td>1.000</td>\n",
              "      <td>3.000</td>\n",
              "      <td>2.000</td>\n",
              "      <td>2.000</td>\n",
              "    </tr>\n",
              "    <tr>\n",
              "      <th>PSY2_GEN_HEALTH</th>\n",
              "      <td>1.000</td>\n",
              "      <td>0.000</td>\n",
              "      <td>1.000</td>\n",
              "      <td>1.000</td>\n",
              "      <td>1.000</td>\n",
              "    </tr>\n",
              "    <tr>\n",
              "      <th>PSY2_DIAG_CONDITION</th>\n",
              "      <td>0.000</td>\n",
              "      <td>0.000</td>\n",
              "      <td>1.000</td>\n",
              "      <td>1.000</td>\n",
              "      <td>1.000</td>\n",
              "    </tr>\n",
              "    <tr>\n",
              "      <th>PSY2_UNDIAG_CONCERN</th>\n",
              "      <td>0.000</td>\n",
              "      <td>1.000</td>\n",
              "      <td>1.000</td>\n",
              "      <td>0.000</td>\n",
              "      <td>1.000</td>\n",
              "    </tr>\n",
              "    <tr>\n",
              "      <th>PSY2_NO_KNOWLEDGE</th>\n",
              "      <td>0.000</td>\n",
              "      <td>0.000</td>\n",
              "      <td>0.000</td>\n",
              "      <td>0.000</td>\n",
              "      <td>0.000</td>\n",
              "    </tr>\n",
              "    <tr>\n",
              "      <th>INSURANCE</th>\n",
              "      <td>0.000</td>\n",
              "      <td>1.000</td>\n",
              "      <td>0.000</td>\n",
              "      <td>1.000</td>\n",
              "      <td>1.000</td>\n",
              "    </tr>\n",
              "  </tbody>\n",
              "</table>\n",
              "</div>\n",
              "      <button class=\"colab-df-convert\" onclick=\"convertToInteractive('df-a5df677d-fdde-4a52-89f7-3833cf7a1465')\"\n",
              "              title=\"Convert this dataframe to an interactive table.\"\n",
              "              style=\"display:none;\">\n",
              "        \n",
              "  <svg xmlns=\"http://www.w3.org/2000/svg\" height=\"24px\"viewBox=\"0 0 24 24\"\n",
              "       width=\"24px\">\n",
              "    <path d=\"M0 0h24v24H0V0z\" fill=\"none\"/>\n",
              "    <path d=\"M18.56 5.44l.94 2.06.94-2.06 2.06-.94-2.06-.94-.94-2.06-.94 2.06-2.06.94zm-11 1L8.5 8.5l.94-2.06 2.06-.94-2.06-.94L8.5 2.5l-.94 2.06-2.06.94zm10 10l.94 2.06.94-2.06 2.06-.94-2.06-.94-.94-2.06-.94 2.06-2.06.94z\"/><path d=\"M17.41 7.96l-1.37-1.37c-.4-.4-.92-.59-1.43-.59-.52 0-1.04.2-1.43.59L10.3 9.45l-7.72 7.72c-.78.78-.78 2.05 0 2.83L4 21.41c.39.39.9.59 1.41.59.51 0 1.02-.2 1.41-.59l7.78-7.78 2.81-2.81c.8-.78.8-2.07 0-2.86zM5.41 20L4 18.59l7.72-7.72 1.47 1.35L5.41 20z\"/>\n",
              "  </svg>\n",
              "      </button>\n",
              "      \n",
              "  <style>\n",
              "    .colab-df-container {\n",
              "      display:flex;\n",
              "      flex-wrap:wrap;\n",
              "      gap: 12px;\n",
              "    }\n",
              "\n",
              "    .colab-df-convert {\n",
              "      background-color: #E8F0FE;\n",
              "      border: none;\n",
              "      border-radius: 50%;\n",
              "      cursor: pointer;\n",
              "      display: none;\n",
              "      fill: #1967D2;\n",
              "      height: 32px;\n",
              "      padding: 0 0 0 0;\n",
              "      width: 32px;\n",
              "    }\n",
              "\n",
              "    .colab-df-convert:hover {\n",
              "      background-color: #E2EBFA;\n",
              "      box-shadow: 0px 1px 2px rgba(60, 64, 67, 0.3), 0px 1px 3px 1px rgba(60, 64, 67, 0.15);\n",
              "      fill: #174EA6;\n",
              "    }\n",
              "\n",
              "    [theme=dark] .colab-df-convert {\n",
              "      background-color: #3B4455;\n",
              "      fill: #D2E3FC;\n",
              "    }\n",
              "\n",
              "    [theme=dark] .colab-df-convert:hover {\n",
              "      background-color: #434B5C;\n",
              "      box-shadow: 0px 1px 3px 1px rgba(0, 0, 0, 0.15);\n",
              "      filter: drop-shadow(0px 1px 2px rgba(0, 0, 0, 0.3));\n",
              "      fill: #FFFFFF;\n",
              "    }\n",
              "  </style>\n",
              "\n",
              "      <script>\n",
              "        const buttonEl =\n",
              "          document.querySelector('#df-a5df677d-fdde-4a52-89f7-3833cf7a1465 button.colab-df-convert');\n",
              "        buttonEl.style.display =\n",
              "          google.colab.kernel.accessAllowed ? 'block' : 'none';\n",
              "\n",
              "        async function convertToInteractive(key) {\n",
              "          const element = document.querySelector('#df-a5df677d-fdde-4a52-89f7-3833cf7a1465');\n",
              "          const dataTable =\n",
              "            await google.colab.kernel.invokeFunction('convertToInteractive',\n",
              "                                                     [key], {});\n",
              "          if (!dataTable) return;\n",
              "\n",
              "          const docLinkHtml = 'Like what you see? Visit the ' +\n",
              "            '<a target=\"_blank\" href=https://colab.research.google.com/notebooks/data_table.ipynb>data table notebook</a>'\n",
              "            + ' to learn more about interactive tables.';\n",
              "          element.innerHTML = '';\n",
              "          dataTable['output_type'] = 'display_data';\n",
              "          await google.colab.output.renderOutput(dataTable, element);\n",
              "          const docLink = document.createElement('div');\n",
              "          docLink.innerHTML = docLinkHtml;\n",
              "          element.appendChild(docLink);\n",
              "        }\n",
              "      </script>\n",
              "    </div>\n",
              "  </div>\n",
              "  "
            ]
          },
          "metadata": {},
          "execution_count": 11
        }
      ],
      "source": [
        "df.head().T"
      ]
    },
    {
      "cell_type": "code",
      "execution_count": 12,
      "metadata": {
        "colab": {
          "base_uri": "https://localhost:8080/"
        },
        "id": "jKhD6nW_iMjw",
        "outputId": "5a139dbd-971f-4081-ec61-0194c836330e"
      },
      "outputs": [
        {
          "output_type": "stream",
          "name": "stdout",
          "text": [
            "<class 'pandas.core.frame.DataFrame'>\n",
            "Int64Index: 7139 entries, 1 to 7139\n",
            "Data columns (total 37 columns):\n",
            " #   Column               Non-Null Count  Dtype  \n",
            "---  ------               --------------  -----  \n",
            " 0   PSY_USE_YN           7139 non-null   float64\n",
            " 1   SEX                  7139 non-null   int64  \n",
            " 2   AGE                  7139 non-null   float64\n",
            " 3   ETHNICITY            7139 non-null   float64\n",
            " 4   REGION               7139 non-null   float64\n",
            " 5   ED                   7139 non-null   float64\n",
            " 6   EMPL                 7139 non-null   float64\n",
            " 7   INCOME               7139 non-null   int64  \n",
            " 8   BMI                  7139 non-null   float64\n",
            " 9   C_TOTAL              7139 non-null   float64\n",
            " 10  C_DP                 7139 non-null   float64\n",
            " 11  C_ANX                7139 non-null   float64\n",
            " 12  C_PN                 7139 non-null   float64\n",
            " 13  C_ALL                7139 non-null   float64\n",
            " 14  C_MI                 7139 non-null   float64\n",
            " 15  C_INSOM              7139 non-null   float64\n",
            " 16  C_HYP                7139 non-null   float64\n",
            " 17  C_DH                 7139 non-null   float64\n",
            " 18  C_SA                 7139 non-null   float64\n",
            " 19  C_GERD               7139 non-null   float64\n",
            " 20  C_CS                 7139 non-null   float64\n",
            " 21  C_LIP                7139 non-null   float64\n",
            " 22  CCI_SCORE            7139 non-null   float64\n",
            " 23  PHQ9_SCORE           7139 non-null   float64\n",
            " 24  RU_PCP_YN            7139 non-null   int64  \n",
            " 25  RU_SPECIAL_YN        7139 non-null   int64  \n",
            " 26  RU_OTPCP_YN          7139 non-null   int64  \n",
            " 27  RU_UCC_YN            7139 non-null   int64  \n",
            " 28  RU_OUTPT_YN          7139 non-null   int64  \n",
            " 29  RU_ER_YN             7139 non-null   int64  \n",
            " 30  RU_HSP_YN            7139 non-null   int64  \n",
            " 31  PSY1_POSITIVE_USE    7139 non-null   int64  \n",
            " 32  PSY2_GEN_HEALTH      7139 non-null   int64  \n",
            " 33  PSY2_DIAG_CONDITION  7139 non-null   int64  \n",
            " 34  PSY2_UNDIAG_CONCERN  7139 non-null   int64  \n",
            " 35  PSY2_NO_KNOWLEDGE    7139 non-null   int64  \n",
            " 36  INSURANCE            7139 non-null   int64  \n",
            "dtypes: float64(22), int64(15)\n",
            "memory usage: 2.1 MB\n"
          ]
        }
      ],
      "source": [
        "df.info()"
      ]
    },
    {
      "cell_type": "markdown",
      "metadata": {
        "id": "DqORVIT68LaI"
      },
      "source": [
        "there are a few columns that have the wrong **data type** such as **PSY_USE_YN** that should be integers not floats"
      ]
    },
    {
      "cell_type": "code",
      "execution_count": 13,
      "metadata": {
        "id": "sBiZ0r4aoj6g"
      },
      "outputs": [],
      "source": [
        "# make a dataframe of columns to convert to int64\n",
        "convert_cols = {\n",
        "                'PSY_USE_YN':'int64',\n",
        "                'SEX':'int64',\n",
        "                'ETHNICITY':'int64',\n",
        "                'REGION':'int64',\n",
        "                'ED':'int64',\n",
        "                'EMPL':'int64'\n",
        "                              \n",
        "               }"
      ]
    },
    {
      "cell_type": "code",
      "execution_count": 14,
      "metadata": {
        "id": "nDd76HN8oj6g"
      },
      "outputs": [],
      "source": [
        "df = df.astype(convert_cols)"
      ]
    },
    {
      "cell_type": "code",
      "execution_count": 15,
      "metadata": {
        "colab": {
          "base_uri": "https://localhost:8080/"
        },
        "id": "INgO4mECoj6g",
        "outputId": "9255f247-1d9f-4281-db68-0a012a98e787"
      },
      "outputs": [
        {
          "output_type": "stream",
          "name": "stdout",
          "text": [
            "<class 'pandas.core.frame.DataFrame'>\n",
            "Int64Index: 7139 entries, 1 to 7139\n",
            "Data columns (total 37 columns):\n",
            " #   Column               Non-Null Count  Dtype  \n",
            "---  ------               --------------  -----  \n",
            " 0   PSY_USE_YN           7139 non-null   int64  \n",
            " 1   SEX                  7139 non-null   int64  \n",
            " 2   AGE                  7139 non-null   float64\n",
            " 3   ETHNICITY            7139 non-null   int64  \n",
            " 4   REGION               7139 non-null   int64  \n",
            " 5   ED                   7139 non-null   int64  \n",
            " 6   EMPL                 7139 non-null   int64  \n",
            " 7   INCOME               7139 non-null   int64  \n",
            " 8   BMI                  7139 non-null   float64\n",
            " 9   C_TOTAL              7139 non-null   float64\n",
            " 10  C_DP                 7139 non-null   float64\n",
            " 11  C_ANX                7139 non-null   float64\n",
            " 12  C_PN                 7139 non-null   float64\n",
            " 13  C_ALL                7139 non-null   float64\n",
            " 14  C_MI                 7139 non-null   float64\n",
            " 15  C_INSOM              7139 non-null   float64\n",
            " 16  C_HYP                7139 non-null   float64\n",
            " 17  C_DH                 7139 non-null   float64\n",
            " 18  C_SA                 7139 non-null   float64\n",
            " 19  C_GERD               7139 non-null   float64\n",
            " 20  C_CS                 7139 non-null   float64\n",
            " 21  C_LIP                7139 non-null   float64\n",
            " 22  CCI_SCORE            7139 non-null   float64\n",
            " 23  PHQ9_SCORE           7139 non-null   float64\n",
            " 24  RU_PCP_YN            7139 non-null   int64  \n",
            " 25  RU_SPECIAL_YN        7139 non-null   int64  \n",
            " 26  RU_OTPCP_YN          7139 non-null   int64  \n",
            " 27  RU_UCC_YN            7139 non-null   int64  \n",
            " 28  RU_OUTPT_YN          7139 non-null   int64  \n",
            " 29  RU_ER_YN             7139 non-null   int64  \n",
            " 30  RU_HSP_YN            7139 non-null   int64  \n",
            " 31  PSY1_POSITIVE_USE    7139 non-null   int64  \n",
            " 32  PSY2_GEN_HEALTH      7139 non-null   int64  \n",
            " 33  PSY2_DIAG_CONDITION  7139 non-null   int64  \n",
            " 34  PSY2_UNDIAG_CONCERN  7139 non-null   int64  \n",
            " 35  PSY2_NO_KNOWLEDGE    7139 non-null   int64  \n",
            " 36  INSURANCE            7139 non-null   int64  \n",
            "dtypes: float64(17), int64(20)\n",
            "memory usage: 2.1 MB\n"
          ]
        }
      ],
      "source": [
        "df.info()"
      ]
    },
    {
      "cell_type": "markdown",
      "metadata": {
        "id": "VJ9HeQpYoj6h"
      },
      "source": [
        "looks like the columns are the correct data types now "
      ]
    },
    {
      "cell_type": "code",
      "execution_count": 16,
      "metadata": {
        "colab": {
          "base_uri": "https://localhost:8080/",
          "height": 54
        },
        "id": "L_n4Lx_roj6h",
        "outputId": "d51d8315-921e-49dc-9a35-b87f087d3b3c"
      },
      "outputs": [
        {
          "output_type": "display_data",
          "data": {
            "text/plain": [
              "<Figure size 540x540 with 12 Axes>"
            ],
            "image/png": "[encoded data removed]"
          },
          "metadata": {
            "needs_background": "light"
          }
        }
      ],
      "source": [
        "sns.pairplot(df[['PHQ9_SCORE', 'BMI', 'INCOME']]);"
      ]
    },
    {
      "cell_type": "markdown",
      "metadata": {
        "id": "8TA1uPPKoj6i"
      },
      "source": [
        "looks like PHQ9_SCORE(Depression Score) and GAD7_Score(Anxiety) and positively correlated, would be better for the model if one of these were dropped, the interest for this analysis is in the PHQ9 score, which is more of a sevre indicator"
      ]
    },
    {
      "cell_type": "markdown",
      "metadata": {
        "id": "mAK1_WLn5G9t"
      },
      "source": [
        "The dataset seems to be unbalanced with more 0 than 1s if we were going to classify psychedelics use. Even though predicting psychedelic use based on the other features, a more interesting question is predicting the depression score based on the other features. This way you can have some idea of their beanift"
      ]
    },
    {
      "cell_type": "markdown",
      "metadata": {
        "id": "ERZe0D4ooj6l"
      },
      "source": [
        "Would like to use **PM_USE_ONLY_YN** or **PSY_USE_YN** the **PSY_USE_YN**(which is psychedelics used as a 1 or 0 otherwise) yet different psychedelics have different effects on mind based on research, but it's a good start for a simplified model"
      ]
    },
    {
      "cell_type": "code",
      "execution_count": 17,
      "metadata": {
        "colab": {
          "base_uri": "https://localhost:8080/",
          "height": 1000
        },
        "id": "0uBdhOea5k3p",
        "outputId": "18ae5248-f3c5-4571-ebaf-b943445d6144"
      },
      "outputs": [
        {
          "output_type": "execute_result",
          "data": {
            "text/plain": [
              "                        count       mean        std       min        25%  \\\n",
              "PSY_USE_YN          7,139.000      0.074      0.261     0.000      0.000   \n",
              "SEX                 7,139.000      0.455      0.498     0.000      0.000   \n",
              "AGE                 7,139.000     46.147     16.648    18.000     33.000   \n",
              "ETHNICITY           7,139.000      1.952      0.506     1.000      2.000   \n",
              "REGION              7,139.000      2.632      0.998     1.000      2.000   \n",
              "ED                  7,139.000      0.726      0.446     0.000      0.000   \n",
              "EMPL                7,139.000      0.305      0.460     0.000      0.000   \n",
              "INCOME              7,139.000 64,563.706 26,258.629 9,076.000 46,322.500   \n",
              "BMI                 7,139.000     28.025      7.255    11.160     23.050   \n",
              "C_TOTAL             7,139.000      4.096      3.640     0.000      1.000   \n",
              "C_DP                7,139.000      0.311      0.463     0.000      0.000   \n",
              "C_ANX               7,139.000      0.355      0.479     0.000      0.000   \n",
              "C_PN                7,139.000      0.446      0.497     0.000      0.000   \n",
              "C_ALL               7,139.000      0.293      0.455     0.000      0.000   \n",
              "C_MI                7,139.000      0.196      0.397     0.000      0.000   \n",
              "C_INSOM             7,139.000      0.214      0.410     0.000      0.000   \n",
              "C_HYP               7,139.000      0.223      0.416     0.000      0.000   \n",
              "C_DH                7,139.000      0.144      0.351     0.000      0.000   \n",
              "C_SA                7,139.000      0.081      0.272     0.000      0.000   \n",
              "C_GERD              7,139.000      0.133      0.340     0.000      0.000   \n",
              "C_CS                7,139.000      0.137      0.344     0.000      0.000   \n",
              "C_LIP               7,139.000      0.141      0.348     0.000      0.000   \n",
              "CCI_SCORE           7,139.000      0.463      1.003     0.000      0.000   \n",
              "PHQ9_SCORE          7,139.000      7.330      6.994     0.000      1.000   \n",
              "RU_PCP_YN           7,139.000      0.524      0.499     0.000      0.000   \n",
              "RU_SPECIAL_YN       7,139.000      0.283      0.450     0.000      0.000   \n",
              "RU_OTPCP_YN         7,139.000      0.209      0.407     0.000      0.000   \n",
              "RU_UCC_YN           7,139.000      0.118      0.322     0.000      0.000   \n",
              "RU_OUTPT_YN         7,139.000      0.086      0.281     0.000      0.000   \n",
              "RU_ER_YN            7,139.000      0.113      0.316     0.000      0.000   \n",
              "RU_HSP_YN           7,139.000      0.048      0.214     0.000      0.000   \n",
              "PSY1_POSITIVE_USE   7,139.000      3.433      1.253     1.000      3.000   \n",
              "PSY2_GEN_HEALTH     7,139.000      0.194      0.396     0.000      0.000   \n",
              "PSY2_DIAG_CONDITION 7,139.000      0.190      0.393     0.000      0.000   \n",
              "PSY2_UNDIAG_CONCERN 7,139.000      0.098      0.298     0.000      0.000   \n",
              "PSY2_NO_KNOWLEDGE   7,139.000      0.653      0.476     0.000      0.000   \n",
              "INSURANCE           7,139.000      0.847      0.360     0.000      1.000   \n",
              "\n",
              "                           50%        75%         max  \n",
              "PSY_USE_YN               0.000      0.000       1.000  \n",
              "SEX                      0.000      1.000       1.000  \n",
              "AGE                     43.000     60.000      95.000  \n",
              "ETHNICITY                2.000      2.000       3.000  \n",
              "REGION                   3.000      3.000       4.000  \n",
              "ED                       1.000      1.000       1.000  \n",
              "EMPL                     0.000      1.000       1.000  \n",
              "INCOME              58,129.000 77,263.000 237,841.000  \n",
              "BMI                     26.580     31.415      73.120  \n",
              "C_TOTAL                  3.000      6.000      28.000  \n",
              "C_DP                     0.000      1.000       1.000  \n",
              "C_ANX                    0.000      1.000       1.000  \n",
              "C_PN                     0.000      1.000       1.000  \n",
              "C_ALL                    0.000      1.000       1.000  \n",
              "C_MI                     0.000      0.000       1.000  \n",
              "C_INSOM                  0.000      0.000       1.000  \n",
              "C_HYP                    0.000      0.000       1.000  \n",
              "C_DH                     0.000      0.000       1.000  \n",
              "C_SA                     0.000      0.000       1.000  \n",
              "C_GERD                   0.000      0.000       1.000  \n",
              "C_CS                     0.000      0.000       1.000  \n",
              "C_LIP                    0.000      0.000       1.000  \n",
              "CCI_SCORE                0.000      0.000       9.000  \n",
              "PHQ9_SCORE               5.000     12.000      27.000  \n",
              "RU_PCP_YN                1.000      1.000       1.000  \n",
              "RU_SPECIAL_YN            0.000      1.000       1.000  \n",
              "RU_OTPCP_YN              0.000      0.000       1.000  \n",
              "RU_UCC_YN                0.000      0.000       1.000  \n",
              "RU_OUTPT_YN              0.000      0.000       1.000  \n",
              "RU_ER_YN                 0.000      0.000       1.000  \n",
              "RU_HSP_YN                0.000      0.000       1.000  \n",
              "PSY1_POSITIVE_USE        3.000      5.000       5.000  \n",
              "PSY2_GEN_HEALTH          0.000      0.000       1.000  \n",
              "PSY2_DIAG_CONDITION      0.000      0.000       1.000  \n",
              "PSY2_UNDIAG_CONCERN      0.000      0.000       1.000  \n",
              "PSY2_NO_KNOWLEDGE        1.000      1.000       1.000  \n",
              "INSURANCE                1.000      1.000       1.000  "
            ],
            "text/html": [
              "\n",
              "  <div id=\"df-927f6f65-a3ad-426d-b534-2e0893f6504e\">\n",
              "    <div class=\"colab-df-container\">\n",
              "      <div>\n",
              "<style scoped>\n",
              "    .dataframe tbody tr th:only-of-type {\n",
              "        vertical-align: middle;\n",
              "    }\n",
              "\n",
              "    .dataframe tbody tr th {\n",
              "        vertical-align: top;\n",
              "    }\n",
              "\n",
              "    .dataframe thead th {\n",
              "        text-align: right;\n",
              "    }\n",
              "</style>\n",
              "<table border=\"1\" class=\"dataframe\">\n",
              "  <thead>\n",
              "    <tr style=\"text-align: right;\">\n",
              "      <th></th>\n",
              "      <th>count</th>\n",
              "      <th>mean</th>\n",
              "      <th>std</th>\n",
              "      <th>min</th>\n",
              "      <th>25%</th>\n",
              "      <th>50%</th>\n",
              "      <th>75%</th>\n",
              "      <th>max</th>\n",
              "    </tr>\n",
              "  </thead>\n",
              "  <tbody>\n",
              "    <tr>\n",
              "      <th>PSY_USE_YN</th>\n",
              "      <td>7,139.000</td>\n",
              "      <td>0.074</td>\n",
              "      <td>0.261</td>\n",
              "      <td>0.000</td>\n",
              "      <td>0.000</td>\n",
              "      <td>0.000</td>\n",
              "      <td>0.000</td>\n",
              "      <td>1.000</td>\n",
              "    </tr>\n",
              "    <tr>\n",
              "      <th>SEX</th>\n",
              "      <td>7,139.000</td>\n",
              "      <td>0.455</td>\n",
              "      <td>0.498</td>\n",
              "      <td>0.000</td>\n",
              "      <td>0.000</td>\n",
              "      <td>0.000</td>\n",
              "      <td>1.000</td>\n",
              "      <td>1.000</td>\n",
              "    </tr>\n",
              "    <tr>\n",
              "      <th>AGE</th>\n",
              "      <td>7,139.000</td>\n",
              "      <td>46.147</td>\n",
              "      <td>16.648</td>\n",
              "      <td>18.000</td>\n",
              "      <td>33.000</td>\n",
              "      <td>43.000</td>\n",
              "      <td>60.000</td>\n",
              "      <td>95.000</td>\n",
              "    </tr>\n",
              "    <tr>\n",
              "      <th>ETHNICITY</th>\n",
              "      <td>7,139.000</td>\n",
              "      <td>1.952</td>\n",
              "      <td>0.506</td>\n",
              "      <td>1.000</td>\n",
              "      <td>2.000</td>\n",
              "      <td>2.000</td>\n",
              "      <td>2.000</td>\n",
              "      <td>3.000</td>\n",
              "    </tr>\n",
              "    <tr>\n",
              "      <th>REGION</th>\n",
              "      <td>7,139.000</td>\n",
              "      <td>2.632</td>\n",
              "      <td>0.998</td>\n",
              "      <td>1.000</td>\n",
              "      <td>2.000</td>\n",
              "      <td>3.000</td>\n",
              "      <td>3.000</td>\n",
              "      <td>4.000</td>\n",
              "    </tr>\n",
              "    <tr>\n",
              "      <th>ED</th>\n",
              "      <td>7,139.000</td>\n",
              "      <td>0.726</td>\n",
              "      <td>0.446</td>\n",
              "      <td>0.000</td>\n",
              "      <td>0.000</td>\n",
              "      <td>1.000</td>\n",
              "      <td>1.000</td>\n",
              "      <td>1.000</td>\n",
              "    </tr>\n",
              "    <tr>\n",
              "      <th>EMPL</th>\n",
              "      <td>7,139.000</td>\n",
              "      <td>0.305</td>\n",
              "      <td>0.460</td>\n",
              "      <td>0.000</td>\n",
              "      <td>0.000</td>\n",
              "      <td>0.000</td>\n",
              "      <td>1.000</td>\n",
              "      <td>1.000</td>\n",
              "    </tr>\n",
              "    <tr>\n",
              "      <th>INCOME</th>\n",
              "      <td>7,139.000</td>\n",
              "      <td>64,563.706</td>\n",
              "      <td>26,258.629</td>\n",
              "      <td>9,076.000</td>\n",
              "      <td>46,322.500</td>\n",
              "      <td>58,129.000</td>\n",
              "      <td>77,263.000</td>\n",
              "      <td>237,841.000</td>\n",
              "    </tr>\n",
              "    <tr>\n",
              "      <th>BMI</th>\n",
              "      <td>7,139.000</td>\n",
              "      <td>28.025</td>\n",
              "      <td>7.255</td>\n",
              "      <td>11.160</td>\n",
              "      <td>23.050</td>\n",
              "      <td>26.580</td>\n",
              "      <td>31.415</td>\n",
              "      <td>73.120</td>\n",
              "    </tr>\n",
              "    <tr>\n",
              "      <th>C_TOTAL</th>\n",
              "      <td>7,139.000</td>\n",
              "      <td>4.096</td>\n",
              "      <td>3.640</td>\n",
              "      <td>0.000</td>\n",
              "      <td>1.000</td>\n",
              "      <td>3.000</td>\n",
              "      <td>6.000</td>\n",
              "      <td>28.000</td>\n",
              "    </tr>\n",
              "    <tr>\n",
              "      <th>C_DP</th>\n",
              "      <td>7,139.000</td>\n",
              "      <td>0.311</td>\n",
              "      <td>0.463</td>\n",
              "      <td>0.000</td>\n",
              "      <td>0.000</td>\n",
              "      <td>0.000</td>\n",
              "      <td>1.000</td>\n",
              "      <td>1.000</td>\n",
              "    </tr>\n",
              "    <tr>\n",
              "      <th>C_ANX</th>\n",
              "      <td>7,139.000</td>\n",
              "      <td>0.355</td>\n",
              "      <td>0.479</td>\n",
              "      <td>0.000</td>\n",
              "      <td>0.000</td>\n",
              "      <td>0.000</td>\n",
              "      <td>1.000</td>\n",
              "      <td>1.000</td>\n",
              "    </tr>\n",
              "    <tr>\n",
              "      <th>C_PN</th>\n",
              "      <td>7,139.000</td>\n",
              "      <td>0.446</td>\n",
              "      <td>0.497</td>\n",
              "      <td>0.000</td>\n",
              "      <td>0.000</td>\n",
              "      <td>0.000</td>\n",
              "      <td>1.000</td>\n",
              "      <td>1.000</td>\n",
              "    </tr>\n",
              "    <tr>\n",
              "      <th>C_ALL</th>\n",
              "      <td>7,139.000</td>\n",
              "      <td>0.293</td>\n",
              "      <td>0.455</td>\n",
              "      <td>0.000</td>\n",
              "      <td>0.000</td>\n",
              "      <td>0.000</td>\n",
              "      <td>1.000</td>\n",
              "      <td>1.000</td>\n",
              "    </tr>\n",
              "    <tr>\n",
              "      <th>C_MI</th>\n",
              "      <td>7,139.000</td>\n",
              "      <td>0.196</td>\n",
              "      <td>0.397</td>\n",
              "      <td>0.000</td>\n",
              "      <td>0.000</td>\n",
              "      <td>0.000</td>\n",
              "      <td>0.000</td>\n",
              "      <td>1.000</td>\n",
              "    </tr>\n",
              "    <tr>\n",
              "      <th>C_INSOM</th>\n",
              "      <td>7,139.000</td>\n",
              "      <td>0.214</td>\n",
              "      <td>0.410</td>\n",
              "      <td>0.000</td>\n",
              "      <td>0.000</td>\n",
              "      <td>0.000</td>\n",
              "      <td>0.000</td>\n",
              "      <td>1.000</td>\n",
              "    </tr>\n",
              "    <tr>\n",
              "      <th>C_HYP</th>\n",
              "      <td>7,139.000</td>\n",
              "      <td>0.223</td>\n",
              "      <td>0.416</td>\n",
              "      <td>0.000</td>\n",
              "      <td>0.000</td>\n",
              "      <td>0.000</td>\n",
              "      <td>0.000</td>\n",
              "      <td>1.000</td>\n",
              "    </tr>\n",
              "    <tr>\n",
              "      <th>C_DH</th>\n",
              "      <td>7,139.000</td>\n",
              "      <td>0.144</td>\n",
              "      <td>0.351</td>\n",
              "      <td>0.000</td>\n",
              "      <td>0.000</td>\n",
              "      <td>0.000</td>\n",
              "      <td>0.000</td>\n",
              "      <td>1.000</td>\n",
              "    </tr>\n",
              "    <tr>\n",
              "      <th>C_SA</th>\n",
              "      <td>7,139.000</td>\n",
              "      <td>0.081</td>\n",
              "      <td>0.272</td>\n",
              "      <td>0.000</td>\n",
              "      <td>0.000</td>\n",
              "      <td>0.000</td>\n",
              "      <td>0.000</td>\n",
              "      <td>1.000</td>\n",
              "    </tr>\n",
              "    <tr>\n",
              "      <th>C_GERD</th>\n",
              "      <td>7,139.000</td>\n",
              "      <td>0.133</td>\n",
              "      <td>0.340</td>\n",
              "      <td>0.000</td>\n",
              "      <td>0.000</td>\n",
              "      <td>0.000</td>\n",
              "      <td>0.000</td>\n",
              "      <td>1.000</td>\n",
              "    </tr>\n",
              "    <tr>\n",
              "      <th>C_CS</th>\n",
              "      <td>7,139.000</td>\n",
              "      <td>0.137</td>\n",
              "      <td>0.344</td>\n",
              "      <td>0.000</td>\n",
              "      <td>0.000</td>\n",
              "      <td>0.000</td>\n",
              "      <td>0.000</td>\n",
              "      <td>1.000</td>\n",
              "    </tr>\n",
              "    <tr>\n",
              "      <th>C_LIP</th>\n",
              "      <td>7,139.000</td>\n",
              "      <td>0.141</td>\n",
              "      <td>0.348</td>\n",
              "      <td>0.000</td>\n",
              "      <td>0.000</td>\n",
              "      <td>0.000</td>\n",
              "      <td>0.000</td>\n",
              "      <td>1.000</td>\n",
              "    </tr>\n",
              "    <tr>\n",
              "      <th>CCI_SCORE</th>\n",
              "      <td>7,139.000</td>\n",
              "      <td>0.463</td>\n",
              "      <td>1.003</td>\n",
              "      <td>0.000</td>\n",
              "      <td>0.000</td>\n",
              "      <td>0.000</td>\n",
              "      <td>0.000</td>\n",
              "      <td>9.000</td>\n",
              "    </tr>\n",
              "    <tr>\n",
              "      <th>PHQ9_SCORE</th>\n",
              "      <td>7,139.000</td>\n",
              "      <td>7.330</td>\n",
              "      <td>6.994</td>\n",
              "      <td>0.000</td>\n",
              "      <td>1.000</td>\n",
              "      <td>5.000</td>\n",
              "      <td>12.000</td>\n",
              "      <td>27.000</td>\n",
              "    </tr>\n",
              "    <tr>\n",
              "      <th>RU_PCP_YN</th>\n",
              "      <td>7,139.000</td>\n",
              "      <td>0.524</td>\n",
              "      <td>0.499</td>\n",
              "      <td>0.000</td>\n",
              "      <td>0.000</td>\n",
              "      <td>1.000</td>\n",
              "      <td>1.000</td>\n",
              "      <td>1.000</td>\n",
              "    </tr>\n",
              "    <tr>\n",
              "      <th>RU_SPECIAL_YN</th>\n",
              "      <td>7,139.000</td>\n",
              "      <td>0.283</td>\n",
              "      <td>0.450</td>\n",
              "      <td>0.000</td>\n",
              "      <td>0.000</td>\n",
              "      <td>0.000</td>\n",
              "      <td>1.000</td>\n",
              "      <td>1.000</td>\n",
              "    </tr>\n",
              "    <tr>\n",
              "      <th>RU_OTPCP_YN</th>\n",
              "      <td>7,139.000</td>\n",
              "      <td>0.209</td>\n",
              "      <td>0.407</td>\n",
              "      <td>0.000</td>\n",
              "      <td>0.000</td>\n",
              "      <td>0.000</td>\n",
              "      <td>0.000</td>\n",
              "      <td>1.000</td>\n",
              "    </tr>\n",
              "    <tr>\n",
              "      <th>RU_UCC_YN</th>\n",
              "      <td>7,139.000</td>\n",
              "      <td>0.118</td>\n",
              "      <td>0.322</td>\n",
              "      <td>0.000</td>\n",
              "      <td>0.000</td>\n",
              "      <td>0.000</td>\n",
              "      <td>0.000</td>\n",
              "      <td>1.000</td>\n",
              "    </tr>\n",
              "    <tr>\n",
              "      <th>RU_OUTPT_YN</th>\n",
              "      <td>7,139.000</td>\n",
              "      <td>0.086</td>\n",
              "      <td>0.281</td>\n",
              "      <td>0.000</td>\n",
              "      <td>0.000</td>\n",
              "      <td>0.000</td>\n",
              "      <td>0.000</td>\n",
              "      <td>1.000</td>\n",
              "    </tr>\n",
              "    <tr>\n",
              "      <th>RU_ER_YN</th>\n",
              "      <td>7,139.000</td>\n",
              "      <td>0.113</td>\n",
              "      <td>0.316</td>\n",
              "      <td>0.000</td>\n",
              "      <td>0.000</td>\n",
              "      <td>0.000</td>\n",
              "      <td>0.000</td>\n",
              "      <td>1.000</td>\n",
              "    </tr>\n",
              "    <tr>\n",
              "      <th>RU_HSP_YN</th>\n",
              "      <td>7,139.000</td>\n",
              "      <td>0.048</td>\n",
              "      <td>0.214</td>\n",
              "      <td>0.000</td>\n",
              "      <td>0.000</td>\n",
              "      <td>0.000</td>\n",
              "      <td>0.000</td>\n",
              "      <td>1.000</td>\n",
              "    </tr>\n",
              "    <tr>\n",
              "      <th>PSY1_POSITIVE_USE</th>\n",
              "      <td>7,139.000</td>\n",
              "      <td>3.433</td>\n",
              "      <td>1.253</td>\n",
              "      <td>1.000</td>\n",
              "      <td>3.000</td>\n",
              "      <td>3.000</td>\n",
              "      <td>5.000</td>\n",
              "      <td>5.000</td>\n",
              "    </tr>\n",
              "    <tr>\n",
              "      <th>PSY2_GEN_HEALTH</th>\n",
              "      <td>7,139.000</td>\n",
              "      <td>0.194</td>\n",
              "      <td>0.396</td>\n",
              "      <td>0.000</td>\n",
              "      <td>0.000</td>\n",
              "      <td>0.000</td>\n",
              "      <td>0.000</td>\n",
              "      <td>1.000</td>\n",
              "    </tr>\n",
              "    <tr>\n",
              "      <th>PSY2_DIAG_CONDITION</th>\n",
              "      <td>7,139.000</td>\n",
              "      <td>0.190</td>\n",
              "      <td>0.393</td>\n",
              "      <td>0.000</td>\n",
              "      <td>0.000</td>\n",
              "      <td>0.000</td>\n",
              "      <td>0.000</td>\n",
              "      <td>1.000</td>\n",
              "    </tr>\n",
              "    <tr>\n",
              "      <th>PSY2_UNDIAG_CONCERN</th>\n",
              "      <td>7,139.000</td>\n",
              "      <td>0.098</td>\n",
              "      <td>0.298</td>\n",
              "      <td>0.000</td>\n",
              "      <td>0.000</td>\n",
              "      <td>0.000</td>\n",
              "      <td>0.000</td>\n",
              "      <td>1.000</td>\n",
              "    </tr>\n",
              "    <tr>\n",
              "      <th>PSY2_NO_KNOWLEDGE</th>\n",
              "      <td>7,139.000</td>\n",
              "      <td>0.653</td>\n",
              "      <td>0.476</td>\n",
              "      <td>0.000</td>\n",
              "      <td>0.000</td>\n",
              "      <td>1.000</td>\n",
              "      <td>1.000</td>\n",
              "      <td>1.000</td>\n",
              "    </tr>\n",
              "    <tr>\n",
              "      <th>INSURANCE</th>\n",
              "      <td>7,139.000</td>\n",
              "      <td>0.847</td>\n",
              "      <td>0.360</td>\n",
              "      <td>0.000</td>\n",
              "      <td>1.000</td>\n",
              "      <td>1.000</td>\n",
              "      <td>1.000</td>\n",
              "      <td>1.000</td>\n",
              "    </tr>\n",
              "  </tbody>\n",
              "</table>\n",
              "</div>\n",
              "      <button class=\"colab-df-convert\" onclick=\"convertToInteractive('df-927f6f65-a3ad-426d-b534-2e0893f6504e')\"\n",
              "              title=\"Convert this dataframe to an interactive table.\"\n",
              "              style=\"display:none;\">\n",
              "        \n",
              "  <svg xmlns=\"http://www.w3.org/2000/svg\" height=\"24px\"viewBox=\"0 0 24 24\"\n",
              "       width=\"24px\">\n",
              "    <path d=\"M0 0h24v24H0V0z\" fill=\"none\"/>\n",
              "    <path d=\"M18.56 5.44l.94 2.06.94-2.06 2.06-.94-2.06-.94-.94-2.06-.94 2.06-2.06.94zm-11 1L8.5 8.5l.94-2.06 2.06-.94-2.06-.94L8.5 2.5l-.94 2.06-2.06.94zm10 10l.94 2.06.94-2.06 2.06-.94-2.06-.94-.94-2.06-.94 2.06-2.06.94z\"/><path d=\"M17.41 7.96l-1.37-1.37c-.4-.4-.92-.59-1.43-.59-.52 0-1.04.2-1.43.59L10.3 9.45l-7.72 7.72c-.78.78-.78 2.05 0 2.83L4 21.41c.39.39.9.59 1.41.59.51 0 1.02-.2 1.41-.59l7.78-7.78 2.81-2.81c.8-.78.8-2.07 0-2.86zM5.41 20L4 18.59l7.72-7.72 1.47 1.35L5.41 20z\"/>\n",
              "  </svg>\n",
              "      </button>\n",
              "      \n",
              "  <style>\n",
              "    .colab-df-container {\n",
              "      display:flex;\n",
              "      flex-wrap:wrap;\n",
              "      gap: 12px;\n",
              "    }\n",
              "\n",
              "    .colab-df-convert {\n",
              "      background-color: #E8F0FE;\n",
              "      border: none;\n",
              "      border-radius: 50%;\n",
              "      cursor: pointer;\n",
              "      display: none;\n",
              "      fill: #1967D2;\n",
              "      height: 32px;\n",
              "      padding: 0 0 0 0;\n",
              "      width: 32px;\n",
              "    }\n",
              "\n",
              "    .colab-df-convert:hover {\n",
              "      background-color: #E2EBFA;\n",
              "      box-shadow: 0px 1px 2px rgba(60, 64, 67, 0.3), 0px 1px 3px 1px rgba(60, 64, 67, 0.15);\n",
              "      fill: #174EA6;\n",
              "    }\n",
              "\n",
              "    [theme=dark] .colab-df-convert {\n",
              "      background-color: #3B4455;\n",
              "      fill: #D2E3FC;\n",
              "    }\n",
              "\n",
              "    [theme=dark] .colab-df-convert:hover {\n",
              "      background-color: #434B5C;\n",
              "      box-shadow: 0px 1px 3px 1px rgba(0, 0, 0, 0.15);\n",
              "      filter: drop-shadow(0px 1px 2px rgba(0, 0, 0, 0.3));\n",
              "      fill: #FFFFFF;\n",
              "    }\n",
              "  </style>\n",
              "\n",
              "      <script>\n",
              "        const buttonEl =\n",
              "          document.querySelector('#df-927f6f65-a3ad-426d-b534-2e0893f6504e button.colab-df-convert');\n",
              "        buttonEl.style.display =\n",
              "          google.colab.kernel.accessAllowed ? 'block' : 'none';\n",
              "\n",
              "        async function convertToInteractive(key) {\n",
              "          const element = document.querySelector('#df-927f6f65-a3ad-426d-b534-2e0893f6504e');\n",
              "          const dataTable =\n",
              "            await google.colab.kernel.invokeFunction('convertToInteractive',\n",
              "                                                     [key], {});\n",
              "          if (!dataTable) return;\n",
              "\n",
              "          const docLinkHtml = 'Like what you see? Visit the ' +\n",
              "            '<a target=\"_blank\" href=https://colab.research.google.com/notebooks/data_table.ipynb>data table notebook</a>'\n",
              "            + ' to learn more about interactive tables.';\n",
              "          element.innerHTML = '';\n",
              "          dataTable['output_type'] = 'display_data';\n",
              "          await google.colab.output.renderOutput(dataTable, element);\n",
              "          const docLink = document.createElement('div');\n",
              "          docLink.innerHTML = docLinkHtml;\n",
              "          element.appendChild(docLink);\n",
              "        }\n",
              "      </script>\n",
              "    </div>\n",
              "  </div>\n",
              "  "
            ]
          },
          "metadata": {},
          "execution_count": 17
        }
      ],
      "source": [
        "df.describe().T"
      ]
    },
    {
      "cell_type": "code",
      "execution_count": 18,
      "metadata": {
        "colab": {
          "base_uri": "https://localhost:8080/"
        },
        "id": "DTqfWjm1i7CN",
        "outputId": "482a939e-95a2-4606-93ba-7327940c6388"
      },
      "outputs": [
        {
          "output_type": "stream",
          "name": "stdout",
          "text": [
            "Shape data: (7139, 37)\n",
            "Number of mission values in data: 0\n",
            "Number of duplicate values in data: 2\n"
          ]
        }
      ],
      "source": [
        "\n",
        "print(f\"Shape data: {df.shape}\")\n",
        "print(f\"Number of mission values in data: \\\n",
        "{df.isnull().sum().sum()}\")\n",
        "print(f\"Number of duplicate values in data: \\\n",
        "{df.duplicated().sum()}\")"
      ]
    },
    {
      "cell_type": "code",
      "execution_count": 19,
      "metadata": {
        "colab": {
          "base_uri": "https://localhost:8080/",
          "height": 237
        },
        "id": "Cisp1TLEGRAB",
        "outputId": "3196822e-c3a5-4e79-f30a-fa77d6c15af4"
      },
      "outputs": [
        {
          "output_type": "execute_result",
          "data": {
            "text/plain": [
              "             PSY_USE_YN  SEX    AGE  ETHNICITY  REGION  ED  EMPL  INCOME  \\\n",
              "CASEID_7139                                                                \n",
              "533                   0    0 25.000          2       4   0     0   93374   \n",
              "5236                  0    1 41.000          2       3   1     1   76014   \n",
              "\n",
              "               BMI  C_TOTAL  ...  RU_UCC_YN  RU_OUTPT_YN  RU_ER_YN  RU_HSP_YN  \\\n",
              "CASEID_7139                  ...                                                \n",
              "533         27.460    0.000  ...          0            0         0          0   \n",
              "5236        20.870    0.000  ...          0            0         0          0   \n",
              "\n",
              "             PSY1_POSITIVE_USE  PSY2_GEN_HEALTH  PSY2_DIAG_CONDITION  \\\n",
              "CASEID_7139                                                            \n",
              "533                          3                0                    0   \n",
              "5236                         3                0                    0   \n",
              "\n",
              "             PSY2_UNDIAG_CONCERN  PSY2_NO_KNOWLEDGE  INSURANCE  \n",
              "CASEID_7139                                                     \n",
              "533                            0                  1          1  \n",
              "5236                           0                  1          0  \n",
              "\n",
              "[2 rows x 37 columns]"
            ],
            "text/html": [
              "\n",
              "  <div id=\"df-f34318f9-3807-45e8-9fd8-4067a754a25f\">\n",
              "    <div class=\"colab-df-container\">\n",
              "      <div>\n",
              "<style scoped>\n",
              "    .dataframe tbody tr th:only-of-type {\n",
              "        vertical-align: middle;\n",
              "    }\n",
              "\n",
              "    .dataframe tbody tr th {\n",
              "        vertical-align: top;\n",
              "    }\n",
              "\n",
              "    .dataframe thead th {\n",
              "        text-align: right;\n",
              "    }\n",
              "</style>\n",
              "<table border=\"1\" class=\"dataframe\">\n",
              "  <thead>\n",
              "    <tr style=\"text-align: right;\">\n",
              "      <th></th>\n",
              "      <th>PSY_USE_YN</th>\n",
              "      <th>SEX</th>\n",
              "      <th>AGE</th>\n",
              "      <th>ETHNICITY</th>\n",
              "      <th>REGION</th>\n",
              "      <th>ED</th>\n",
              "      <th>EMPL</th>\n",
              "      <th>INCOME</th>\n",
              "      <th>BMI</th>\n",
              "      <th>C_TOTAL</th>\n",
              "      <th>...</th>\n",
              "      <th>RU_UCC_YN</th>\n",
              "      <th>RU_OUTPT_YN</th>\n",
              "      <th>RU_ER_YN</th>\n",
              "      <th>RU_HSP_YN</th>\n",
              "      <th>PSY1_POSITIVE_USE</th>\n",
              "      <th>PSY2_GEN_HEALTH</th>\n",
              "      <th>PSY2_DIAG_CONDITION</th>\n",
              "      <th>PSY2_UNDIAG_CONCERN</th>\n",
              "      <th>PSY2_NO_KNOWLEDGE</th>\n",
              "      <th>INSURANCE</th>\n",
              "    </tr>\n",
              "    <tr>\n",
              "      <th>CASEID_7139</th>\n",
              "      <th></th>\n",
              "      <th></th>\n",
              "      <th></th>\n",
              "      <th></th>\n",
              "      <th></th>\n",
              "      <th></th>\n",
              "      <th></th>\n",
              "      <th></th>\n",
              "      <th></th>\n",
              "      <th></th>\n",
              "      <th></th>\n",
              "      <th></th>\n",
              "      <th></th>\n",
              "      <th></th>\n",
              "      <th></th>\n",
              "      <th></th>\n",
              "      <th></th>\n",
              "      <th></th>\n",
              "      <th></th>\n",
              "      <th></th>\n",
              "      <th></th>\n",
              "    </tr>\n",
              "  </thead>\n",
              "  <tbody>\n",
              "    <tr>\n",
              "      <th>533</th>\n",
              "      <td>0</td>\n",
              "      <td>0</td>\n",
              "      <td>25.000</td>\n",
              "      <td>2</td>\n",
              "      <td>4</td>\n",
              "      <td>0</td>\n",
              "      <td>0</td>\n",
              "      <td>93374</td>\n",
              "      <td>27.460</td>\n",
              "      <td>0.000</td>\n",
              "      <td>...</td>\n",
              "      <td>0</td>\n",
              "      <td>0</td>\n",
              "      <td>0</td>\n",
              "      <td>0</td>\n",
              "      <td>3</td>\n",
              "      <td>0</td>\n",
              "      <td>0</td>\n",
              "      <td>0</td>\n",
              "      <td>1</td>\n",
              "      <td>1</td>\n",
              "    </tr>\n",
              "    <tr>\n",
              "      <th>5236</th>\n",
              "      <td>0</td>\n",
              "      <td>1</td>\n",
              "      <td>41.000</td>\n",
              "      <td>2</td>\n",
              "      <td>3</td>\n",
              "      <td>1</td>\n",
              "      <td>1</td>\n",
              "      <td>76014</td>\n",
              "      <td>20.870</td>\n",
              "      <td>0.000</td>\n",
              "      <td>...</td>\n",
              "      <td>0</td>\n",
              "      <td>0</td>\n",
              "      <td>0</td>\n",
              "      <td>0</td>\n",
              "      <td>3</td>\n",
              "      <td>0</td>\n",
              "      <td>0</td>\n",
              "      <td>0</td>\n",
              "      <td>1</td>\n",
              "      <td>0</td>\n",
              "    </tr>\n",
              "  </tbody>\n",
              "</table>\n",
              "<p>2 rows × 37 columns</p>\n",
              "</div>\n",
              "      <button class=\"colab-df-convert\" onclick=\"convertToInteractive('df-f34318f9-3807-45e8-9fd8-4067a754a25f')\"\n",
              "              title=\"Convert this dataframe to an interactive table.\"\n",
              "              style=\"display:none;\">\n",
              "        \n",
              "  <svg xmlns=\"http://www.w3.org/2000/svg\" height=\"24px\"viewBox=\"0 0 24 24\"\n",
              "       width=\"24px\">\n",
              "    <path d=\"M0 0h24v24H0V0z\" fill=\"none\"/>\n",
              "    <path d=\"M18.56 5.44l.94 2.06.94-2.06 2.06-.94-2.06-.94-.94-2.06-.94 2.06-2.06.94zm-11 1L8.5 8.5l.94-2.06 2.06-.94-2.06-.94L8.5 2.5l-.94 2.06-2.06.94zm10 10l.94 2.06.94-2.06 2.06-.94-2.06-.94-.94-2.06-.94 2.06-2.06.94z\"/><path d=\"M17.41 7.96l-1.37-1.37c-.4-.4-.92-.59-1.43-.59-.52 0-1.04.2-1.43.59L10.3 9.45l-7.72 7.72c-.78.78-.78 2.05 0 2.83L4 21.41c.39.39.9.59 1.41.59.51 0 1.02-.2 1.41-.59l7.78-7.78 2.81-2.81c.8-.78.8-2.07 0-2.86zM5.41 20L4 18.59l7.72-7.72 1.47 1.35L5.41 20z\"/>\n",
              "  </svg>\n",
              "      </button>\n",
              "      \n",
              "  <style>\n",
              "    .colab-df-container {\n",
              "      display:flex;\n",
              "      flex-wrap:wrap;\n",
              "      gap: 12px;\n",
              "    }\n",
              "\n",
              "    .colab-df-convert {\n",
              "      background-color: #E8F0FE;\n",
              "      border: none;\n",
              "      border-radius: 50%;\n",
              "      cursor: pointer;\n",
              "      display: none;\n",
              "      fill: #1967D2;\n",
              "      height: 32px;\n",
              "      padding: 0 0 0 0;\n",
              "      width: 32px;\n",
              "    }\n",
              "\n",
              "    .colab-df-convert:hover {\n",
              "      background-color: #E2EBFA;\n",
              "      box-shadow: 0px 1px 2px rgba(60, 64, 67, 0.3), 0px 1px 3px 1px rgba(60, 64, 67, 0.15);\n",
              "      fill: #174EA6;\n",
              "    }\n",
              "\n",
              "    [theme=dark] .colab-df-convert {\n",
              "      background-color: #3B4455;\n",
              "      fill: #D2E3FC;\n",
              "    }\n",
              "\n",
              "    [theme=dark] .colab-df-convert:hover {\n",
              "      background-color: #434B5C;\n",
              "      box-shadow: 0px 1px 3px 1px rgba(0, 0, 0, 0.15);\n",
              "      filter: drop-shadow(0px 1px 2px rgba(0, 0, 0, 0.3));\n",
              "      fill: #FFFFFF;\n",
              "    }\n",
              "  </style>\n",
              "\n",
              "      <script>\n",
              "        const buttonEl =\n",
              "          document.querySelector('#df-f34318f9-3807-45e8-9fd8-4067a754a25f button.colab-df-convert');\n",
              "        buttonEl.style.display =\n",
              "          google.colab.kernel.accessAllowed ? 'block' : 'none';\n",
              "\n",
              "        async function convertToInteractive(key) {\n",
              "          const element = document.querySelector('#df-f34318f9-3807-45e8-9fd8-4067a754a25f');\n",
              "          const dataTable =\n",
              "            await google.colab.kernel.invokeFunction('convertToInteractive',\n",
              "                                                     [key], {});\n",
              "          if (!dataTable) return;\n",
              "\n",
              "          const docLinkHtml = 'Like what you see? Visit the ' +\n",
              "            '<a target=\"_blank\" href=https://colab.research.google.com/notebooks/data_table.ipynb>data table notebook</a>'\n",
              "            + ' to learn more about interactive tables.';\n",
              "          element.innerHTML = '';\n",
              "          dataTable['output_type'] = 'display_data';\n",
              "          await google.colab.output.renderOutput(dataTable, element);\n",
              "          const docLink = document.createElement('div');\n",
              "          docLink.innerHTML = docLinkHtml;\n",
              "          element.appendChild(docLink);\n",
              "        }\n",
              "      </script>\n",
              "    </div>\n",
              "  </div>\n",
              "  "
            ]
          },
          "metadata": {},
          "execution_count": 19
        }
      ],
      "source": [
        "df[df.duplicated()]"
      ]
    },
    {
      "cell_type": "code",
      "execution_count": 20,
      "metadata": {
        "colab": {
          "base_uri": "https://localhost:8080/"
        },
        "id": "yzcjtsP55-o4",
        "outputId": "7ef7ecdb-3235-4d74-b21d-37bbd239b4eb"
      },
      "outputs": [
        {
          "output_type": "execute_result",
          "data": {
            "text/plain": [
              "PSY_USE_YN                2\n",
              "SEX                       2\n",
              "AGE                      76\n",
              "ETHNICITY                 3\n",
              "REGION                    4\n",
              "ED                        2\n",
              "EMPL                      2\n",
              "INCOME                 4890\n",
              "BMI                    1551\n",
              "C_TOTAL                  28\n",
              "C_DP                      2\n",
              "C_ANX                     2\n",
              "C_PN                      2\n",
              "C_ALL                     2\n",
              "C_MI                      2\n",
              "C_INSOM                   2\n",
              "C_HYP                     2\n",
              "C_DH                      2\n",
              "C_SA                      2\n",
              "C_GERD                    2\n",
              "C_CS                      2\n",
              "C_LIP                     2\n",
              "CCI_SCORE                10\n",
              "PHQ9_SCORE               28\n",
              "RU_PCP_YN                 2\n",
              "RU_SPECIAL_YN             2\n",
              "RU_OTPCP_YN               2\n",
              "RU_UCC_YN                 2\n",
              "RU_OUTPT_YN               2\n",
              "RU_ER_YN                  2\n",
              "RU_HSP_YN                 2\n",
              "PSY1_POSITIVE_USE         5\n",
              "PSY2_GEN_HEALTH           2\n",
              "PSY2_DIAG_CONDITION       2\n",
              "PSY2_UNDIAG_CONCERN       2\n",
              "PSY2_NO_KNOWLEDGE         2\n",
              "INSURANCE                 2\n",
              "dtype: int64"
            ]
          },
          "metadata": {},
          "execution_count": 20
        }
      ],
      "source": [
        "df.nunique()"
      ]
    },
    {
      "cell_type": "code",
      "execution_count": 20,
      "metadata": {
        "id": "jGofla5Aoj6m"
      },
      "outputs": [],
      "source": []
    },
    {
      "cell_type": "code",
      "execution_count": 21,
      "metadata": {
        "colab": {
          "base_uri": "https://localhost:8080/",
          "height": 159
        },
        "id": "OKqcq64w5_ZW",
        "outputId": "38c6a0a3-5f48-401e-d970-a865289d7df9"
      },
      "outputs": [
        {
          "output_type": "display_data",
          "data": {
            "text/plain": [
              "<Figure size 1080x1080 with 0 Axes>"
            ]
          },
          "metadata": {}
        },
        {
          "output_type": "display_data",
          "data": {
            "text/plain": [
              "<Figure size 1080x1080 with 42 Axes>"
            ],
            "image/png": "[encoded data removed]"
          },
          "metadata": {}
        }
      ],
      "source": [
        "sns.set(rc = {'figure.figsize':(15,15)})\n",
        "plt.tight_layout()\n",
        "df.hist();"
      ]
    },
    {
      "cell_type": "markdown",
      "metadata": {
        "id": "deRNKgnH6WV4"
      },
      "source": [
        "Most of the data seems to be shewed with left tails, may need to do transformations on the data such as standardization "
      ]
    },
    {
      "cell_type": "code",
      "execution_count": 22,
      "metadata": {
        "colab": {
          "base_uri": "https://localhost:8080/",
          "height": 54
        },
        "id": "1nVyjgiX6Uxt",
        "outputId": "63ea87bd-44d2-4205-98f1-dcc015a958cc"
      },
      "outputs": [
        {
          "output_type": "display_data",
          "data": {
            "text/plain": [
              "<Figure size 720x576 with 1 Axes>"
            ],
            "image/png": "[encoded data removed]"
          },
          "metadata": {}
        }
      ],
      "source": [
        "sns.set(rc = {'figure.figsize':(10,8)})\n",
        "sns.boxplot(y ='PHQ9_SCORE',data=df)\n",
        "plt.ylim(0, 50)\n",
        "plt.tight_layout()"
      ]
    },
    {
      "cell_type": "markdown",
      "metadata": {
        "id": "51ebULwp6-7B"
      },
      "source": [
        "seems there are no outliers for the dependent vaiable"
      ]
    },
    {
      "cell_type": "code",
      "execution_count": 23,
      "metadata": {
        "colab": {
          "base_uri": "https://localhost:8080/"
        },
        "id": "2q3Ep_S78vgC",
        "outputId": "4ead842c-e3b9-423b-ecd1-a7a081409074"
      },
      "outputs": [
        {
          "output_type": "execute_result",
          "data": {
            "text/plain": [
              "count   7,139.000\n",
              "mean        7.330\n",
              "std         6.994\n",
              "min         0.000\n",
              "25%         1.000\n",
              "50%         5.000\n",
              "75%        12.000\n",
              "max        27.000\n",
              "Name: PHQ9_SCORE, dtype: float64"
            ]
          },
          "metadata": {},
          "execution_count": 23
        }
      ],
      "source": [
        "df['PHQ9_SCORE'].describe()"
      ]
    },
    {
      "cell_type": "markdown",
      "metadata": {
        "id": "zKvPwM2Foj6p"
      },
      "source": [
        "**PHQ9_SCORE** has a range of 0-27, and several increasing depression categories and needs to be remapped "
      ]
    },
    {
      "cell_type": "code",
      "execution_count": 24,
      "metadata": {
        "id": "0zsKYbjSoj6p"
      },
      "outputs": [],
      "source": [
        "# define function to use with apply and lambda to remap PHQ9_SCORE column\n",
        "\n",
        "def PHQ9_remap_1(x):\n",
        "    if (x >= 0) & (x <= 4):\n",
        "        x = 1\n",
        "    elif (x >= 5) & (x <= 9):\n",
        "        x = 2\n",
        "    elif (x >= 10) & (x <= 14):\n",
        "        x = 3\n",
        "    elif (x >= 15) & (x <= 19):\n",
        "        x = 4 \n",
        "    else:\n",
        "        x = 5\n",
        "\n",
        "    return x \n",
        "\n",
        "    \n",
        "    \n",
        "\n"
      ]
    },
    {
      "cell_type": "code",
      "execution_count": 25,
      "metadata": {
        "id": "hiPP9id8oj6p"
      },
      "outputs": [],
      "source": [
        "df['PHQ9_SCORE'] = df.apply(lambda x: PHQ9_remap_1(x['PHQ9_SCORE']), axis=1)"
      ]
    },
    {
      "cell_type": "code",
      "execution_count": 26,
      "metadata": {
        "colab": {
          "base_uri": "https://localhost:8080/"
        },
        "id": "p1RHUnQsoj6p",
        "outputId": "96b9af70-5203-48fe-b8f8-edceacde9b72"
      },
      "outputs": [
        {
          "output_type": "execute_result",
          "data": {
            "text/plain": [
              "CASEID_7139\n",
              "1       2\n",
              "2       1\n",
              "3       4\n",
              "4       4\n",
              "5       4\n",
              "       ..\n",
              "7135    3\n",
              "7136    1\n",
              "7137    1\n",
              "7138    1\n",
              "7139    1\n",
              "Name: PHQ9_SCORE, Length: 7139, dtype: int64"
            ]
          },
          "metadata": {},
          "execution_count": 26
        }
      ],
      "source": [
        "df['PHQ9_SCORE']"
      ]
    },
    {
      "cell_type": "code",
      "execution_count": 27,
      "metadata": {
        "colab": {
          "base_uri": "https://localhost:8080/"
        },
        "id": "t6ZVVl7GJo7R",
        "outputId": "3265d4c1-34a1-42e2-cbdb-a97172c25089"
      },
      "outputs": [
        {
          "output_type": "execute_result",
          "data": {
            "text/plain": [
              "1    3286\n",
              "2    1490\n",
              "3    1097\n",
              "4     774\n",
              "5     492\n",
              "Name: PHQ9_SCORE, dtype: int64"
            ]
          },
          "metadata": {},
          "execution_count": 27
        }
      ],
      "source": [
        "df['PHQ9_SCORE'].value_counts()"
      ]
    },
    {
      "cell_type": "markdown",
      "metadata": {
        "id": "vWOKp_HPg-oN"
      },
      "source": [
        "We can see that the PHQ9 score is unbalanced, but thinking about this from a health prespective, those that are > category 1(minimal depression) don't need any type of help or action, so we will remap this into 0 needing no action and 1 needing action."
      ]
    },
    {
      "cell_type": "code",
      "execution_count": 28,
      "metadata": {
        "id": "F173ILz5lPMx"
      },
      "outputs": [],
      "source": [
        "def PHQ9_remap_2 (x):\n",
        "  if x == 1:\n",
        "    x = 0\n",
        "  else: \n",
        "    x = 1\n",
        "  return x "
      ]
    },
    {
      "cell_type": "code",
      "execution_count": 29,
      "metadata": {
        "id": "cdiEptljlqwq"
      },
      "outputs": [],
      "source": [
        "df['PHQ9_SCORE'] = df.apply(lambda x: PHQ9_remap_2(x['PHQ9_SCORE']), axis=1)"
      ]
    },
    {
      "cell_type": "code",
      "execution_count": 30,
      "metadata": {
        "colab": {
          "base_uri": "https://localhost:8080/"
        },
        "id": "Uqy1M06-H1dF",
        "outputId": "52e539c4-5c50-430f-fda6-e43dc3b4fe14"
      },
      "outputs": [
        {
          "output_type": "stream",
          "name": "stdout",
          "text": [
            "<class 'pandas.core.frame.DataFrame'>\n",
            "Int64Index: 7139 entries, 1 to 7139\n",
            "Data columns (total 37 columns):\n",
            " #   Column               Non-Null Count  Dtype  \n",
            "---  ------               --------------  -----  \n",
            " 0   PSY_USE_YN           7139 non-null   int64  \n",
            " 1   SEX                  7139 non-null   int64  \n",
            " 2   AGE                  7139 non-null   float64\n",
            " 3   ETHNICITY            7139 non-null   int64  \n",
            " 4   REGION               7139 non-null   int64  \n",
            " 5   ED                   7139 non-null   int64  \n",
            " 6   EMPL                 7139 non-null   int64  \n",
            " 7   INCOME               7139 non-null   int64  \n",
            " 8   BMI                  7139 non-null   float64\n",
            " 9   C_TOTAL              7139 non-null   float64\n",
            " 10  C_DP                 7139 non-null   float64\n",
            " 11  C_ANX                7139 non-null   float64\n",
            " 12  C_PN                 7139 non-null   float64\n",
            " 13  C_ALL                7139 non-null   float64\n",
            " 14  C_MI                 7139 non-null   float64\n",
            " 15  C_INSOM              7139 non-null   float64\n",
            " 16  C_HYP                7139 non-null   float64\n",
            " 17  C_DH                 7139 non-null   float64\n",
            " 18  C_SA                 7139 non-null   float64\n",
            " 19  C_GERD               7139 non-null   float64\n",
            " 20  C_CS                 7139 non-null   float64\n",
            " 21  C_LIP                7139 non-null   float64\n",
            " 22  CCI_SCORE            7139 non-null   float64\n",
            " 23  PHQ9_SCORE           7139 non-null   int64  \n",
            " 24  RU_PCP_YN            7139 non-null   int64  \n",
            " 25  RU_SPECIAL_YN        7139 non-null   int64  \n",
            " 26  RU_OTPCP_YN          7139 non-null   int64  \n",
            " 27  RU_UCC_YN            7139 non-null   int64  \n",
            " 28  RU_OUTPT_YN          7139 non-null   int64  \n",
            " 29  RU_ER_YN             7139 non-null   int64  \n",
            " 30  RU_HSP_YN            7139 non-null   int64  \n",
            " 31  PSY1_POSITIVE_USE    7139 non-null   int64  \n",
            " 32  PSY2_GEN_HEALTH      7139 non-null   int64  \n",
            " 33  PSY2_DIAG_CONDITION  7139 non-null   int64  \n",
            " 34  PSY2_UNDIAG_CONCERN  7139 non-null   int64  \n",
            " 35  PSY2_NO_KNOWLEDGE    7139 non-null   int64  \n",
            " 36  INSURANCE            7139 non-null   int64  \n",
            "dtypes: float64(16), int64(21)\n",
            "memory usage: 2.3 MB\n"
          ]
        }
      ],
      "source": [
        "df.info()"
      ]
    },
    {
      "cell_type": "code",
      "execution_count": 31,
      "metadata": {
        "colab": {
          "base_uri": "https://localhost:8080/"
        },
        "id": "vNLTQx_EmIYg",
        "outputId": "92c9a11a-a723-4a6e-d15d-11fda50118eb"
      },
      "outputs": [
        {
          "output_type": "execute_result",
          "data": {
            "text/plain": [
              "CASEID_7139\n",
              "4712    1\n",
              "3683    0\n",
              "6665    1\n",
              "1888    0\n",
              "5468    1\n",
              "2733    0\n",
              "502     1\n",
              "3006    1\n",
              "5045    1\n",
              "837     1\n",
              "Name: PHQ9_SCORE, dtype: int64"
            ]
          },
          "metadata": {},
          "execution_count": 31
        }
      ],
      "source": [
        "df['PHQ9_SCORE'].sample(10)"
      ]
    },
    {
      "cell_type": "code",
      "execution_count": 32,
      "metadata": {
        "colab": {
          "base_uri": "https://localhost:8080/"
        },
        "id": "zYM8pSJqyPzr",
        "outputId": "0796b8f1-b23f-470b-8f65-141c23e4b3d3"
      },
      "outputs": [
        {
          "output_type": "execute_result",
          "data": {
            "text/plain": [
              "1    3853\n",
              "0    3286\n",
              "Name: PHQ9_SCORE, dtype: int64"
            ]
          },
          "metadata": {},
          "execution_count": 32
        }
      ],
      "source": [
        "df['PHQ9_SCORE'].value_counts()"
      ]
    },
    {
      "cell_type": "code",
      "execution_count": 33,
      "metadata": {
        "colab": {
          "base_uri": "https://localhost:8080/"
        },
        "id": "69KC4mvyydNe",
        "outputId": "9bb2bbd6-c552-484f-f868-a1b0d11882ae"
      },
      "outputs": [
        {
          "output_type": "execute_result",
          "data": {
            "text/plain": [
              "0    6613\n",
              "1     526\n",
              "Name: PSY_USE_YN, dtype: int64"
            ]
          },
          "metadata": {},
          "execution_count": 33
        }
      ],
      "source": [
        "df['PSY_USE_YN'].value_counts()"
      ]
    },
    {
      "cell_type": "markdown",
      "metadata": {
        "id": "ab4-0LHNy2Sm"
      },
      "source": [
        "looks like the 'PSY_USE_YN' column is unbalanced "
      ]
    },
    {
      "cell_type": "markdown",
      "metadata": {
        "id": "95G5_kY1g-ju"
      },
      "source": []
    },
    {
      "cell_type": "code",
      "execution_count": 34,
      "metadata": {
        "colab": {
          "base_uri": "https://localhost:8080/",
          "height": 331
        },
        "id": "-TLp8_Bmoj6q",
        "outputId": "e76e405e-b0ef-4cee-d750-885097f0a70d"
      },
      "outputs": [
        {
          "output_type": "execute_result",
          "data": {
            "text/plain": [
              "             PSY_USE_YN  SEX    AGE  ETHNICITY  REGION  ED  EMPL  INCOME  \\\n",
              "CASEID_7139                                                                \n",
              "1                     1    0 19.000          3       4   0     0   65847   \n",
              "2                     1    0 21.000          2       2   1     0   30585   \n",
              "3                     1    0 22.000          2       4   0     0   49259   \n",
              "4                     1    0 22.000          2       3   1     0   54135   \n",
              "5                     1    0 23.000          2       2   0     1   49425   \n",
              "\n",
              "               BMI  C_TOTAL  ...  RU_UCC_YN  RU_OUTPT_YN  RU_ER_YN  RU_HSP_YN  \\\n",
              "CASEID_7139                  ...                                                \n",
              "1           27.410    3.000  ...          0            0         0          0   \n",
              "2           29.260    0.000  ...          0            0         1          0   \n",
              "3           20.600    9.000  ...          1            0         1          0   \n",
              "4           18.560    2.000  ...          0            0         0          0   \n",
              "5           36.800    4.000  ...          0            0         1          0   \n",
              "\n",
              "             PSY1_POSITIVE_USE  PSY2_GEN_HEALTH  PSY2_DIAG_CONDITION  \\\n",
              "CASEID_7139                                                            \n",
              "1                            3                1                    0   \n",
              "2                            1                0                    0   \n",
              "3                            3                1                    1   \n",
              "4                            2                1                    1   \n",
              "5                            2                1                    1   \n",
              "\n",
              "             PSY2_UNDIAG_CONCERN  PSY2_NO_KNOWLEDGE  INSURANCE  \n",
              "CASEID_7139                                                     \n",
              "1                              0                  0          0  \n",
              "2                              1                  0          1  \n",
              "3                              1                  0          0  \n",
              "4                              0                  0          1  \n",
              "5                              1                  0          1  \n",
              "\n",
              "[5 rows x 37 columns]"
            ],
            "text/html": [
              "\n",
              "  <div id=\"df-0ac42e9a-de3d-41ea-88b9-9b8c5ad52c01\">\n",
              "    <div class=\"colab-df-container\">\n",
              "      <div>\n",
              "<style scoped>\n",
              "    .dataframe tbody tr th:only-of-type {\n",
              "        vertical-align: middle;\n",
              "    }\n",
              "\n",
              "    .dataframe tbody tr th {\n",
              "        vertical-align: top;\n",
              "    }\n",
              "\n",
              "    .dataframe thead th {\n",
              "        text-align: right;\n",
              "    }\n",
              "</style>\n",
              "<table border=\"1\" class=\"dataframe\">\n",
              "  <thead>\n",
              "    <tr style=\"text-align: right;\">\n",
              "      <th></th>\n",
              "      <th>PSY_USE_YN</th>\n",
              "      <th>SEX</th>\n",
              "      <th>AGE</th>\n",
              "      <th>ETHNICITY</th>\n",
              "      <th>REGION</th>\n",
              "      <th>ED</th>\n",
              "      <th>EMPL</th>\n",
              "      <th>INCOME</th>\n",
              "      <th>BMI</th>\n",
              "      <th>C_TOTAL</th>\n",
              "      <th>...</th>\n",
              "      <th>RU_UCC_YN</th>\n",
              "      <th>RU_OUTPT_YN</th>\n",
              "      <th>RU_ER_YN</th>\n",
              "      <th>RU_HSP_YN</th>\n",
              "      <th>PSY1_POSITIVE_USE</th>\n",
              "      <th>PSY2_GEN_HEALTH</th>\n",
              "      <th>PSY2_DIAG_CONDITION</th>\n",
              "      <th>PSY2_UNDIAG_CONCERN</th>\n",
              "      <th>PSY2_NO_KNOWLEDGE</th>\n",
              "      <th>INSURANCE</th>\n",
              "    </tr>\n",
              "    <tr>\n",
              "      <th>CASEID_7139</th>\n",
              "      <th></th>\n",
              "      <th></th>\n",
              "      <th></th>\n",
              "      <th></th>\n",
              "      <th></th>\n",
              "      <th></th>\n",
              "      <th></th>\n",
              "      <th></th>\n",
              "      <th></th>\n",
              "      <th></th>\n",
              "      <th></th>\n",
              "      <th></th>\n",
              "      <th></th>\n",
              "      <th></th>\n",
              "      <th></th>\n",
              "      <th></th>\n",
              "      <th></th>\n",
              "      <th></th>\n",
              "      <th></th>\n",
              "      <th></th>\n",
              "      <th></th>\n",
              "    </tr>\n",
              "  </thead>\n",
              "  <tbody>\n",
              "    <tr>\n",
              "      <th>1</th>\n",
              "      <td>1</td>\n",
              "      <td>0</td>\n",
              "      <td>19.000</td>\n",
              "      <td>3</td>\n",
              "      <td>4</td>\n",
              "      <td>0</td>\n",
              "      <td>0</td>\n",
              "      <td>65847</td>\n",
              "      <td>27.410</td>\n",
              "      <td>3.000</td>\n",
              "      <td>...</td>\n",
              "      <td>0</td>\n",
              "      <td>0</td>\n",
              "      <td>0</td>\n",
              "      <td>0</td>\n",
              "      <td>3</td>\n",
              "      <td>1</td>\n",
              "      <td>0</td>\n",
              "      <td>0</td>\n",
              "      <td>0</td>\n",
              "      <td>0</td>\n",
              "    </tr>\n",
              "    <tr>\n",
              "      <th>2</th>\n",
              "      <td>1</td>\n",
              "      <td>0</td>\n",
              "      <td>21.000</td>\n",
              "      <td>2</td>\n",
              "      <td>2</td>\n",
              "      <td>1</td>\n",
              "      <td>0</td>\n",
              "      <td>30585</td>\n",
              "      <td>29.260</td>\n",
              "      <td>0.000</td>\n",
              "      <td>...</td>\n",
              "      <td>0</td>\n",
              "      <td>0</td>\n",
              "      <td>1</td>\n",
              "      <td>0</td>\n",
              "      <td>1</td>\n",
              "      <td>0</td>\n",
              "      <td>0</td>\n",
              "      <td>1</td>\n",
              "      <td>0</td>\n",
              "      <td>1</td>\n",
              "    </tr>\n",
              "    <tr>\n",
              "      <th>3</th>\n",
              "      <td>1</td>\n",
              "      <td>0</td>\n",
              "      <td>22.000</td>\n",
              "      <td>2</td>\n",
              "      <td>4</td>\n",
              "      <td>0</td>\n",
              "      <td>0</td>\n",
              "      <td>49259</td>\n",
              "      <td>20.600</td>\n",
              "      <td>9.000</td>\n",
              "      <td>...</td>\n",
              "      <td>1</td>\n",
              "      <td>0</td>\n",
              "      <td>1</td>\n",
              "      <td>0</td>\n",
              "      <td>3</td>\n",
              "      <td>1</td>\n",
              "      <td>1</td>\n",
              "      <td>1</td>\n",
              "      <td>0</td>\n",
              "      <td>0</td>\n",
              "    </tr>\n",
              "    <tr>\n",
              "      <th>4</th>\n",
              "      <td>1</td>\n",
              "      <td>0</td>\n",
              "      <td>22.000</td>\n",
              "      <td>2</td>\n",
              "      <td>3</td>\n",
              "      <td>1</td>\n",
              "      <td>0</td>\n",
              "      <td>54135</td>\n",
              "      <td>18.560</td>\n",
              "      <td>2.000</td>\n",
              "      <td>...</td>\n",
              "      <td>0</td>\n",
              "      <td>0</td>\n",
              "      <td>0</td>\n",
              "      <td>0</td>\n",
              "      <td>2</td>\n",
              "      <td>1</td>\n",
              "      <td>1</td>\n",
              "      <td>0</td>\n",
              "      <td>0</td>\n",
              "      <td>1</td>\n",
              "    </tr>\n",
              "    <tr>\n",
              "      <th>5</th>\n",
              "      <td>1</td>\n",
              "      <td>0</td>\n",
              "      <td>23.000</td>\n",
              "      <td>2</td>\n",
              "      <td>2</td>\n",
              "      <td>0</td>\n",
              "      <td>1</td>\n",
              "      <td>49425</td>\n",
              "      <td>36.800</td>\n",
              "      <td>4.000</td>\n",
              "      <td>...</td>\n",
              "      <td>0</td>\n",
              "      <td>0</td>\n",
              "      <td>1</td>\n",
              "      <td>0</td>\n",
              "      <td>2</td>\n",
              "      <td>1</td>\n",
              "      <td>1</td>\n",
              "      <td>1</td>\n",
              "      <td>0</td>\n",
              "      <td>1</td>\n",
              "    </tr>\n",
              "  </tbody>\n",
              "</table>\n",
              "<p>5 rows × 37 columns</p>\n",
              "</div>\n",
              "      <button class=\"colab-df-convert\" onclick=\"convertToInteractive('df-0ac42e9a-de3d-41ea-88b9-9b8c5ad52c01')\"\n",
              "              title=\"Convert this dataframe to an interactive table.\"\n",
              "              style=\"display:none;\">\n",
              "        \n",
              "  <svg xmlns=\"http://www.w3.org/2000/svg\" height=\"24px\"viewBox=\"0 0 24 24\"\n",
              "       width=\"24px\">\n",
              "    <path d=\"M0 0h24v24H0V0z\" fill=\"none\"/>\n",
              "    <path d=\"M18.56 5.44l.94 2.06.94-2.06 2.06-.94-2.06-.94-.94-2.06-.94 2.06-2.06.94zm-11 1L8.5 8.5l.94-2.06 2.06-.94-2.06-.94L8.5 2.5l-.94 2.06-2.06.94zm10 10l.94 2.06.94-2.06 2.06-.94-2.06-.94-.94-2.06-.94 2.06-2.06.94z\"/><path d=\"M17.41 7.96l-1.37-1.37c-.4-.4-.92-.59-1.43-.59-.52 0-1.04.2-1.43.59L10.3 9.45l-7.72 7.72c-.78.78-.78 2.05 0 2.83L4 21.41c.39.39.9.59 1.41.59.51 0 1.02-.2 1.41-.59l7.78-7.78 2.81-2.81c.8-.78.8-2.07 0-2.86zM5.41 20L4 18.59l7.72-7.72 1.47 1.35L5.41 20z\"/>\n",
              "  </svg>\n",
              "      </button>\n",
              "      \n",
              "  <style>\n",
              "    .colab-df-container {\n",
              "      display:flex;\n",
              "      flex-wrap:wrap;\n",
              "      gap: 12px;\n",
              "    }\n",
              "\n",
              "    .colab-df-convert {\n",
              "      background-color: #E8F0FE;\n",
              "      border: none;\n",
              "      border-radius: 50%;\n",
              "      cursor: pointer;\n",
              "      display: none;\n",
              "      fill: #1967D2;\n",
              "      height: 32px;\n",
              "      padding: 0 0 0 0;\n",
              "      width: 32px;\n",
              "    }\n",
              "\n",
              "    .colab-df-convert:hover {\n",
              "      background-color: #E2EBFA;\n",
              "      box-shadow: 0px 1px 2px rgba(60, 64, 67, 0.3), 0px 1px 3px 1px rgba(60, 64, 67, 0.15);\n",
              "      fill: #174EA6;\n",
              "    }\n",
              "\n",
              "    [theme=dark] .colab-df-convert {\n",
              "      background-color: #3B4455;\n",
              "      fill: #D2E3FC;\n",
              "    }\n",
              "\n",
              "    [theme=dark] .colab-df-convert:hover {\n",
              "      background-color: #434B5C;\n",
              "      box-shadow: 0px 1px 3px 1px rgba(0, 0, 0, 0.15);\n",
              "      filter: drop-shadow(0px 1px 2px rgba(0, 0, 0, 0.3));\n",
              "      fill: #FFFFFF;\n",
              "    }\n",
              "  </style>\n",
              "\n",
              "      <script>\n",
              "        const buttonEl =\n",
              "          document.querySelector('#df-0ac42e9a-de3d-41ea-88b9-9b8c5ad52c01 button.colab-df-convert');\n",
              "        buttonEl.style.display =\n",
              "          google.colab.kernel.accessAllowed ? 'block' : 'none';\n",
              "\n",
              "        async function convertToInteractive(key) {\n",
              "          const element = document.querySelector('#df-0ac42e9a-de3d-41ea-88b9-9b8c5ad52c01');\n",
              "          const dataTable =\n",
              "            await google.colab.kernel.invokeFunction('convertToInteractive',\n",
              "                                                     [key], {});\n",
              "          if (!dataTable) return;\n",
              "\n",
              "          const docLinkHtml = 'Like what you see? Visit the ' +\n",
              "            '<a target=\"_blank\" href=https://colab.research.google.com/notebooks/data_table.ipynb>data table notebook</a>'\n",
              "            + ' to learn more about interactive tables.';\n",
              "          element.innerHTML = '';\n",
              "          dataTable['output_type'] = 'display_data';\n",
              "          await google.colab.output.renderOutput(dataTable, element);\n",
              "          const docLink = document.createElement('div');\n",
              "          docLink.innerHTML = docLinkHtml;\n",
              "          element.appendChild(docLink);\n",
              "        }\n",
              "      </script>\n",
              "    </div>\n",
              "  </div>\n",
              "  "
            ]
          },
          "metadata": {},
          "execution_count": 34
        }
      ],
      "source": [
        "df.head()"
      ]
    },
    {
      "cell_type": "markdown",
      "metadata": {
        "id": "bB2xI3eboj6q"
      },
      "source": [
        "the dataframe is properly cleaned and encoded now, now we need to split the data into train/test sets and scale the continous data features"
      ]
    },
    {
      "cell_type": "code",
      "execution_count": 35,
      "metadata": {
        "id": "dUVR5-Nloj6q"
      },
      "outputs": [],
      "source": [
        "df_clean = df "
      ]
    },
    {
      "cell_type": "code",
      "execution_count": 36,
      "metadata": {
        "colab": {
          "base_uri": "https://localhost:8080/",
          "height": 331
        },
        "id": "Yxn5388Uoj6q",
        "outputId": "991e35b1-22f1-4336-dfb9-24f4be3c9242"
      },
      "outputs": [
        {
          "output_type": "execute_result",
          "data": {
            "text/plain": [
              "             PSY_USE_YN  SEX    AGE  ETHNICITY  REGION  ED  EMPL  INCOME  \\\n",
              "CASEID_7139                                                                \n",
              "2059                  0    0 48.000          2       3   1     0   43521   \n",
              "6409                  0    1 70.000          2       3   1     0   44016   \n",
              "6789                  1    0 30.000          3       3   1     0   40536   \n",
              "6435                  0    1 70.000          1       4   1     0   52418   \n",
              "2193                  0    0 50.000          2       1   1     1   75625   \n",
              "\n",
              "               BMI  C_TOTAL  ...  RU_UCC_YN  RU_OUTPT_YN  RU_ER_YN  RU_HSP_YN  \\\n",
              "CASEID_7139                  ...                                                \n",
              "2059        35.240   10.000  ...          0            0         1          1   \n",
              "6409        28.190    8.000  ...          0            0         0          0   \n",
              "6789        24.030    7.000  ...          0            0         0          0   \n",
              "6435        30.410    2.000  ...          0            0         0          0   \n",
              "2193        26.630    1.000  ...          0            0         0          0   \n",
              "\n",
              "             PSY1_POSITIVE_USE  PSY2_GEN_HEALTH  PSY2_DIAG_CONDITION  \\\n",
              "CASEID_7139                                                            \n",
              "2059                         5                0                    0   \n",
              "6409                         5                0                    0   \n",
              "6789                         1                1                    1   \n",
              "6435                         5                0                    0   \n",
              "2193                         5                0                    0   \n",
              "\n",
              "             PSY2_UNDIAG_CONCERN  PSY2_NO_KNOWLEDGE  INSURANCE  \n",
              "CASEID_7139                                                     \n",
              "2059                           0                  1          1  \n",
              "6409                           0                  1          1  \n",
              "6789                           1                  0          1  \n",
              "6435                           0                  1          1  \n",
              "2193                           0                  1          1  \n",
              "\n",
              "[5 rows x 37 columns]"
            ],
            "text/html": [
              "\n",
              "  <div id=\"df-f746159f-790a-40f8-98ae-2da43b9669a6\">\n",
              "    <div class=\"colab-df-container\">\n",
              "      <div>\n",
              "<style scoped>\n",
              "    .dataframe tbody tr th:only-of-type {\n",
              "        vertical-align: middle;\n",
              "    }\n",
              "\n",
              "    .dataframe tbody tr th {\n",
              "        vertical-align: top;\n",
              "    }\n",
              "\n",
              "    .dataframe thead th {\n",
              "        text-align: right;\n",
              "    }\n",
              "</style>\n",
              "<table border=\"1\" class=\"dataframe\">\n",
              "  <thead>\n",
              "    <tr style=\"text-align: right;\">\n",
              "      <th></th>\n",
              "      <th>PSY_USE_YN</th>\n",
              "      <th>SEX</th>\n",
              "      <th>AGE</th>\n",
              "      <th>ETHNICITY</th>\n",
              "      <th>REGION</th>\n",
              "      <th>ED</th>\n",
              "      <th>EMPL</th>\n",
              "      <th>INCOME</th>\n",
              "      <th>BMI</th>\n",
              "      <th>C_TOTAL</th>\n",
              "      <th>...</th>\n",
              "      <th>RU_UCC_YN</th>\n",
              "      <th>RU_OUTPT_YN</th>\n",
              "      <th>RU_ER_YN</th>\n",
              "      <th>RU_HSP_YN</th>\n",
              "      <th>PSY1_POSITIVE_USE</th>\n",
              "      <th>PSY2_GEN_HEALTH</th>\n",
              "      <th>PSY2_DIAG_CONDITION</th>\n",
              "      <th>PSY2_UNDIAG_CONCERN</th>\n",
              "      <th>PSY2_NO_KNOWLEDGE</th>\n",
              "      <th>INSURANCE</th>\n",
              "    </tr>\n",
              "    <tr>\n",
              "      <th>CASEID_7139</th>\n",
              "      <th></th>\n",
              "      <th></th>\n",
              "      <th></th>\n",
              "      <th></th>\n",
              "      <th></th>\n",
              "      <th></th>\n",
              "      <th></th>\n",
              "      <th></th>\n",
              "      <th></th>\n",
              "      <th></th>\n",
              "      <th></th>\n",
              "      <th></th>\n",
              "      <th></th>\n",
              "      <th></th>\n",
              "      <th></th>\n",
              "      <th></th>\n",
              "      <th></th>\n",
              "      <th></th>\n",
              "      <th></th>\n",
              "      <th></th>\n",
              "      <th></th>\n",
              "    </tr>\n",
              "  </thead>\n",
              "  <tbody>\n",
              "    <tr>\n",
              "      <th>2059</th>\n",
              "      <td>0</td>\n",
              "      <td>0</td>\n",
              "      <td>48.000</td>\n",
              "      <td>2</td>\n",
              "      <td>3</td>\n",
              "      <td>1</td>\n",
              "      <td>0</td>\n",
              "      <td>43521</td>\n",
              "      <td>35.240</td>\n",
              "      <td>10.000</td>\n",
              "      <td>...</td>\n",
              "      <td>0</td>\n",
              "      <td>0</td>\n",
              "      <td>1</td>\n",
              "      <td>1</td>\n",
              "      <td>5</td>\n",
              "      <td>0</td>\n",
              "      <td>0</td>\n",
              "      <td>0</td>\n",
              "      <td>1</td>\n",
              "      <td>1</td>\n",
              "    </tr>\n",
              "    <tr>\n",
              "      <th>6409</th>\n",
              "      <td>0</td>\n",
              "      <td>1</td>\n",
              "      <td>70.000</td>\n",
              "      <td>2</td>\n",
              "      <td>3</td>\n",
              "      <td>1</td>\n",
              "      <td>0</td>\n",
              "      <td>44016</td>\n",
              "      <td>28.190</td>\n",
              "      <td>8.000</td>\n",
              "      <td>...</td>\n",
              "      <td>0</td>\n",
              "      <td>0</td>\n",
              "      <td>0</td>\n",
              "      <td>0</td>\n",
              "      <td>5</td>\n",
              "      <td>0</td>\n",
              "      <td>0</td>\n",
              "      <td>0</td>\n",
              "      <td>1</td>\n",
              "      <td>1</td>\n",
              "    </tr>\n",
              "    <tr>\n",
              "      <th>6789</th>\n",
              "      <td>1</td>\n",
              "      <td>0</td>\n",
              "      <td>30.000</td>\n",
              "      <td>3</td>\n",
              "      <td>3</td>\n",
              "      <td>1</td>\n",
              "      <td>0</td>\n",
              "      <td>40536</td>\n",
              "      <td>24.030</td>\n",
              "      <td>7.000</td>\n",
              "      <td>...</td>\n",
              "      <td>0</td>\n",
              "      <td>0</td>\n",
              "      <td>0</td>\n",
              "      <td>0</td>\n",
              "      <td>1</td>\n",
              "      <td>1</td>\n",
              "      <td>1</td>\n",
              "      <td>1</td>\n",
              "      <td>0</td>\n",
              "      <td>1</td>\n",
              "    </tr>\n",
              "    <tr>\n",
              "      <th>6435</th>\n",
              "      <td>0</td>\n",
              "      <td>1</td>\n",
              "      <td>70.000</td>\n",
              "      <td>1</td>\n",
              "      <td>4</td>\n",
              "      <td>1</td>\n",
              "      <td>0</td>\n",
              "      <td>52418</td>\n",
              "      <td>30.410</td>\n",
              "      <td>2.000</td>\n",
              "      <td>...</td>\n",
              "      <td>0</td>\n",
              "      <td>0</td>\n",
              "      <td>0</td>\n",
              "      <td>0</td>\n",
              "      <td>5</td>\n",
              "      <td>0</td>\n",
              "      <td>0</td>\n",
              "      <td>0</td>\n",
              "      <td>1</td>\n",
              "      <td>1</td>\n",
              "    </tr>\n",
              "    <tr>\n",
              "      <th>2193</th>\n",
              "      <td>0</td>\n",
              "      <td>0</td>\n",
              "      <td>50.000</td>\n",
              "      <td>2</td>\n",
              "      <td>1</td>\n",
              "      <td>1</td>\n",
              "      <td>1</td>\n",
              "      <td>75625</td>\n",
              "      <td>26.630</td>\n",
              "      <td>1.000</td>\n",
              "      <td>...</td>\n",
              "      <td>0</td>\n",
              "      <td>0</td>\n",
              "      <td>0</td>\n",
              "      <td>0</td>\n",
              "      <td>5</td>\n",
              "      <td>0</td>\n",
              "      <td>0</td>\n",
              "      <td>0</td>\n",
              "      <td>1</td>\n",
              "      <td>1</td>\n",
              "    </tr>\n",
              "  </tbody>\n",
              "</table>\n",
              "<p>5 rows × 37 columns</p>\n",
              "</div>\n",
              "      <button class=\"colab-df-convert\" onclick=\"convertToInteractive('df-f746159f-790a-40f8-98ae-2da43b9669a6')\"\n",
              "              title=\"Convert this dataframe to an interactive table.\"\n",
              "              style=\"display:none;\">\n",
              "        \n",
              "  <svg xmlns=\"http://www.w3.org/2000/svg\" height=\"24px\"viewBox=\"0 0 24 24\"\n",
              "       width=\"24px\">\n",
              "    <path d=\"M0 0h24v24H0V0z\" fill=\"none\"/>\n",
              "    <path d=\"M18.56 5.44l.94 2.06.94-2.06 2.06-.94-2.06-.94-.94-2.06-.94 2.06-2.06.94zm-11 1L8.5 8.5l.94-2.06 2.06-.94-2.06-.94L8.5 2.5l-.94 2.06-2.06.94zm10 10l.94 2.06.94-2.06 2.06-.94-2.06-.94-.94-2.06-.94 2.06-2.06.94z\"/><path d=\"M17.41 7.96l-1.37-1.37c-.4-.4-.92-.59-1.43-.59-.52 0-1.04.2-1.43.59L10.3 9.45l-7.72 7.72c-.78.78-.78 2.05 0 2.83L4 21.41c.39.39.9.59 1.41.59.51 0 1.02-.2 1.41-.59l7.78-7.78 2.81-2.81c.8-.78.8-2.07 0-2.86zM5.41 20L4 18.59l7.72-7.72 1.47 1.35L5.41 20z\"/>\n",
              "  </svg>\n",
              "      </button>\n",
              "      \n",
              "  <style>\n",
              "    .colab-df-container {\n",
              "      display:flex;\n",
              "      flex-wrap:wrap;\n",
              "      gap: 12px;\n",
              "    }\n",
              "\n",
              "    .colab-df-convert {\n",
              "      background-color: #E8F0FE;\n",
              "      border: none;\n",
              "      border-radius: 50%;\n",
              "      cursor: pointer;\n",
              "      display: none;\n",
              "      fill: #1967D2;\n",
              "      height: 32px;\n",
              "      padding: 0 0 0 0;\n",
              "      width: 32px;\n",
              "    }\n",
              "\n",
              "    .colab-df-convert:hover {\n",
              "      background-color: #E2EBFA;\n",
              "      box-shadow: 0px 1px 2px rgba(60, 64, 67, 0.3), 0px 1px 3px 1px rgba(60, 64, 67, 0.15);\n",
              "      fill: #174EA6;\n",
              "    }\n",
              "\n",
              "    [theme=dark] .colab-df-convert {\n",
              "      background-color: #3B4455;\n",
              "      fill: #D2E3FC;\n",
              "    }\n",
              "\n",
              "    [theme=dark] .colab-df-convert:hover {\n",
              "      background-color: #434B5C;\n",
              "      box-shadow: 0px 1px 3px 1px rgba(0, 0, 0, 0.15);\n",
              "      filter: drop-shadow(0px 1px 2px rgba(0, 0, 0, 0.3));\n",
              "      fill: #FFFFFF;\n",
              "    }\n",
              "  </style>\n",
              "\n",
              "      <script>\n",
              "        const buttonEl =\n",
              "          document.querySelector('#df-f746159f-790a-40f8-98ae-2da43b9669a6 button.colab-df-convert');\n",
              "        buttonEl.style.display =\n",
              "          google.colab.kernel.accessAllowed ? 'block' : 'none';\n",
              "\n",
              "        async function convertToInteractive(key) {\n",
              "          const element = document.querySelector('#df-f746159f-790a-40f8-98ae-2da43b9669a6');\n",
              "          const dataTable =\n",
              "            await google.colab.kernel.invokeFunction('convertToInteractive',\n",
              "                                                     [key], {});\n",
              "          if (!dataTable) return;\n",
              "\n",
              "          const docLinkHtml = 'Like what you see? Visit the ' +\n",
              "            '<a target=\"_blank\" href=https://colab.research.google.com/notebooks/data_table.ipynb>data table notebook</a>'\n",
              "            + ' to learn more about interactive tables.';\n",
              "          element.innerHTML = '';\n",
              "          dataTable['output_type'] = 'display_data';\n",
              "          await google.colab.output.renderOutput(dataTable, element);\n",
              "          const docLink = document.createElement('div');\n",
              "          docLink.innerHTML = docLinkHtml;\n",
              "          element.appendChild(docLink);\n",
              "        }\n",
              "      </script>\n",
              "    </div>\n",
              "  </div>\n",
              "  "
            ]
          },
          "metadata": {},
          "execution_count": 36
        }
      ],
      "source": [
        "df_clean.sample(5)"
      ]
    },
    {
      "cell_type": "code",
      "execution_count": 37,
      "metadata": {
        "colab": {
          "base_uri": "https://localhost:8080/",
          "height": 106
        },
        "id": "3ooH3uZ6Irzm",
        "outputId": "f2c4a4c9-e8a4-4ca4-86c6-26be97dabb2a"
      },
      "outputs": [
        {
          "output_type": "execute_result",
          "data": {
            "text/plain": [
              "<matplotlib.axes._subplots.AxesSubplot at 0x7fe20601b0d0>"
            ]
          },
          "metadata": {},
          "execution_count": 37
        },
        {
          "output_type": "display_data",
          "data": {
            "text/plain": [
              "<Figure size 720x576 with 2 Axes>"
            ],
            "image/png": "[encoded data removed]"
          },
          "metadata": {}
        }
      ],
      "source": [
        "sns.heatmap(df_clean.corr(), square= True,linewidths=.2)"
      ]
    },
    {
      "cell_type": "markdown",
      "metadata": {
        "id": "40zlrvKNUfoK"
      },
      "source": [
        "#Modeling"
      ]
    },
    {
      "cell_type": "markdown",
      "metadata": {
        "id": "Lxf0yC4D0W1G"
      },
      "source": [
        "### Split data "
      ]
    },
    {
      "cell_type": "code",
      "execution_count": 68,
      "metadata": {
        "id": "3faZMZlgoj6r"
      },
      "outputs": [],
      "source": [
        "X, y = df_clean.loc[:, 'SEX': 'INSURANCE'].drop('PHQ9_SCORE', axis=1).values, df_clean.loc[:, 'PHQ9_SCORE'].values"
      ]
    },
    {
      "cell_type": "code",
      "execution_count": 69,
      "metadata": {
        "id": "bjlIVpHOoj6r"
      },
      "outputs": [],
      "source": [
        "X_train, X_test, y_train, y_test = train_test_split(X, y,test_size =0.3, random_state = 0, \\\n",
        "                                                   stratify = y)"
      ]
    },
    {
      "cell_type": "markdown",
      "metadata": {
        "id": "bg8yd5NX0esY"
      },
      "source": [
        "### Linear SVC Model"
      ]
    },
    {
      "cell_type": "code",
      "execution_count": 40,
      "metadata": {
        "id": "HqoxjL7MijdY"
      },
      "outputs": [],
      "source": [
        "# make pipeline\n",
        "pipe_lr = make_pipeline(StandardScaler(),PCA(), \n",
        "                        LinearSVC( max_iter=10000,random_state =1))"
      ]
    },
    {
      "cell_type": "code",
      "execution_count": 41,
      "metadata": {
        "colab": {
          "base_uri": "https://localhost:8080/"
        },
        "id": "asEvoMPUjq4n",
        "outputId": "e88206b5-1912-4dc7-9bc6-d8332cb3c5d5"
      },
      "outputs": [
        {
          "output_type": "stream",
          "name": "stdout",
          "text": [
            "Test recall: 0.7517301038062284\n",
            "MCC: 0.5240066872375015\n"
          ]
        }
      ],
      "source": [
        "pipe_lr.fit(X_train, y_train)\n",
        "y_pred = pipe_lr.predict(X_test)\n",
        "test_recall = recall_score(y_test, y_pred)\n",
        "mcc_lr = matthews_corrcoef(y_test, y_pred)\n",
        "print(f'Test recall: {test_recall}')\n",
        "print(f'MCC: {mcc_lr}')"
      ]
    },
    {
      "cell_type": "code",
      "execution_count": 42,
      "metadata": {
        "colab": {
          "base_uri": "https://localhost:8080/"
        },
        "id": "287CmsNvJfVC",
        "outputId": "394c6d6a-d910-47c7-80aa-64fb2a2a10fc"
      },
      "outputs": [
        {
          "output_type": "stream",
          "name": "stdout",
          "text": [
            "[[763 223]\n",
            " [287 869]]\n"
          ]
        }
      ],
      "source": [
        "from sklearn.metrics import confusion_matrix\n",
        "confmat = confusion_matrix(y_test, y_pred)\n",
        "print(confmat)"
      ]
    },
    {
      "cell_type": "code",
      "execution_count": 43,
      "metadata": {
        "colab": {
          "base_uri": "https://localhost:8080/",
          "height": 220
        },
        "id": "KjpU1lgtJqCf",
        "outputId": "327356b1-d01d-40e0-8e0a-cbe8087c9251"
      },
      "outputs": [
        {
          "output_type": "execute_result",
          "data": {
            "text/plain": [
              "Text(0, 0.5, 'True label')"
            ]
          },
          "metadata": {},
          "execution_count": 43
        },
        {
          "output_type": "display_data",
          "data": {
            "text/plain": [
              "<Figure size 180x180 with 1 Axes>"
            ],
            "image/png": "[encoded data removed]"
          },
          "metadata": {}
        }
      ],
      "source": [
        "fig, ax = plt.subplots(figsize=(2.5, 2.5))\n",
        "ax.matshow(confmat, cmap=plt.cm.Blues, alpha=0.2)\n",
        "for i in range(confmat.shape[0]):\n",
        "  for j in range(confmat.shape[1]):\n",
        "    ax.text(x=j, y=i, s=confmat[i, j],va='center', ha='center')\n",
        "ax.xaxis.set_ticks_position('bottom')\n",
        "plt.xlabel('Predicted label')\n",
        "plt.ylabel('True label')\n"
      ]
    },
    {
      "cell_type": "code",
      "execution_count": 44,
      "metadata": {
        "colab": {
          "base_uri": "https://localhost:8080/",
          "height": 519
        },
        "id": "HEsnFpB9LnhV",
        "outputId": "a3705717-0e1e-468d-88be-c8245bb32a34"
      },
      "outputs": [
        {
          "output_type": "execute_result",
          "data": {
            "text/plain": [
              "<matplotlib.legend.Legend at 0x7fe20682c090>"
            ]
          },
          "metadata": {},
          "execution_count": 44
        },
        {
          "output_type": "display_data",
          "data": {
            "text/plain": [
              "<Figure size 720x576 with 1 Axes>"
            ],
            "image/png": "[encoded data removed]"
          },
          "metadata": {}
        }
      ],
      "source": [
        "train_sizes, train_scores, test_scores =\\\n",
        "                 learning_curve(estimator=pipe_lr,\n",
        "                                X=X_train,\n",
        "                                y=y_train,\n",
        "                                train_sizes=np.linspace(\n",
        "                                            0.1, 1.0, 10),cv=10, n_jobs=1)\n",
        "train_mean = np.mean(train_scores, axis=1)\n",
        "train_std = np.std(train_scores, axis=1)\n",
        "test_mean = np.mean(test_scores, axis=1)\n",
        "test_std = np.std(test_scores, axis=1)\n",
        "plt.plot(train_sizes, train_mean,\n",
        "          color='blue', marker='o',\n",
        "          markersize=5, label='Training accuracy')\n",
        "plt.fill_between(train_sizes,\n",
        "                  train_mean + train_std,\n",
        "                  train_mean - train_std,\n",
        "                  alpha=0.15, color='blue')\n",
        "plt.plot(train_sizes, test_mean,\n",
        "          color='green', linestyle='--',\n",
        "          marker='s', markersize=5,\n",
        "          label='Validation accuracy')\n",
        "plt.fill_between(train_sizes,\n",
        "                  test_mean + test_std,\n",
        "                  test_mean - test_std,\n",
        "                  alpha=0.15, color='green')\n",
        "plt.grid()\n",
        "plt.xlabel('Number of training examples')\n",
        "plt.ylabel('Accuracy')\n",
        "plt.legend(loc='lower right')"
      ]
    },
    {
      "cell_type": "markdown",
      "metadata": {
        "id": "F5CYE_6-U5uj"
      },
      "source": [
        "** tune models, try Xboost, once you find the best model, use emsemble methods, create slide deck, then report **"
      ]
    },
    {
      "cell_type": "markdown",
      "metadata": {
        "id": "BU34GUBSU0mQ"
      },
      "source": [
        "** tune models, try Xboost, once you find the best model, use emsemble methods, create slide deck, then report **"
      ]
    },
    {
      "cell_type": "markdown",
      "metadata": {
        "id": "Ad_jxPbf0oV6"
      },
      "source": [
        "### SVC Kernel Model"
      ]
    },
    {
      "cell_type": "code",
      "execution_count": 45,
      "metadata": {
        "id": "eu5CAQ0V2xB8"
      },
      "outputs": [],
      "source": [
        "pipe_svc = make_pipeline(StandardScaler(), SVC(random_state=0))"
      ]
    },
    {
      "cell_type": "code",
      "execution_count": 45,
      "metadata": {
        "id": "SgguOfLbP_HB"
      },
      "outputs": [],
      "source": []
    },
    {
      "cell_type": "markdown",
      "metadata": {
        "id": "Gkna6X6kEXE6"
      },
      "source": [
        "For this problem we care more about recall as a performance, which minimises false negatives as oposed to precision which minimised false positives"
      ]
    },
    {
      "cell_type": "code",
      "execution_count": 46,
      "metadata": {
        "id": "LAWD05oH33aD",
        "colab": {
          "base_uri": "https://localhost:8080/"
        },
        "outputId": "a1041f56-0894-4381-bf2a-ea2bc6126f91"
      },
      "outputs": [
        {
          "output_type": "stream",
          "name": "stdout",
          "text": [
            "Test recall: 0.759515570934256\n"
          ]
        }
      ],
      "source": [
        "pipe_svc.fit(X_train, y_train)\n",
        "y_pred = pipe_svc.predict(X_test)\n",
        "test_recall = recall_score(y_test, y_pred)\n",
        "print(f'Test recall: {test_recall}')"
      ]
    },
    {
      "cell_type": "code",
      "execution_count": 47,
      "metadata": {
        "id": "q-XTR7L5L6wC",
        "colab": {
          "base_uri": "https://localhost:8080/"
        },
        "outputId": "e0b19132-fc4d-4f3b-8f1a-de817d152ed2"
      },
      "outputs": [
        {
          "output_type": "stream",
          "name": "stdout",
          "text": [
            "[[740 246]\n",
            " [278 878]]\n"
          ]
        }
      ],
      "source": [
        "confmat = confusion_matrix(y_test, y_pred)\n",
        "print(confmat)"
      ]
    },
    {
      "cell_type": "code",
      "execution_count": 48,
      "metadata": {
        "id": "tV7jWeKmLbqi",
        "colab": {
          "base_uri": "https://localhost:8080/",
          "height": 220
        },
        "outputId": "2d233d6d-fc3f-4ce1-8441-aa6718f38775"
      },
      "outputs": [
        {
          "output_type": "execute_result",
          "data": {
            "text/plain": [
              "Text(0, 0.5, 'True label')"
            ]
          },
          "metadata": {},
          "execution_count": 48
        },
        {
          "output_type": "display_data",
          "data": {
            "text/plain": [
              "<Figure size 180x180 with 1 Axes>"
            ],
            "image/png": "[encoded data removed]"
          },
          "metadata": {}
        }
      ],
      "source": [
        "fig, ax = plt.subplots(figsize=(2.5, 2.5))\n",
        "ax.matshow(confmat, cmap=plt.cm.Blues, alpha=0.2)\n",
        "for i in range(confmat.shape[0]):\n",
        "  for j in range(confmat.shape[1]):\n",
        "    ax.text(x=j, y=i, s=confmat[i, j],va='center', ha='center')\n",
        "ax.xaxis.set_ticks_position('bottom')\n",
        "plt.xlabel('Predicted label')\n",
        "plt.ylabel('True label')"
      ]
    },
    {
      "cell_type": "code",
      "execution_count": 49,
      "metadata": {
        "id": "lvTlJQqKPC8B",
        "colab": {
          "base_uri": "https://localhost:8080/",
          "height": 519
        },
        "outputId": "50795686-078a-446f-8c5c-659ebfb6d150"
      },
      "outputs": [
        {
          "output_type": "execute_result",
          "data": {
            "text/plain": [
              "<matplotlib.legend.Legend at 0x7fe1ff16ab90>"
            ]
          },
          "metadata": {},
          "execution_count": 49
        },
        {
          "output_type": "display_data",
          "data": {
            "text/plain": [
              "<Figure size 720x576 with 1 Axes>"
            ],
            "image/png": "[encoded data removed]"
          },
          "metadata": {}
        }
      ],
      "source": [
        "train_sizes, train_scores, test_scores =\\\n",
        "                 learning_curve(estimator=pipe_svc,\n",
        "                                X=X_train,\n",
        "                                y=y_train,\n",
        "                                train_sizes=np.linspace(\n",
        "                                            0.1, 1.0, 10),cv=10, n_jobs=1)\n",
        "train_mean = np.mean(train_scores, axis=1)\n",
        "train_std = np.std(train_scores, axis=1)\n",
        "test_mean = np.mean(test_scores, axis=1)\n",
        "test_std = np.std(test_scores, axis=1)\n",
        "plt.plot(train_sizes, train_mean,\n",
        "          color='blue', marker='o',\n",
        "          markersize=5, label='Training accuracy')\n",
        "plt.fill_between(train_sizes,\n",
        "                  train_mean + train_std,\n",
        "                  train_mean - train_std,\n",
        "                  alpha=0.15, color='blue')\n",
        "plt.plot(train_sizes, test_mean,\n",
        "          color='green', linestyle='--',\n",
        "          marker='s', markersize=5,\n",
        "          label='Validation accuracy')\n",
        "plt.fill_between(train_sizes,\n",
        "                  test_mean + test_std,\n",
        "                  test_mean - test_std,\n",
        "                  alpha=0.15, color='green')\n",
        "plt.grid()\n",
        "plt.xlabel('Number of training examples')\n",
        "plt.ylabel('Accuracy')\n",
        "plt.legend(loc='lower right')"
      ]
    },
    {
      "cell_type": "markdown",
      "metadata": {
        "id": "DJexeUwUSbH4"
      },
      "source": [
        "trying some feature selection "
      ]
    },
    {
      "cell_type": "markdown",
      "metadata": {
        "id": "ML-m6o5qOUaa"
      },
      "source": [
        "### Tune Models via grid search"
      ]
    },
    {
      "cell_type": "code",
      "execution_count": 56,
      "metadata": {
        "id": "7MnDFXekgKO7"
      },
      "outputs": [],
      "source": [
        "pipe_svc = make_pipeline(StandardScaler(), PCA(), SVC(random_state=0))"
      ]
    },
    {
      "cell_type": "code",
      "execution_count": 57,
      "metadata": {
        "colab": {
          "base_uri": "https://localhost:8080/",
          "height": 381
        },
        "id": "RFGZq_spVdhq",
        "outputId": "32968f91-3ea0-4950-e464-b4ece410f5d3"
      },
      "outputs": [
        {
          "output_type": "error",
          "ename": "KeyboardInterrupt",
          "evalue": "ignored",
          "traceback": [
            "\u001b[0;31m---------------------------------------------------------------------------\u001b[0m",
            "\u001b[0;31mKeyboardInterrupt\u001b[0m                         Traceback (most recent call last)",
            "\u001b[0;32m<ipython-input-57-dce4339fe2a5>\u001b[0m in \u001b[0;36m<module>\u001b[0;34m\u001b[0m\n\u001b[1;32m     16\u001b[0m                    random_state=1)\n\u001b[1;32m     17\u001b[0m \u001b[0;34m\u001b[0m\u001b[0m\n\u001b[0;32m---> 18\u001b[0;31m \u001b[0mrs\u001b[0m \u001b[0;34m=\u001b[0m \u001b[0mrs\u001b[0m\u001b[0;34m.\u001b[0m\u001b[0mfit\u001b[0m\u001b[0;34m(\u001b[0m\u001b[0mX_train\u001b[0m\u001b[0;34m,\u001b[0m \u001b[0my_train\u001b[0m\u001b[0;34m)\u001b[0m\u001b[0;34m\u001b[0m\u001b[0;34m\u001b[0m\u001b[0m\n\u001b[0m\u001b[1;32m     19\u001b[0m \u001b[0;34m\u001b[0m\u001b[0m\n\u001b[1;32m     20\u001b[0m \u001b[0mprint\u001b[0m\u001b[0;34m(\u001b[0m\u001b[0mrs\u001b[0m\u001b[0;34m.\u001b[0m\u001b[0mbest_score_\u001b[0m\u001b[0;34m)\u001b[0m\u001b[0;34m\u001b[0m\u001b[0;34m\u001b[0m\u001b[0m\n",
            "\u001b[0;32m/usr/local/lib/python3.7/dist-packages/sklearn/model_selection/_search.py\u001b[0m in \u001b[0;36mfit\u001b[0;34m(self, X, y, groups, **fit_params)\u001b[0m\n\u001b[1;32m    889\u001b[0m                 \u001b[0;32mreturn\u001b[0m \u001b[0mresults\u001b[0m\u001b[0;34m\u001b[0m\u001b[0;34m\u001b[0m\u001b[0m\n\u001b[1;32m    890\u001b[0m \u001b[0;34m\u001b[0m\u001b[0m\n\u001b[0;32m--> 891\u001b[0;31m             \u001b[0mself\u001b[0m\u001b[0;34m.\u001b[0m\u001b[0m_run_search\u001b[0m\u001b[0;34m(\u001b[0m\u001b[0mevaluate_candidates\u001b[0m\u001b[0;34m)\u001b[0m\u001b[0;34m\u001b[0m\u001b[0;34m\u001b[0m\u001b[0m\n\u001b[0m\u001b[1;32m    892\u001b[0m \u001b[0;34m\u001b[0m\u001b[0m\n\u001b[1;32m    893\u001b[0m             \u001b[0;31m# multimetric is determined here because in the case of a callable\u001b[0m\u001b[0;34m\u001b[0m\u001b[0;34m\u001b[0m\u001b[0;34m\u001b[0m\u001b[0m\n",
            "\u001b[0;32m/usr/local/lib/python3.7/dist-packages/sklearn/model_selection/_search.py\u001b[0m in \u001b[0;36m_run_search\u001b[0;34m(self, evaluate_candidates)\u001b[0m\n\u001b[1;32m   1766\u001b[0m         evaluate_candidates(\n\u001b[1;32m   1767\u001b[0m             ParameterSampler(\n\u001b[0;32m-> 1768\u001b[0;31m                 \u001b[0mself\u001b[0m\u001b[0;34m.\u001b[0m\u001b[0mparam_distributions\u001b[0m\u001b[0;34m,\u001b[0m \u001b[0mself\u001b[0m\u001b[0;34m.\u001b[0m\u001b[0mn_iter\u001b[0m\u001b[0;34m,\u001b[0m \u001b[0mrandom_state\u001b[0m\u001b[0;34m=\u001b[0m\u001b[0mself\u001b[0m\u001b[0;34m.\u001b[0m\u001b[0mrandom_state\u001b[0m\u001b[0;34m\u001b[0m\u001b[0;34m\u001b[0m\u001b[0m\n\u001b[0m\u001b[1;32m   1769\u001b[0m             )\n\u001b[1;32m   1770\u001b[0m         )\n",
            "\u001b[0;32m/usr/local/lib/python3.7/dist-packages/sklearn/model_selection/_search.py\u001b[0m in \u001b[0;36mevaluate_candidates\u001b[0;34m(candidate_params, cv, more_results)\u001b[0m\n\u001b[1;32m    849\u001b[0m                     )\n\u001b[1;32m    850\u001b[0m                     for (cand_idx, parameters), (split_idx, (train, test)) in product(\n\u001b[0;32m--> 851\u001b[0;31m                         \u001b[0menumerate\u001b[0m\u001b[0;34m(\u001b[0m\u001b[0mcandidate_params\u001b[0m\u001b[0;34m)\u001b[0m\u001b[0;34m,\u001b[0m \u001b[0menumerate\u001b[0m\u001b[0;34m(\u001b[0m\u001b[0mcv\u001b[0m\u001b[0;34m.\u001b[0m\u001b[0msplit\u001b[0m\u001b[0;34m(\u001b[0m\u001b[0mX\u001b[0m\u001b[0;34m,\u001b[0m \u001b[0my\u001b[0m\u001b[0;34m,\u001b[0m \u001b[0mgroups\u001b[0m\u001b[0;34m)\u001b[0m\u001b[0;34m)\u001b[0m\u001b[0;34m\u001b[0m\u001b[0;34m\u001b[0m\u001b[0m\n\u001b[0m\u001b[1;32m    852\u001b[0m                     )\n\u001b[1;32m    853\u001b[0m                 )\n",
            "\u001b[0;32m/usr/local/lib/python3.7/dist-packages/joblib/parallel.py\u001b[0m in \u001b[0;36m__call__\u001b[0;34m(self, iterable)\u001b[0m\n\u001b[1;32m   1054\u001b[0m \u001b[0;34m\u001b[0m\u001b[0m\n\u001b[1;32m   1055\u001b[0m             \u001b[0;32mwith\u001b[0m \u001b[0mself\u001b[0m\u001b[0;34m.\u001b[0m\u001b[0m_backend\u001b[0m\u001b[0;34m.\u001b[0m\u001b[0mretrieval_context\u001b[0m\u001b[0;34m(\u001b[0m\u001b[0;34m)\u001b[0m\u001b[0;34m:\u001b[0m\u001b[0;34m\u001b[0m\u001b[0;34m\u001b[0m\u001b[0m\n\u001b[0;32m-> 1056\u001b[0;31m                 \u001b[0mself\u001b[0m\u001b[0;34m.\u001b[0m\u001b[0mretrieve\u001b[0m\u001b[0;34m(\u001b[0m\u001b[0;34m)\u001b[0m\u001b[0;34m\u001b[0m\u001b[0;34m\u001b[0m\u001b[0m\n\u001b[0m\u001b[1;32m   1057\u001b[0m             \u001b[0;31m# Make sure that we get a last message telling us we are done\u001b[0m\u001b[0;34m\u001b[0m\u001b[0;34m\u001b[0m\u001b[0;34m\u001b[0m\u001b[0m\n\u001b[1;32m   1058\u001b[0m             \u001b[0melapsed_time\u001b[0m \u001b[0;34m=\u001b[0m \u001b[0mtime\u001b[0m\u001b[0;34m.\u001b[0m\u001b[0mtime\u001b[0m\u001b[0;34m(\u001b[0m\u001b[0;34m)\u001b[0m \u001b[0;34m-\u001b[0m \u001b[0mself\u001b[0m\u001b[0;34m.\u001b[0m\u001b[0m_start_time\u001b[0m\u001b[0;34m\u001b[0m\u001b[0;34m\u001b[0m\u001b[0m\n",
            "\u001b[0;32m/usr/local/lib/python3.7/dist-packages/joblib/parallel.py\u001b[0m in \u001b[0;36mretrieve\u001b[0;34m(self)\u001b[0m\n\u001b[1;32m    933\u001b[0m             \u001b[0;32mtry\u001b[0m\u001b[0;34m:\u001b[0m\u001b[0;34m\u001b[0m\u001b[0;34m\u001b[0m\u001b[0m\n\u001b[1;32m    934\u001b[0m                 \u001b[0;32mif\u001b[0m \u001b[0mgetattr\u001b[0m\u001b[0;34m(\u001b[0m\u001b[0mself\u001b[0m\u001b[0;34m.\u001b[0m\u001b[0m_backend\u001b[0m\u001b[0;34m,\u001b[0m \u001b[0;34m'supports_timeout'\u001b[0m\u001b[0;34m,\u001b[0m \u001b[0;32mFalse\u001b[0m\u001b[0;34m)\u001b[0m\u001b[0;34m:\u001b[0m\u001b[0;34m\u001b[0m\u001b[0;34m\u001b[0m\u001b[0m\n\u001b[0;32m--> 935\u001b[0;31m                     \u001b[0mself\u001b[0m\u001b[0;34m.\u001b[0m\u001b[0m_output\u001b[0m\u001b[0;34m.\u001b[0m\u001b[0mextend\u001b[0m\u001b[0;34m(\u001b[0m\u001b[0mjob\u001b[0m\u001b[0;34m.\u001b[0m\u001b[0mget\u001b[0m\u001b[0;34m(\u001b[0m\u001b[0mtimeout\u001b[0m\u001b[0;34m=\u001b[0m\u001b[0mself\u001b[0m\u001b[0;34m.\u001b[0m\u001b[0mtimeout\u001b[0m\u001b[0;34m)\u001b[0m\u001b[0;34m)\u001b[0m\u001b[0;34m\u001b[0m\u001b[0;34m\u001b[0m\u001b[0m\n\u001b[0m\u001b[1;32m    936\u001b[0m                 \u001b[0;32melse\u001b[0m\u001b[0;34m:\u001b[0m\u001b[0;34m\u001b[0m\u001b[0;34m\u001b[0m\u001b[0m\n\u001b[1;32m    937\u001b[0m                     \u001b[0mself\u001b[0m\u001b[0;34m.\u001b[0m\u001b[0m_output\u001b[0m\u001b[0;34m.\u001b[0m\u001b[0mextend\u001b[0m\u001b[0;34m(\u001b[0m\u001b[0mjob\u001b[0m\u001b[0;34m.\u001b[0m\u001b[0mget\u001b[0m\u001b[0;34m(\u001b[0m\u001b[0;34m)\u001b[0m\u001b[0;34m)\u001b[0m\u001b[0;34m\u001b[0m\u001b[0;34m\u001b[0m\u001b[0m\n",
            "\u001b[0;32m/usr/local/lib/python3.7/dist-packages/joblib/_parallel_backends.py\u001b[0m in \u001b[0;36mwrap_future_result\u001b[0;34m(future, timeout)\u001b[0m\n\u001b[1;32m    540\u001b[0m         AsyncResults.get from multiprocessing.\"\"\"\n\u001b[1;32m    541\u001b[0m         \u001b[0;32mtry\u001b[0m\u001b[0;34m:\u001b[0m\u001b[0;34m\u001b[0m\u001b[0;34m\u001b[0m\u001b[0m\n\u001b[0;32m--> 542\u001b[0;31m             \u001b[0;32mreturn\u001b[0m \u001b[0mfuture\u001b[0m\u001b[0;34m.\u001b[0m\u001b[0mresult\u001b[0m\u001b[0;34m(\u001b[0m\u001b[0mtimeout\u001b[0m\u001b[0;34m=\u001b[0m\u001b[0mtimeout\u001b[0m\u001b[0;34m)\u001b[0m\u001b[0;34m\u001b[0m\u001b[0;34m\u001b[0m\u001b[0m\n\u001b[0m\u001b[1;32m    543\u001b[0m         \u001b[0;32mexcept\u001b[0m \u001b[0mCfTimeoutError\u001b[0m \u001b[0;32mas\u001b[0m \u001b[0me\u001b[0m\u001b[0;34m:\u001b[0m\u001b[0;34m\u001b[0m\u001b[0;34m\u001b[0m\u001b[0m\n\u001b[1;32m    544\u001b[0m             \u001b[0;32mraise\u001b[0m \u001b[0mTimeoutError\u001b[0m \u001b[0;32mfrom\u001b[0m \u001b[0me\u001b[0m\u001b[0;34m\u001b[0m\u001b[0;34m\u001b[0m\u001b[0m\n",
            "\u001b[0;32m/usr/lib/python3.7/concurrent/futures/_base.py\u001b[0m in \u001b[0;36mresult\u001b[0;34m(self, timeout)\u001b[0m\n\u001b[1;32m    428\u001b[0m                 \u001b[0;32mreturn\u001b[0m \u001b[0mself\u001b[0m\u001b[0;34m.\u001b[0m\u001b[0m__get_result\u001b[0m\u001b[0;34m(\u001b[0m\u001b[0;34m)\u001b[0m\u001b[0;34m\u001b[0m\u001b[0;34m\u001b[0m\u001b[0m\n\u001b[1;32m    429\u001b[0m \u001b[0;34m\u001b[0m\u001b[0m\n\u001b[0;32m--> 430\u001b[0;31m             \u001b[0mself\u001b[0m\u001b[0;34m.\u001b[0m\u001b[0m_condition\u001b[0m\u001b[0;34m.\u001b[0m\u001b[0mwait\u001b[0m\u001b[0;34m(\u001b[0m\u001b[0mtimeout\u001b[0m\u001b[0;34m)\u001b[0m\u001b[0;34m\u001b[0m\u001b[0;34m\u001b[0m\u001b[0m\n\u001b[0m\u001b[1;32m    431\u001b[0m \u001b[0;34m\u001b[0m\u001b[0m\n\u001b[1;32m    432\u001b[0m             \u001b[0;32mif\u001b[0m \u001b[0mself\u001b[0m\u001b[0;34m.\u001b[0m\u001b[0m_state\u001b[0m \u001b[0;32min\u001b[0m \u001b[0;34m[\u001b[0m\u001b[0mCANCELLED\u001b[0m\u001b[0;34m,\u001b[0m \u001b[0mCANCELLED_AND_NOTIFIED\u001b[0m\u001b[0;34m]\u001b[0m\u001b[0;34m:\u001b[0m\u001b[0;34m\u001b[0m\u001b[0;34m\u001b[0m\u001b[0m\n",
            "\u001b[0;32m/usr/lib/python3.7/threading.py\u001b[0m in \u001b[0;36mwait\u001b[0;34m(self, timeout)\u001b[0m\n\u001b[1;32m    294\u001b[0m         \u001b[0;32mtry\u001b[0m\u001b[0;34m:\u001b[0m    \u001b[0;31m# restore state no matter what (e.g., KeyboardInterrupt)\u001b[0m\u001b[0;34m\u001b[0m\u001b[0;34m\u001b[0m\u001b[0m\n\u001b[1;32m    295\u001b[0m             \u001b[0;32mif\u001b[0m \u001b[0mtimeout\u001b[0m \u001b[0;32mis\u001b[0m \u001b[0;32mNone\u001b[0m\u001b[0;34m:\u001b[0m\u001b[0;34m\u001b[0m\u001b[0;34m\u001b[0m\u001b[0m\n\u001b[0;32m--> 296\u001b[0;31m                 \u001b[0mwaiter\u001b[0m\u001b[0;34m.\u001b[0m\u001b[0macquire\u001b[0m\u001b[0;34m(\u001b[0m\u001b[0;34m)\u001b[0m\u001b[0;34m\u001b[0m\u001b[0;34m\u001b[0m\u001b[0m\n\u001b[0m\u001b[1;32m    297\u001b[0m                 \u001b[0mgotit\u001b[0m \u001b[0;34m=\u001b[0m \u001b[0;32mTrue\u001b[0m\u001b[0;34m\u001b[0m\u001b[0;34m\u001b[0m\u001b[0m\n\u001b[1;32m    298\u001b[0m             \u001b[0;32melse\u001b[0m\u001b[0;34m:\u001b[0m\u001b[0;34m\u001b[0m\u001b[0;34m\u001b[0m\u001b[0m\n",
            "\u001b[0;31mKeyboardInterrupt\u001b[0m: "
          ]
        }
      ],
      "source": [
        "param_range = loguniform(0.0001, 1000.0)\n",
        "\n",
        "param_grid = [{'svc__C': param_range,\n",
        "                'svc__kernel': ['linear']},\n",
        "               {'svc__C': param_range,\n",
        "                'svc__gamma': param_range,\n",
        "                'svc__kernel': ['rbf']}]\n",
        "\n",
        "rs = RandomizedSearchCV(estimator=pipe_svc,\n",
        "                   param_distributions=param_grid,\n",
        "                   scoring=make_scorer(matthews_corrcoef),\n",
        "                   cv=10,\n",
        "                   refit=True,\n",
        "                   n_jobs=-1,\n",
        "                   n_iter=20,\n",
        "                   random_state=1)\n",
        "\n",
        "rs = rs.fit(X_train, y_train)\n",
        "\n",
        "print(rs.best_score_)\n",
        "print(rs.best_params_)\n"
      ]
    },
    {
      "cell_type": "code",
      "source": [
        "pipe_knn = KNeighborsClassifier()"
      ],
      "metadata": {
        "id": "3_-zkKS9Kto8"
      },
      "execution_count": 70,
      "outputs": []
    },
    {
      "cell_type": "code",
      "source": [
        "pipe_knn.fit(X_train, y_train)\n",
        "y_pred = pipe_knn.predict(X_test)\n",
        "test_recall = recall_score(y_test, y_pred)\n",
        "mcc_lr = matthews_corrcoef(y_test, y_pred)\n",
        "print(f'Test recall: {test_recall}')\n",
        "print(f'MCC: {mcc_lr}')"
      ],
      "metadata": {
        "colab": {
          "base_uri": "https://localhost:8080/"
        },
        "id": "sq7MgCiYLfah",
        "outputId": "59e311c5-8eb0-4601-8ac9-f5e218858546"
      },
      "execution_count": 71,
      "outputs": [
        {
          "output_type": "stream",
          "name": "stdout",
          "text": [
            "Test recall: 0.592560553633218\n",
            "MCC: 0.05130986853627629\n"
          ]
        }
      ]
    },
    {
      "cell_type": "markdown",
      "metadata": {
        "id": "rI-58528SanM"
      },
      "source": [
        "t"
      ]
    },
    {
      "cell_type": "code",
      "execution_count": null,
      "metadata": {
        "id": "9J6U-FSIMdeO"
      },
      "outputs": [],
      "source": [
        "labels = df_clean.loc[:, 'SEX': 'INSURANCE'].drop('PHQ9_SCORE', axis=1).columns "
      ]
    },
    {
      "cell_type": "markdown",
      "metadata": {
        "id": "i77-roSS03ab"
      },
      "source": [
        "### Random Forest Feature Selection"
      ]
    },
    {
      "cell_type": "markdown",
      "metadata": {
        "id": "A2_XPbuzGOvA"
      },
      "source": [
        "used random forest for feature selection "
      ]
    },
    {
      "cell_type": "code",
      "execution_count": null,
      "metadata": {
        "colab": {
          "base_uri": "https://localhost:8080/",
          "height": 1000
        },
        "id": "BUHgXaMgGSer",
        "outputId": "bc7d1963-8279-4fe7-b588-0522bc3d0698"
      },
      "outputs": [
        {
          "name": "stdout",
          "output_type": "stream",
          "text": [
            " 1) AGE                            0.129563\n",
            " 2) BMI                            0.098915\n",
            " 3) INCOME                         0.097674\n",
            " 4) C_TOTAL                        0.078601\n",
            " 5) C_DP                           0.074826\n",
            " 6) C_ANX                          0.064495\n",
            " 7) PSY1_POSITIVE_USE              0.044249\n",
            " 8) REGION                         0.039546\n",
            " 9) C_INSOM                        0.022257\n",
            "10) ETHNICITY                      0.022123\n",
            "11) CCI_SCORE                      0.021628\n",
            "12) C_PN                           0.019339\n",
            "13) SEX                            0.018612\n",
            "14) RU_PCP_YN                      0.017699\n",
            "15) EMPL                           0.017601\n",
            "16) ED                             0.016550\n",
            "17) PSY2_NO_KNOWLEDGE              0.015724\n",
            "18) C_ALL                          0.015206\n",
            "19) C_MI                           0.015188\n",
            "20) RU_SPECIAL_YN                  0.014805\n",
            "21) RU_OTPCP_YN                    0.014409\n",
            "22) INSURANCE                      0.013574\n",
            "23) C_HYP                          0.011845\n",
            "24) RU_ER_YN                       0.011584\n",
            "25) C_DH                           0.011386\n",
            "26) RU_UCC_YN                      0.011136\n",
            "27) PSY2_DIAG_CONDITION            0.010614\n",
            "28) PSY2_GEN_HEALTH                0.009955\n",
            "29) C_LIP                          0.009762\n",
            "30) C_CS                           0.009656\n",
            "31) C_GERD                         0.009524\n",
            "32) RU_HSP_YN                      0.008925\n",
            "33) PSY2_UNDIAG_CONCERN            0.007964\n",
            "34) RU_OUTPT_YN                    0.007935\n",
            "35) C_SA                           0.007129\n"
          ]
        },
        {
          "data": {
            "image/png": "[encoded data removed]",
            "text/plain": [
              "<Figure size 720x576 with 1 Axes>"
            ]
          },
          "metadata": {},
          "output_type": "display_data"
        }
      ],
      "source": [
        "feat_labels = labels\n",
        "forest = RandomForestClassifier(n_estimators=500, random_state=1)\n",
        "forest.fit(X_train, y_train)\n",
        "importances = forest.feature_importances_\n",
        "indices = np.argsort(importances)[::-1]\n",
        "for f in range(X_train.shape[1]):\n",
        "  print(\"%2d) %-*s %f\" % (f + 1, 30,feat_labels[indices[f]], \\\n",
        "                          importances[indices[f]]))\n",
        "plt.title('Feature importance')\n",
        "plt.bar(range(X_train.shape[1]), importances[indices], align='center')\n",
        "plt.xticks(range(X_train.shape[1]), feat_labels[indices], rotation=90)\n",
        "plt.xlim([-1, X_train.shape[1]])\n",
        "plt.tight_layout()"
      ]
    },
    {
      "cell_type": "markdown",
      "metadata": {
        "id": "N01qBoou3vRy"
      },
      "source": [
        "diagnp"
      ]
    },
    {
      "cell_type": "markdown",
      "metadata": {
        "id": "S5raECiGn5R7"
      },
      "source": [
        "This current model has high bias, and we should try including more features in the model "
      ]
    },
    {
      "cell_type": "markdown",
      "metadata": {
        "id": "8Hhp02O91MEm"
      },
      "source": [
        "### Logistic Regression"
      ]
    },
    {
      "cell_type": "code",
      "execution_count": null,
      "metadata": {
        "id": "oNXF8-hamAUM"
      },
      "outputs": [],
      "source": [
        "pipe_lr = make_pipeline(StandardScaler(),\n",
        "                    LogisticRegression(max_iter=10000,random_state =1))\n"
      ]
    },
    {
      "cell_type": "markdown",
      "metadata": {
        "id": "E_ARMuIM1V-g"
      },
      "source": [
        "### Ensomble Methods"
      ]
    },
    {
      "cell_type": "code",
      "execution_count": 74,
      "metadata": {
        "colab": {
          "base_uri": "https://localhost:8080/"
        },
        "id": "AQ-NryCM57ku",
        "outputId": "017017c0-c988-419d-d81b-2ddcde678c2a"
      },
      "outputs": [
        {
          "output_type": "stream",
          "name": "stdout",
          "text": [
            "XGboost train/test accuracies: 0.7400815721171672/0.754325259515571\n"
          ]
        }
      ],
      "source": [
        "model = xgb.XGBClassifier(n_estimators=3000, learning_rate=.001, \n",
        "                          max_depth= 4, random_state=1)\n",
        "\n",
        "gbm = model.fit(X_train, y_train)\n",
        "y_train_pred = gbm.predict(X_train)\n",
        "y_test_pred = gbm.predict(X_test)\n",
        "gbm_train = recall_score(y_train, y_train_pred)\n",
        "gbm_test = recall_score(y_test, y_test_pred)\n",
        "\n",
        "print(f'XGboost train/test accuracies: {gbm_train}/{gbm_test}')"
      ]
    }
  ],
  "metadata": {
    "colab": {
      "collapsed_sections": [
        "UVmHM1JgyhnA",
        "i77-roSS03ab",
        "8Hhp02O91MEm"
      ],
      "machine_shape": "hm",
      "provenance": [],
      "include_colab_link": true
    },
    "gpuClass": "standard",
    "kernelspec": {
      "display_name": "Python 3 (ipykernel)",
      "language": "python",
      "name": "python3"
    },
    "language_info": {
      "codemirror_mode": {
        "name": "ipython",
        "version": 3
      },
      "file_extension": ".py",
      "mimetype": "text/x-python",
      "name": "python",
      "nbconvert_exporter": "python",
      "pygments_lexer": "ipython3",
      "version": "3.9.7"
    }
  },
  "nbformat": 4,
  "nbformat_minor": 0
}