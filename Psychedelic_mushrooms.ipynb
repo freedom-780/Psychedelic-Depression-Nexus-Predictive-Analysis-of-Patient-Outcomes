{
  "nbformat": 4,
  "nbformat_minor": 0,
  "metadata": {
    "colab": {
      "name": "Psychedelic mushrooms.ipynb",
      "provenance": [],
      "collapsed_sections": [],
      "authorship_tag": "ABX9TyMebBL6HnaK/0DnVAj4tsfb",
      "include_colab_link": true
    },
    "kernelspec": {
      "name": "python3",
      "display_name": "Python 3"
    },
    "language_info": {
      "name": "python"
    }
  },
  "cells": [
    {
      "cell_type": "markdown",
      "metadata": {
        "id": "view-in-github",
        "colab_type": "text"
      },
      "source": [
        "<a href=\"https://colab.research.google.com/github/freedom-780/Psychedelic-mushrooms/blob/main/Psychedelic_mushrooms.ipynb\" target=\"_parent\"><img src=\"https://colab.research.google.com/assets/colab-badge.svg\" alt=\"Open In Colab\"/></a>"
      ]
    },
    {
      "cell_type": "code",
      "execution_count": 6,
      "metadata": {
        "id": "xwWkYUBhhN4k"
      },
      "outputs": [],
      "source": [
        "import pandas as pd \n",
        "pd.options.display.float_format = '{:,.2f}'.format\n",
        "import numpy as np\n",
        "import seaborn as sns \n",
        "import matplotlib.pyplot as plt\n",
        "%matplotlib inline\n"
      ]
    },
    {
      "cell_type": "code",
      "source": [
        "#Import data from github\n",
        "data = \"https://raw.githubusercontent.com/freedom-780/Psychedelic-mushrooms/main/AHRI_DATASET_PM_MANUSCRIPT_DATA.csv\"\n",
        "p_mush_df = pd.read_csv(data)"
      ],
      "metadata": {
        "id": "Db5S3QIXhw0c"
      },
      "execution_count": 7,
      "outputs": []
    },
    {
      "cell_type": "code",
      "source": [
        "p_mush_df.shape"
      ],
      "metadata": {
        "id": "hY7ceeQ_FgP0",
        "outputId": "97519911-bd3b-4090-d179-32ec361deeda",
        "colab": {
          "base_uri": "https://localhost:8080/"
        }
      },
      "execution_count": 8,
      "outputs": [
        {
          "output_type": "execute_result",
          "data": {
            "text/plain": [
              "(7139, 57)"
            ]
          },
          "metadata": {},
          "execution_count": 8
        }
      ]
    },
    {
      "cell_type": "code",
      "source": [
        "# copy dataframe for analysis to preserve original dataframe\n",
        "df = p_mush_df.copy()"
      ],
      "metadata": {
        "id": "Gk_KPp2p0PQF"
      },
      "execution_count": 9,
      "outputs": []
    },
    {
      "cell_type": "code",
      "source": [
        "# Set index to case ID since every caseID is Unique\n",
        "df.set_index('CASEID_7139', inplace=True)"
      ],
      "metadata": {
        "id": "M97YwSE00wjL"
      },
      "execution_count": 10,
      "outputs": []
    },
    {
      "cell_type": "code",
      "source": [
        "df.columns"
      ],
      "metadata": {
        "id": "ACO0E6mymEVH",
        "outputId": "a6698432-6212-4051-c451-00559d403a23",
        "colab": {
          "base_uri": "https://localhost:8080/"
        }
      },
      "execution_count": 11,
      "outputs": [
        {
          "output_type": "execute_result",
          "data": {
            "text/plain": [
              "Index(['COHORTS', 'PYS_USE_VENN', 'PSY_USE_YN', 'PM_USE_YN', 'PM_USE_ONLY_YN',\n",
              "       'PM_VS_PSY_YN', 'SEX', 'AGE', 'ETHNICITY', 'HLS_YN', 'REGION', 'ED',\n",
              "       'EMPL', 'INCOME', 'BMI', 'C_TOTAL', 'C_DP', 'C_ANX', 'C_PN', 'C_ALL',\n",
              "       'C_MI', 'C_INSOM', 'C_HYP', 'C_DH', 'C_SA', 'C_GERD', 'C_CS', 'C_LIP',\n",
              "       'CCI_SCORE', 'GAD7_SCORE', 'PHQ9_SCORE', 'GAD7_GE10', 'PHQ9_GE10',\n",
              "       'PCS12', 'MCS12', 'VR6D', 'RU_PCP_YN', 'RU_SPECIAL_YN', 'RU_OTPCP_YN',\n",
              "       'RU_UCC_YN', 'RU_OUTPT_YN', 'RU_ER_YN', 'RU_HSP_YN',\n",
              "       'PSY1_POSITIVE_USE', 'PSY2_GEN_HEALTH', 'PSY2_DIAG_CONDITION',\n",
              "       'PSY2_UNDIAG_CONCERN', 'PSY2_NO_KNOWLEDGE', 'PM1_GEN_HEALTH',\n",
              "       'PM1_DIAG_CONDITION', 'PM1_UNDIAG_CONCERN', 'PM2_FREQ_COVID',\n",
              "       'PM3_FREQ_POLITICS', 'PM4_CARE', 'INSURANCE', 'DATA_WEIGHT'],\n",
              "      dtype='object')"
            ]
          },
          "metadata": {},
          "execution_count": 11
        }
      ]
    },
    {
      "cell_type": "markdown",
      "source": [
        "Not interested in all columns the goal is to predict the Rand classification score based on psychedelic use and other relevant health features or to predict psychedelic use based on features"
      ],
      "metadata": {
        "id": "R7RTTZ8c1GDu"
      }
    },
    {
      "cell_type": "code",
      "source": [
        "# make a list of columns to keep\n",
        "\n",
        "columns_keep = ['COHORTS', 'PYS_USE_VENN', 'PSY_USE_YN', 'PM_USE_YN', 'PM_USE_ONLY_YN', 'PM_VS_PSY_YN', 'SEX', 'AGE', 'ETHNICITY', 'HLS_YN', 'REGION',  \\\n",
        "                 'ED', 'EMPL', 'INCOME', 'BMI', 'GAD7_SCORE', 'PHQ9_SCORE']"
      ],
      "metadata": {
        "id": "YN6SP7Xl1f7q"
      },
      "execution_count": 12,
      "outputs": []
    },
    {
      "cell_type": "markdown",
      "source": [
        "This dataset has 57 columns initially, most of these were dropped, trying to predict the PHQ9 score(ranges from 0-27) that has different ranges for different severity of depression. Those rows that were dropped have to do with hostipals stays, previous conditions of the patient, etc. while these might be useful to the model, only the qualities of the patient and psychedelics use is of interest."
      ],
      "metadata": {
        "id": "efppA1-911zw"
      }
    },
    {
      "cell_type": "code",
      "source": [
        "df.drop(df.columns.difference(columns_keep), 1, inplace=True)"
      ],
      "metadata": {
        "colab": {
          "base_uri": "https://localhost:8080/"
        },
        "id": "8nAUHPBp5DLW",
        "outputId": "e7c9eefd-eb87-47bb-9b04-3aed3be4802d"
      },
      "execution_count": 13,
      "outputs": [
        {
          "output_type": "stream",
          "name": "stderr",
          "text": [
            "/usr/local/lib/python3.7/dist-packages/ipykernel_launcher.py:1: FutureWarning: In a future version of pandas all arguments of DataFrame.drop except for the argument 'labels' will be keyword-only\n",
            "  \"\"\"Entry point for launching an IPython kernel.\n"
          ]
        }
      ]
    },
    {
      "cell_type": "code",
      "source": [
        "df.head().T"
      ],
      "metadata": {
        "colab": {
          "base_uri": "https://localhost:8080/",
          "height": 582
        },
        "id": "RAq92htpiDfm",
        "outputId": "8a768a6e-c639-45a9-8726-ab600f95b797"
      },
      "execution_count": 14,
      "outputs": [
        {
          "output_type": "execute_result",
          "data": {
            "text/plain": [
              "CASEID_7139            1         2         3         4         5\n",
              "COHORTS             1.00      1.00      1.00      1.00      1.00\n",
              "PYS_USE_VENN        1.00      1.00      1.00      1.00      1.00\n",
              "PSY_USE_YN          1.00      1.00      1.00      1.00      1.00\n",
              "PM_USE_YN           1.00      1.00      1.00      1.00      1.00\n",
              "PM_USE_ONLY_YN      1.00      1.00      1.00      1.00      1.00\n",
              "PM_VS_PSY_YN        2.00      2.00      2.00      2.00      2.00\n",
              "SEX                 0.00      0.00      0.00      0.00      0.00\n",
              "AGE                19.00     21.00     22.00     22.00     23.00\n",
              "ETHNICITY           3.00      2.00      2.00      2.00      2.00\n",
              "HLS_YN              1.00      0.00      0.00      0.00      0.00\n",
              "REGION              4.00      2.00      4.00      3.00      2.00\n",
              "ED                  0.00      1.00      0.00      1.00      0.00\n",
              "EMPL                0.00      0.00      0.00      0.00      1.00\n",
              "INCOME         65,847.00 30,585.00 49,259.00 54,135.00 49,425.00\n",
              "BMI                27.41     29.26     20.60     18.56     36.80\n",
              "GAD7_SCORE          3.00      0.00     21.00      5.00     13.00\n",
              "PHQ9_SCORE          8.00      0.00     17.00     15.00     15.00"
            ],
            "text/html": [
              "\n",
              "  <div id=\"df-089ae31c-cd8d-46e4-ad99-e0cc24a01186\">\n",
              "    <div class=\"colab-df-container\">\n",
              "      <div>\n",
              "<style scoped>\n",
              "    .dataframe tbody tr th:only-of-type {\n",
              "        vertical-align: middle;\n",
              "    }\n",
              "\n",
              "    .dataframe tbody tr th {\n",
              "        vertical-align: top;\n",
              "    }\n",
              "\n",
              "    .dataframe thead th {\n",
              "        text-align: right;\n",
              "    }\n",
              "</style>\n",
              "<table border=\"1\" class=\"dataframe\">\n",
              "  <thead>\n",
              "    <tr style=\"text-align: right;\">\n",
              "      <th>CASEID_7139</th>\n",
              "      <th>1</th>\n",
              "      <th>2</th>\n",
              "      <th>3</th>\n",
              "      <th>4</th>\n",
              "      <th>5</th>\n",
              "    </tr>\n",
              "  </thead>\n",
              "  <tbody>\n",
              "    <tr>\n",
              "      <th>COHORTS</th>\n",
              "      <td>1.00</td>\n",
              "      <td>1.00</td>\n",
              "      <td>1.00</td>\n",
              "      <td>1.00</td>\n",
              "      <td>1.00</td>\n",
              "    </tr>\n",
              "    <tr>\n",
              "      <th>PYS_USE_VENN</th>\n",
              "      <td>1.00</td>\n",
              "      <td>1.00</td>\n",
              "      <td>1.00</td>\n",
              "      <td>1.00</td>\n",
              "      <td>1.00</td>\n",
              "    </tr>\n",
              "    <tr>\n",
              "      <th>PSY_USE_YN</th>\n",
              "      <td>1.00</td>\n",
              "      <td>1.00</td>\n",
              "      <td>1.00</td>\n",
              "      <td>1.00</td>\n",
              "      <td>1.00</td>\n",
              "    </tr>\n",
              "    <tr>\n",
              "      <th>PM_USE_YN</th>\n",
              "      <td>1.00</td>\n",
              "      <td>1.00</td>\n",
              "      <td>1.00</td>\n",
              "      <td>1.00</td>\n",
              "      <td>1.00</td>\n",
              "    </tr>\n",
              "    <tr>\n",
              "      <th>PM_USE_ONLY_YN</th>\n",
              "      <td>1.00</td>\n",
              "      <td>1.00</td>\n",
              "      <td>1.00</td>\n",
              "      <td>1.00</td>\n",
              "      <td>1.00</td>\n",
              "    </tr>\n",
              "    <tr>\n",
              "      <th>PM_VS_PSY_YN</th>\n",
              "      <td>2.00</td>\n",
              "      <td>2.00</td>\n",
              "      <td>2.00</td>\n",
              "      <td>2.00</td>\n",
              "      <td>2.00</td>\n",
              "    </tr>\n",
              "    <tr>\n",
              "      <th>SEX</th>\n",
              "      <td>0.00</td>\n",
              "      <td>0.00</td>\n",
              "      <td>0.00</td>\n",
              "      <td>0.00</td>\n",
              "      <td>0.00</td>\n",
              "    </tr>\n",
              "    <tr>\n",
              "      <th>AGE</th>\n",
              "      <td>19.00</td>\n",
              "      <td>21.00</td>\n",
              "      <td>22.00</td>\n",
              "      <td>22.00</td>\n",
              "      <td>23.00</td>\n",
              "    </tr>\n",
              "    <tr>\n",
              "      <th>ETHNICITY</th>\n",
              "      <td>3.00</td>\n",
              "      <td>2.00</td>\n",
              "      <td>2.00</td>\n",
              "      <td>2.00</td>\n",
              "      <td>2.00</td>\n",
              "    </tr>\n",
              "    <tr>\n",
              "      <th>HLS_YN</th>\n",
              "      <td>1.00</td>\n",
              "      <td>0.00</td>\n",
              "      <td>0.00</td>\n",
              "      <td>0.00</td>\n",
              "      <td>0.00</td>\n",
              "    </tr>\n",
              "    <tr>\n",
              "      <th>REGION</th>\n",
              "      <td>4.00</td>\n",
              "      <td>2.00</td>\n",
              "      <td>4.00</td>\n",
              "      <td>3.00</td>\n",
              "      <td>2.00</td>\n",
              "    </tr>\n",
              "    <tr>\n",
              "      <th>ED</th>\n",
              "      <td>0.00</td>\n",
              "      <td>1.00</td>\n",
              "      <td>0.00</td>\n",
              "      <td>1.00</td>\n",
              "      <td>0.00</td>\n",
              "    </tr>\n",
              "    <tr>\n",
              "      <th>EMPL</th>\n",
              "      <td>0.00</td>\n",
              "      <td>0.00</td>\n",
              "      <td>0.00</td>\n",
              "      <td>0.00</td>\n",
              "      <td>1.00</td>\n",
              "    </tr>\n",
              "    <tr>\n",
              "      <th>INCOME</th>\n",
              "      <td>65,847.00</td>\n",
              "      <td>30,585.00</td>\n",
              "      <td>49,259.00</td>\n",
              "      <td>54,135.00</td>\n",
              "      <td>49,425.00</td>\n",
              "    </tr>\n",
              "    <tr>\n",
              "      <th>BMI</th>\n",
              "      <td>27.41</td>\n",
              "      <td>29.26</td>\n",
              "      <td>20.60</td>\n",
              "      <td>18.56</td>\n",
              "      <td>36.80</td>\n",
              "    </tr>\n",
              "    <tr>\n",
              "      <th>GAD7_SCORE</th>\n",
              "      <td>3.00</td>\n",
              "      <td>0.00</td>\n",
              "      <td>21.00</td>\n",
              "      <td>5.00</td>\n",
              "      <td>13.00</td>\n",
              "    </tr>\n",
              "    <tr>\n",
              "      <th>PHQ9_SCORE</th>\n",
              "      <td>8.00</td>\n",
              "      <td>0.00</td>\n",
              "      <td>17.00</td>\n",
              "      <td>15.00</td>\n",
              "      <td>15.00</td>\n",
              "    </tr>\n",
              "  </tbody>\n",
              "</table>\n",
              "</div>\n",
              "      <button class=\"colab-df-convert\" onclick=\"convertToInteractive('df-089ae31c-cd8d-46e4-ad99-e0cc24a01186')\"\n",
              "              title=\"Convert this dataframe to an interactive table.\"\n",
              "              style=\"display:none;\">\n",
              "        \n",
              "  <svg xmlns=\"http://www.w3.org/2000/svg\" height=\"24px\"viewBox=\"0 0 24 24\"\n",
              "       width=\"24px\">\n",
              "    <path d=\"M0 0h24v24H0V0z\" fill=\"none\"/>\n",
              "    <path d=\"M18.56 5.44l.94 2.06.94-2.06 2.06-.94-2.06-.94-.94-2.06-.94 2.06-2.06.94zm-11 1L8.5 8.5l.94-2.06 2.06-.94-2.06-.94L8.5 2.5l-.94 2.06-2.06.94zm10 10l.94 2.06.94-2.06 2.06-.94-2.06-.94-.94-2.06-.94 2.06-2.06.94z\"/><path d=\"M17.41 7.96l-1.37-1.37c-.4-.4-.92-.59-1.43-.59-.52 0-1.04.2-1.43.59L10.3 9.45l-7.72 7.72c-.78.78-.78 2.05 0 2.83L4 21.41c.39.39.9.59 1.41.59.51 0 1.02-.2 1.41-.59l7.78-7.78 2.81-2.81c.8-.78.8-2.07 0-2.86zM5.41 20L4 18.59l7.72-7.72 1.47 1.35L5.41 20z\"/>\n",
              "  </svg>\n",
              "      </button>\n",
              "      \n",
              "  <style>\n",
              "    .colab-df-container {\n",
              "      display:flex;\n",
              "      flex-wrap:wrap;\n",
              "      gap: 12px;\n",
              "    }\n",
              "\n",
              "    .colab-df-convert {\n",
              "      background-color: #E8F0FE;\n",
              "      border: none;\n",
              "      border-radius: 50%;\n",
              "      cursor: pointer;\n",
              "      display: none;\n",
              "      fill: #1967D2;\n",
              "      height: 32px;\n",
              "      padding: 0 0 0 0;\n",
              "      width: 32px;\n",
              "    }\n",
              "\n",
              "    .colab-df-convert:hover {\n",
              "      background-color: #E2EBFA;\n",
              "      box-shadow: 0px 1px 2px rgba(60, 64, 67, 0.3), 0px 1px 3px 1px rgba(60, 64, 67, 0.15);\n",
              "      fill: #174EA6;\n",
              "    }\n",
              "\n",
              "    [theme=dark] .colab-df-convert {\n",
              "      background-color: #3B4455;\n",
              "      fill: #D2E3FC;\n",
              "    }\n",
              "\n",
              "    [theme=dark] .colab-df-convert:hover {\n",
              "      background-color: #434B5C;\n",
              "      box-shadow: 0px 1px 3px 1px rgba(0, 0, 0, 0.15);\n",
              "      filter: drop-shadow(0px 1px 2px rgba(0, 0, 0, 0.3));\n",
              "      fill: #FFFFFF;\n",
              "    }\n",
              "  </style>\n",
              "\n",
              "      <script>\n",
              "        const buttonEl =\n",
              "          document.querySelector('#df-089ae31c-cd8d-46e4-ad99-e0cc24a01186 button.colab-df-convert');\n",
              "        buttonEl.style.display =\n",
              "          google.colab.kernel.accessAllowed ? 'block' : 'none';\n",
              "\n",
              "        async function convertToInteractive(key) {\n",
              "          const element = document.querySelector('#df-089ae31c-cd8d-46e4-ad99-e0cc24a01186');\n",
              "          const dataTable =\n",
              "            await google.colab.kernel.invokeFunction('convertToInteractive',\n",
              "                                                     [key], {});\n",
              "          if (!dataTable) return;\n",
              "\n",
              "          const docLinkHtml = 'Like what you see? Visit the ' +\n",
              "            '<a target=\"_blank\" href=https://colab.research.google.com/notebooks/data_table.ipynb>data table notebook</a>'\n",
              "            + ' to learn more about interactive tables.';\n",
              "          element.innerHTML = '';\n",
              "          dataTable['output_type'] = 'display_data';\n",
              "          await google.colab.output.renderOutput(dataTable, element);\n",
              "          const docLink = document.createElement('div');\n",
              "          docLink.innerHTML = docLinkHtml;\n",
              "          element.appendChild(docLink);\n",
              "        }\n",
              "      </script>\n",
              "    </div>\n",
              "  </div>\n",
              "  "
            ]
          },
          "metadata": {},
          "execution_count": 14
        }
      ]
    },
    {
      "cell_type": "code",
      "source": [
        "df.describe()"
      ],
      "metadata": {
        "colab": {
          "base_uri": "https://localhost:8080/",
          "height": 364
        },
        "id": "MemlRHZs4xK3",
        "outputId": "13990857-43a8-4061-fc3d-c0a24ce6c897"
      },
      "execution_count": 15,
      "outputs": [
        {
          "output_type": "execute_result",
          "data": {
            "text/plain": [
              "       COHORTS  PYS_USE_VENN  PSY_USE_YN  PM_USE_YN  PM_USE_ONLY_YN  \\\n",
              "count 7,139.00      7,139.00    7,139.00   7,139.00        7,139.00   \n",
              "mean     -5.59          0.17        0.07       0.04            0.02   \n",
              "std      22.88          0.64        0.26       0.19            0.13   \n",
              "min     -99.00          0.00        0.00       0.00            0.00   \n",
              "25%       0.00          0.00        0.00       0.00            0.00   \n",
              "50%       0.00          0.00        0.00       0.00            0.00   \n",
              "75%       0.00          0.00        0.00       0.00            0.00   \n",
              "max       1.00          3.00        1.00       1.00            1.00   \n",
              "\n",
              "       PM_VS_PSY_YN      SEX      AGE  ETHNICITY   HLS_YN   REGION       ED  \\\n",
              "count      7,139.00 7,139.00 7,139.00   7,139.00 7,139.00 7,139.00 7,139.00   \n",
              "mean         -91.60     0.46    46.15       1.95     0.08     2.63     0.73   \n",
              "std           26.25     0.50    16.65       0.51     0.27     1.00     0.45   \n",
              "min          -99.00     0.00    18.00       1.00     0.00     1.00     0.00   \n",
              "25%          -99.00     0.00    33.00       2.00     0.00     2.00     0.00   \n",
              "50%          -99.00     0.00    43.00       2.00     0.00     3.00     1.00   \n",
              "75%          -99.00     1.00    60.00       2.00     0.00     3.00     1.00   \n",
              "max            2.00     1.00    95.00       3.00     1.00     4.00     1.00   \n",
              "\n",
              "          EMPL     INCOME      BMI  GAD7_SCORE  PHQ9_SCORE  \n",
              "count 7,139.00   7,139.00 7,139.00    7,139.00    7,139.00  \n",
              "mean      0.30  64,563.71    28.02        6.33        7.33  \n",
              "std       0.46  26,258.63     7.25        5.89        6.99  \n",
              "min       0.00   9,076.00    11.16        0.00        0.00  \n",
              "25%       0.00  46,322.50    23.05        1.00        1.00  \n",
              "50%       0.00  58,129.00    26.58        5.00        5.00  \n",
              "75%       1.00  77,263.00    31.41       10.00       12.00  \n",
              "max       1.00 237,841.00    73.12       21.00       27.00  "
            ],
            "text/html": [
              "\n",
              "  <div id=\"df-237360b0-927c-4392-935b-f105802d93a7\">\n",
              "    <div class=\"colab-df-container\">\n",
              "      <div>\n",
              "<style scoped>\n",
              "    .dataframe tbody tr th:only-of-type {\n",
              "        vertical-align: middle;\n",
              "    }\n",
              "\n",
              "    .dataframe tbody tr th {\n",
              "        vertical-align: top;\n",
              "    }\n",
              "\n",
              "    .dataframe thead th {\n",
              "        text-align: right;\n",
              "    }\n",
              "</style>\n",
              "<table border=\"1\" class=\"dataframe\">\n",
              "  <thead>\n",
              "    <tr style=\"text-align: right;\">\n",
              "      <th></th>\n",
              "      <th>COHORTS</th>\n",
              "      <th>PYS_USE_VENN</th>\n",
              "      <th>PSY_USE_YN</th>\n",
              "      <th>PM_USE_YN</th>\n",
              "      <th>PM_USE_ONLY_YN</th>\n",
              "      <th>PM_VS_PSY_YN</th>\n",
              "      <th>SEX</th>\n",
              "      <th>AGE</th>\n",
              "      <th>ETHNICITY</th>\n",
              "      <th>HLS_YN</th>\n",
              "      <th>REGION</th>\n",
              "      <th>ED</th>\n",
              "      <th>EMPL</th>\n",
              "      <th>INCOME</th>\n",
              "      <th>BMI</th>\n",
              "      <th>GAD7_SCORE</th>\n",
              "      <th>PHQ9_SCORE</th>\n",
              "    </tr>\n",
              "  </thead>\n",
              "  <tbody>\n",
              "    <tr>\n",
              "      <th>count</th>\n",
              "      <td>7,139.00</td>\n",
              "      <td>7,139.00</td>\n",
              "      <td>7,139.00</td>\n",
              "      <td>7,139.00</td>\n",
              "      <td>7,139.00</td>\n",
              "      <td>7,139.00</td>\n",
              "      <td>7,139.00</td>\n",
              "      <td>7,139.00</td>\n",
              "      <td>7,139.00</td>\n",
              "      <td>7,139.00</td>\n",
              "      <td>7,139.00</td>\n",
              "      <td>7,139.00</td>\n",
              "      <td>7,139.00</td>\n",
              "      <td>7,139.00</td>\n",
              "      <td>7,139.00</td>\n",
              "      <td>7,139.00</td>\n",
              "      <td>7,139.00</td>\n",
              "    </tr>\n",
              "    <tr>\n",
              "      <th>mean</th>\n",
              "      <td>-5.59</td>\n",
              "      <td>0.17</td>\n",
              "      <td>0.07</td>\n",
              "      <td>0.04</td>\n",
              "      <td>0.02</td>\n",
              "      <td>-91.60</td>\n",
              "      <td>0.46</td>\n",
              "      <td>46.15</td>\n",
              "      <td>1.95</td>\n",
              "      <td>0.08</td>\n",
              "      <td>2.63</td>\n",
              "      <td>0.73</td>\n",
              "      <td>0.30</td>\n",
              "      <td>64,563.71</td>\n",
              "      <td>28.02</td>\n",
              "      <td>6.33</td>\n",
              "      <td>7.33</td>\n",
              "    </tr>\n",
              "    <tr>\n",
              "      <th>std</th>\n",
              "      <td>22.88</td>\n",
              "      <td>0.64</td>\n",
              "      <td>0.26</td>\n",
              "      <td>0.19</td>\n",
              "      <td>0.13</td>\n",
              "      <td>26.25</td>\n",
              "      <td>0.50</td>\n",
              "      <td>16.65</td>\n",
              "      <td>0.51</td>\n",
              "      <td>0.27</td>\n",
              "      <td>1.00</td>\n",
              "      <td>0.45</td>\n",
              "      <td>0.46</td>\n",
              "      <td>26,258.63</td>\n",
              "      <td>7.25</td>\n",
              "      <td>5.89</td>\n",
              "      <td>6.99</td>\n",
              "    </tr>\n",
              "    <tr>\n",
              "      <th>min</th>\n",
              "      <td>-99.00</td>\n",
              "      <td>0.00</td>\n",
              "      <td>0.00</td>\n",
              "      <td>0.00</td>\n",
              "      <td>0.00</td>\n",
              "      <td>-99.00</td>\n",
              "      <td>0.00</td>\n",
              "      <td>18.00</td>\n",
              "      <td>1.00</td>\n",
              "      <td>0.00</td>\n",
              "      <td>1.00</td>\n",
              "      <td>0.00</td>\n",
              "      <td>0.00</td>\n",
              "      <td>9,076.00</td>\n",
              "      <td>11.16</td>\n",
              "      <td>0.00</td>\n",
              "      <td>0.00</td>\n",
              "    </tr>\n",
              "    <tr>\n",
              "      <th>25%</th>\n",
              "      <td>0.00</td>\n",
              "      <td>0.00</td>\n",
              "      <td>0.00</td>\n",
              "      <td>0.00</td>\n",
              "      <td>0.00</td>\n",
              "      <td>-99.00</td>\n",
              "      <td>0.00</td>\n",
              "      <td>33.00</td>\n",
              "      <td>2.00</td>\n",
              "      <td>0.00</td>\n",
              "      <td>2.00</td>\n",
              "      <td>0.00</td>\n",
              "      <td>0.00</td>\n",
              "      <td>46,322.50</td>\n",
              "      <td>23.05</td>\n",
              "      <td>1.00</td>\n",
              "      <td>1.00</td>\n",
              "    </tr>\n",
              "    <tr>\n",
              "      <th>50%</th>\n",
              "      <td>0.00</td>\n",
              "      <td>0.00</td>\n",
              "      <td>0.00</td>\n",
              "      <td>0.00</td>\n",
              "      <td>0.00</td>\n",
              "      <td>-99.00</td>\n",
              "      <td>0.00</td>\n",
              "      <td>43.00</td>\n",
              "      <td>2.00</td>\n",
              "      <td>0.00</td>\n",
              "      <td>3.00</td>\n",
              "      <td>1.00</td>\n",
              "      <td>0.00</td>\n",
              "      <td>58,129.00</td>\n",
              "      <td>26.58</td>\n",
              "      <td>5.00</td>\n",
              "      <td>5.00</td>\n",
              "    </tr>\n",
              "    <tr>\n",
              "      <th>75%</th>\n",
              "      <td>0.00</td>\n",
              "      <td>0.00</td>\n",
              "      <td>0.00</td>\n",
              "      <td>0.00</td>\n",
              "      <td>0.00</td>\n",
              "      <td>-99.00</td>\n",
              "      <td>1.00</td>\n",
              "      <td>60.00</td>\n",
              "      <td>2.00</td>\n",
              "      <td>0.00</td>\n",
              "      <td>3.00</td>\n",
              "      <td>1.00</td>\n",
              "      <td>1.00</td>\n",
              "      <td>77,263.00</td>\n",
              "      <td>31.41</td>\n",
              "      <td>10.00</td>\n",
              "      <td>12.00</td>\n",
              "    </tr>\n",
              "    <tr>\n",
              "      <th>max</th>\n",
              "      <td>1.00</td>\n",
              "      <td>3.00</td>\n",
              "      <td>1.00</td>\n",
              "      <td>1.00</td>\n",
              "      <td>1.00</td>\n",
              "      <td>2.00</td>\n",
              "      <td>1.00</td>\n",
              "      <td>95.00</td>\n",
              "      <td>3.00</td>\n",
              "      <td>1.00</td>\n",
              "      <td>4.00</td>\n",
              "      <td>1.00</td>\n",
              "      <td>1.00</td>\n",
              "      <td>237,841.00</td>\n",
              "      <td>73.12</td>\n",
              "      <td>21.00</td>\n",
              "      <td>27.00</td>\n",
              "    </tr>\n",
              "  </tbody>\n",
              "</table>\n",
              "</div>\n",
              "      <button class=\"colab-df-convert\" onclick=\"convertToInteractive('df-237360b0-927c-4392-935b-f105802d93a7')\"\n",
              "              title=\"Convert this dataframe to an interactive table.\"\n",
              "              style=\"display:none;\">\n",
              "        \n",
              "  <svg xmlns=\"http://www.w3.org/2000/svg\" height=\"24px\"viewBox=\"0 0 24 24\"\n",
              "       width=\"24px\">\n",
              "    <path d=\"M0 0h24v24H0V0z\" fill=\"none\"/>\n",
              "    <path d=\"M18.56 5.44l.94 2.06.94-2.06 2.06-.94-2.06-.94-.94-2.06-.94 2.06-2.06.94zm-11 1L8.5 8.5l.94-2.06 2.06-.94-2.06-.94L8.5 2.5l-.94 2.06-2.06.94zm10 10l.94 2.06.94-2.06 2.06-.94-2.06-.94-.94-2.06-.94 2.06-2.06.94z\"/><path d=\"M17.41 7.96l-1.37-1.37c-.4-.4-.92-.59-1.43-.59-.52 0-1.04.2-1.43.59L10.3 9.45l-7.72 7.72c-.78.78-.78 2.05 0 2.83L4 21.41c.39.39.9.59 1.41.59.51 0 1.02-.2 1.41-.59l7.78-7.78 2.81-2.81c.8-.78.8-2.07 0-2.86zM5.41 20L4 18.59l7.72-7.72 1.47 1.35L5.41 20z\"/>\n",
              "  </svg>\n",
              "      </button>\n",
              "      \n",
              "  <style>\n",
              "    .colab-df-container {\n",
              "      display:flex;\n",
              "      flex-wrap:wrap;\n",
              "      gap: 12px;\n",
              "    }\n",
              "\n",
              "    .colab-df-convert {\n",
              "      background-color: #E8F0FE;\n",
              "      border: none;\n",
              "      border-radius: 50%;\n",
              "      cursor: pointer;\n",
              "      display: none;\n",
              "      fill: #1967D2;\n",
              "      height: 32px;\n",
              "      padding: 0 0 0 0;\n",
              "      width: 32px;\n",
              "    }\n",
              "\n",
              "    .colab-df-convert:hover {\n",
              "      background-color: #E2EBFA;\n",
              "      box-shadow: 0px 1px 2px rgba(60, 64, 67, 0.3), 0px 1px 3px 1px rgba(60, 64, 67, 0.15);\n",
              "      fill: #174EA6;\n",
              "    }\n",
              "\n",
              "    [theme=dark] .colab-df-convert {\n",
              "      background-color: #3B4455;\n",
              "      fill: #D2E3FC;\n",
              "    }\n",
              "\n",
              "    [theme=dark] .colab-df-convert:hover {\n",
              "      background-color: #434B5C;\n",
              "      box-shadow: 0px 1px 3px 1px rgba(0, 0, 0, 0.15);\n",
              "      filter: drop-shadow(0px 1px 2px rgba(0, 0, 0, 0.3));\n",
              "      fill: #FFFFFF;\n",
              "    }\n",
              "  </style>\n",
              "\n",
              "      <script>\n",
              "        const buttonEl =\n",
              "          document.querySelector('#df-237360b0-927c-4392-935b-f105802d93a7 button.colab-df-convert');\n",
              "        buttonEl.style.display =\n",
              "          google.colab.kernel.accessAllowed ? 'block' : 'none';\n",
              "\n",
              "        async function convertToInteractive(key) {\n",
              "          const element = document.querySelector('#df-237360b0-927c-4392-935b-f105802d93a7');\n",
              "          const dataTable =\n",
              "            await google.colab.kernel.invokeFunction('convertToInteractive',\n",
              "                                                     [key], {});\n",
              "          if (!dataTable) return;\n",
              "\n",
              "          const docLinkHtml = 'Like what you see? Visit the ' +\n",
              "            '<a target=\"_blank\" href=https://colab.research.google.com/notebooks/data_table.ipynb>data table notebook</a>'\n",
              "            + ' to learn more about interactive tables.';\n",
              "          element.innerHTML = '';\n",
              "          dataTable['output_type'] = 'display_data';\n",
              "          await google.colab.output.renderOutput(dataTable, element);\n",
              "          const docLink = document.createElement('div');\n",
              "          docLink.innerHTML = docLinkHtml;\n",
              "          element.appendChild(docLink);\n",
              "        }\n",
              "      </script>\n",
              "    </div>\n",
              "  </div>\n",
              "  "
            ]
          },
          "metadata": {},
          "execution_count": 15
        }
      ]
    },
    {
      "cell_type": "code",
      "source": [
        "df.info()"
      ],
      "metadata": {
        "colab": {
          "base_uri": "https://localhost:8080/"
        },
        "id": "jKhD6nW_iMjw",
        "outputId": "339f07ee-954a-4679-d289-8c7495354d95"
      },
      "execution_count": 16,
      "outputs": [
        {
          "output_type": "stream",
          "name": "stdout",
          "text": [
            "<class 'pandas.core.frame.DataFrame'>\n",
            "Int64Index: 7139 entries, 1 to 7139\n",
            "Data columns (total 17 columns):\n",
            " #   Column          Non-Null Count  Dtype  \n",
            "---  ------          --------------  -----  \n",
            " 0   COHORTS         7139 non-null   float64\n",
            " 1   PYS_USE_VENN    7139 non-null   float64\n",
            " 2   PSY_USE_YN      7139 non-null   float64\n",
            " 3   PM_USE_YN       7139 non-null   float64\n",
            " 4   PM_USE_ONLY_YN  7139 non-null   float64\n",
            " 5   PM_VS_PSY_YN    7139 non-null   float64\n",
            " 6   SEX             7139 non-null   int64  \n",
            " 7   AGE             7139 non-null   float64\n",
            " 8   ETHNICITY       7139 non-null   float64\n",
            " 9   HLS_YN          7139 non-null   float64\n",
            " 10  REGION          7139 non-null   float64\n",
            " 11  ED              7139 non-null   float64\n",
            " 12  EMPL            7139 non-null   float64\n",
            " 13  INCOME          7139 non-null   int64  \n",
            " 14  BMI             7139 non-null   float64\n",
            " 15  GAD7_SCORE      7139 non-null   float64\n",
            " 16  PHQ9_SCORE      7139 non-null   float64\n",
            "dtypes: float64(15), int64(2)\n",
            "memory usage: 1003.9 KB\n"
          ]
        }
      ]
    },
    {
      "cell_type": "code",
      "source": [
        "df['COHORTS'].value_counts()"
      ],
      "metadata": {
        "colab": {
          "base_uri": "https://localhost:8080/"
        },
        "id": "fOI52wydz7XH",
        "outputId": "a6a6fe9b-1dbe-41b1-e514-4f7495a37bdc"
      },
      "execution_count": 17,
      "outputs": [
        {
          "output_type": "execute_result",
          "data": {
            "text/plain": [
              "0.00      6613\n",
              "-99.00     404\n",
              "1.00       122\n",
              "Name: COHORTS, dtype: int64"
            ]
          },
          "metadata": {},
          "execution_count": 17
        }
      ]
    },
    {
      "cell_type": "code",
      "source": [
        "df['PM_USE_ONLY_YN'].value_counts()"
      ],
      "metadata": {
        "colab": {
          "base_uri": "https://localhost:8080/"
        },
        "id": "qMmZZ2EK1A4L",
        "outputId": "799c19bc-39df-490f-e917-646f15df8645"
      },
      "execution_count": 18,
      "outputs": [
        {
          "output_type": "execute_result",
          "data": {
            "text/plain": [
              "0.00    7017\n",
              "1.00     122\n",
              "Name: PM_USE_ONLY_YN, dtype: int64"
            ]
          },
          "metadata": {},
          "execution_count": 18
        }
      ]
    },
    {
      "cell_type": "code",
      "source": [
        "df['PM_VS_PSY_YN'].value_counts()"
      ],
      "metadata": {
        "colab": {
          "base_uri": "https://localhost:8080/"
        },
        "id": "PkEHDq6D1_04",
        "outputId": "38cf4769-aaa6-4e36-f5ac-6cb56d26bc96"
      },
      "execution_count": 19,
      "outputs": [
        {
          "output_type": "execute_result",
          "data": {
            "text/plain": [
              "-99.00    6613\n",
              "1.00       270\n",
              "2.00       256\n",
              "Name: PM_VS_PSY_YN, dtype: int64"
            ]
          },
          "metadata": {},
          "execution_count": 19
        }
      ]
    },
    {
      "cell_type": "code",
      "source": [
        "df['PSY_USE_YN'].value_counts()"
      ],
      "metadata": {
        "colab": {
          "base_uri": "https://localhost:8080/"
        },
        "id": "5bgLgpeL2lsB",
        "outputId": "cc743711-2e1c-4de8-ac0a-41ca6ad424ec"
      },
      "execution_count": 20,
      "outputs": [
        {
          "output_type": "execute_result",
          "data": {
            "text/plain": [
              "0.00    6613\n",
              "1.00     526\n",
              "Name: PSY_USE_YN, dtype: int64"
            ]
          },
          "metadata": {},
          "execution_count": 20
        }
      ]
    },
    {
      "cell_type": "markdown",
      "source": [
        "The dataset seems to be unbalanced with more 0 than 1s if we were going to classify psychedelics use. Even though predicting psychedelic use based on the other features, a more interesting question is predicting the depression score based on the other features. This way you can have some idea of their beanift "
      ],
      "metadata": {
        "id": "mAK1_WLn5G9t"
      }
    },
    {
      "cell_type": "code",
      "source": [
        "df.describe()"
      ],
      "metadata": {
        "colab": {
          "base_uri": "https://localhost:8080/",
          "height": 364
        },
        "id": "0uBdhOea5k3p",
        "outputId": "42baa519-f2a3-4751-bce9-ec8b4ac82c23"
      },
      "execution_count": 21,
      "outputs": [
        {
          "output_type": "execute_result",
          "data": {
            "text/plain": [
              "       COHORTS  PYS_USE_VENN  PSY_USE_YN  PM_USE_YN  PM_USE_ONLY_YN  \\\n",
              "count 7,139.00      7,139.00    7,139.00   7,139.00        7,139.00   \n",
              "mean     -5.59          0.17        0.07       0.04            0.02   \n",
              "std      22.88          0.64        0.26       0.19            0.13   \n",
              "min     -99.00          0.00        0.00       0.00            0.00   \n",
              "25%       0.00          0.00        0.00       0.00            0.00   \n",
              "50%       0.00          0.00        0.00       0.00            0.00   \n",
              "75%       0.00          0.00        0.00       0.00            0.00   \n",
              "max       1.00          3.00        1.00       1.00            1.00   \n",
              "\n",
              "       PM_VS_PSY_YN      SEX      AGE  ETHNICITY   HLS_YN   REGION       ED  \\\n",
              "count      7,139.00 7,139.00 7,139.00   7,139.00 7,139.00 7,139.00 7,139.00   \n",
              "mean         -91.60     0.46    46.15       1.95     0.08     2.63     0.73   \n",
              "std           26.25     0.50    16.65       0.51     0.27     1.00     0.45   \n",
              "min          -99.00     0.00    18.00       1.00     0.00     1.00     0.00   \n",
              "25%          -99.00     0.00    33.00       2.00     0.00     2.00     0.00   \n",
              "50%          -99.00     0.00    43.00       2.00     0.00     3.00     1.00   \n",
              "75%          -99.00     1.00    60.00       2.00     0.00     3.00     1.00   \n",
              "max            2.00     1.00    95.00       3.00     1.00     4.00     1.00   \n",
              "\n",
              "          EMPL     INCOME      BMI  GAD7_SCORE  PHQ9_SCORE  \n",
              "count 7,139.00   7,139.00 7,139.00    7,139.00    7,139.00  \n",
              "mean      0.30  64,563.71    28.02        6.33        7.33  \n",
              "std       0.46  26,258.63     7.25        5.89        6.99  \n",
              "min       0.00   9,076.00    11.16        0.00        0.00  \n",
              "25%       0.00  46,322.50    23.05        1.00        1.00  \n",
              "50%       0.00  58,129.00    26.58        5.00        5.00  \n",
              "75%       1.00  77,263.00    31.41       10.00       12.00  \n",
              "max       1.00 237,841.00    73.12       21.00       27.00  "
            ],
            "text/html": [
              "\n",
              "  <div id=\"df-6b68a6b4-3396-4ed1-847e-c6e7528333da\">\n",
              "    <div class=\"colab-df-container\">\n",
              "      <div>\n",
              "<style scoped>\n",
              "    .dataframe tbody tr th:only-of-type {\n",
              "        vertical-align: middle;\n",
              "    }\n",
              "\n",
              "    .dataframe tbody tr th {\n",
              "        vertical-align: top;\n",
              "    }\n",
              "\n",
              "    .dataframe thead th {\n",
              "        text-align: right;\n",
              "    }\n",
              "</style>\n",
              "<table border=\"1\" class=\"dataframe\">\n",
              "  <thead>\n",
              "    <tr style=\"text-align: right;\">\n",
              "      <th></th>\n",
              "      <th>COHORTS</th>\n",
              "      <th>PYS_USE_VENN</th>\n",
              "      <th>PSY_USE_YN</th>\n",
              "      <th>PM_USE_YN</th>\n",
              "      <th>PM_USE_ONLY_YN</th>\n",
              "      <th>PM_VS_PSY_YN</th>\n",
              "      <th>SEX</th>\n",
              "      <th>AGE</th>\n",
              "      <th>ETHNICITY</th>\n",
              "      <th>HLS_YN</th>\n",
              "      <th>REGION</th>\n",
              "      <th>ED</th>\n",
              "      <th>EMPL</th>\n",
              "      <th>INCOME</th>\n",
              "      <th>BMI</th>\n",
              "      <th>GAD7_SCORE</th>\n",
              "      <th>PHQ9_SCORE</th>\n",
              "    </tr>\n",
              "  </thead>\n",
              "  <tbody>\n",
              "    <tr>\n",
              "      <th>count</th>\n",
              "      <td>7,139.00</td>\n",
              "      <td>7,139.00</td>\n",
              "      <td>7,139.00</td>\n",
              "      <td>7,139.00</td>\n",
              "      <td>7,139.00</td>\n",
              "      <td>7,139.00</td>\n",
              "      <td>7,139.00</td>\n",
              "      <td>7,139.00</td>\n",
              "      <td>7,139.00</td>\n",
              "      <td>7,139.00</td>\n",
              "      <td>7,139.00</td>\n",
              "      <td>7,139.00</td>\n",
              "      <td>7,139.00</td>\n",
              "      <td>7,139.00</td>\n",
              "      <td>7,139.00</td>\n",
              "      <td>7,139.00</td>\n",
              "      <td>7,139.00</td>\n",
              "    </tr>\n",
              "    <tr>\n",
              "      <th>mean</th>\n",
              "      <td>-5.59</td>\n",
              "      <td>0.17</td>\n",
              "      <td>0.07</td>\n",
              "      <td>0.04</td>\n",
              "      <td>0.02</td>\n",
              "      <td>-91.60</td>\n",
              "      <td>0.46</td>\n",
              "      <td>46.15</td>\n",
              "      <td>1.95</td>\n",
              "      <td>0.08</td>\n",
              "      <td>2.63</td>\n",
              "      <td>0.73</td>\n",
              "      <td>0.30</td>\n",
              "      <td>64,563.71</td>\n",
              "      <td>28.02</td>\n",
              "      <td>6.33</td>\n",
              "      <td>7.33</td>\n",
              "    </tr>\n",
              "    <tr>\n",
              "      <th>std</th>\n",
              "      <td>22.88</td>\n",
              "      <td>0.64</td>\n",
              "      <td>0.26</td>\n",
              "      <td>0.19</td>\n",
              "      <td>0.13</td>\n",
              "      <td>26.25</td>\n",
              "      <td>0.50</td>\n",
              "      <td>16.65</td>\n",
              "      <td>0.51</td>\n",
              "      <td>0.27</td>\n",
              "      <td>1.00</td>\n",
              "      <td>0.45</td>\n",
              "      <td>0.46</td>\n",
              "      <td>26,258.63</td>\n",
              "      <td>7.25</td>\n",
              "      <td>5.89</td>\n",
              "      <td>6.99</td>\n",
              "    </tr>\n",
              "    <tr>\n",
              "      <th>min</th>\n",
              "      <td>-99.00</td>\n",
              "      <td>0.00</td>\n",
              "      <td>0.00</td>\n",
              "      <td>0.00</td>\n",
              "      <td>0.00</td>\n",
              "      <td>-99.00</td>\n",
              "      <td>0.00</td>\n",
              "      <td>18.00</td>\n",
              "      <td>1.00</td>\n",
              "      <td>0.00</td>\n",
              "      <td>1.00</td>\n",
              "      <td>0.00</td>\n",
              "      <td>0.00</td>\n",
              "      <td>9,076.00</td>\n",
              "      <td>11.16</td>\n",
              "      <td>0.00</td>\n",
              "      <td>0.00</td>\n",
              "    </tr>\n",
              "    <tr>\n",
              "      <th>25%</th>\n",
              "      <td>0.00</td>\n",
              "      <td>0.00</td>\n",
              "      <td>0.00</td>\n",
              "      <td>0.00</td>\n",
              "      <td>0.00</td>\n",
              "      <td>-99.00</td>\n",
              "      <td>0.00</td>\n",
              "      <td>33.00</td>\n",
              "      <td>2.00</td>\n",
              "      <td>0.00</td>\n",
              "      <td>2.00</td>\n",
              "      <td>0.00</td>\n",
              "      <td>0.00</td>\n",
              "      <td>46,322.50</td>\n",
              "      <td>23.05</td>\n",
              "      <td>1.00</td>\n",
              "      <td>1.00</td>\n",
              "    </tr>\n",
              "    <tr>\n",
              "      <th>50%</th>\n",
              "      <td>0.00</td>\n",
              "      <td>0.00</td>\n",
              "      <td>0.00</td>\n",
              "      <td>0.00</td>\n",
              "      <td>0.00</td>\n",
              "      <td>-99.00</td>\n",
              "      <td>0.00</td>\n",
              "      <td>43.00</td>\n",
              "      <td>2.00</td>\n",
              "      <td>0.00</td>\n",
              "      <td>3.00</td>\n",
              "      <td>1.00</td>\n",
              "      <td>0.00</td>\n",
              "      <td>58,129.00</td>\n",
              "      <td>26.58</td>\n",
              "      <td>5.00</td>\n",
              "      <td>5.00</td>\n",
              "    </tr>\n",
              "    <tr>\n",
              "      <th>75%</th>\n",
              "      <td>0.00</td>\n",
              "      <td>0.00</td>\n",
              "      <td>0.00</td>\n",
              "      <td>0.00</td>\n",
              "      <td>0.00</td>\n",
              "      <td>-99.00</td>\n",
              "      <td>1.00</td>\n",
              "      <td>60.00</td>\n",
              "      <td>2.00</td>\n",
              "      <td>0.00</td>\n",
              "      <td>3.00</td>\n",
              "      <td>1.00</td>\n",
              "      <td>1.00</td>\n",
              "      <td>77,263.00</td>\n",
              "      <td>31.41</td>\n",
              "      <td>10.00</td>\n",
              "      <td>12.00</td>\n",
              "    </tr>\n",
              "    <tr>\n",
              "      <th>max</th>\n",
              "      <td>1.00</td>\n",
              "      <td>3.00</td>\n",
              "      <td>1.00</td>\n",
              "      <td>1.00</td>\n",
              "      <td>1.00</td>\n",
              "      <td>2.00</td>\n",
              "      <td>1.00</td>\n",
              "      <td>95.00</td>\n",
              "      <td>3.00</td>\n",
              "      <td>1.00</td>\n",
              "      <td>4.00</td>\n",
              "      <td>1.00</td>\n",
              "      <td>1.00</td>\n",
              "      <td>237,841.00</td>\n",
              "      <td>73.12</td>\n",
              "      <td>21.00</td>\n",
              "      <td>27.00</td>\n",
              "    </tr>\n",
              "  </tbody>\n",
              "</table>\n",
              "</div>\n",
              "      <button class=\"colab-df-convert\" onclick=\"convertToInteractive('df-6b68a6b4-3396-4ed1-847e-c6e7528333da')\"\n",
              "              title=\"Convert this dataframe to an interactive table.\"\n",
              "              style=\"display:none;\">\n",
              "        \n",
              "  <svg xmlns=\"http://www.w3.org/2000/svg\" height=\"24px\"viewBox=\"0 0 24 24\"\n",
              "       width=\"24px\">\n",
              "    <path d=\"M0 0h24v24H0V0z\" fill=\"none\"/>\n",
              "    <path d=\"M18.56 5.44l.94 2.06.94-2.06 2.06-.94-2.06-.94-.94-2.06-.94 2.06-2.06.94zm-11 1L8.5 8.5l.94-2.06 2.06-.94-2.06-.94L8.5 2.5l-.94 2.06-2.06.94zm10 10l.94 2.06.94-2.06 2.06-.94-2.06-.94-.94-2.06-.94 2.06-2.06.94z\"/><path d=\"M17.41 7.96l-1.37-1.37c-.4-.4-.92-.59-1.43-.59-.52 0-1.04.2-1.43.59L10.3 9.45l-7.72 7.72c-.78.78-.78 2.05 0 2.83L4 21.41c.39.39.9.59 1.41.59.51 0 1.02-.2 1.41-.59l7.78-7.78 2.81-2.81c.8-.78.8-2.07 0-2.86zM5.41 20L4 18.59l7.72-7.72 1.47 1.35L5.41 20z\"/>\n",
              "  </svg>\n",
              "      </button>\n",
              "      \n",
              "  <style>\n",
              "    .colab-df-container {\n",
              "      display:flex;\n",
              "      flex-wrap:wrap;\n",
              "      gap: 12px;\n",
              "    }\n",
              "\n",
              "    .colab-df-convert {\n",
              "      background-color: #E8F0FE;\n",
              "      border: none;\n",
              "      border-radius: 50%;\n",
              "      cursor: pointer;\n",
              "      display: none;\n",
              "      fill: #1967D2;\n",
              "      height: 32px;\n",
              "      padding: 0 0 0 0;\n",
              "      width: 32px;\n",
              "    }\n",
              "\n",
              "    .colab-df-convert:hover {\n",
              "      background-color: #E2EBFA;\n",
              "      box-shadow: 0px 1px 2px rgba(60, 64, 67, 0.3), 0px 1px 3px 1px rgba(60, 64, 67, 0.15);\n",
              "      fill: #174EA6;\n",
              "    }\n",
              "\n",
              "    [theme=dark] .colab-df-convert {\n",
              "      background-color: #3B4455;\n",
              "      fill: #D2E3FC;\n",
              "    }\n",
              "\n",
              "    [theme=dark] .colab-df-convert:hover {\n",
              "      background-color: #434B5C;\n",
              "      box-shadow: 0px 1px 3px 1px rgba(0, 0, 0, 0.15);\n",
              "      filter: drop-shadow(0px 1px 2px rgba(0, 0, 0, 0.3));\n",
              "      fill: #FFFFFF;\n",
              "    }\n",
              "  </style>\n",
              "\n",
              "      <script>\n",
              "        const buttonEl =\n",
              "          document.querySelector('#df-6b68a6b4-3396-4ed1-847e-c6e7528333da button.colab-df-convert');\n",
              "        buttonEl.style.display =\n",
              "          google.colab.kernel.accessAllowed ? 'block' : 'none';\n",
              "\n",
              "        async function convertToInteractive(key) {\n",
              "          const element = document.querySelector('#df-6b68a6b4-3396-4ed1-847e-c6e7528333da');\n",
              "          const dataTable =\n",
              "            await google.colab.kernel.invokeFunction('convertToInteractive',\n",
              "                                                     [key], {});\n",
              "          if (!dataTable) return;\n",
              "\n",
              "          const docLinkHtml = 'Like what you see? Visit the ' +\n",
              "            '<a target=\"_blank\" href=https://colab.research.google.com/notebooks/data_table.ipynb>data table notebook</a>'\n",
              "            + ' to learn more about interactive tables.';\n",
              "          element.innerHTML = '';\n",
              "          dataTable['output_type'] = 'display_data';\n",
              "          await google.colab.output.renderOutput(dataTable, element);\n",
              "          const docLink = document.createElement('div');\n",
              "          docLink.innerHTML = docLinkHtml;\n",
              "          element.appendChild(docLink);\n",
              "        }\n",
              "      </script>\n",
              "    </div>\n",
              "  </div>\n",
              "  "
            ]
          },
          "metadata": {},
          "execution_count": 21
        }
      ]
    },
    {
      "cell_type": "code",
      "source": [
        "\n",
        "print(f\"Shape data: {p_mush_df.shape}\")\n",
        "print(f\"Number of mission values in data: \\\n",
        "{p_mush_df.isnull().sum().sum()}\")\n",
        "print(f\"Number of duplicate values in data: \\\n",
        "{p_mush_df.duplicated().sum()}\")"
      ],
      "metadata": {
        "colab": {
          "base_uri": "https://localhost:8080/"
        },
        "id": "DTqfWjm1i7CN",
        "outputId": "5559413b-bdf1-4222-b4c4-7e94d12daee7"
      },
      "execution_count": 22,
      "outputs": [
        {
          "output_type": "stream",
          "name": "stdout",
          "text": [
            "Shape data: (7139, 57)\n",
            "Number of mission values in data: 0\n",
            "Number of duplicate values in data: 0\n"
          ]
        }
      ]
    },
    {
      "cell_type": "code",
      "source": [
        "df.nunique()"
      ],
      "metadata": {
        "colab": {
          "base_uri": "https://localhost:8080/"
        },
        "id": "yzcjtsP55-o4",
        "outputId": "1f954733-9499-4a52-cac8-cbe1dd9d16e9"
      },
      "execution_count": 23,
      "outputs": [
        {
          "output_type": "execute_result",
          "data": {
            "text/plain": [
              "COHORTS              3\n",
              "PYS_USE_VENN         4\n",
              "PSY_USE_YN           2\n",
              "PM_USE_YN            2\n",
              "PM_USE_ONLY_YN       2\n",
              "PM_VS_PSY_YN         3\n",
              "SEX                  2\n",
              "AGE                 76\n",
              "ETHNICITY            3\n",
              "HLS_YN               2\n",
              "REGION               4\n",
              "ED                   2\n",
              "EMPL                 2\n",
              "INCOME            4890\n",
              "BMI               1551\n",
              "GAD7_SCORE          22\n",
              "PHQ9_SCORE          28\n",
              "dtype: int64"
            ]
          },
          "metadata": {},
          "execution_count": 23
        }
      ]
    },
    {
      "cell_type": "code",
      "source": [
        "sns.set(rc = {'figure.figsize':(15,15)})\n",
        "plt.tight_layout()\n",
        "df.hist();"
      ],
      "metadata": {
        "colab": {
          "base_uri": "https://localhost:8080/",
          "height": 899
        },
        "id": "OKqcq64w5_ZW",
        "outputId": "9534e513-2863-41d6-f1b8-65165e61699d"
      },
      "execution_count": 24,
      "outputs": [
        {
          "output_type": "display_data",
          "data": {
            "text/plain": [
              "<Figure size 1080x1080 with 0 Axes>"
            ]
          },
          "metadata": {}
        },
        {
          "output_type": "display_data",
          "data": {
            "text/plain": [
              "<Figure size 1080x1080 with 20 Axes>"
            ],
            "image/png": "[encoded data removed]"
          },
          "metadata": {}
        }
      ]
    },
    {
      "cell_type": "markdown",
      "source": [
        "Most of the data seems to be shewed with left tails, may need to do transformations on the data "
      ],
      "metadata": {
        "id": "deRNKgnH6WV4"
      }
    },
    {
      "cell_type": "code",
      "source": [
        ""
      ],
      "metadata": {
        "id": "1XI1vdG36TTT"
      },
      "execution_count": null,
      "outputs": []
    },
    {
      "cell_type": "code",
      "source": [
        "sns.set(rc = {'figure.figsize':(10,8)})\n",
        "sns.boxplot(y ='PHQ9_SCORE',data=df)\n",
        "plt.ylim(0, 50)\n",
        "plt.tight_layout()"
      ],
      "metadata": {
        "colab": {
          "base_uri": "https://localhost:8080/",
          "height": 581
        },
        "id": "1nVyjgiX6Uxt",
        "outputId": "abad4cc3-b8df-4ba1-85d6-5dbff73bb878"
      },
      "execution_count": 28,
      "outputs": [
        {
          "output_type": "display_data",
          "data": {
            "text/plain": [
              "<Figure size 720x576 with 1 Axes>"
            ],
            "image/png": "[encoded data removed]"
          },
          "metadata": {}
        }
      ]
    },
    {
      "cell_type": "markdown",
      "source": [
        "seems there are no outliers for the dependent vaiable"
      ],
      "metadata": {
        "id": "51ebULwp6-7B"
      }
    },
    {
      "cell_type": "code",
      "source": [
        ""
      ],
      "metadata": {
        "id": "2q3Ep_S78vgC"
      },
      "execution_count": null,
      "outputs": []
    }
  ]
}